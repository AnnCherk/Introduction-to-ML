{
  "nbformat": 4,
  "nbformat_minor": 0,
  "metadata": {
    "colab": {
      "provenance": [],
      "include_colab_link": true
    },
    "kernelspec": {
      "name": "python3",
      "display_name": "Python 3"
    },
    "language_info": {
      "name": "python"
    }
  },
  "cells": [
    {
      "cell_type": "markdown",
      "metadata": {
        "id": "view-in-github",
        "colab_type": "text"
      },
      "source": [
        "<a href=\"https://colab.research.google.com/github/AnnCherk/Introduction-to-ML/blob/main/Log_Reg.ipynb\" target=\"_parent\"><img src=\"https://colab.research.google.com/assets/colab-badge.svg\" alt=\"Open In Colab\"/></a>"
      ]
    },
    {
      "cell_type": "markdown",
      "source": [
        "# Применение логистической регрессии для решения задачи классификации"
      ],
      "metadata": {
        "id": "S2Zv-8wrSmbU"
      }
    },
    {
      "cell_type": "markdown",
      "source": [
        "# Описание набора данных"
      ],
      "metadata": {
        "id": "Fsaq3T7JS9Ox"
      }
    },
    {
      "cell_type": "markdown",
      "source": [
        "Данный набор содержит информацию о пассажирах корабля «Титаник», затонувшего в ночь на 15-е апреля 1912 года. Некоторое количество пассажиров спаслось, чему способствовало множество различных факторов, включая их пол, возраст, на какой палубе находилась их кабина, социальный статус, и т.д.\n",
        "\n",
        "Набор данных состоит из различных признаков, описывающих информацию о пассажирах. Каждая строка таблицы — отдельный пассажир, вся информация о нем содержится в его строке.\n",
        "\n",
        "Описание датасета:\n",
        "- **Survived** (целевой признак): выжил ли пассажир (0 = Нет, 1 = Да);\n",
        "- **Pclass**: класс каюты (1 = 1st, 2 = 2nd, 3 = 3rd);\n",
        "- **Sex**: пол (female или male)\n",
        "- **Age**: возраст в годах\n",
        "- **SibSp**: количество братьев, сестёр (в том числе сводных) и супругов на борту\n",
        "- **Parch**: количество детей и родителей на борту\n",
        "- **Ticket**: номер билета\n",
        "- **Fare**: стоимость проезда пассажира\n",
        "- **Cabin**: номер каюты\n",
        "- **Embarked**: порт посадки пассажира (C = Cherbourg, Q = Queenstown, S = Southampton).\n",
        "\n",
        "Необходимо решить задачу классификации и научиться предсказывать целовой признак **Survived** — выживет ли пассажир — по соответсвующим ему нецелевым признакам.\n"
      ],
      "metadata": {
        "id": "ekwIM8kmTAx5"
      }
    },
    {
      "cell_type": "markdown",
      "source": [
        "# Подготовка и первичный анализ данных"
      ],
      "metadata": {
        "id": "SjI-Ub1GYbKX"
      }
    },
    {
      "cell_type": "code",
      "source": [
        "import numpy as np\n",
        "import pandas as pd\n",
        "import matplotlib.pyplot as plt\n",
        "import seaborn as sns\n",
        "from sklearn.linear_model import LogisticRegression\n",
        "from sklearn.metrics import f1_score\n",
        "from sklearn.metrics import classification_report"
      ],
      "metadata": {
        "id": "a_MzT3cKTuR9"
      },
      "execution_count": 102,
      "outputs": []
    },
    {
      "cell_type": "markdown",
      "source": [
        "Установите количество пропущенных значений поля <code>age</code>:"
      ],
      "metadata": {
        "id": "KY4ZYwUuUNwx"
      }
    },
    {
      "cell_type": "code",
      "source": [
        "df = pd.read_csv('titanic_train.csv')\n",
        "\n",
        "missing_age_count = df['age'].isnull().sum()\n",
        "\n",
        "print(f'Количество пропущенных значений в поле \"age\": {missing_age_count}')"
      ],
      "metadata": {
        "id": "Ii5ITpGJUShn",
        "colab": {
          "base_uri": "https://localhost:8080/"
        },
        "outputId": "f84d2f4a-a085-4dc7-e214-581d0bece109"
      },
      "execution_count": 103,
      "outputs": [
        {
          "output_type": "stream",
          "name": "stdout",
          "text": [
            "Количество пропущенных значений в поле \"age\": 199\n"
          ]
        }
      ]
    },
    {
      "cell_type": "markdown",
      "source": [
        "Определите долю выживших"
      ],
      "metadata": {
        "id": "gOqnpfJkU6Ll"
      }
    },
    {
      "cell_type": "code",
      "source": [
        "survived_count = df['survived'].sum()\n",
        "\n",
        "# Подсчет общего количества пассажиров\n",
        "total_passengers = df.shape[0]\n",
        "\n",
        "# Расчет доли выживших\n",
        "survival_rate = survived_count / total_passengers\n",
        "\n",
        "# Вывод результата\n",
        "print(f'Доля выживших:', round(survival_rate, 3))"
      ],
      "metadata": {
        "id": "dHdTN-odVAIb",
        "colab": {
          "base_uri": "https://localhost:8080/"
        },
        "outputId": "5c8f2079-63a4-4921-c2d6-8f2ad103abdf"
      },
      "execution_count": 104,
      "outputs": [
        {
          "output_type": "stream",
          "name": "stdout",
          "text": [
            "Доля выживших: 0.382\n"
          ]
        }
      ]
    },
    {
      "cell_type": "markdown",
      "source": [
        "Определите долю пропущенных значений в рамках каждого признака и избавьтесь от тех признаков, где доля пропусков больше трети. Также удалите колонку <code>ticket</code>, вряд ли эта информация будет полезной."
      ],
      "metadata": {
        "id": "MJS0wozuVoWt"
      }
    },
    {
      "cell_type": "code",
      "source": [
        "# Определение доли пропущенных значений для каждого признака\n",
        "missing_values = df.isnull().mean()\n",
        "\n",
        "# Вывод доли пропущенных значений\n",
        "print(\"Доля пропущенных значений по признакам:\")\n",
        "print(missing_values)\n",
        "\n",
        "# Избавление от признаков, где доля пропусков больше трети\n",
        "threshold = 1/3\n",
        "columns_to_drop = missing_values[missing_values > threshold].index\n",
        "df = df.drop(columns=columns_to_drop)\n",
        "\n",
        "# Удаление колонки 'ticket'\n",
        "df = df.drop(columns='ticket')"
      ],
      "metadata": {
        "id": "43ptqUREVz-t",
        "colab": {
          "base_uri": "https://localhost:8080/"
        },
        "outputId": "baf4f386-f71d-409b-9718-dc62a5e8194b"
      },
      "execution_count": 105,
      "outputs": [
        {
          "output_type": "stream",
          "name": "stdout",
          "text": [
            "Доля пропущенных значений по признакам:\n",
            "pclass       0.000000\n",
            "survived     0.000000\n",
            "name         0.000000\n",
            "sex          0.000000\n",
            "age          0.202854\n",
            "sibsp        0.000000\n",
            "parch        0.000000\n",
            "ticket       0.000000\n",
            "fare         0.000000\n",
            "cabin        0.783894\n",
            "embarked     0.000000\n",
            "home.dest    0.422018\n",
            "dtype: float64\n"
          ]
        }
      ]
    },
    {
      "cell_type": "code",
      "source": [
        "df.head()"
      ],
      "metadata": {
        "colab": {
          "base_uri": "https://localhost:8080/",
          "height": 293
        },
        "id": "ANRLZpcdZLEC",
        "outputId": "7997715e-b72e-465b-b253-b34beb4af629"
      },
      "execution_count": 106,
      "outputs": [
        {
          "output_type": "execute_result",
          "data": {
            "text/plain": [
              "   pclass  survived                                             name     sex  \\\n",
              "0       3         1                               Smyth, Miss. Julia  female   \n",
              "1       3         1                         Glynn, Miss. Mary Agatha  female   \n",
              "2       3         1  Whabee, Mrs. George Joseph (Shawneene Abi-Saab)  female   \n",
              "3       3         0                                  Vovk, Mr. Janko    male   \n",
              "4       3         0                        de Pelsmaeker, Mr. Alfons    male   \n",
              "\n",
              "    age  sibsp  parch    fare embarked  \n",
              "0   NaN      0      0  7.7333        Q  \n",
              "1   NaN      0      0  7.7500        Q  \n",
              "2  38.0      0      0  7.2292        C  \n",
              "3  22.0      0      0  7.8958        S  \n",
              "4  16.0      0      0  9.5000        S  "
            ],
            "text/html": [
              "\n",
              "  <div id=\"df-7ed297c3-144c-4d45-8922-51d5f60b2f1d\" class=\"colab-df-container\">\n",
              "    <div>\n",
              "<style scoped>\n",
              "    .dataframe tbody tr th:only-of-type {\n",
              "        vertical-align: middle;\n",
              "    }\n",
              "\n",
              "    .dataframe tbody tr th {\n",
              "        vertical-align: top;\n",
              "    }\n",
              "\n",
              "    .dataframe thead th {\n",
              "        text-align: right;\n",
              "    }\n",
              "</style>\n",
              "<table border=\"1\" class=\"dataframe\">\n",
              "  <thead>\n",
              "    <tr style=\"text-align: right;\">\n",
              "      <th></th>\n",
              "      <th>pclass</th>\n",
              "      <th>survived</th>\n",
              "      <th>name</th>\n",
              "      <th>sex</th>\n",
              "      <th>age</th>\n",
              "      <th>sibsp</th>\n",
              "      <th>parch</th>\n",
              "      <th>fare</th>\n",
              "      <th>embarked</th>\n",
              "    </tr>\n",
              "  </thead>\n",
              "  <tbody>\n",
              "    <tr>\n",
              "      <th>0</th>\n",
              "      <td>3</td>\n",
              "      <td>1</td>\n",
              "      <td>Smyth, Miss. Julia</td>\n",
              "      <td>female</td>\n",
              "      <td>NaN</td>\n",
              "      <td>0</td>\n",
              "      <td>0</td>\n",
              "      <td>7.7333</td>\n",
              "      <td>Q</td>\n",
              "    </tr>\n",
              "    <tr>\n",
              "      <th>1</th>\n",
              "      <td>3</td>\n",
              "      <td>1</td>\n",
              "      <td>Glynn, Miss. Mary Agatha</td>\n",
              "      <td>female</td>\n",
              "      <td>NaN</td>\n",
              "      <td>0</td>\n",
              "      <td>0</td>\n",
              "      <td>7.7500</td>\n",
              "      <td>Q</td>\n",
              "    </tr>\n",
              "    <tr>\n",
              "      <th>2</th>\n",
              "      <td>3</td>\n",
              "      <td>1</td>\n",
              "      <td>Whabee, Mrs. George Joseph (Shawneene Abi-Saab)</td>\n",
              "      <td>female</td>\n",
              "      <td>38.0</td>\n",
              "      <td>0</td>\n",
              "      <td>0</td>\n",
              "      <td>7.2292</td>\n",
              "      <td>C</td>\n",
              "    </tr>\n",
              "    <tr>\n",
              "      <th>3</th>\n",
              "      <td>3</td>\n",
              "      <td>0</td>\n",
              "      <td>Vovk, Mr. Janko</td>\n",
              "      <td>male</td>\n",
              "      <td>22.0</td>\n",
              "      <td>0</td>\n",
              "      <td>0</td>\n",
              "      <td>7.8958</td>\n",
              "      <td>S</td>\n",
              "    </tr>\n",
              "    <tr>\n",
              "      <th>4</th>\n",
              "      <td>3</td>\n",
              "      <td>0</td>\n",
              "      <td>de Pelsmaeker, Mr. Alfons</td>\n",
              "      <td>male</td>\n",
              "      <td>16.0</td>\n",
              "      <td>0</td>\n",
              "      <td>0</td>\n",
              "      <td>9.5000</td>\n",
              "      <td>S</td>\n",
              "    </tr>\n",
              "  </tbody>\n",
              "</table>\n",
              "</div>\n",
              "    <div class=\"colab-df-buttons\">\n",
              "\n",
              "  <div class=\"colab-df-container\">\n",
              "    <button class=\"colab-df-convert\" onclick=\"convertToInteractive('df-7ed297c3-144c-4d45-8922-51d5f60b2f1d')\"\n",
              "            title=\"Convert this dataframe to an interactive table.\"\n",
              "            style=\"display:none;\">\n",
              "\n",
              "  <svg xmlns=\"http://www.w3.org/2000/svg\" height=\"24px\" viewBox=\"0 -960 960 960\">\n",
              "    <path d=\"M120-120v-720h720v720H120Zm60-500h600v-160H180v160Zm220 220h160v-160H400v160Zm0 220h160v-160H400v160ZM180-400h160v-160H180v160Zm440 0h160v-160H620v160ZM180-180h160v-160H180v160Zm440 0h160v-160H620v160Z\"/>\n",
              "  </svg>\n",
              "    </button>\n",
              "\n",
              "  <style>\n",
              "    .colab-df-container {\n",
              "      display:flex;\n",
              "      gap: 12px;\n",
              "    }\n",
              "\n",
              "    .colab-df-convert {\n",
              "      background-color: #E8F0FE;\n",
              "      border: none;\n",
              "      border-radius: 50%;\n",
              "      cursor: pointer;\n",
              "      display: none;\n",
              "      fill: #1967D2;\n",
              "      height: 32px;\n",
              "      padding: 0 0 0 0;\n",
              "      width: 32px;\n",
              "    }\n",
              "\n",
              "    .colab-df-convert:hover {\n",
              "      background-color: #E2EBFA;\n",
              "      box-shadow: 0px 1px 2px rgba(60, 64, 67, 0.3), 0px 1px 3px 1px rgba(60, 64, 67, 0.15);\n",
              "      fill: #174EA6;\n",
              "    }\n",
              "\n",
              "    .colab-df-buttons div {\n",
              "      margin-bottom: 4px;\n",
              "    }\n",
              "\n",
              "    [theme=dark] .colab-df-convert {\n",
              "      background-color: #3B4455;\n",
              "      fill: #D2E3FC;\n",
              "    }\n",
              "\n",
              "    [theme=dark] .colab-df-convert:hover {\n",
              "      background-color: #434B5C;\n",
              "      box-shadow: 0px 1px 3px 1px rgba(0, 0, 0, 0.15);\n",
              "      filter: drop-shadow(0px 1px 2px rgba(0, 0, 0, 0.3));\n",
              "      fill: #FFFFFF;\n",
              "    }\n",
              "  </style>\n",
              "\n",
              "    <script>\n",
              "      const buttonEl =\n",
              "        document.querySelector('#df-7ed297c3-144c-4d45-8922-51d5f60b2f1d button.colab-df-convert');\n",
              "      buttonEl.style.display =\n",
              "        google.colab.kernel.accessAllowed ? 'block' : 'none';\n",
              "\n",
              "      async function convertToInteractive(key) {\n",
              "        const element = document.querySelector('#df-7ed297c3-144c-4d45-8922-51d5f60b2f1d');\n",
              "        const dataTable =\n",
              "          await google.colab.kernel.invokeFunction('convertToInteractive',\n",
              "                                                    [key], {});\n",
              "        if (!dataTable) return;\n",
              "\n",
              "        const docLinkHtml = 'Like what you see? Visit the ' +\n",
              "          '<a target=\"_blank\" href=https://colab.research.google.com/notebooks/data_table.ipynb>data table notebook</a>'\n",
              "          + ' to learn more about interactive tables.';\n",
              "        element.innerHTML = '';\n",
              "        dataTable['output_type'] = 'display_data';\n",
              "        await google.colab.output.renderOutput(dataTable, element);\n",
              "        const docLink = document.createElement('div');\n",
              "        docLink.innerHTML = docLinkHtml;\n",
              "        element.appendChild(docLink);\n",
              "      }\n",
              "    </script>\n",
              "  </div>\n",
              "\n",
              "\n",
              "<div id=\"df-f48490d7-4de5-48c3-a8ea-bac0c20ae07a\">\n",
              "  <button class=\"colab-df-quickchart\" onclick=\"quickchart('df-f48490d7-4de5-48c3-a8ea-bac0c20ae07a')\"\n",
              "            title=\"Suggest charts\"\n",
              "            style=\"display:none;\">\n",
              "\n",
              "<svg xmlns=\"http://www.w3.org/2000/svg\" height=\"24px\"viewBox=\"0 0 24 24\"\n",
              "     width=\"24px\">\n",
              "    <g>\n",
              "        <path d=\"M19 3H5c-1.1 0-2 .9-2 2v14c0 1.1.9 2 2 2h14c1.1 0 2-.9 2-2V5c0-1.1-.9-2-2-2zM9 17H7v-7h2v7zm4 0h-2V7h2v10zm4 0h-2v-4h2v4z\"/>\n",
              "    </g>\n",
              "</svg>\n",
              "  </button>\n",
              "\n",
              "<style>\n",
              "  .colab-df-quickchart {\n",
              "      --bg-color: #E8F0FE;\n",
              "      --fill-color: #1967D2;\n",
              "      --hover-bg-color: #E2EBFA;\n",
              "      --hover-fill-color: #174EA6;\n",
              "      --disabled-fill-color: #AAA;\n",
              "      --disabled-bg-color: #DDD;\n",
              "  }\n",
              "\n",
              "  [theme=dark] .colab-df-quickchart {\n",
              "      --bg-color: #3B4455;\n",
              "      --fill-color: #D2E3FC;\n",
              "      --hover-bg-color: #434B5C;\n",
              "      --hover-fill-color: #FFFFFF;\n",
              "      --disabled-bg-color: #3B4455;\n",
              "      --disabled-fill-color: #666;\n",
              "  }\n",
              "\n",
              "  .colab-df-quickchart {\n",
              "    background-color: var(--bg-color);\n",
              "    border: none;\n",
              "    border-radius: 50%;\n",
              "    cursor: pointer;\n",
              "    display: none;\n",
              "    fill: var(--fill-color);\n",
              "    height: 32px;\n",
              "    padding: 0;\n",
              "    width: 32px;\n",
              "  }\n",
              "\n",
              "  .colab-df-quickchart:hover {\n",
              "    background-color: var(--hover-bg-color);\n",
              "    box-shadow: 0 1px 2px rgba(60, 64, 67, 0.3), 0 1px 3px 1px rgba(60, 64, 67, 0.15);\n",
              "    fill: var(--button-hover-fill-color);\n",
              "  }\n",
              "\n",
              "  .colab-df-quickchart-complete:disabled,\n",
              "  .colab-df-quickchart-complete:disabled:hover {\n",
              "    background-color: var(--disabled-bg-color);\n",
              "    fill: var(--disabled-fill-color);\n",
              "    box-shadow: none;\n",
              "  }\n",
              "\n",
              "  .colab-df-spinner {\n",
              "    border: 2px solid var(--fill-color);\n",
              "    border-color: transparent;\n",
              "    border-bottom-color: var(--fill-color);\n",
              "    animation:\n",
              "      spin 1s steps(1) infinite;\n",
              "  }\n",
              "\n",
              "  @keyframes spin {\n",
              "    0% {\n",
              "      border-color: transparent;\n",
              "      border-bottom-color: var(--fill-color);\n",
              "      border-left-color: var(--fill-color);\n",
              "    }\n",
              "    20% {\n",
              "      border-color: transparent;\n",
              "      border-left-color: var(--fill-color);\n",
              "      border-top-color: var(--fill-color);\n",
              "    }\n",
              "    30% {\n",
              "      border-color: transparent;\n",
              "      border-left-color: var(--fill-color);\n",
              "      border-top-color: var(--fill-color);\n",
              "      border-right-color: var(--fill-color);\n",
              "    }\n",
              "    40% {\n",
              "      border-color: transparent;\n",
              "      border-right-color: var(--fill-color);\n",
              "      border-top-color: var(--fill-color);\n",
              "    }\n",
              "    60% {\n",
              "      border-color: transparent;\n",
              "      border-right-color: var(--fill-color);\n",
              "    }\n",
              "    80% {\n",
              "      border-color: transparent;\n",
              "      border-right-color: var(--fill-color);\n",
              "      border-bottom-color: var(--fill-color);\n",
              "    }\n",
              "    90% {\n",
              "      border-color: transparent;\n",
              "      border-bottom-color: var(--fill-color);\n",
              "    }\n",
              "  }\n",
              "</style>\n",
              "\n",
              "  <script>\n",
              "    async function quickchart(key) {\n",
              "      const quickchartButtonEl =\n",
              "        document.querySelector('#' + key + ' button');\n",
              "      quickchartButtonEl.disabled = true;  // To prevent multiple clicks.\n",
              "      quickchartButtonEl.classList.add('colab-df-spinner');\n",
              "      try {\n",
              "        const charts = await google.colab.kernel.invokeFunction(\n",
              "            'suggestCharts', [key], {});\n",
              "      } catch (error) {\n",
              "        console.error('Error during call to suggestCharts:', error);\n",
              "      }\n",
              "      quickchartButtonEl.classList.remove('colab-df-spinner');\n",
              "      quickchartButtonEl.classList.add('colab-df-quickchart-complete');\n",
              "    }\n",
              "    (() => {\n",
              "      let quickchartButtonEl =\n",
              "        document.querySelector('#df-f48490d7-4de5-48c3-a8ea-bac0c20ae07a button');\n",
              "      quickchartButtonEl.style.display =\n",
              "        google.colab.kernel.accessAllowed ? 'block' : 'none';\n",
              "    })();\n",
              "  </script>\n",
              "</div>\n",
              "    </div>\n",
              "  </div>\n"
            ]
          },
          "metadata": {},
          "execution_count": 106
        }
      ]
    },
    {
      "cell_type": "markdown",
      "source": [
        "Из описания набора данных видно, что колонки <code>sibsp</code> и <code>parch</code> по сути отвечают за размер семьи. Замените эти две колонки на колонку <code>fam_size</code>, значения которой будут вычисляться как сумма соответствующих значений в колонках <code>sibsp</code> и <code>parch</code>."
      ],
      "metadata": {
        "id": "5Porb6vGmpke"
      }
    },
    {
      "cell_type": "code",
      "source": [
        "# Замена колонок 'sibsp' и 'parch' на колонку 'fam_size'\n",
        "df['fam_size'] = df['sibsp'] + df['parch']\n",
        "df = df.drop(columns=['sibsp', 'parch'])\n",
        "\n",
        "# Вычисление выборочного среднего колонки 'fam_size'\n",
        "mean_fam_size = df['fam_size'].mean()\n",
        "\n",
        "# Вывод результата\n",
        "print(\"\\nОбновленный датасет:\")\n",
        "print(df.head())\n",
        "\n",
        "print(f\"\\nВыборочное среднее значение колонки 'fam_size': {mean_fam_size:.3f}\")"
      ],
      "metadata": {
        "id": "knvpyHMrm4f-",
        "colab": {
          "base_uri": "https://localhost:8080/"
        },
        "outputId": "299bb9b6-20ca-4020-901b-559d367500c8"
      },
      "execution_count": 107,
      "outputs": [
        {
          "output_type": "stream",
          "name": "stdout",
          "text": [
            "\n",
            "Обновленный датасет:\n",
            "   pclass  survived                                             name     sex  \\\n",
            "0       3         1                               Smyth, Miss. Julia  female   \n",
            "1       3         1                         Glynn, Miss. Mary Agatha  female   \n",
            "2       3         1  Whabee, Mrs. George Joseph (Shawneene Abi-Saab)  female   \n",
            "3       3         0                                  Vovk, Mr. Janko    male   \n",
            "4       3         0                        de Pelsmaeker, Mr. Alfons    male   \n",
            "\n",
            "    age    fare embarked  fam_size  \n",
            "0   NaN  7.7333        Q         0  \n",
            "1   NaN  7.7500        Q         0  \n",
            "2  38.0  7.2292        C         0  \n",
            "3  22.0  7.8958        S         0  \n",
            "4  16.0  9.5000        S         0  \n",
            "\n",
            "Выборочное среднее значение колонки 'fam_size': 0.866\n"
          ]
        }
      ]
    },
    {
      "cell_type": "markdown",
      "source": [
        "Полученный датасет будем называть **исходным** (выброшенные на этом этапе признаки не нужно возвращать ни на одном из последующих этапов выполнения задания). Вычислите полученное число предикторов."
      ],
      "metadata": {
        "id": "X9Cmdl5fmyoi"
      }
    },
    {
      "cell_type": "code",
      "source": [
        "num_predictors = df.shape[1] - 1\n",
        "print(f\"Число предикторов: {num_predictors}\")"
      ],
      "metadata": {
        "id": "XdpdKkEBUT52",
        "colab": {
          "base_uri": "https://localhost:8080/"
        },
        "outputId": "2f792336-df54-494a-a25c-7ba18f28b7ce"
      },
      "execution_count": 108,
      "outputs": [
        {
          "output_type": "stream",
          "name": "stdout",
          "text": [
            "Число предикторов: 7\n"
          ]
        }
      ]
    },
    {
      "cell_type": "markdown",
      "source": [
        "На основе имеющейся статистики оцените вероятность выжить если пассажир -- представитель определенной категории (указана в вашем индивидуальном задании)"
      ],
      "metadata": {
        "id": "wQOvPyj8Vx00"
      }
    },
    {
      "cell_type": "code",
      "source": [
        "# Фильтрация данных для мужчин с классом билета 3\n",
        "male_pclass3 = df[(df['sex'] == 'male') & (df['pclass'] == 3)]\n",
        "\n",
        "# Подсчет вероятности выживания\n",
        "survival_probability = male_pclass3['survived'].mean()\n",
        "\n",
        "# Вывод результата\n",
        "print(f\"Вероятность выживания для мужчин с классом билета 3: {survival_probability:.3f}\")"
      ],
      "metadata": {
        "id": "hFpZp4LaeS9Q",
        "colab": {
          "base_uri": "https://localhost:8080/"
        },
        "outputId": "a9a596cf-4386-424d-85b3-43e5a982156b"
      },
      "execution_count": 109,
      "outputs": [
        {
          "output_type": "stream",
          "name": "stdout",
          "text": [
            "Вероятность выживания для мужчин с классом билета 3: 0.164\n"
          ]
        }
      ]
    },
    {
      "cell_type": "markdown",
      "source": [
        "Постройте гистограммы выжиших и невыживших по возрастам."
      ],
      "metadata": {
        "id": "sXxprQtFhSy4"
      }
    },
    {
      "cell_type": "code",
      "source": [
        "# Разделение данных на выживших и невыживших\n",
        "survived = df[df['survived'] == 1]\n",
        "not_survived = df[df['survived'] == 0]\n",
        "\n",
        "# Построение гистограмм\n",
        "plt.figure(figsize=(10, 6))\n",
        "\n",
        "# Гистограмма для выживших\n",
        "plt.hist(survived['age'].dropna(), bins=30, alpha=0.5, label='Выжившие')\n",
        "\n",
        "# Гистограмма для невыживших\n",
        "plt.hist(not_survived['age'].dropna(), bins=30, alpha=0.5, label='Невыжившие')\n",
        "\n",
        "# Настройка графика\n",
        "plt.title('Гистограмма выживших и невыживших по возрастам')\n",
        "plt.xlabel('Возраст')\n",
        "plt.ylabel('Частота')\n",
        "plt.legend()\n",
        "\n",
        "# Отображение графика\n",
        "plt.show()"
      ],
      "metadata": {
        "id": "K3wHT2Uzr3nb",
        "colab": {
          "base_uri": "https://localhost:8080/",
          "height": 476
        },
        "outputId": "280bdfa5-94a6-4938-ac6e-6e52ee5f99b6"
      },
      "execution_count": 110,
      "outputs": [
        {
          "output_type": "display_data",
          "data": {
            "text/plain": [
              "<Figure size 1000x600 with 1 Axes>"
            ],
            "image/png": "[encoded data removed]"
          },
          "metadata": {}
        }
      ]
    },
    {
      "cell_type": "markdown",
      "source": [
        "# Модель на основе числовых признаков"
      ],
      "metadata": {
        "id": "u_bO7O9v0ovG"
      }
    },
    {
      "cell_type": "markdown",
      "source": [
        "## Удаление строк с пропусками"
      ],
      "metadata": {
        "id": "VJPhFX8M38SF"
      }
    },
    {
      "cell_type": "markdown",
      "source": [
        "В качестве базовой модели имеет смысл построить модель с минимальными трудозатратами.\n",
        "\n",
        "Из исходного датасета удалите все категориальные признаки, а также строки, содержащие пропуски.\n",
        "\n",
        "При помощи <code>train_test_split()</code> разбейте набор данных на обучающую и тестовую выборки<b> с параметрами, указанными в вашем задании</b>. Используйте стратификацию по колонке <code>survived</code>.\n",
        "\n",
        "Обучите модель <code>LogisticRegression()</code> <b>с параметрами, указанными в вашем задании</b>, на тренировочных данных, оцените на тестовых.\n",
        "\n",
        "Вычислите <code>f1_score</code> модели на тестовых данных (рекомендуем использовать <a href=\"https://scikit-learn.org/stable/modules/generated/sklearn.metrics.f1_score.html\">соответствующую функцию</a> с параметрами по умолчанию.\n",
        "\n"
      ],
      "metadata": {
        "id": "kAO1Bd2Q0qZr"
      }
    },
    {
      "cell_type": "code",
      "source": [
        "from sklearn.model_selection import train_test_split\n",
        "from sklearn.linear_model import LogisticRegression\n",
        "from sklearn.metrics import f1_score\n",
        "from sklearn.impute import SimpleImputer\n",
        "from sklearn.compose import ColumnTransformer\n",
        "from sklearn.pipeline import Pipeline\n",
        "from sklearn.preprocessing import StandardScaler, OneHotEncoder\n",
        "\n",
        "\n",
        "# Отбор только числовых признаков\n",
        "numeric_features = df.select_dtypes(include=['int64', 'float64']).columns\n",
        "df_numeric = df[numeric_features]\n",
        "\n",
        "# Удаление строк, содержащих пропуски\n",
        "df_numeric = df_numeric.dropna()\n",
        "\n",
        "# Разделение на признаки (X) и целевую переменную (y)\n",
        "X = df_numeric.drop('survived', axis=1)\n",
        "y = df_numeric['survived']\n",
        "\n",
        "# Разделение на обучающую и тестовую выборки с использованием стратификации\n",
        "X_train, X_test, y_train, y_test = train_test_split(\n",
        "    X, y, test_size=0.2, random_state=21, stratify=y\n",
        ")\n",
        "\n",
        "# Создание и обучение модели LogisticRegression\n",
        "model = Pipeline([\n",
        "    ('imputer', SimpleImputer(strategy='mean')),\n",
        "    ('scaler', StandardScaler()),\n",
        "    ('classifier', LogisticRegression(random_state=21, max_iter=1000))\n",
        "])\n",
        "\n",
        "model.fit(X_train, y_train)\n",
        "\n",
        "# Прогноз на тестовых данных\n",
        "y_pred = model.predict(X_test)\n",
        "\n",
        "# Вычисление f1_score модели на тестовых данных\n",
        "f1 = f1_score(y_test, y_pred)\n",
        "\n",
        "# Вывод результата\n",
        "print(f\"F1 Score на тестовых данных: {f1:.3f}\")"
      ],
      "metadata": {
        "id": "8JJ6qQT618Uz",
        "colab": {
          "base_uri": "https://localhost:8080/"
        },
        "outputId": "e107d13a-0a26-4972-bbf7-b8ab32020279"
      },
      "execution_count": 111,
      "outputs": [
        {
          "output_type": "stream",
          "name": "stdout",
          "text": [
            "F1 Score на тестовых данных: 0.566\n"
          ]
        }
      ]
    },
    {
      "cell_type": "markdown",
      "source": [
        "## Заполнение пропусков средним"
      ],
      "metadata": {
        "id": "UL6H4BxE3y-f"
      }
    },
    {
      "cell_type": "markdown",
      "source": [
        "Качество полученной модели оставляет желать лучшего. Имеет смысл попробовать заполнить пропуски. Из исходного набора данных удалите категориальные признаки, а пропуски заполните средним по столбцу. Далее аналогично: разделение, обучение, оценка.\n",
        "\n",
        "Вычислите <code>f1_score</code> модели на тестовых данных"
      ],
      "metadata": {
        "id": "vD6NntW04OJF"
      }
    },
    {
      "cell_type": "code",
      "source": [
        "# Отбор только числовых признаков\n",
        "numeric_features = df.select_dtypes(include=['int64', 'float64']).columns\n",
        "df_numeric = df[numeric_features]\n",
        "\n",
        "# Заполнение пропущенных значений средними по столбцу\n",
        "imputer = SimpleImputer(strategy='mean')\n",
        "df_numeric_imputed = pd.DataFrame(imputer.fit_transform(df_numeric), columns=df_numeric.columns)\n",
        "\n",
        "# Разделение на признаки (X) и целевую переменную (y)\n",
        "X = df_numeric_imputed.drop('survived', axis=1)\n",
        "y = df_numeric_imputed['survived']\n",
        "\n",
        "# Разделение на обучающую и тестовую выборки с использованием стратификации\n",
        "X_train, X_test, y_train, y_test = train_test_split(\n",
        "    X, y, test_size=0.2, random_state=21, stratify=y\n",
        ")\n",
        "\n",
        "# Создание и обучение модели LogisticRegression\n",
        "model = Pipeline([\n",
        "    ('scaler', StandardScaler()),\n",
        "    ('classifier', LogisticRegression(random_state=21, max_iter=1000))\n",
        "])\n",
        "\n",
        "model.fit(X_train, y_train)\n",
        "\n",
        "# Прогноз на тестовых данных\n",
        "y_pred = model.predict(X_test)\n",
        "\n",
        "# Вычисление f1_score модели на тестовых данных\n",
        "f1 = f1_score(y_test, y_pred)\n",
        "\n",
        "# Вывод результата\n",
        "print(f\"F1 Score на тестовых данных: {f1:.3f}\")"
      ],
      "metadata": {
        "id": "zMYFLiWZ4Gw-",
        "colab": {
          "base_uri": "https://localhost:8080/"
        },
        "outputId": "cb4716a0-0250-4d41-b359-402a26889694"
      },
      "execution_count": 112,
      "outputs": [
        {
          "output_type": "stream",
          "name": "stdout",
          "text": [
            "F1 Score на тестовых данных: 0.476\n"
          ]
        }
      ]
    },
    {
      "cell_type": "markdown",
      "source": [
        "## Заполнение пропусков на основе обращения"
      ],
      "metadata": {
        "id": "dxuJDvb1_p_e"
      }
    },
    {
      "cell_type": "markdown",
      "source": [
        "\n",
        "Очевидно, что заполнение пропусков в колонке <code>age</code> средним — не самая разумная идея. Возможно, стоит выполнить эту процедуру как-то более интеллектуально, например, с оглядкой на обращение к человеку.\n",
        "\n",
        "Можно заметить, что исходный датасет в столбце <code>name</code> содержит информацию о социальном статусе пассажира, а именно присутсвуют обращения <code>Mr., Mrs., Dr.</code> и т.д. На основе этой информации можно попробовать сделать предположение о возрасте пассажира.\n",
        "\n",
        "Верните в рассмотрение колонку <code>name</code>. Создайте отдельную колонку <code>honorific</code> и поместите туда значения обращений.\n",
        "\n",
        "Вычислите число уникальных обращений."
      ],
      "metadata": {
        "id": "9ew5okxzKdLh"
      }
    },
    {
      "cell_type": "code",
      "source": [
        "# Извлечение обращений из столбца \"name\"\n",
        "df['honorific'] = df['name'].str.extract(' ([A-Za-z]+)\\.', expand=False)\n",
        "\n",
        "# Вычисление числа уникальных обращений\n",
        "unique_honorifics = df['honorific'].nunique()\n",
        "\n",
        "# Вывод результата\n",
        "print(f\"Число уникальных обращений: {unique_honorifics}\")\n",
        "\n",
        "# Просмотр примеров уникальных обращений\n",
        "print(\"\\nПримеры уникальных обращений:\")\n",
        "print(df['honorific'].unique())"
      ],
      "metadata": {
        "id": "fMbYRoa-DArO",
        "colab": {
          "base_uri": "https://localhost:8080/"
        },
        "outputId": "c5defda8-e934-4b90-d71d-1cc4e73abfb1"
      },
      "execution_count": 113,
      "outputs": [
        {
          "output_type": "stream",
          "name": "stdout",
          "text": [
            "Число уникальных обращений: 14\n",
            "\n",
            "Примеры уникальных обращений:\n",
            "['Miss' 'Mrs' 'Mr' 'Master' 'Mlle' 'Rev' 'Ms' 'Col' 'Dona' 'Dr' 'Countess'\n",
            " 'Major' 'Don' 'Capt']\n"
          ]
        }
      ]
    },
    {
      "cell_type": "markdown",
      "source": [
        "Скорее всего имеет смысл сократить число обращений, добавив малочисленные группы к более многочисленным, так как принципиальной разницы между, например, <code>Don</code> и <code>Mr</code>, видимо, нет. Отметим, что <code>Master</code> — это прежнее обращение к ребенку, с этим обращением будем работать отдельно.\n",
        "\n",
        "\n",
        "\n",
        "\n",
        "Выполните следующие замены:\n",
        "\n",
        "<code>Mr</code> $\\leftarrow$ <code>['Rev', 'Col', 'Dr', 'Major', 'Don', 'Capt']</code>\n",
        "\n",
        "<code>Mrs</code> $\\leftarrow$ <code> ['Dona', 'Countess']</code>\n",
        "\n",
        "<code>Miss</code> $\\leftarrow$ <code> ['Mlle', 'Ms']</code>"
      ],
      "metadata": {
        "id": "6HNMeGu9GJWN"
      }
    },
    {
      "cell_type": "markdown",
      "source": [
        "Вычислите долю строк со значением <code>Master</code> относительно числа всех мужчин"
      ],
      "metadata": {
        "id": "qh-KpfttKxYD"
      }
    },
    {
      "cell_type": "code",
      "source": [
        "# Извлечение обращений из столбца \"name\"\n",
        "df['honorific'] = df['name'].str.extract(' ([A-Za-z]+)\\.', expand=False)\n",
        "\n",
        "# Замены обращений\n",
        "df['honorific'].replace(['Rev', 'Col', 'Dr', 'Major', 'Don', 'Capt'], 'Mr', inplace=True)\n",
        "df['honorific'].replace(['Dona', 'Countess'], 'Mrs', inplace=True)\n",
        "df['honorific'].replace(['Mlle', 'Ms'], 'Miss', inplace=True)\n",
        "\n",
        "# Вычисление доли строк со значением \"Master\" относительно числа всех мужчин\n",
        "master_ratio = df[df['honorific'] == 'Master'].shape[0] / df[df['sex'] == 'male'].shape[0]\n",
        "\n",
        "# Вывод результата\n",
        "print(f\"Доля строк со значением 'Master' относительно числа всех мужчин: {master_ratio:.3f}\")"
      ],
      "metadata": {
        "id": "jiQBH3_8G0SF",
        "colab": {
          "base_uri": "https://localhost:8080/"
        },
        "outputId": "ff7333ee-011c-41bf-99e6-caabebe5944c"
      },
      "execution_count": 114,
      "outputs": [
        {
          "output_type": "stream",
          "name": "stdout",
          "text": [
            "Доля строк со значением 'Master' относительно числа всех мужчин: 0.072\n"
          ]
        }
      ]
    },
    {
      "cell_type": "markdown",
      "source": [
        "Вычислите средний возраст категории, указанной в вашем индивидуальном задании"
      ],
      "metadata": {
        "id": "XD7hs0k7L77K"
      }
    },
    {
      "cell_type": "code",
      "source": [
        "# Извлечение обращений из столбца \"name\"\n",
        "df['honorific'] = df['name'].str.extract(' ([A-Za-z]+)\\.', expand=False)\n",
        "\n",
        "# Замены обращений\n",
        "df['honorific'].replace(['Rev', 'Col', 'Dr', 'Major', 'Don', 'Capt'], 'Mr', inplace=True)\n",
        "df['honorific'].replace(['Dona', 'Countess'], 'Mrs', inplace=True)\n",
        "df['honorific'].replace(['Mlle', 'Ms'], 'Miss', inplace=True)\n",
        "\n",
        "# Вычисление среднего возраста категории \"Mr\"\n",
        "average_age_mr = df[df['honorific'] == 'Mr']['age'].mean()\n",
        "\n",
        "# Вывод результата\n",
        "print(f\"Средний возраст категории 'Mr': {average_age_mr:.3f} лет\")"
      ],
      "metadata": {
        "id": "stKBPTCQMGlf",
        "colab": {
          "base_uri": "https://localhost:8080/"
        },
        "outputId": "fe10f066-78d8-4109-bbbd-bd3609da23c8"
      },
      "execution_count": 115,
      "outputs": [
        {
          "output_type": "stream",
          "name": "stdout",
          "text": [
            "Средний возраст категории 'Mr': 32.900 лет\n"
          ]
        }
      ]
    },
    {
      "cell_type": "markdown",
      "source": [
        "Заполните пропуски в колонке <code>age</code> средним, соответствующим среднему категории <code>honorific</code>.\n",
        "\n",
        "Избавьтесь от нечисловых признаков. Далее аналогично: разделение, обучение, оценка.\n",
        "\n",
        "Вычислите <code>f1_score</code> модели на тестовых данных"
      ],
      "metadata": {
        "id": "cQ4Z0tKNLk_B"
      }
    },
    {
      "cell_type": "code",
      "source": [
        "import pandas as pd\n",
        "from sklearn.model_selection import train_test_split\n",
        "from sklearn.linear_model import LogisticRegression\n",
        "from sklearn.metrics import f1_score\n",
        "from sklearn.impute import SimpleImputer\n",
        "from sklearn.compose import ColumnTransformer\n",
        "from sklearn.pipeline import Pipeline\n",
        "from sklearn.preprocessing import StandardScaler\n",
        "\n",
        "# Загрузка исходного датасета\n",
        "df = pd.read_csv('titanic_train.csv')\n",
        "\n",
        "# Извлечение обращений из столбца \"name\"\n",
        "df['honorific'] = df['name'].str.extract(' ([A-Za-z]+)\\.', expand=False)\n",
        "\n",
        "# Замены обращений\n",
        "df['honorific'].replace(['Rev', 'Col', 'Dr', 'Major', 'Don', 'Capt'], 'Mr', inplace=True)\n",
        "df['honorific'].replace(['Dona', 'Countess'], 'Mrs', inplace=True)\n",
        "df['honorific'].replace(['Mlle', 'Ms'], 'Miss', inplace=True)\n",
        "\n",
        "# Создание и применение стратегии заполнения пропущенных значений\n",
        "imputer = SimpleImputer(strategy='mean')\n",
        "df['age'] = df.groupby('honorific')['age'].transform(lambda x: x.fillna(x.mean()))\n",
        "\n",
        "# Оставляем только числовые признаки\n",
        "numeric_features = df.select_dtypes(include=['int64', 'float64']).columns\n",
        "df_numeric = df[numeric_features]\n",
        "\n",
        "# Удаляем нечисловые и ненужные признаки\n",
        "df_numeric = df_numeric.drop([ 'pclass', 'sibsp', 'parch'], axis=1)\n",
        "\n",
        "# Разделение на признаки (X) и целевую переменную (y)\n",
        "X = df_numeric.drop('survived', axis=1)\n",
        "y = df_numeric['survived']\n",
        "\n",
        "# Разделение на обучающую и тестовую выборки с использованием стратификации\n",
        "X_train, X_test, y_train, y_test = train_test_split(\n",
        "    X, y, test_size=0.2, random_state=21, stratify=y\n",
        ")\n",
        "\n",
        "# Создание и обучение модели LogisticRegression\n",
        "model = Pipeline([\n",
        "    ('scaler', StandardScaler()),\n",
        "    ('classifier', LogisticRegression(random_state=21, max_iter=1000))\n",
        "])\n",
        "\n",
        "model.fit(X_train, y_train)\n",
        "\n",
        "# Прогноз на тестовых данных\n",
        "y_pred = model.predict(X_test)\n",
        "\n",
        "# Вычисление f1_score модели на тестовых данных\n",
        "f1 = f1_score(y_test, y_pred)\n",
        "\n",
        "# Вывод результата\n",
        "print(f\"F1 Score на тестовых данных: {f1:.3f}\")"
      ],
      "metadata": {
        "id": "B5c_i_6HN3aA",
        "colab": {
          "base_uri": "https://localhost:8080/"
        },
        "outputId": "c07ec5a6-1633-4d7f-fad7-37d8fdb1dde9"
      },
      "execution_count": 120,
      "outputs": [
        {
          "output_type": "stream",
          "name": "stdout",
          "text": [
            "F1 Score на тестовых данных: 0.333\n"
          ]
        }
      ]
    },
    {
      "cell_type": "markdown",
      "source": [
        "# Модель с использование категориальных признаков"
      ],
      "metadata": {
        "id": "YGCBn1fiSbjG"
      }
    },
    {
      "cell_type": "markdown",
      "source": [
        "В исходном наборе данных заполните пропуски колонки <code>age</code> значениями на основе обращений (как в предыдущем пункте).\n",
        "\n",
        "Не используйте признаки <code>name</code> и <code>honorific</code>. Они свою функцию выполнили.\n",
        "\n",
        "Произведите <code>one-hot</code> кодировние нечисловых признаков, например, с помощью <code>pd.get_dummies(drop_first=True)</code>. Далее по знакомой схеме: разделение, обучение, оценка.\n",
        "\n",
        "Вычислите <code>f1_score</code> модели на тестовых данных"
      ],
      "metadata": {
        "id": "BlILajPNTMgL"
      }
    },
    {
      "cell_type": "code",
      "source": [
        "# < ENTER YOUR CODE HERE >"
      ],
      "metadata": {
        "id": "AiRm3GIdUsVt"
      },
      "execution_count": null,
      "outputs": []
    }
  ]
}