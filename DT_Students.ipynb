{
  "nbformat": 4,
  "nbformat_minor": 0,
  "metadata": {
    "colab": {
      "provenance": [],
      "include_colab_link": true
    },
    "kernelspec": {
      "name": "python3",
      "display_name": "Python 3"
    },
    "language_info": {
      "name": "python"
    }
  },
  "cells": [
    {
      "cell_type": "markdown",
      "metadata": {
        "id": "view-in-github",
        "colab_type": "text"
      },
      "source": [
        "<a href=\"https://colab.research.google.com/github/AnnCherk/Introduction-to-ML/blob/main/DT_Students.ipynb\" target=\"_parent\"><img src=\"https://colab.research.google.com/assets/colab-badge.svg\" alt=\"Open In Colab\"/></a>"
      ]
    },
    {
      "cell_type": "markdown",
      "source": [
        "# Классификация при помощи ДПР"
      ],
      "metadata": {
        "id": "WBsRp9afwB_k"
      }
    },
    {
      "cell_type": "markdown",
      "source": [
        "# Описание набора данных"
      ],
      "metadata": {
        "id": "tAHDw8MfwMCs"
      }
    },
    {
      "cell_type": "markdown",
      "source": [
        "В этой лабораторной работе мы рассмотрим разные подходы к задаче классификации, в частности, деревья принятия решений, а также поговорим о том, как бороться с несбалансированностью датасета."
      ],
      "metadata": {
        "id": "xIaqzMrkMZq6"
      }
    },
    {
      "cell_type": "markdown",
      "source": [
        "Изучаемый нами набор данных — это набор данных о принятых предложениях по кредитам в банке **Thera-Bank**. Основные клиенты банка пользуются банком для того, чтобы разместить в нем свои денежные средства, то есть являются вкладчиками. В то же время, большую прибыль банку приносят кредиторы — люди, берущие в банке кредит. Поэтому банк хочет сформировать для своих вкладчиков выгодные предложения по кредиту. Кампания, проведенная банком для вкладчиков в прошлом году, показала, что коэффициент конверсии составил более 9,6%. Это побудило отдел маркетинга разработать кампании с улучшенным целевым маркетингом, чтобы увеличить вероятность успеха при, естественно, минимальном бюджете. Департамент хотел бы разработать классификатор, который поможет им определить потенциальных клиентов, которые с большей вероятностью приобретут кредит. Это повысит вероятность успеха при одновременном снижении стоимости кампании."
      ],
      "metadata": {
        "id": "C_ayFAKDMjPs"
      }
    },
    {
      "cell_type": "markdown",
      "source": [
        "Набор данных содержит как информацию о клиенте, так и информацию о его реакции на кампанию предыдущего года:\n",
        "\n",
        "*   **ID**: ID клиента\n",
        "\n",
        "*   **Age**: Возраст (полных лет)\n",
        "\n",
        "*   **Experience**: Стаж\n",
        "\n",
        "*   **Income**: Годовой доход (в тысячах)\n",
        "\n",
        "*   **ZIP Code**: Индекс места проживания\n",
        "\n",
        "*   **Family**: Количество членов семьи\n",
        "\n",
        "*   **CCAvg**: Средние траты в месяц по кредитной карте (в тысячах)\n",
        "\n",
        "*   **Education**: Уровень образования (1: бакалавр, 2: магистр, 3: что-то большее)\n",
        "\n",
        "*   **Mortgage**: Стоимость ипотеки, если имеется (в тысячах)\n",
        "\n",
        "*   **Securities Account**: Наличие счета в ценных бумагах\n",
        "\n",
        "*   **CD Account**: Наличие сертификата на депозит\n",
        "\n",
        "*   **Online**: Использует ли клиент интернет-банкинг\n",
        "\n",
        "*   **CreditCard**: Использует ли клиент кредитную карту, выпущенную данным банком\n",
        "\n",
        "*   **Personal Loan**: Принял ли клиент персональное предложение по кредиту (целевая переменная)"
      ],
      "metadata": {
        "id": "o7DY-rDVOGoE"
      }
    },
    {
      "cell_type": "markdown",
      "source": [
        "# Разведочный анализ данных"
      ],
      "metadata": {
        "id": "npoTXkLETgmH"
      }
    },
    {
      "cell_type": "code",
      "source": [
        "import pandas as pd"
      ],
      "metadata": {
        "id": "fYkuvgNY_Ri2"
      },
      "execution_count": null,
      "outputs": []
    },
    {
      "cell_type": "markdown",
      "source": [
        "Считайте набор данных в датафрейм"
      ],
      "metadata": {
        "id": "8JD_Js7sBDX9"
      }
    },
    {
      "cell_type": "code",
      "source": [
        "df = pd.read_csv('Bank_Personal_Loan_Modelling_train.csv')"
      ],
      "metadata": {
        "id": "N-EaF0UkMM--"
      },
      "execution_count": null,
      "outputs": []
    },
    {
      "cell_type": "markdown",
      "source": [
        "При помощи метода <code>.describe()</code> изучите набор данных «с высоты птичьего полета»."
      ],
      "metadata": {
        "id": "czPRb3i9OD3E"
      }
    },
    {
      "cell_type": "code",
      "source": [
        "df.describe()"
      ],
      "metadata": {
        "id": "obERUrx2MS-_",
        "colab": {
          "base_uri": "https://localhost:8080/",
          "height": 338
        },
        "outputId": "f275fd84-1e0a-44ae-9771-9339ea608220"
      },
      "execution_count": null,
      "outputs": [
        {
          "output_type": "execute_result",
          "data": {
            "text/plain": [
              "                ID          Age   Experience       Income      ZIP Code  \\\n",
              "count  4000.000000  4000.000000  4000.000000  4000.000000   4000.000000   \n",
              "mean   2497.682500    45.429500    20.196250    73.479750  93156.583750   \n",
              "std    1449.723807    11.489235    11.500143    46.321345   2197.762636   \n",
              "min       1.000000    23.000000    -3.000000     8.000000   9307.000000   \n",
              "25%    1245.750000    35.000000    10.000000    38.000000  91941.750000   \n",
              "50%    2492.500000    45.000000    20.000000    63.000000  93407.000000   \n",
              "75%    3767.250000    55.000000    30.000000    98.000000  94608.000000   \n",
              "max    5000.000000    67.000000    43.000000   224.000000  96651.000000   \n",
              "\n",
              "            Family        CCAvg    Education     Mortgage  Personal Loan  \\\n",
              "count  4000.000000  4000.000000  4000.000000  4000.000000    4000.000000   \n",
              "mean      2.381750     1.921805     1.881500    55.968250       0.096000   \n",
              "std       1.149716     1.738974     0.842102   101.054887       0.294628   \n",
              "min       1.000000     0.000000     1.000000     0.000000       0.000000   \n",
              "25%       1.000000     0.700000     1.000000     0.000000       0.000000   \n",
              "50%       2.000000     1.500000     2.000000     0.000000       0.000000   \n",
              "75%       3.000000     2.500000     3.000000   100.000000       0.000000   \n",
              "max       4.000000    10.000000     3.000000   635.000000       1.000000   \n",
              "\n",
              "       Securities Account   CD Account       Online  CreditCard  \n",
              "count         4000.000000  4000.000000  4000.000000  4000.00000  \n",
              "mean             0.104000     0.061500     0.599000     0.29050  \n",
              "std              0.305299     0.240275     0.490162     0.45405  \n",
              "min              0.000000     0.000000     0.000000     0.00000  \n",
              "25%              0.000000     0.000000     0.000000     0.00000  \n",
              "50%              0.000000     0.000000     1.000000     0.00000  \n",
              "75%              0.000000     0.000000     1.000000     1.00000  \n",
              "max              1.000000     1.000000     1.000000     1.00000  "
            ],
            "text/html": [
              "\n",
              "  <div id=\"df-2b4bcc84-7fb6-4cbf-b27b-75a80b9b4ac8\" class=\"colab-df-container\">\n",
              "    <div>\n",
              "<style scoped>\n",
              "    .dataframe tbody tr th:only-of-type {\n",
              "        vertical-align: middle;\n",
              "    }\n",
              "\n",
              "    .dataframe tbody tr th {\n",
              "        vertical-align: top;\n",
              "    }\n",
              "\n",
              "    .dataframe thead th {\n",
              "        text-align: right;\n",
              "    }\n",
              "</style>\n",
              "<table border=\"1\" class=\"dataframe\">\n",
              "  <thead>\n",
              "    <tr style=\"text-align: right;\">\n",
              "      <th></th>\n",
              "      <th>ID</th>\n",
              "      <th>Age</th>\n",
              "      <th>Experience</th>\n",
              "      <th>Income</th>\n",
              "      <th>ZIP Code</th>\n",
              "      <th>Family</th>\n",
              "      <th>CCAvg</th>\n",
              "      <th>Education</th>\n",
              "      <th>Mortgage</th>\n",
              "      <th>Personal Loan</th>\n",
              "      <th>Securities Account</th>\n",
              "      <th>CD Account</th>\n",
              "      <th>Online</th>\n",
              "      <th>CreditCard</th>\n",
              "    </tr>\n",
              "  </thead>\n",
              "  <tbody>\n",
              "    <tr>\n",
              "      <th>count</th>\n",
              "      <td>4000.000000</td>\n",
              "      <td>4000.000000</td>\n",
              "      <td>4000.000000</td>\n",
              "      <td>4000.000000</td>\n",
              "      <td>4000.000000</td>\n",
              "      <td>4000.000000</td>\n",
              "      <td>4000.000000</td>\n",
              "      <td>4000.000000</td>\n",
              "      <td>4000.000000</td>\n",
              "      <td>4000.000000</td>\n",
              "      <td>4000.000000</td>\n",
              "      <td>4000.000000</td>\n",
              "      <td>4000.000000</td>\n",
              "      <td>4000.00000</td>\n",
              "    </tr>\n",
              "    <tr>\n",
              "      <th>mean</th>\n",
              "      <td>2497.682500</td>\n",
              "      <td>45.429500</td>\n",
              "      <td>20.196250</td>\n",
              "      <td>73.479750</td>\n",
              "      <td>93156.583750</td>\n",
              "      <td>2.381750</td>\n",
              "      <td>1.921805</td>\n",
              "      <td>1.881500</td>\n",
              "      <td>55.968250</td>\n",
              "      <td>0.096000</td>\n",
              "      <td>0.104000</td>\n",
              "      <td>0.061500</td>\n",
              "      <td>0.599000</td>\n",
              "      <td>0.29050</td>\n",
              "    </tr>\n",
              "    <tr>\n",
              "      <th>std</th>\n",
              "      <td>1449.723807</td>\n",
              "      <td>11.489235</td>\n",
              "      <td>11.500143</td>\n",
              "      <td>46.321345</td>\n",
              "      <td>2197.762636</td>\n",
              "      <td>1.149716</td>\n",
              "      <td>1.738974</td>\n",
              "      <td>0.842102</td>\n",
              "      <td>101.054887</td>\n",
              "      <td>0.294628</td>\n",
              "      <td>0.305299</td>\n",
              "      <td>0.240275</td>\n",
              "      <td>0.490162</td>\n",
              "      <td>0.45405</td>\n",
              "    </tr>\n",
              "    <tr>\n",
              "      <th>min</th>\n",
              "      <td>1.000000</td>\n",
              "      <td>23.000000</td>\n",
              "      <td>-3.000000</td>\n",
              "      <td>8.000000</td>\n",
              "      <td>9307.000000</td>\n",
              "      <td>1.000000</td>\n",
              "      <td>0.000000</td>\n",
              "      <td>1.000000</td>\n",
              "      <td>0.000000</td>\n",
              "      <td>0.000000</td>\n",
              "      <td>0.000000</td>\n",
              "      <td>0.000000</td>\n",
              "      <td>0.000000</td>\n",
              "      <td>0.00000</td>\n",
              "    </tr>\n",
              "    <tr>\n",
              "      <th>25%</th>\n",
              "      <td>1245.750000</td>\n",
              "      <td>35.000000</td>\n",
              "      <td>10.000000</td>\n",
              "      <td>38.000000</td>\n",
              "      <td>91941.750000</td>\n",
              "      <td>1.000000</td>\n",
              "      <td>0.700000</td>\n",
              "      <td>1.000000</td>\n",
              "      <td>0.000000</td>\n",
              "      <td>0.000000</td>\n",
              "      <td>0.000000</td>\n",
              "      <td>0.000000</td>\n",
              "      <td>0.000000</td>\n",
              "      <td>0.00000</td>\n",
              "    </tr>\n",
              "    <tr>\n",
              "      <th>50%</th>\n",
              "      <td>2492.500000</td>\n",
              "      <td>45.000000</td>\n",
              "      <td>20.000000</td>\n",
              "      <td>63.000000</td>\n",
              "      <td>93407.000000</td>\n",
              "      <td>2.000000</td>\n",
              "      <td>1.500000</td>\n",
              "      <td>2.000000</td>\n",
              "      <td>0.000000</td>\n",
              "      <td>0.000000</td>\n",
              "      <td>0.000000</td>\n",
              "      <td>0.000000</td>\n",
              "      <td>1.000000</td>\n",
              "      <td>0.00000</td>\n",
              "    </tr>\n",
              "    <tr>\n",
              "      <th>75%</th>\n",
              "      <td>3767.250000</td>\n",
              "      <td>55.000000</td>\n",
              "      <td>30.000000</td>\n",
              "      <td>98.000000</td>\n",
              "      <td>94608.000000</td>\n",
              "      <td>3.000000</td>\n",
              "      <td>2.500000</td>\n",
              "      <td>3.000000</td>\n",
              "      <td>100.000000</td>\n",
              "      <td>0.000000</td>\n",
              "      <td>0.000000</td>\n",
              "      <td>0.000000</td>\n",
              "      <td>1.000000</td>\n",
              "      <td>1.00000</td>\n",
              "    </tr>\n",
              "    <tr>\n",
              "      <th>max</th>\n",
              "      <td>5000.000000</td>\n",
              "      <td>67.000000</td>\n",
              "      <td>43.000000</td>\n",
              "      <td>224.000000</td>\n",
              "      <td>96651.000000</td>\n",
              "      <td>4.000000</td>\n",
              "      <td>10.000000</td>\n",
              "      <td>3.000000</td>\n",
              "      <td>635.000000</td>\n",
              "      <td>1.000000</td>\n",
              "      <td>1.000000</td>\n",
              "      <td>1.000000</td>\n",
              "      <td>1.000000</td>\n",
              "      <td>1.00000</td>\n",
              "    </tr>\n",
              "  </tbody>\n",
              "</table>\n",
              "</div>\n",
              "    <div class=\"colab-df-buttons\">\n",
              "\n",
              "  <div class=\"colab-df-container\">\n",
              "    <button class=\"colab-df-convert\" onclick=\"convertToInteractive('df-2b4bcc84-7fb6-4cbf-b27b-75a80b9b4ac8')\"\n",
              "            title=\"Convert this dataframe to an interactive table.\"\n",
              "            style=\"display:none;\">\n",
              "\n",
              "  <svg xmlns=\"http://www.w3.org/2000/svg\" height=\"24px\" viewBox=\"0 -960 960 960\">\n",
              "    <path d=\"M120-120v-720h720v720H120Zm60-500h600v-160H180v160Zm220 220h160v-160H400v160Zm0 220h160v-160H400v160ZM180-400h160v-160H180v160Zm440 0h160v-160H620v160ZM180-180h160v-160H180v160Zm440 0h160v-160H620v160Z\"/>\n",
              "  </svg>\n",
              "    </button>\n",
              "\n",
              "  <style>\n",
              "    .colab-df-container {\n",
              "      display:flex;\n",
              "      gap: 12px;\n",
              "    }\n",
              "\n",
              "    .colab-df-convert {\n",
              "      background-color: #E8F0FE;\n",
              "      border: none;\n",
              "      border-radius: 50%;\n",
              "      cursor: pointer;\n",
              "      display: none;\n",
              "      fill: #1967D2;\n",
              "      height: 32px;\n",
              "      padding: 0 0 0 0;\n",
              "      width: 32px;\n",
              "    }\n",
              "\n",
              "    .colab-df-convert:hover {\n",
              "      background-color: #E2EBFA;\n",
              "      box-shadow: 0px 1px 2px rgba(60, 64, 67, 0.3), 0px 1px 3px 1px rgba(60, 64, 67, 0.15);\n",
              "      fill: #174EA6;\n",
              "    }\n",
              "\n",
              "    .colab-df-buttons div {\n",
              "      margin-bottom: 4px;\n",
              "    }\n",
              "\n",
              "    [theme=dark] .colab-df-convert {\n",
              "      background-color: #3B4455;\n",
              "      fill: #D2E3FC;\n",
              "    }\n",
              "\n",
              "    [theme=dark] .colab-df-convert:hover {\n",
              "      background-color: #434B5C;\n",
              "      box-shadow: 0px 1px 3px 1px rgba(0, 0, 0, 0.15);\n",
              "      filter: drop-shadow(0px 1px 2px rgba(0, 0, 0, 0.3));\n",
              "      fill: #FFFFFF;\n",
              "    }\n",
              "  </style>\n",
              "\n",
              "    <script>\n",
              "      const buttonEl =\n",
              "        document.querySelector('#df-2b4bcc84-7fb6-4cbf-b27b-75a80b9b4ac8 button.colab-df-convert');\n",
              "      buttonEl.style.display =\n",
              "        google.colab.kernel.accessAllowed ? 'block' : 'none';\n",
              "\n",
              "      async function convertToInteractive(key) {\n",
              "        const element = document.querySelector('#df-2b4bcc84-7fb6-4cbf-b27b-75a80b9b4ac8');\n",
              "        const dataTable =\n",
              "          await google.colab.kernel.invokeFunction('convertToInteractive',\n",
              "                                                    [key], {});\n",
              "        if (!dataTable) return;\n",
              "\n",
              "        const docLinkHtml = 'Like what you see? Visit the ' +\n",
              "          '<a target=\"_blank\" href=https://colab.research.google.com/notebooks/data_table.ipynb>data table notebook</a>'\n",
              "          + ' to learn more about interactive tables.';\n",
              "        element.innerHTML = '';\n",
              "        dataTable['output_type'] = 'display_data';\n",
              "        await google.colab.output.renderOutput(dataTable, element);\n",
              "        const docLink = document.createElement('div');\n",
              "        docLink.innerHTML = docLinkHtml;\n",
              "        element.appendChild(docLink);\n",
              "      }\n",
              "    </script>\n",
              "  </div>\n",
              "\n",
              "\n",
              "<div id=\"df-967401ea-ceb1-4cd0-883f-5a3a30541b2d\">\n",
              "  <button class=\"colab-df-quickchart\" onclick=\"quickchart('df-967401ea-ceb1-4cd0-883f-5a3a30541b2d')\"\n",
              "            title=\"Suggest charts\"\n",
              "            style=\"display:none;\">\n",
              "\n",
              "<svg xmlns=\"http://www.w3.org/2000/svg\" height=\"24px\"viewBox=\"0 0 24 24\"\n",
              "     width=\"24px\">\n",
              "    <g>\n",
              "        <path d=\"M19 3H5c-1.1 0-2 .9-2 2v14c0 1.1.9 2 2 2h14c1.1 0 2-.9 2-2V5c0-1.1-.9-2-2-2zM9 17H7v-7h2v7zm4 0h-2V7h2v10zm4 0h-2v-4h2v4z\"/>\n",
              "    </g>\n",
              "</svg>\n",
              "  </button>\n",
              "\n",
              "<style>\n",
              "  .colab-df-quickchart {\n",
              "      --bg-color: #E8F0FE;\n",
              "      --fill-color: #1967D2;\n",
              "      --hover-bg-color: #E2EBFA;\n",
              "      --hover-fill-color: #174EA6;\n",
              "      --disabled-fill-color: #AAA;\n",
              "      --disabled-bg-color: #DDD;\n",
              "  }\n",
              "\n",
              "  [theme=dark] .colab-df-quickchart {\n",
              "      --bg-color: #3B4455;\n",
              "      --fill-color: #D2E3FC;\n",
              "      --hover-bg-color: #434B5C;\n",
              "      --hover-fill-color: #FFFFFF;\n",
              "      --disabled-bg-color: #3B4455;\n",
              "      --disabled-fill-color: #666;\n",
              "  }\n",
              "\n",
              "  .colab-df-quickchart {\n",
              "    background-color: var(--bg-color);\n",
              "    border: none;\n",
              "    border-radius: 50%;\n",
              "    cursor: pointer;\n",
              "    display: none;\n",
              "    fill: var(--fill-color);\n",
              "    height: 32px;\n",
              "    padding: 0;\n",
              "    width: 32px;\n",
              "  }\n",
              "\n",
              "  .colab-df-quickchart:hover {\n",
              "    background-color: var(--hover-bg-color);\n",
              "    box-shadow: 0 1px 2px rgba(60, 64, 67, 0.3), 0 1px 3px 1px rgba(60, 64, 67, 0.15);\n",
              "    fill: var(--button-hover-fill-color);\n",
              "  }\n",
              "\n",
              "  .colab-df-quickchart-complete:disabled,\n",
              "  .colab-df-quickchart-complete:disabled:hover {\n",
              "    background-color: var(--disabled-bg-color);\n",
              "    fill: var(--disabled-fill-color);\n",
              "    box-shadow: none;\n",
              "  }\n",
              "\n",
              "  .colab-df-spinner {\n",
              "    border: 2px solid var(--fill-color);\n",
              "    border-color: transparent;\n",
              "    border-bottom-color: var(--fill-color);\n",
              "    animation:\n",
              "      spin 1s steps(1) infinite;\n",
              "  }\n",
              "\n",
              "  @keyframes spin {\n",
              "    0% {\n",
              "      border-color: transparent;\n",
              "      border-bottom-color: var(--fill-color);\n",
              "      border-left-color: var(--fill-color);\n",
              "    }\n",
              "    20% {\n",
              "      border-color: transparent;\n",
              "      border-left-color: var(--fill-color);\n",
              "      border-top-color: var(--fill-color);\n",
              "    }\n",
              "    30% {\n",
              "      border-color: transparent;\n",
              "      border-left-color: var(--fill-color);\n",
              "      border-top-color: var(--fill-color);\n",
              "      border-right-color: var(--fill-color);\n",
              "    }\n",
              "    40% {\n",
              "      border-color: transparent;\n",
              "      border-right-color: var(--fill-color);\n",
              "      border-top-color: var(--fill-color);\n",
              "    }\n",
              "    60% {\n",
              "      border-color: transparent;\n",
              "      border-right-color: var(--fill-color);\n",
              "    }\n",
              "    80% {\n",
              "      border-color: transparent;\n",
              "      border-right-color: var(--fill-color);\n",
              "      border-bottom-color: var(--fill-color);\n",
              "    }\n",
              "    90% {\n",
              "      border-color: transparent;\n",
              "      border-bottom-color: var(--fill-color);\n",
              "    }\n",
              "  }\n",
              "</style>\n",
              "\n",
              "  <script>\n",
              "    async function quickchart(key) {\n",
              "      const quickchartButtonEl =\n",
              "        document.querySelector('#' + key + ' button');\n",
              "      quickchartButtonEl.disabled = true;  // To prevent multiple clicks.\n",
              "      quickchartButtonEl.classList.add('colab-df-spinner');\n",
              "      try {\n",
              "        const charts = await google.colab.kernel.invokeFunction(\n",
              "            'suggestCharts', [key], {});\n",
              "      } catch (error) {\n",
              "        console.error('Error during call to suggestCharts:', error);\n",
              "      }\n",
              "      quickchartButtonEl.classList.remove('colab-df-spinner');\n",
              "      quickchartButtonEl.classList.add('colab-df-quickchart-complete');\n",
              "    }\n",
              "    (() => {\n",
              "      let quickchartButtonEl =\n",
              "        document.querySelector('#df-967401ea-ceb1-4cd0-883f-5a3a30541b2d button');\n",
              "      quickchartButtonEl.style.display =\n",
              "        google.colab.kernel.accessAllowed ? 'block' : 'none';\n",
              "    })();\n",
              "  </script>\n",
              "</div>\n",
              "    </div>\n",
              "  </div>\n"
            ],
            "application/vnd.google.colaboratory.intrinsic+json": {
              "type": "dataframe",
              "summary": "{\n  \"name\": \"df\",\n  \"rows\": 8,\n  \"fields\": [\n    {\n      \"column\": \"ID\",\n      \"properties\": {\n        \"dtype\": \"number\",\n        \"std\": 1647.57199976696,\n        \"min\": 1.0,\n        \"max\": 5000.0,\n        \"num_unique_values\": 8,\n        \"samples\": [\n          2497.6825,\n          2492.5,\n          4000.0\n        ],\n        \"semantic_type\": \"\",\n        \"description\": \"\"\n      }\n    },\n    {\n      \"column\": \"Age\",\n      \"properties\": {\n        \"dtype\": \"number\",\n        \"std\": 1400.0834329687634,\n        \"min\": 11.48923541331605,\n        \"max\": 4000.0,\n        \"num_unique_values\": 8,\n        \"samples\": [\n          45.4295,\n          45.0,\n          4000.0\n        ],\n        \"semantic_type\": \"\",\n        \"description\": \"\"\n      }\n    },\n    {\n      \"column\": \"Experience\",\n      \"properties\": {\n        \"dtype\": \"number\",\n        \"std\": 1407.6288956895978,\n        \"min\": -3.0,\n        \"max\": 4000.0,\n        \"num_unique_values\": 8,\n        \"samples\": [\n          20.19625,\n          20.0,\n          4000.0\n        ],\n        \"semantic_type\": \"\",\n        \"description\": \"\"\n      }\n    },\n    {\n      \"column\": \"Income\",\n      \"properties\": {\n        \"dtype\": \"number\",\n        \"std\": 1387.910974647818,\n        \"min\": 8.0,\n        \"max\": 4000.0,\n        \"num_unique_values\": 8,\n        \"samples\": [\n          73.47975,\n          63.0,\n          4000.0\n        ],\n        \"semantic_type\": \"\",\n        \"description\": \"\"\n      }\n    },\n    {\n      \"column\": \"ZIP Code\",\n      \"properties\": {\n        \"dtype\": \"number\",\n        \"std\": 46012.54491087722,\n        \"min\": 2197.762635986191,\n        \"max\": 96651.0,\n        \"num_unique_values\": 8,\n        \"samples\": [\n          93156.58375,\n          93407.0,\n          4000.0\n        ],\n        \"semantic_type\": \"\",\n        \"description\": \"\"\n      }\n    },\n    {\n      \"column\": \"Family\",\n      \"properties\": {\n        \"dtype\": \"number\",\n        \"std\": 1413.480008091279,\n        \"min\": 1.0,\n        \"max\": 4000.0,\n        \"num_unique_values\": 7,\n        \"samples\": [\n          4000.0,\n          2.38175,\n          3.0\n        ],\n        \"semantic_type\": \"\",\n        \"description\": \"\"\n      }\n    },\n    {\n      \"column\": \"CCAvg\",\n      \"properties\": {\n        \"dtype\": \"number\",\n        \"std\": 1413.2896169090607,\n        \"min\": 0.0,\n        \"max\": 4000.0,\n        \"num_unique_values\": 8,\n        \"samples\": [\n          1.9218050000000002,\n          1.5,\n          4000.0\n        ],\n        \"semantic_type\": \"\",\n        \"description\": \"\"\n      }\n    },\n    {\n      \"column\": \"Education\",\n      \"properties\": {\n        \"dtype\": \"number\",\n        \"std\": 1413.5711822677465,\n        \"min\": 0.8421015578648691,\n        \"max\": 4000.0,\n        \"num_unique_values\": 6,\n        \"samples\": [\n          4000.0,\n          1.8815,\n          3.0\n        ],\n        \"semantic_type\": \"\",\n        \"description\": \"\"\n      }\n    },\n    {\n      \"column\": \"Mortgage\",\n      \"properties\": {\n        \"dtype\": \"number\",\n        \"std\": 1385.3871680706206,\n        \"min\": 0.0,\n        \"max\": 4000.0,\n        \"num_unique_values\": 6,\n        \"samples\": [\n          4000.0,\n          55.96825,\n          635.0\n        ],\n        \"semantic_type\": \"\",\n        \"description\": \"\"\n      }\n    },\n    {\n      \"column\": \"Personal Loan\",\n      \"properties\": {\n        \"dtype\": \"number\",\n        \"std\": 1414.1433664548529,\n        \"min\": 0.0,\n        \"max\": 4000.0,\n        \"num_unique_values\": 5,\n        \"samples\": [\n          0.096,\n          1.0,\n          0.29462807304355154\n        ],\n        \"semantic_type\": \"\",\n        \"description\": \"\"\n      }\n    },\n    {\n      \"column\": \"Securities Account\",\n      \"properties\": {\n        \"dtype\": \"number\",\n        \"std\": 1414.1424234722997,\n        \"min\": 0.0,\n        \"max\": 4000.0,\n        \"num_unique_values\": 5,\n        \"samples\": [\n          0.104,\n          1.0,\n          0.30529870917751417\n        ],\n        \"semantic_type\": \"\",\n        \"description\": \"\"\n      }\n    },\n    {\n      \"column\": \"CD Account\",\n      \"properties\": {\n        \"dtype\": \"number\",\n        \"std\": 1414.1478541845593,\n        \"min\": 0.0,\n        \"max\": 4000.0,\n        \"num_unique_values\": 5,\n        \"samples\": [\n          0.0615,\n          1.0,\n          0.24027522353701272\n        ],\n        \"semantic_type\": \"\",\n        \"description\": \"\"\n      }\n    },\n    {\n      \"column\": \"Online\",\n      \"properties\": {\n        \"dtype\": \"number\",\n        \"std\": 1414.007089627606,\n        \"min\": 0.0,\n        \"max\": 4000.0,\n        \"num_unique_values\": 5,\n        \"samples\": [\n          0.599,\n          1.0,\n          0.4901622841123046\n        ],\n        \"semantic_type\": \"\",\n        \"description\": \"\"\n      }\n    },\n    {\n      \"column\": \"CreditCard\",\n      \"properties\": {\n        \"dtype\": \"number\",\n        \"std\": 1414.0750030171573,\n        \"min\": 0.0,\n        \"max\": 4000.0,\n        \"num_unique_values\": 5,\n        \"samples\": [\n          0.2905,\n          1.0,\n          0.45404987647017436\n        ],\n        \"semantic_type\": \"\",\n        \"description\": \"\"\n      }\n    }\n  ]\n}"
            }
          },
          "metadata": {},
          "execution_count": 3
        }
      ]
    },
    {
      "cell_type": "markdown",
      "source": [
        "Набор данных содержит 14 переменных, 1 из которых является целевой.\n",
        "\n",
        "1 номинальная переменная: **ID**\n",
        "\n",
        "5 числовых переменных: **Age**, **Experience**, **Income**, **CCAvg**, **Mortgage**\n",
        "\n",
        "3 категориальные переменных: **Family**, **Education**, **ZIP Code**\n",
        "\n",
        "5 булевых переменных: **Personal Loan**, **Securities Account**, **CD Account**, **Online**, **CreditCard**\n",
        "\n",
        "Пропущенных значений нет.\n",
        "\n",
        "Experience содержит какие-то отрицательные значения"
      ],
      "metadata": {
        "id": "57sZel7LPRzB"
      }
    },
    {
      "cell_type": "markdown",
      "source": [
        "Удалите колонку ID, она нам не понадобится"
      ],
      "metadata": {
        "id": "4Wl4T4lDyKAK"
      }
    },
    {
      "cell_type": "code",
      "source": [
        "df = df.drop('ID', axis=1)"
      ],
      "metadata": {
        "id": "B3Wj00WZQiID"
      },
      "execution_count": null,
      "outputs": []
    },
    {
      "cell_type": "markdown",
      "source": [
        "Имеет смысл попробовать отловить каике-либо зависимости или их отсутствие.\n",
        "\n",
        "Постройте матрицу корреляций"
      ],
      "metadata": {
        "id": "8_S0yiCEQvbC"
      }
    },
    {
      "cell_type": "code",
      "source": [
        "df.corr()"
      ],
      "metadata": {
        "id": "JGrHybCnQ0q1",
        "colab": {
          "base_uri": "https://localhost:8080/",
          "height": 546
        },
        "outputId": "e6da0164-e69e-4a2b-e0b7-f01cfaa1b37d"
      },
      "execution_count": null,
      "outputs": [
        {
          "output_type": "execute_result",
          "data": {
            "text/plain": [
              "                         Age  Experience    Income  ZIP Code    Family  \\\n",
              "Age                 1.000000    0.994134 -0.047440 -0.030978 -0.033864   \n",
              "Experience          0.994134    1.000000 -0.037976 -0.029845 -0.040127   \n",
              "Income             -0.047440   -0.037976  1.000000 -0.015647 -0.156319   \n",
              "ZIP Code           -0.030978   -0.029845 -0.015647  1.000000  0.006110   \n",
              "Family             -0.033864   -0.040127 -0.156319  0.006110  1.000000   \n",
              "CCAvg              -0.040827   -0.038459  0.641660 -0.003104 -0.103654   \n",
              "Education           0.027489   -0.001394 -0.192029 -0.019697  0.070498   \n",
              "Mortgage           -0.003468   -0.000700  0.197115  0.003173 -0.024184   \n",
              "Personal Loan      -0.018537   -0.018108  0.497333 -0.007605  0.063050   \n",
              "Securities Account  0.000950    0.000239  0.005082 -0.000667  0.011535   \n",
              "CD Account          0.013890    0.016445  0.179584  0.008082  0.019090   \n",
              "Online              0.027305    0.026962  0.013222  0.008478  0.011682   \n",
              "CreditCard          0.014137    0.015945  0.008567  0.001413  0.010254   \n",
              "\n",
              "                       CCAvg  Education  Mortgage  Personal Loan  \\\n",
              "Age                -0.040827   0.027489 -0.003468      -0.018537   \n",
              "Experience         -0.038459  -0.001394 -0.000700      -0.018108   \n",
              "Income              0.641660  -0.192029  0.197115       0.497333   \n",
              "ZIP Code           -0.003104  -0.019697  0.003173      -0.007605   \n",
              "Family             -0.103654   0.070498 -0.024184       0.063050   \n",
              "CCAvg               1.000000  -0.133361  0.104529       0.365553   \n",
              "Education          -0.133361   1.000000 -0.028436       0.134556   \n",
              "Mortgage            0.104529  -0.028436  1.000000       0.140203   \n",
              "Personal Loan       0.365553   0.134556  0.140203       1.000000   \n",
              "Securities Account  0.028449  -0.013329 -0.002341       0.030758   \n",
              "CD Account          0.145242   0.012545  0.093418       0.336931   \n",
              "Online             -0.003718  -0.018219  0.007982       0.010362   \n",
              "CreditCard          0.004311  -0.015894 -0.002726       0.010184   \n",
              "\n",
              "                    Securities Account  CD Account    Online  CreditCard  \n",
              "Age                           0.000950    0.013890  0.027305    0.014137  \n",
              "Experience                    0.000239    0.016445  0.026962    0.015945  \n",
              "Income                        0.005082    0.179584  0.013222    0.008567  \n",
              "ZIP Code                     -0.000667    0.008082  0.008478    0.001413  \n",
              "Family                        0.011535    0.019090  0.011682    0.010254  \n",
              "CCAvg                         0.028449    0.145242 -0.003718    0.004311  \n",
              "Education                    -0.013329    0.012545 -0.018219   -0.015894  \n",
              "Mortgage                     -0.002341    0.093418  0.007982   -0.002726  \n",
              "Personal Loan                 0.030758    0.336931  0.010362    0.010184  \n",
              "Securities Account            1.000000    0.325264  0.014732   -0.021373  \n",
              "CD Account                    0.325264    1.000000  0.177601    0.280869  \n",
              "Online                        0.014732    0.177601  1.000000    0.021305  \n",
              "CreditCard                   -0.021373    0.280869  0.021305    1.000000  "
            ],
            "text/html": [
              "\n",
              "  <div id=\"df-92fec465-e1ce-4628-8d54-148d5267792f\" class=\"colab-df-container\">\n",
              "    <div>\n",
              "<style scoped>\n",
              "    .dataframe tbody tr th:only-of-type {\n",
              "        vertical-align: middle;\n",
              "    }\n",
              "\n",
              "    .dataframe tbody tr th {\n",
              "        vertical-align: top;\n",
              "    }\n",
              "\n",
              "    .dataframe thead th {\n",
              "        text-align: right;\n",
              "    }\n",
              "</style>\n",
              "<table border=\"1\" class=\"dataframe\">\n",
              "  <thead>\n",
              "    <tr style=\"text-align: right;\">\n",
              "      <th></th>\n",
              "      <th>Age</th>\n",
              "      <th>Experience</th>\n",
              "      <th>Income</th>\n",
              "      <th>ZIP Code</th>\n",
              "      <th>Family</th>\n",
              "      <th>CCAvg</th>\n",
              "      <th>Education</th>\n",
              "      <th>Mortgage</th>\n",
              "      <th>Personal Loan</th>\n",
              "      <th>Securities Account</th>\n",
              "      <th>CD Account</th>\n",
              "      <th>Online</th>\n",
              "      <th>CreditCard</th>\n",
              "    </tr>\n",
              "  </thead>\n",
              "  <tbody>\n",
              "    <tr>\n",
              "      <th>Age</th>\n",
              "      <td>1.000000</td>\n",
              "      <td>0.994134</td>\n",
              "      <td>-0.047440</td>\n",
              "      <td>-0.030978</td>\n",
              "      <td>-0.033864</td>\n",
              "      <td>-0.040827</td>\n",
              "      <td>0.027489</td>\n",
              "      <td>-0.003468</td>\n",
              "      <td>-0.018537</td>\n",
              "      <td>0.000950</td>\n",
              "      <td>0.013890</td>\n",
              "      <td>0.027305</td>\n",
              "      <td>0.014137</td>\n",
              "    </tr>\n",
              "    <tr>\n",
              "      <th>Experience</th>\n",
              "      <td>0.994134</td>\n",
              "      <td>1.000000</td>\n",
              "      <td>-0.037976</td>\n",
              "      <td>-0.029845</td>\n",
              "      <td>-0.040127</td>\n",
              "      <td>-0.038459</td>\n",
              "      <td>-0.001394</td>\n",
              "      <td>-0.000700</td>\n",
              "      <td>-0.018108</td>\n",
              "      <td>0.000239</td>\n",
              "      <td>0.016445</td>\n",
              "      <td>0.026962</td>\n",
              "      <td>0.015945</td>\n",
              "    </tr>\n",
              "    <tr>\n",
              "      <th>Income</th>\n",
              "      <td>-0.047440</td>\n",
              "      <td>-0.037976</td>\n",
              "      <td>1.000000</td>\n",
              "      <td>-0.015647</td>\n",
              "      <td>-0.156319</td>\n",
              "      <td>0.641660</td>\n",
              "      <td>-0.192029</td>\n",
              "      <td>0.197115</td>\n",
              "      <td>0.497333</td>\n",
              "      <td>0.005082</td>\n",
              "      <td>0.179584</td>\n",
              "      <td>0.013222</td>\n",
              "      <td>0.008567</td>\n",
              "    </tr>\n",
              "    <tr>\n",
              "      <th>ZIP Code</th>\n",
              "      <td>-0.030978</td>\n",
              "      <td>-0.029845</td>\n",
              "      <td>-0.015647</td>\n",
              "      <td>1.000000</td>\n",
              "      <td>0.006110</td>\n",
              "      <td>-0.003104</td>\n",
              "      <td>-0.019697</td>\n",
              "      <td>0.003173</td>\n",
              "      <td>-0.007605</td>\n",
              "      <td>-0.000667</td>\n",
              "      <td>0.008082</td>\n",
              "      <td>0.008478</td>\n",
              "      <td>0.001413</td>\n",
              "    </tr>\n",
              "    <tr>\n",
              "      <th>Family</th>\n",
              "      <td>-0.033864</td>\n",
              "      <td>-0.040127</td>\n",
              "      <td>-0.156319</td>\n",
              "      <td>0.006110</td>\n",
              "      <td>1.000000</td>\n",
              "      <td>-0.103654</td>\n",
              "      <td>0.070498</td>\n",
              "      <td>-0.024184</td>\n",
              "      <td>0.063050</td>\n",
              "      <td>0.011535</td>\n",
              "      <td>0.019090</td>\n",
              "      <td>0.011682</td>\n",
              "      <td>0.010254</td>\n",
              "    </tr>\n",
              "    <tr>\n",
              "      <th>CCAvg</th>\n",
              "      <td>-0.040827</td>\n",
              "      <td>-0.038459</td>\n",
              "      <td>0.641660</td>\n",
              "      <td>-0.003104</td>\n",
              "      <td>-0.103654</td>\n",
              "      <td>1.000000</td>\n",
              "      <td>-0.133361</td>\n",
              "      <td>0.104529</td>\n",
              "      <td>0.365553</td>\n",
              "      <td>0.028449</td>\n",
              "      <td>0.145242</td>\n",
              "      <td>-0.003718</td>\n",
              "      <td>0.004311</td>\n",
              "    </tr>\n",
              "    <tr>\n",
              "      <th>Education</th>\n",
              "      <td>0.027489</td>\n",
              "      <td>-0.001394</td>\n",
              "      <td>-0.192029</td>\n",
              "      <td>-0.019697</td>\n",
              "      <td>0.070498</td>\n",
              "      <td>-0.133361</td>\n",
              "      <td>1.000000</td>\n",
              "      <td>-0.028436</td>\n",
              "      <td>0.134556</td>\n",
              "      <td>-0.013329</td>\n",
              "      <td>0.012545</td>\n",
              "      <td>-0.018219</td>\n",
              "      <td>-0.015894</td>\n",
              "    </tr>\n",
              "    <tr>\n",
              "      <th>Mortgage</th>\n",
              "      <td>-0.003468</td>\n",
              "      <td>-0.000700</td>\n",
              "      <td>0.197115</td>\n",
              "      <td>0.003173</td>\n",
              "      <td>-0.024184</td>\n",
              "      <td>0.104529</td>\n",
              "      <td>-0.028436</td>\n",
              "      <td>1.000000</td>\n",
              "      <td>0.140203</td>\n",
              "      <td>-0.002341</td>\n",
              "      <td>0.093418</td>\n",
              "      <td>0.007982</td>\n",
              "      <td>-0.002726</td>\n",
              "    </tr>\n",
              "    <tr>\n",
              "      <th>Personal Loan</th>\n",
              "      <td>-0.018537</td>\n",
              "      <td>-0.018108</td>\n",
              "      <td>0.497333</td>\n",
              "      <td>-0.007605</td>\n",
              "      <td>0.063050</td>\n",
              "      <td>0.365553</td>\n",
              "      <td>0.134556</td>\n",
              "      <td>0.140203</td>\n",
              "      <td>1.000000</td>\n",
              "      <td>0.030758</td>\n",
              "      <td>0.336931</td>\n",
              "      <td>0.010362</td>\n",
              "      <td>0.010184</td>\n",
              "    </tr>\n",
              "    <tr>\n",
              "      <th>Securities Account</th>\n",
              "      <td>0.000950</td>\n",
              "      <td>0.000239</td>\n",
              "      <td>0.005082</td>\n",
              "      <td>-0.000667</td>\n",
              "      <td>0.011535</td>\n",
              "      <td>0.028449</td>\n",
              "      <td>-0.013329</td>\n",
              "      <td>-0.002341</td>\n",
              "      <td>0.030758</td>\n",
              "      <td>1.000000</td>\n",
              "      <td>0.325264</td>\n",
              "      <td>0.014732</td>\n",
              "      <td>-0.021373</td>\n",
              "    </tr>\n",
              "    <tr>\n",
              "      <th>CD Account</th>\n",
              "      <td>0.013890</td>\n",
              "      <td>0.016445</td>\n",
              "      <td>0.179584</td>\n",
              "      <td>0.008082</td>\n",
              "      <td>0.019090</td>\n",
              "      <td>0.145242</td>\n",
              "      <td>0.012545</td>\n",
              "      <td>0.093418</td>\n",
              "      <td>0.336931</td>\n",
              "      <td>0.325264</td>\n",
              "      <td>1.000000</td>\n",
              "      <td>0.177601</td>\n",
              "      <td>0.280869</td>\n",
              "    </tr>\n",
              "    <tr>\n",
              "      <th>Online</th>\n",
              "      <td>0.027305</td>\n",
              "      <td>0.026962</td>\n",
              "      <td>0.013222</td>\n",
              "      <td>0.008478</td>\n",
              "      <td>0.011682</td>\n",
              "      <td>-0.003718</td>\n",
              "      <td>-0.018219</td>\n",
              "      <td>0.007982</td>\n",
              "      <td>0.010362</td>\n",
              "      <td>0.014732</td>\n",
              "      <td>0.177601</td>\n",
              "      <td>1.000000</td>\n",
              "      <td>0.021305</td>\n",
              "    </tr>\n",
              "    <tr>\n",
              "      <th>CreditCard</th>\n",
              "      <td>0.014137</td>\n",
              "      <td>0.015945</td>\n",
              "      <td>0.008567</td>\n",
              "      <td>0.001413</td>\n",
              "      <td>0.010254</td>\n",
              "      <td>0.004311</td>\n",
              "      <td>-0.015894</td>\n",
              "      <td>-0.002726</td>\n",
              "      <td>0.010184</td>\n",
              "      <td>-0.021373</td>\n",
              "      <td>0.280869</td>\n",
              "      <td>0.021305</td>\n",
              "      <td>1.000000</td>\n",
              "    </tr>\n",
              "  </tbody>\n",
              "</table>\n",
              "</div>\n",
              "    <div class=\"colab-df-buttons\">\n",
              "\n",
              "  <div class=\"colab-df-container\">\n",
              "    <button class=\"colab-df-convert\" onclick=\"convertToInteractive('df-92fec465-e1ce-4628-8d54-148d5267792f')\"\n",
              "            title=\"Convert this dataframe to an interactive table.\"\n",
              "            style=\"display:none;\">\n",
              "\n",
              "  <svg xmlns=\"http://www.w3.org/2000/svg\" height=\"24px\" viewBox=\"0 -960 960 960\">\n",
              "    <path d=\"M120-120v-720h720v720H120Zm60-500h600v-160H180v160Zm220 220h160v-160H400v160Zm0 220h160v-160H400v160ZM180-400h160v-160H180v160Zm440 0h160v-160H620v160ZM180-180h160v-160H180v160Zm440 0h160v-160H620v160Z\"/>\n",
              "  </svg>\n",
              "    </button>\n",
              "\n",
              "  <style>\n",
              "    .colab-df-container {\n",
              "      display:flex;\n",
              "      gap: 12px;\n",
              "    }\n",
              "\n",
              "    .colab-df-convert {\n",
              "      background-color: #E8F0FE;\n",
              "      border: none;\n",
              "      border-radius: 50%;\n",
              "      cursor: pointer;\n",
              "      display: none;\n",
              "      fill: #1967D2;\n",
              "      height: 32px;\n",
              "      padding: 0 0 0 0;\n",
              "      width: 32px;\n",
              "    }\n",
              "\n",
              "    .colab-df-convert:hover {\n",
              "      background-color: #E2EBFA;\n",
              "      box-shadow: 0px 1px 2px rgba(60, 64, 67, 0.3), 0px 1px 3px 1px rgba(60, 64, 67, 0.15);\n",
              "      fill: #174EA6;\n",
              "    }\n",
              "\n",
              "    .colab-df-buttons div {\n",
              "      margin-bottom: 4px;\n",
              "    }\n",
              "\n",
              "    [theme=dark] .colab-df-convert {\n",
              "      background-color: #3B4455;\n",
              "      fill: #D2E3FC;\n",
              "    }\n",
              "\n",
              "    [theme=dark] .colab-df-convert:hover {\n",
              "      background-color: #434B5C;\n",
              "      box-shadow: 0px 1px 3px 1px rgba(0, 0, 0, 0.15);\n",
              "      filter: drop-shadow(0px 1px 2px rgba(0, 0, 0, 0.3));\n",
              "      fill: #FFFFFF;\n",
              "    }\n",
              "  </style>\n",
              "\n",
              "    <script>\n",
              "      const buttonEl =\n",
              "        document.querySelector('#df-92fec465-e1ce-4628-8d54-148d5267792f button.colab-df-convert');\n",
              "      buttonEl.style.display =\n",
              "        google.colab.kernel.accessAllowed ? 'block' : 'none';\n",
              "\n",
              "      async function convertToInteractive(key) {\n",
              "        const element = document.querySelector('#df-92fec465-e1ce-4628-8d54-148d5267792f');\n",
              "        const dataTable =\n",
              "          await google.colab.kernel.invokeFunction('convertToInteractive',\n",
              "                                                    [key], {});\n",
              "        if (!dataTable) return;\n",
              "\n",
              "        const docLinkHtml = 'Like what you see? Visit the ' +\n",
              "          '<a target=\"_blank\" href=https://colab.research.google.com/notebooks/data_table.ipynb>data table notebook</a>'\n",
              "          + ' to learn more about interactive tables.';\n",
              "        element.innerHTML = '';\n",
              "        dataTable['output_type'] = 'display_data';\n",
              "        await google.colab.output.renderOutput(dataTable, element);\n",
              "        const docLink = document.createElement('div');\n",
              "        docLink.innerHTML = docLinkHtml;\n",
              "        element.appendChild(docLink);\n",
              "      }\n",
              "    </script>\n",
              "  </div>\n",
              "\n",
              "\n",
              "<div id=\"df-51309def-0808-424c-b09f-9fa8c804b326\">\n",
              "  <button class=\"colab-df-quickchart\" onclick=\"quickchart('df-51309def-0808-424c-b09f-9fa8c804b326')\"\n",
              "            title=\"Suggest charts\"\n",
              "            style=\"display:none;\">\n",
              "\n",
              "<svg xmlns=\"http://www.w3.org/2000/svg\" height=\"24px\"viewBox=\"0 0 24 24\"\n",
              "     width=\"24px\">\n",
              "    <g>\n",
              "        <path d=\"M19 3H5c-1.1 0-2 .9-2 2v14c0 1.1.9 2 2 2h14c1.1 0 2-.9 2-2V5c0-1.1-.9-2-2-2zM9 17H7v-7h2v7zm4 0h-2V7h2v10zm4 0h-2v-4h2v4z\"/>\n",
              "    </g>\n",
              "</svg>\n",
              "  </button>\n",
              "\n",
              "<style>\n",
              "  .colab-df-quickchart {\n",
              "      --bg-color: #E8F0FE;\n",
              "      --fill-color: #1967D2;\n",
              "      --hover-bg-color: #E2EBFA;\n",
              "      --hover-fill-color: #174EA6;\n",
              "      --disabled-fill-color: #AAA;\n",
              "      --disabled-bg-color: #DDD;\n",
              "  }\n",
              "\n",
              "  [theme=dark] .colab-df-quickchart {\n",
              "      --bg-color: #3B4455;\n",
              "      --fill-color: #D2E3FC;\n",
              "      --hover-bg-color: #434B5C;\n",
              "      --hover-fill-color: #FFFFFF;\n",
              "      --disabled-bg-color: #3B4455;\n",
              "      --disabled-fill-color: #666;\n",
              "  }\n",
              "\n",
              "  .colab-df-quickchart {\n",
              "    background-color: var(--bg-color);\n",
              "    border: none;\n",
              "    border-radius: 50%;\n",
              "    cursor: pointer;\n",
              "    display: none;\n",
              "    fill: var(--fill-color);\n",
              "    height: 32px;\n",
              "    padding: 0;\n",
              "    width: 32px;\n",
              "  }\n",
              "\n",
              "  .colab-df-quickchart:hover {\n",
              "    background-color: var(--hover-bg-color);\n",
              "    box-shadow: 0 1px 2px rgba(60, 64, 67, 0.3), 0 1px 3px 1px rgba(60, 64, 67, 0.15);\n",
              "    fill: var(--button-hover-fill-color);\n",
              "  }\n",
              "\n",
              "  .colab-df-quickchart-complete:disabled,\n",
              "  .colab-df-quickchart-complete:disabled:hover {\n",
              "    background-color: var(--disabled-bg-color);\n",
              "    fill: var(--disabled-fill-color);\n",
              "    box-shadow: none;\n",
              "  }\n",
              "\n",
              "  .colab-df-spinner {\n",
              "    border: 2px solid var(--fill-color);\n",
              "    border-color: transparent;\n",
              "    border-bottom-color: var(--fill-color);\n",
              "    animation:\n",
              "      spin 1s steps(1) infinite;\n",
              "  }\n",
              "\n",
              "  @keyframes spin {\n",
              "    0% {\n",
              "      border-color: transparent;\n",
              "      border-bottom-color: var(--fill-color);\n",
              "      border-left-color: var(--fill-color);\n",
              "    }\n",
              "    20% {\n",
              "      border-color: transparent;\n",
              "      border-left-color: var(--fill-color);\n",
              "      border-top-color: var(--fill-color);\n",
              "    }\n",
              "    30% {\n",
              "      border-color: transparent;\n",
              "      border-left-color: var(--fill-color);\n",
              "      border-top-color: var(--fill-color);\n",
              "      border-right-color: var(--fill-color);\n",
              "    }\n",
              "    40% {\n",
              "      border-color: transparent;\n",
              "      border-right-color: var(--fill-color);\n",
              "      border-top-color: var(--fill-color);\n",
              "    }\n",
              "    60% {\n",
              "      border-color: transparent;\n",
              "      border-right-color: var(--fill-color);\n",
              "    }\n",
              "    80% {\n",
              "      border-color: transparent;\n",
              "      border-right-color: var(--fill-color);\n",
              "      border-bottom-color: var(--fill-color);\n",
              "    }\n",
              "    90% {\n",
              "      border-color: transparent;\n",
              "      border-bottom-color: var(--fill-color);\n",
              "    }\n",
              "  }\n",
              "</style>\n",
              "\n",
              "  <script>\n",
              "    async function quickchart(key) {\n",
              "      const quickchartButtonEl =\n",
              "        document.querySelector('#' + key + ' button');\n",
              "      quickchartButtonEl.disabled = true;  // To prevent multiple clicks.\n",
              "      quickchartButtonEl.classList.add('colab-df-spinner');\n",
              "      try {\n",
              "        const charts = await google.colab.kernel.invokeFunction(\n",
              "            'suggestCharts', [key], {});\n",
              "      } catch (error) {\n",
              "        console.error('Error during call to suggestCharts:', error);\n",
              "      }\n",
              "      quickchartButtonEl.classList.remove('colab-df-spinner');\n",
              "      quickchartButtonEl.classList.add('colab-df-quickchart-complete');\n",
              "    }\n",
              "    (() => {\n",
              "      let quickchartButtonEl =\n",
              "        document.querySelector('#df-51309def-0808-424c-b09f-9fa8c804b326 button');\n",
              "      quickchartButtonEl.style.display =\n",
              "        google.colab.kernel.accessAllowed ? 'block' : 'none';\n",
              "    })();\n",
              "  </script>\n",
              "</div>\n",
              "    </div>\n",
              "  </div>\n"
            ],
            "application/vnd.google.colaboratory.intrinsic+json": {
              "type": "dataframe",
              "summary": "{\n  \"name\": \"df\",\n  \"rows\": 13,\n  \"fields\": [\n    {\n      \"column\": \"Age\",\n      \"properties\": {\n        \"dtype\": \"number\",\n        \"std\": 0.3783812037903332,\n        \"min\": -0.04744036929938289,\n        \"max\": 1.0,\n        \"num_unique_values\": 13,\n        \"samples\": [\n          0.027304534857125855,\n          0.0009501616194431376,\n          1.0\n        ],\n        \"semantic_type\": \"\",\n        \"description\": \"\"\n      }\n    },\n    {\n      \"column\": \"Experience\",\n      \"properties\": {\n        \"dtype\": \"number\",\n        \"std\": 0.378744324586615,\n        \"min\": -0.04012668485294958,\n        \"max\": 1.0,\n        \"num_unique_values\": 13,\n        \"samples\": [\n          0.026962206144750107,\n          0.00023930933926668148,\n          0.9941340415824269\n        ],\n        \"semantic_type\": \"\",\n        \"description\": \"\"\n      }\n    },\n    {\n      \"column\": \"Income\",\n      \"properties\": {\n        \"dtype\": \"number\",\n        \"std\": 0.3486489571144128,\n        \"min\": -0.19202884347359286,\n        \"max\": 1.0,\n        \"num_unique_values\": 13,\n        \"samples\": [\n          0.013221982589485969,\n          0.005082360830093379,\n          -0.04744036929938289\n        ],\n        \"semantic_type\": \"\",\n        \"description\": \"\"\n      }\n    },\n    {\n      \"column\": \"ZIP Code\",\n      \"properties\": {\n        \"dtype\": \"number\",\n        \"std\": 0.27953389066408896,\n        \"min\": -0.03097784376402857,\n        \"max\": 1.0,\n        \"num_unique_values\": 13,\n        \"samples\": [\n          0.00847832843873077,\n          -0.0006666752609788317,\n          -0.03097784376402857\n        ],\n        \"semantic_type\": \"\",\n        \"description\": \"\"\n      }\n    },\n    {\n      \"column\": \"Family\",\n      \"properties\": {\n        \"dtype\": \"number\",\n        \"std\": 0.28791342352908705,\n        \"min\": -0.15631878038611954,\n        \"max\": 1.0,\n        \"num_unique_values\": 13,\n        \"samples\": [\n          0.011682059603459315,\n          0.01153542135074703,\n          -0.033864126891396\n        ],\n        \"semantic_type\": \"\",\n        \"description\": \"\"\n      }\n    },\n    {\n      \"column\": \"CCAvg\",\n      \"properties\": {\n        \"dtype\": \"number\",\n        \"std\": 0.3307060051674292,\n        \"min\": -0.13336071456371745,\n        \"max\": 1.0,\n        \"num_unique_values\": 13,\n        \"samples\": [\n          -0.0037184000190326138,\n          0.028448620561450217,\n          -0.04082697461474178\n        ],\n        \"semantic_type\": \"\",\n        \"description\": \"\"\n      }\n    },\n    {\n      \"column\": \"Education\",\n      \"properties\": {\n        \"dtype\": \"number\",\n        \"std\": 0.2927657403791415,\n        \"min\": -0.19202884347359286,\n        \"max\": 1.0,\n        \"num_unique_values\": 13,\n        \"samples\": [\n          -0.018219456997777106,\n          -0.013329274351010546,\n          0.027489344501474798\n        ],\n        \"semantic_type\": \"\",\n        \"description\": \"\"\n      }\n    },\n    {\n      \"column\": \"Mortgage\",\n      \"properties\": {\n        \"dtype\": \"number\",\n        \"std\": 0.27539723745696626,\n        \"min\": -0.02843608247694984,\n        \"max\": 1.0,\n        \"num_unique_values\": 13,\n        \"samples\": [\n          0.007981845269723934,\n          -0.0023407307677901197,\n          -0.0034681046908155324\n        ],\n        \"semantic_type\": \"\",\n        \"description\": \"\"\n      }\n    },\n    {\n      \"column\": \"Personal Loan\",\n      \"properties\": {\n        \"dtype\": \"number\",\n        \"std\": 0.2943932371087551,\n        \"min\": -0.018536701968608172,\n        \"max\": 1.0,\n        \"num_unique_values\": 13,\n        \"samples\": [\n          0.010361584289903452,\n          0.030758253330112128,\n          -0.018536701968608172\n        ],\n        \"semantic_type\": \"\",\n        \"description\": \"\"\n      }\n    },\n    {\n      \"column\": \"Securities Account\",\n      \"properties\": {\n        \"dtype\": \"number\",\n        \"std\": 0.2831703712278189,\n        \"min\": -0.02137298157887623,\n        \"max\": 1.0,\n        \"num_unique_values\": 13,\n        \"samples\": [\n          0.014731783174590073,\n          1.0,\n          0.0009501616194431376\n        ],\n        \"semantic_type\": \"\",\n        \"description\": \"\"\n      }\n    },\n    {\n      \"column\": \"CD Account\",\n      \"properties\": {\n        \"dtype\": \"number\",\n        \"std\": 0.2691468971064619,\n        \"min\": 0.008082135430378161,\n        \"max\": 1.0,\n        \"num_unique_values\": 13,\n        \"samples\": [\n          0.1776007896388474,\n          0.3252638843245537,\n          0.01389032583025145\n        ],\n        \"semantic_type\": \"\",\n        \"description\": \"\"\n      }\n    },\n    {\n      \"column\": \"Online\",\n      \"properties\": {\n        \"dtype\": \"number\",\n        \"std\": 0.27462801616767857,\n        \"min\": -0.018219456997777106,\n        \"max\": 1.0,\n        \"num_unique_values\": 13,\n        \"samples\": [\n          1.0,\n          0.014731783174590073,\n          0.027304534857125855\n        ],\n        \"semantic_type\": \"\",\n        \"description\": \"\"\n      }\n    },\n    {\n      \"column\": \"CreditCard\",\n      \"properties\": {\n        \"dtype\": \"number\",\n        \"std\": 0.28067781043193096,\n        \"min\": -0.02137298157887623,\n        \"max\": 1.0,\n        \"num_unique_values\": 13,\n        \"samples\": [\n          0.021305380025600833,\n          -0.02137298157887623,\n          0.014137076354719773\n        ],\n        \"semantic_type\": \"\",\n        \"description\": \"\"\n      }\n    }\n  ]\n}"
            }
          },
          "metadata": {},
          "execution_count": 16
        }
      ]
    },
    {
      "cell_type": "markdown",
      "source": [
        "Определите две наиболее коррелированных переменных"
      ],
      "metadata": {
        "id": "33KxJRptS_wP"
      }
    },
    {
      "cell_type": "code",
      "source": [
        "import numpy as np\n",
        "\n",
        "abs_corr =df.corr().abs()\n",
        "\n",
        "mask = np.triu(np.ones_like(abs_corr, dtype=bool), k=1)\n",
        "\n",
        "# Выберем только верхний треугольник матрицы корреляций\n",
        "upper_triangle = abs_corr.where(mask)\n",
        "\n",
        "# Найдем пару переменных с наибольшим коэффициентом корреляции\n",
        "max_corr = upper_triangle.max().max()  # максимальное значение корреляции\n",
        "max_corr_vars = np.where(upper_triangle == max_corr)  # индексы переменных с максимальной корреляцией\n",
        "\n",
        "# Получим имена переменных\n",
        "variable1 = abs_corr.index[max_corr_vars[0][0]]\n",
        "variable2 = abs_corr.columns[max_corr_vars[1][0]]\n",
        "\n",
        "print(f\"Наиболее коррелированные переменные: {variable1} и {variable2} с коэффициентом корреляции {max_corr}\")"
      ],
      "metadata": {
        "id": "Xo1LgkW5ysoc",
        "colab": {
          "base_uri": "https://localhost:8080/"
        },
        "outputId": "416e8575-90e3-48ef-8484-53be49e4c711"
      },
      "execution_count": null,
      "outputs": [
        {
          "output_type": "stream",
          "name": "stdout",
          "text": [
            "Наиболее коррелированные переменные: Age и Experience с коэффициентом корреляции 0.9941340415824269\n"
          ]
        }
      ]
    },
    {
      "cell_type": "markdown",
      "source": [
        "Определите признак, который меньше всего коррелирует (можно считать почти не коррелирует) с остальными признаками (в том числе с откликом). Удалите этот признак из рассмотрения.\n",
        "\n",
        "Введите название удаленного признака."
      ],
      "metadata": {
        "id": "MIAngsDe2ppM"
      }
    },
    {
      "cell_type": "code",
      "source": [
        "correlation_sums = abs_corr.sum()\n",
        "\n",
        "# Находим признак с наименьшей суммой корреляций\n",
        "min_corr_feature = correlation_sums.idxmin()\n",
        "\n",
        "# Выводим название признака\n",
        "print(f\"Признак: {min_corr_feature}\")"
      ],
      "metadata": {
        "id": "bqOQ1cVk27fb",
        "colab": {
          "base_uri": "https://localhost:8080/"
        },
        "outputId": "61d89547-b02a-4123-8d73-01cb3dfa3841"
      },
      "execution_count": null,
      "outputs": [
        {
          "output_type": "stream",
          "name": "stdout",
          "text": [
            "Признак: ZIP Code\n"
          ]
        }
      ]
    },
    {
      "cell_type": "code",
      "source": [
        "df = df.drop('ZIP Code', axis=1)"
      ],
      "metadata": {
        "id": "UOE7GIhbBDsN"
      },
      "execution_count": null,
      "outputs": []
    },
    {
      "cell_type": "markdown",
      "source": [
        "# Предварительная подготовка данных"
      ],
      "metadata": {
        "id": "1T2nmzIqTleQ"
      }
    },
    {
      "cell_type": "markdown",
      "source": [
        "## Модификация признаков"
      ],
      "metadata": {
        "id": "owfKqPFi3JRb"
      }
    },
    {
      "cell_type": "markdown",
      "source": [
        "Стоит разобраться с полем <code>Experience</code>. Видно, что опыт коррелирует с возрастом. Однако, в поле <code>Experience</code> присутствуют отрицательные значения. Имеет смысл \"сдвинуть\" значения в этой колонке. Добавьте ко всем значениям колонки <code>Experience</code> одно число так, чтобы минимальное значение было равно $0$.\n",
        "\n",
        "Вычислите выборочное среднее колонки <code>Experience</code> после преобразования."
      ],
      "metadata": {
        "id": "mKAYY8dmX2v1"
      }
    },
    {
      "cell_type": "code",
      "source": [
        "min(df['Experience'])"
      ],
      "metadata": {
        "id": "HacXjLu6X_FU",
        "colab": {
          "base_uri": "https://localhost:8080/"
        },
        "outputId": "d6bbe022-5149-4b07-a0c7-a959158bc9e8"
      },
      "execution_count": null,
      "outputs": [
        {
          "output_type": "execute_result",
          "data": {
            "text/plain": [
              "-3"
            ]
          },
          "metadata": {},
          "execution_count": 23
        }
      ]
    },
    {
      "cell_type": "code",
      "source": [
        "df['Experience']=df['Experience']+3"
      ],
      "metadata": {
        "id": "RtA5dGjoBoEj"
      },
      "execution_count": null,
      "outputs": []
    },
    {
      "cell_type": "code",
      "source": [
        "min(df['Experience'])"
      ],
      "metadata": {
        "colab": {
          "base_uri": "https://localhost:8080/"
        },
        "id": "Bfwp8IPhBsRN",
        "outputId": "3cc0dac9-5d56-4eef-96de-955c7308d1b7"
      },
      "execution_count": null,
      "outputs": [
        {
          "output_type": "execute_result",
          "data": {
            "text/plain": [
              "0"
            ]
          },
          "metadata": {},
          "execution_count": 25
        }
      ]
    },
    {
      "cell_type": "code",
      "source": [
        "round(np.mean(df['Experience']), 3)"
      ],
      "metadata": {
        "colab": {
          "base_uri": "https://localhost:8080/"
        },
        "id": "Jy_ksPpGBt8L",
        "outputId": "0c916a66-595c-4963-cf4a-eb618bbb0e14"
      },
      "execution_count": null,
      "outputs": [
        {
          "output_type": "execute_result",
          "data": {
            "text/plain": [
              "23.196"
            ]
          },
          "metadata": {},
          "execution_count": 28
        }
      ]
    },
    {
      "cell_type": "markdown",
      "source": [
        "Аналогично имеет смысл модфицировать поле <code>CCAvg</code>. Раз рассматривается годовой доход, то имеет смысл и значения трат рассматривать в рамках года.\n",
        "\n",
        "Вычислите выборочное среднее колонки <code>CCAvg</code> после преобразования."
      ],
      "metadata": {
        "id": "0CPdKkpIb9Ko"
      }
    },
    {
      "cell_type": "code",
      "source": [
        "df['CCAvg'] = df['CCAvg']*12"
      ],
      "metadata": {
        "id": "cE_wPGDeb7_J"
      },
      "execution_count": null,
      "outputs": []
    },
    {
      "cell_type": "code",
      "source": [
        "round(np.mean(df['CCAvg']), 3)"
      ],
      "metadata": {
        "colab": {
          "base_uri": "https://localhost:8080/"
        },
        "id": "lpIhwYejCNnR",
        "outputId": "255a3c27-0a6b-4558-a6a5-02567932f844"
      },
      "execution_count": null,
      "outputs": [
        {
          "output_type": "execute_result",
          "data": {
            "text/plain": [
              "23.062"
            ]
          },
          "metadata": {},
          "execution_count": 31
        }
      ]
    },
    {
      "cell_type": "markdown",
      "source": [
        "## Определение выбросов"
      ],
      "metadata": {
        "id": "sck74wTfdwXF"
      }
    },
    {
      "cell_type": "markdown",
      "source": [
        "Постройте ящики с усами для всех предикторов. Рекомендуем использовать <code>sns.boxplot()</code>. Определите признак по изображению boxplot из вашего варианта."
      ],
      "metadata": {
        "id": "_3rpqkJp3xY_"
      }
    },
    {
      "cell_type": "code",
      "source": [
        "import seaborn as sns\n",
        "import matplotlib.pyplot as plt"
      ],
      "metadata": {
        "id": "ceD5wUFQCXme"
      },
      "execution_count": null,
      "outputs": []
    },
    {
      "cell_type": "code",
      "source": [
        "plt.figure(figsize=(12, 6))  # Размер графика\n",
        "\n",
        "sns.boxplot(data=df)  # Построение boxplot\n",
        "\n",
        "plt.xticks(rotation=45)  # Поворот подписей на оси x для лучшей читаемости\n",
        "plt.xlabel('Предикторы')  # Подпись оси x\n",
        "plt.ylabel('Значение')  # Подпись оси y\n",
        "plt.title('Ящики с усами для предикторов')  # Заголовок графика\n",
        "\n",
        "plt.show()"
      ],
      "metadata": {
        "id": "dqDNlzX3oKbT",
        "colab": {
          "base_uri": "https://localhost:8080/",
          "height": 603
        },
        "outputId": "7b4990a7-2049-43d2-d5ad-74cc1a092fda"
      },
      "execution_count": null,
      "outputs": [
        {
          "output_type": "display_data",
          "data": {
            "text/plain": [
              "<Figure size 1200x600 with 1 Axes>"
            ],
            "image/png": "[encoded data removed]"
          },
          "metadata": {}
        }
      ]
    },
    {
      "cell_type": "markdown",
      "source": [
        "Определите признак, содержащий наибольшее число выбросов. Введите название этого признака.\n"
      ],
      "metadata": {
        "id": "fv2fr5pLRU54"
      }
    },
    {
      "cell_type": "code",
      "source": [
        "outliers = {}  # Словарь для хранения числа выбросов для каждого признака\n",
        "for column in df.columns:\n",
        "    # Вычисляем \"усы\" ящика для данного признака\n",
        "    q1 = df[column].quantile(0.25)\n",
        "    q3 = df[column].quantile(0.75)\n",
        "    iqr = q3 - q1\n",
        "    lower_bound = q1 - 1.5 * iqr\n",
        "    upper_bound = q3 + 1.5 * iqr\n",
        "\n",
        "    # Считаем количество выбросов\n",
        "    outliers_count = ((df[column] < lower_bound) | (df[column] > upper_bound)).sum()\n",
        "\n",
        "    # Записываем количество выбросов для данного признака\n",
        "    outliers[column] = outliers_count\n",
        "\n",
        "# Находим признак с наибольшим числом выбросов\n",
        "max_outliers_feature = max(outliers, key=outliers.get)\n",
        "\n",
        "# Выводим название признака и количество выбросов\n",
        "print(f\"Признак с наибольшим числом выбросов: {max_outliers_feature}, количество выбросов: {outliers[max_outliers_feature]}\")"
      ],
      "metadata": {
        "id": "mTJhkJZyzeoy",
        "colab": {
          "base_uri": "https://localhost:8080/"
        },
        "outputId": "34e31aca-2b4e-49c8-b744-a6334ff43e55"
      },
      "execution_count": null,
      "outputs": [
        {
          "output_type": "stream",
          "name": "stdout",
          "text": [
            "Признак с наибольшим числом выбросов: Securities Account, количество выбросов: 416\n"
          ]
        }
      ]
    },
    {
      "cell_type": "markdown",
      "source": [
        "Имеет смысл поработать с этим признаком, а для этого стоит руководствоваться следующими статистическими соображениями. Если вычесть из данных выборочное среднее, а после поделить на среднеквадратическое отклонение, то, пользуясь правилом 3-$\\sigma$ для нормального распределения, можно выбросить слишком далекие от нуля хвосты. Постройте гистограмму распределения значений в рамках этого признака."
      ],
      "metadata": {
        "id": "3YYxjhcmzfFB"
      }
    },
    {
      "cell_type": "code",
      "source": [
        "plt.figure(figsize=(8, 6))  # Размер графика\n",
        "df['Mortgage'].hist(bins=20, color='skyblue', edgecolor='black')  # Построение гистограммы\n",
        "plt.xlabel('Значение Mortgage')  # Подпись оси x\n",
        "plt.ylabel('Частота')  # Подпись оси y\n",
        "plt.title('Гистограмма распределения значений признака Mortgage')  # Заголовок графика\n",
        "plt.grid(False)  # Отключение сетки\n",
        "plt.show()"
      ],
      "metadata": {
        "id": "5dHRr6YD0U5U",
        "colab": {
          "base_uri": "https://localhost:8080/",
          "height": 564
        },
        "outputId": "657b0019-1ede-4bbc-a353-326423d21a06"
      },
      "execution_count": null,
      "outputs": [
        {
          "output_type": "display_data",
          "data": {
            "text/plain": [
              "<Figure size 800x600 with 1 Axes>"
            ],
            "image/png": "[encoded data removed]"
          },
          "metadata": {}
        }
      ]
    },
    {
      "cell_type": "markdown",
      "source": [
        "Очевидно в рамках этого признака есть небольшое количество значений, которые лежат далеко. Можно использовать <a href=\"https://docs.scipy.org/doc/scipy/reference/generated/scipy.stats.zscore.html\"><code>z-score</code></a> функцию из библиотеки <code>scipy</code>.\n",
        "\n",
        "Вспомнив курс теории вероятностей, становится понятно, что около $99.7\\%$ нормального распределения сождержатся в отрезке $[-3\\sigma, 3\\sigma]$. Определите число элементов, модуль <code>z-score</code> которых больше, чем $3$."
      ],
      "metadata": {
        "id": "A1PjJGciS0JL"
      }
    },
    {
      "cell_type": "code",
      "source": [
        "from scipy.stats import zscore\n",
        "\n",
        "# Вычисление z-оценок для признака Mortgage\n",
        "z_scores = zscore(df['Mortgage'])\n",
        "\n",
        "# Подсчет числа элементов, модуль z-score которых больше 3\n",
        "outliers_count = sum(abs(z_scores) > 3)\n",
        "\n",
        "print(f\"Число элементов, модуль z-score которых больше 3: {outliers_count}\")"
      ],
      "metadata": {
        "id": "IAqVmGrDRq7J",
        "colab": {
          "base_uri": "https://localhost:8080/"
        },
        "outputId": "575d5fc1-975d-496f-9267-fca1f64a90ae"
      },
      "execution_count": null,
      "outputs": [
        {
          "output_type": "stream",
          "name": "stdout",
          "text": [
            "Число элементов, модуль z-score которых больше 3: 83\n"
          ]
        }
      ]
    },
    {
      "cell_type": "markdown",
      "source": [
        "Итак, выбросов не очень множко, поэтому выбросите их из набора данных. Введите оставшееся в датасете число строк."
      ],
      "metadata": {
        "id": "tUhbuuVkmG44"
      }
    },
    {
      "cell_type": "code",
      "source": [
        "z_scores = zscore(df['Mortgage'])\n",
        "\n",
        "# Булева индексация для выбора строк с модулем z-score меньше или равным 3\n",
        "filtered_df = df[abs(z_scores) <= 3]\n",
        "\n",
        "# Выводим размер исходного и отфильтрованного DataFrame\n",
        "print(f\"Размер исходного DataFrame: {df.shape}\")\n",
        "print(f\"Размер отфильтрованного DataFrame: {filtered_df.shape}\")\n",
        "\n",
        "# Заменяем исходный DataFrame отфильтрованным\n",
        "df = filtered_df.copy()"
      ],
      "metadata": {
        "id": "BWLLchbGmKyx",
        "colab": {
          "base_uri": "https://localhost:8080/"
        },
        "outputId": "47b3ec96-9307-46af-fba0-3e8b1e463d67"
      },
      "execution_count": null,
      "outputs": [
        {
          "output_type": "stream",
          "name": "stdout",
          "text": [
            "Размер исходного DataFrame: (4000, 12)\n",
            "Размер отфильтрованного DataFrame: (3917, 12)\n"
          ]
        }
      ]
    },
    {
      "cell_type": "markdown",
      "source": [
        "# Построение моделей"
      ],
      "metadata": {
        "id": "hMJ3LQA62_z7"
      }
    },
    {
      "cell_type": "markdown",
      "source": [
        "# Базовый алгоритм"
      ],
      "metadata": {
        "id": "YraRCGS33aCP"
      }
    },
    {
      "cell_type": "markdown",
      "source": [
        "При помощи <code>train_test_split</code> разобейте полученный набор данных на тренеровочную и тестовую выборки с параметрами, указанными в вашем варианте."
      ],
      "metadata": {
        "id": "-tN2AKL6myfS"
      }
    },
    {
      "cell_type": "code",
      "source": [
        "from sklearn.model_selection import train_test_split\n",
        "\n",
        "# Разделение данных на признаки (X) и целевую переменную (y)\n",
        "X = df.drop('Personal Loan', axis=1)\n",
        "y = df['Personal Loan']\n",
        "\n",
        "# Разделение данных на обучающую и тестовую выборки с стратификацией по колонке Personal Loan\n",
        "X_train, X_test, y_train, y_test = train_test_split(X, y, test_size=0.2, stratify=y, random_state=41)"
      ],
      "metadata": {
        "id": "y1YG3JZ9oDMI"
      },
      "execution_count": null,
      "outputs": []
    },
    {
      "cell_type": "markdown",
      "source": [
        "Обучите модель <code>DecisionTreeClassifier</code> с параметрами, указанными в вашем варианте на тренировочных данных, оцените на тестовых. Вычислите <code>f1_score</code> модели на тестовых данных."
      ],
      "metadata": {
        "id": "0NyWOkh13iNC"
      }
    },
    {
      "cell_type": "code",
      "source": [
        "from sklearn.tree import DecisionTreeClassifier\n",
        "from sklearn.metrics import f1_score\n",
        "\n",
        "# Создание модели DecisionTreeClassifier с параметрами\n",
        "model = DecisionTreeClassifier(random_state=41, criterion='gini')\n",
        "\n",
        "# Обучение модели на обучающем наборе данных\n",
        "model.fit(X_train, y_train)\n",
        "\n",
        "# Предсказание на тестовом наборе данных\n",
        "y_pred = model.predict(X_test)\n",
        "\n",
        "# Оценка модели на тестовых данных с помощью F1-score\n",
        "f1 = f1_score(y_test, y_pred)\n",
        "\n",
        "# Вывод результата\n",
        "print(f\"F1-score модели на тестовых данных: {f1:.3f}\")"
      ],
      "metadata": {
        "id": "BJNg02bbaJj2",
        "colab": {
          "base_uri": "https://localhost:8080/"
        },
        "outputId": "522bafac-dbd6-45b5-e70b-42a2204f6b8e"
      },
      "execution_count": null,
      "outputs": [
        {
          "output_type": "stream",
          "name": "stdout",
          "text": [
            "F1-score модели на тестовых данных: 0.870\n"
          ]
        }
      ]
    },
    {
      "cell_type": "code",
      "source": [
        "model = DecisionTreeClassifier(random_state=41, criterion='entropy')\n",
        "\n",
        "# Обучение модели на обучающем наборе данных\n",
        "model.fit(X_train, y_train)\n",
        "\n",
        "# Предсказание на тестовом наборе данных\n",
        "y_pred = model.predict(X_test)\n",
        "\n",
        "# Оценка модели на тестовых данных с помощью F1-score\n",
        "f1 = f1_score(y_test, y_pred)\n",
        "\n",
        "# Вывод результата\n",
        "print(f\"F1-score модели на тестовых данных: {f1:.3f}\")"
      ],
      "metadata": {
        "id": "gug5fOXAbMC6",
        "colab": {
          "base_uri": "https://localhost:8080/"
        },
        "outputId": "5b1c6da4-82fa-4594-8211-8901e475992b"
      },
      "execution_count": null,
      "outputs": [
        {
          "output_type": "stream",
          "name": "stdout",
          "text": [
            "F1-score модели на тестовых данных: 0.887\n"
          ]
        }
      ]
    },
    {
      "cell_type": "markdown",
      "source": [
        "## Учет дисбаланса соотношения классов"
      ],
      "metadata": {
        "id": "nz9iFfBK4KhL"
      }
    },
    {
      "cell_type": "markdown",
      "source": [
        "А теперь, если вспомнить, что выборка несбалансирована, то можно указать дополнительный параметр <code>class_weight</code>. Обучите модель <code>DecisionTreeClassifier</code> с параметрами, указанными в вашем варианте на тренировочных данных, оцените на тестовых. Вычислите <code>f1_score</code> модели на тестовых данных."
      ],
      "metadata": {
        "id": "3x7OGwQwa8V6"
      }
    },
    {
      "cell_type": "code",
      "source": [
        "model = DecisionTreeClassifier(random_state=41, criterion='gini', class_weight='balanced')\n",
        "\n",
        "# Обучение модели на обучающем наборе данных\n",
        "model.fit(X_train, y_train)\n",
        "\n",
        "# Предсказание на тестовом наборе данных\n",
        "y_pred = model.predict(X_test)\n",
        "\n",
        "# Оценка модели на тестовых данных с помощью F1-score\n",
        "f1 = f1_score(y_test, y_pred)\n",
        "\n",
        "# Вывод результата\n",
        "print(f\"F1-score модели на тестовых данных: {f1:.3f}\")"
      ],
      "metadata": {
        "colab": {
          "base_uri": "https://localhost:8080/"
        },
        "id": "nwO5K7f6FFc4",
        "outputId": "17b3389c-e34d-4359-dba2-1b9dd25d5130"
      },
      "execution_count": null,
      "outputs": [
        {
          "output_type": "stream",
          "name": "stdout",
          "text": [
            "F1-score модели на тестовых данных: 0.862\n"
          ]
        }
      ]
    },
    {
      "cell_type": "code",
      "source": [
        "model = DecisionTreeClassifier(random_state=41, criterion='entropy', class_weight='balanced')\n",
        "\n",
        "# Обучение модели на обучающем наборе данных\n",
        "model.fit(X_train, y_train)\n",
        "\n",
        "# Предсказание на тестовом наборе данных\n",
        "y_pred = model.predict(X_test)\n",
        "\n",
        "# Оценка модели на тестовых данных с помощью F1-score\n",
        "f1 = f1_score(y_test, y_pred)\n",
        "\n",
        "# Вывод результата\n",
        "print(f\"F1-score модели на тестовых данных: {f1:.3f}\")"
      ],
      "metadata": {
        "colab": {
          "base_uri": "https://localhost:8080/"
        },
        "id": "gl_ABqs7FRdz",
        "outputId": "9747c0b2-e4c4-4d44-ca46-e2e9321d1600"
      },
      "execution_count": null,
      "outputs": [
        {
          "output_type": "stream",
          "name": "stdout",
          "text": [
            "F1-score модели на тестовых данных: 0.840\n"
          ]
        }
      ]
    },
    {
      "cell_type": "markdown",
      "source": [
        "## Upsampling обучающей выборки"
      ],
      "metadata": {
        "id": "8UgBmYo44pDE"
      }
    },
    {
      "cell_type": "markdown",
      "source": [
        "Помимо очевидного присвоения весов несбалансированным классам, можно воспользоваться алгоритмом <code>SMOTE</code>. Ему на вход подаются экземпляры всех классов с их метками, а он в свою очередь пытается на их основе экстраполировать само распределение данных этого класса. После этого он сэмплирует новые объекты классов так, пока количество строк каждого класса не станет везде одинаковым.\n",
        "\n",
        "Получается, что в таком случае будет получена сбалансированная выборка, и пропадет нужда как-то ухищряться с весами и прочим.\n",
        "\n",
        "Определите долю элементов класса $0$ тренировочного набора данных."
      ],
      "metadata": {
        "id": "r5SQS_D0baaQ"
      }
    },
    {
      "cell_type": "code",
      "source": [
        "plt.figure(figsize=(8, 6))\n",
        "y_train.value_counts().plot(kind='bar', color=['skyblue', 'salmon'])\n",
        "plt.title('Гистограмма распределения объектов по классам (обучающая выборка)')\n",
        "plt.xlabel('Класс')\n",
        "plt.ylabel('Число объектов')\n",
        "plt.xticks([0, 1], ['0', '1'], rotation=0)\n",
        "plt.show()\n",
        "\n",
        "# Определение доли элементов класса в тренировочном наборе данных\n",
        "class_0_ratio = (y_train.value_counts()[0] / len(y_train)).round(3)\n",
        "class_1_ratio = (y_train.value_counts()[1] / len(y_train)).round(3)\n",
        "\n",
        "print(f\"Доля элементов класса 0 в тренировочной выборке: {class_0_ratio}\")"
      ],
      "metadata": {
        "id": "nOv98H3_ei8Z",
        "colab": {
          "base_uri": "https://localhost:8080/",
          "height": 582
        },
        "outputId": "7c47ffda-a77e-4c1b-d7c6-ce9b2473d5fe"
      },
      "execution_count": null,
      "outputs": [
        {
          "output_type": "display_data",
          "data": {
            "text/plain": [
              "<Figure size 800x600 with 1 Axes>"
            ],
            "image/png": "[encoded data removed]"
          },
          "metadata": {}
        },
        {
          "output_type": "stream",
          "name": "stdout",
          "text": [
            "Доля элементов класса 0 в тренировочной выборке: 0.911\n"
          ]
        }
      ]
    },
    {
      "cell_type": "markdown",
      "source": [
        "Используя класс <a href=\"https://imbalanced-learn.org/stable/references/generated/imblearn.over_sampling.SMOTE.html\"><code>SMOTE</code></a> из модуля <code>imblearn.over_sampling</code> сбалансируйте обучающую выборку с параметрами, указанными в вашем варианте."
      ],
      "metadata": {
        "id": "DUrm8j5R6-dq"
      }
    },
    {
      "cell_type": "code",
      "source": [
        "from imblearn.over_sampling import SMOTE\n",
        "\n",
        "# Создание экземпляра SMOTE с параметрами\n",
        "smote = SMOTE(random_state=41)\n",
        "\n",
        "# Применение SMOTE к обучающим данным\n",
        "X_train_balanced, y_train_balanced = smote.fit_resample(X_train, y_train)\n",
        "\n",
        "# Определение количества объектов класса в обучающей выборке после upsampling'а\n",
        "class_0_count = sum(y_train_balanced == 0)\n",
        "class_1_count = sum(y_train_balanced == 1)\n",
        "\n",
        "print(f\"Количество объектов класса 0 после upsampling'а: {class_0_count}\")\n",
        "print(f\"Количество объектов класса 1 после upsampling'а: {class_1_count}\")"
      ],
      "metadata": {
        "id": "YWr1Mll1eYcd",
        "colab": {
          "base_uri": "https://localhost:8080/"
        },
        "outputId": "5a855c4b-e57e-424d-d45d-d8169263d9c3"
      },
      "execution_count": null,
      "outputs": [
        {
          "output_type": "stream",
          "name": "stdout",
          "text": [
            "Количество объектов класса 0 после upsampling'а: 2855\n",
            "Количество объектов класса 1 после upsampling'а: 2855\n"
          ]
        }
      ]
    },
    {
      "cell_type": "markdown",
      "source": [
        "Убедитесь, что теперь в выборке содержится одинаковое число представителей обоих классов. Введите количество объектов класса $1$."
      ],
      "metadata": {
        "id": "4xd6pDvt9Yxj"
      }
    },
    {
      "cell_type": "code",
      "source": [
        "model_balanced = DecisionTreeClassifier(random_state=41, criterion='gini')\n",
        "\n",
        "# Обучение модели на сбалансированных данных\n",
        "model_balanced.fit(X_train_balanced, y_train_balanced)\n",
        "\n",
        "# Предсказание на тестовом наборе данных\n",
        "y_pred_balanced = model_balanced.predict(X_test)\n",
        "\n",
        "# Оценка модели на тестовых данных с помощью F1-score\n",
        "f1_balanced = f1_score(y_test, y_pred_balanced)\n",
        "\n",
        "# Вывод результата\n",
        "print(f\"F1-score модели на тестовых данных после upsampling'а: {f1_balanced:.3f}\")"
      ],
      "metadata": {
        "id": "lASmMyIee9FB",
        "colab": {
          "base_uri": "https://localhost:8080/"
        },
        "outputId": "448dcc56-ac68-4c30-e809-3830ca53b3f6"
      },
      "execution_count": null,
      "outputs": [
        {
          "output_type": "stream",
          "name": "stdout",
          "text": [
            "F1-score модели на тестовых данных после upsampling'а: 0.859\n"
          ]
        }
      ]
    },
    {
      "cell_type": "markdown",
      "source": [
        "Снова обучите модель <code>DecisionTreeClassifier</code> с параметрами, указанными в вашем варианте на тренировочных данных, оцените на тестовых. Вычислите <code>f1_score</code> модели на тестовых данных."
      ],
      "metadata": {
        "id": "-7M3ua0zfCl5"
      }
    },
    {
      "cell_type": "code",
      "source": [
        "model_balanced = DecisionTreeClassifier(random_state=41, criterion='entropy')\n",
        "\n",
        "# Обучение модели на сбалансированных данных\n",
        "model_balanced.fit(X_train_balanced, y_train_balanced)\n",
        "\n",
        "# Предсказание на тестовом наборе данных\n",
        "y_pred_balanced = model_balanced.predict(X_test)\n",
        "\n",
        "# Оценка модели на тестовых данных с помощью F1-score\n",
        "f1_balanced = f1_score(y_test, y_pred_balanced)\n",
        "\n",
        "# Вывод результата\n",
        "print(f\"F1-score модели на тестовых данных после upsampling'а: {f1_balanced:.3f}\")"
      ],
      "metadata": {
        "id": "3J1YZg6ufFxo",
        "colab": {
          "base_uri": "https://localhost:8080/"
        },
        "outputId": "ca8891eb-9f3c-479a-ac1d-213c945ead9b"
      },
      "execution_count": null,
      "outputs": [
        {
          "output_type": "stream",
          "name": "stdout",
          "text": [
            "F1-score модели на тестовых данных после upsampling'а: 0.831\n"
          ]
        }
      ]
    },
    {
      "cell_type": "markdown",
      "source": [
        "Задача 2"
      ],
      "metadata": {
        "id": "127_176IGV9_"
      }
    },
    {
      "cell_type": "code",
      "source": [
        "df = pd.read_csv('Bank_Personal_Loan_Modelling_train.csv')\n",
        "\n",
        "z_scores = zscore(df['Mortgage'])\n",
        "\n",
        "# Булева индексация для выбора строк с модулем z-score меньше или равным 3\n",
        "filtered_df = df[abs(z_scores) <= 3.1]\n",
        "\n",
        "# Выводим размер исходного и отфильтрованного DataFrame\n",
        "print(f\"Размер исходного DataFrame: {df.shape}\")\n",
        "print(f\"Размер отфильтрованного DataFrame: {filtered_df.shape}\")\n",
        "\n",
        "# Заменяем исходный DataFrame отфильтрованным\n",
        "df = filtered_df.copy()"
      ],
      "metadata": {
        "colab": {
          "base_uri": "https://localhost:8080/"
        },
        "id": "T5UnFvABQewr",
        "outputId": "871615df-a27d-4650-affa-ac26f6f4c31a"
      },
      "execution_count": null,
      "outputs": [
        {
          "output_type": "stream",
          "name": "stdout",
          "text": [
            "Размер исходного DataFrame: (4000, 14)\n",
            "Размер отфильтрованного DataFrame: (3923, 14)\n"
          ]
        }
      ]
    },
    {
      "cell_type": "code",
      "source": [
        "X_train = df.drop('Personal Loan', axis=1)\n",
        "y_train = df['Personal Loan']"
      ],
      "metadata": {
        "id": "K9A7KXNVGYLO"
      },
      "execution_count": null,
      "outputs": []
    },
    {
      "cell_type": "code",
      "source": [
        "X_test = pd.read_csv('Bank_Personal_Loan_Modelling_reserved.csv')"
      ],
      "metadata": {
        "id": "j8-eoxmnGs3D"
      },
      "execution_count": null,
      "outputs": []
    },
    {
      "cell_type": "code",
      "source": [
        "from sklearn.ensemble import GradientBoostingClassifier\n",
        "\n",
        "# Создание модели GradientBoostingClassifier с параметрами\n",
        "model_boosted = GradientBoostingClassifier(random_state=41)\n",
        "\n",
        "# Обучение модели на обучающем наборе данных\n",
        "model_boosted.fit(X_train, y_train)\n",
        "\n",
        "# Предсказание на тестовом наборе данных\n",
        "y_pred_boosted = model_boosted.predict(X_test)\n",
        "\n",
        "# Вывод результата\n",
        "print(y_pred_boosted.tolist())"
      ],
      "metadata": {
        "colab": {
          "base_uri": "https://localhost:8080/"
        },
        "id": "r8Hp2v0LGY3S",
        "outputId": "099c06a5-1a81-4017-ccd6-bf8758ea1af5"
      },
      "execution_count": null,
      "outputs": [
        {
          "output_type": "stream",
          "name": "stdout",
          "text": [
            "[0, 1, 0, 0, 0, 0, 0, 0, 0, 0, 0, 0, 0, 0, 0, 0, 0, 0, 0, 0, 0, 0, 0, 0, 0, 0, 0, 0, 1, 0, 1, 0, 0, 0, 0, 0, 0, 0, 0, 0, 0, 0, 0, 0, 0, 0, 0, 0, 0, 0, 0, 0, 0, 0, 0, 0, 0, 0, 0, 0, 0, 1, 0, 1, 0, 0, 0, 0, 0, 0, 0, 0, 0, 0, 0, 0, 0, 1, 0, 0, 0, 0, 0, 0, 0, 1, 0, 0, 0, 0, 0, 0, 0, 0, 0, 1, 0, 0, 0, 0, 0, 0, 0, 0, 0, 0, 0, 0, 0, 1, 0, 0, 0, 0, 0, 0, 0, 0, 0, 0, 0, 0, 0, 0, 0, 0, 0, 0, 0, 0, 0, 0, 0, 0, 0, 0, 1, 1, 0, 0, 0, 0, 0, 0, 0, 1, 0, 0, 1, 0, 0, 0, 0, 0, 1, 1, 0, 0, 0, 0, 0, 0, 0, 0, 0, 0, 0, 0, 0, 0, 0, 0, 0, 0, 1, 0, 0, 0, 1, 0, 0, 1, 0, 0, 0, 0, 0, 1, 0, 0, 0, 0, 0, 0, 0, 0, 1, 0, 0, 0, 0, 0, 0, 0, 0, 0, 0, 0, 0, 0, 0, 0, 1, 0, 0, 1, 0, 0, 0, 0, 0, 0, 0, 0, 0, 0, 0, 1, 0, 0, 0, 0, 1, 0, 0, 0, 1, 0, 1, 0, 0, 0, 0, 0, 0, 0, 0, 0, 1, 0, 0, 0, 0, 0, 1, 0, 0, 0, 1, 0, 0, 0, 1, 0, 0, 0, 1, 0, 0, 0, 0, 0, 0, 0, 0, 1, 0, 0, 0, 0, 1, 0, 0, 0, 0, 1, 0, 0, 0, 0, 0, 0, 0, 1, 0, 0, 0, 0, 0, 0, 0, 0, 0, 0, 0, 0, 0, 0, 0, 0, 1, 0, 1, 0, 0, 1, 0, 0, 0, 0, 0, 0, 0, 0, 0, 0, 0, 0, 0, 0, 0, 0, 0, 0, 0, 1, 0, 0, 0, 0, 1, 0, 0, 0, 1, 0, 0, 0, 0, 0, 0, 0, 0, 0, 0, 0, 1, 0, 1, 0, 0, 0, 0, 0, 0, 0, 0, 0, 0, 0, 0, 0, 1, 0, 0, 1, 0, 0, 0, 0, 0, 0, 0, 0, 0, 0, 0, 1, 0, 1, 0, 0, 0, 0, 0, 0, 0, 0, 0, 0, 0, 0, 0, 0, 0, 0, 0, 0, 0, 0, 0, 1, 0, 0, 0, 0, 0, 0, 0, 0, 0, 0, 0, 0, 0, 0, 0, 0, 0, 0, 0, 0, 0, 0, 1, 0, 0, 0, 0, 1, 0, 0, 0, 0, 0, 0, 0, 0, 0, 0, 0, 1, 0, 0, 0, 0, 0, 0, 0, 0, 0, 0, 0, 0, 0, 0, 0, 0, 0, 0, 0, 0, 0, 0, 0, 0, 1, 0, 0, 0, 0, 0, 1, 0, 0, 0, 0, 0, 1, 0, 1, 0, 0, 0, 0, 0, 0, 0, 0, 0, 0, 0, 0, 0, 0, 0, 0, 0, 0, 0, 0, 0, 0, 1, 0, 0, 0, 0, 0, 0, 0, 0, 0, 0, 0, 0, 0, 0, 0, 0, 0, 0, 0, 0, 0, 0, 0, 0, 0, 0, 0, 0, 0, 0, 0, 0, 0, 1, 0, 0, 0, 0, 0, 0, 0, 0, 0, 1, 0, 0, 0, 0, 1, 0, 0, 0, 0, 0, 0, 0, 0, 0, 0, 0, 0, 0, 0, 0, 0, 0, 0, 0, 0, 0, 0, 0, 0, 0, 0, 0, 1, 0, 0, 0, 0, 0, 0, 0, 0, 0, 0, 0, 0, 0, 0, 0, 0, 0, 0, 0, 0, 0, 0, 0, 1, 0, 0, 0, 1, 0, 0, 0, 0, 0, 0, 0, 0, 0, 0, 0, 0, 0, 1, 0, 0, 0, 0, 0, 0, 0, 1, 0, 0, 0, 0, 0, 1, 0, 0, 0, 0, 0, 0, 0, 0, 0, 1, 0, 0, 0, 0, 0, 0, 1, 0, 0, 0, 0, 0, 0, 0, 0, 0, 0, 0, 0, 0, 0, 0, 0, 0, 0, 0, 1, 0, 1, 0, 1, 0, 1, 0, 0, 0, 0, 0, 0, 0, 0, 0, 0, 0, 0, 0, 0, 0, 0, 0, 1, 0, 0, 0, 0, 0, 0, 0, 0, 0, 0, 0, 0, 0, 0, 0, 0, 0, 0, 0, 0, 0, 0, 0, 0, 1, 0, 0, 0, 0, 0, 0, 0, 0, 0, 0, 0, 0, 0, 0, 1, 0, 0, 0, 0, 0, 0, 1, 0, 0, 0, 0, 0, 0, 0, 0, 0, 0, 0, 0, 0, 0, 0, 1, 1, 0, 0, 0, 0, 0, 0, 0, 0, 0, 0, 0, 0, 0, 0, 0, 0, 1, 0, 0, 0, 0, 1, 0, 0, 0, 0, 0, 0, 0, 0, 1, 0, 0, 0, 0, 1, 0, 0, 0, 1, 0, 0, 1, 1, 0, 0, 0, 0, 0, 0, 0, 0, 0, 0, 0, 0, 0, 0, 0, 0, 0, 0, 0, 0, 0, 0, 0, 0, 0, 0, 0, 0, 0, 0, 0, 0, 1, 0, 0, 0, 0, 1, 0, 0, 0, 0, 0, 0, 0, 0, 0, 0, 0, 0, 0, 0, 0, 0, 0, 0, 0, 0, 0, 0, 0, 0, 0, 0, 0, 0, 0, 1, 1, 0, 0, 0, 1, 0, 0, 0, 0, 0, 0, 0, 0, 0, 0, 0, 0, 0, 0, 0, 0, 0, 0, 0, 0, 0, 0, 0, 0, 0, 0, 0, 0, 0, 0, 0, 0, 0, 1, 1, 0, 0, 0, 0, 0, 0, 0, 0, 0, 1, 0, 0, 0, 1, 0, 0, 0, 0, 0, 0, 0, 0, 0, 0, 0, 0, 0, 0, 0, 1, 0, 0, 0, 0, 0, 0, 0, 0, 0, 0, 0, 0, 1, 0, 0, 0, 0, 0, 0, 0, 0, 0, 0, 1, 0, 0, 0, 0, 0, 0, 0, 0, 0, 0, 0, 0, 0, 1, 0, 0, 1, 0, 0, 0, 0, 0]\n"
          ]
        }
      ]
    },
    {
      "cell_type": "code",
      "source": [
        "!pip install catboost"
      ],
      "metadata": {
        "colab": {
          "base_uri": "https://localhost:8080/"
        },
        "id": "LgNFhxB-gWar",
        "outputId": "5765e5ea-1298-4e61-a119-71b5d4a98964"
      },
      "execution_count": null,
      "outputs": [
        {
          "output_type": "stream",
          "name": "stdout",
          "text": [
            "Collecting catboost\n",
            "  Downloading catboost-1.2.5-cp310-cp310-manylinux2014_x86_64.whl (98.2 MB)\n",
            "\u001b[2K     \u001b[90m━━━━━━━━━━━━━━━━━━━━━━━━━━━━━━━━━━━━━━━━\u001b[0m \u001b[32m98.2/98.2 MB\u001b[0m \u001b[31m3.9 MB/s\u001b[0m eta \u001b[36m0:00:00\u001b[0m\n",
            "\u001b[?25hRequirement already satisfied: graphviz in /usr/local/lib/python3.10/dist-packages (from catboost) (0.20.3)\n",
            "Requirement already satisfied: matplotlib in /usr/local/lib/python3.10/dist-packages (from catboost) (3.7.1)\n",
            "Requirement already satisfied: numpy>=1.16.0 in /usr/local/lib/python3.10/dist-packages (from catboost) (1.25.2)\n",
            "Requirement already satisfied: pandas>=0.24 in /usr/local/lib/python3.10/dist-packages (from catboost) (2.0.3)\n",
            "Requirement already satisfied: scipy in /usr/local/lib/python3.10/dist-packages (from catboost) (1.11.4)\n",
            "Requirement already satisfied: plotly in /usr/local/lib/python3.10/dist-packages (from catboost) (5.15.0)\n",
            "Requirement already satisfied: six in /usr/local/lib/python3.10/dist-packages (from catboost) (1.16.0)\n",
            "Requirement already satisfied: python-dateutil>=2.8.2 in /usr/local/lib/python3.10/dist-packages (from pandas>=0.24->catboost) (2.8.2)\n",
            "Requirement already satisfied: pytz>=2020.1 in /usr/local/lib/python3.10/dist-packages (from pandas>=0.24->catboost) (2023.4)\n",
            "Requirement already satisfied: tzdata>=2022.1 in /usr/local/lib/python3.10/dist-packages (from pandas>=0.24->catboost) (2024.1)\n",
            "Requirement already satisfied: contourpy>=1.0.1 in /usr/local/lib/python3.10/dist-packages (from matplotlib->catboost) (1.2.1)\n",
            "Requirement already satisfied: cycler>=0.10 in /usr/local/lib/python3.10/dist-packages (from matplotlib->catboost) (0.12.1)\n",
            "Requirement already satisfied: fonttools>=4.22.0 in /usr/local/lib/python3.10/dist-packages (from matplotlib->catboost) (4.51.0)\n",
            "Requirement already satisfied: kiwisolver>=1.0.1 in /usr/local/lib/python3.10/dist-packages (from matplotlib->catboost) (1.4.5)\n",
            "Requirement already satisfied: packaging>=20.0 in /usr/local/lib/python3.10/dist-packages (from matplotlib->catboost) (24.0)\n",
            "Requirement already satisfied: pillow>=6.2.0 in /usr/local/lib/python3.10/dist-packages (from matplotlib->catboost) (9.4.0)\n",
            "Requirement already satisfied: pyparsing>=2.3.1 in /usr/local/lib/python3.10/dist-packages (from matplotlib->catboost) (3.1.2)\n",
            "Requirement already satisfied: tenacity>=6.2.0 in /usr/local/lib/python3.10/dist-packages (from plotly->catboost) (8.3.0)\n",
            "Installing collected packages: catboost\n",
            "Successfully installed catboost-1.2.5\n"
          ]
        }
      ]
    },
    {
      "cell_type": "code",
      "source": [
        "from catboost import CatBoostClassifier\n",
        "\n",
        "# Создание модели CatBoostClassifier с параметрами\n",
        "model_catboost = CatBoostClassifier(random_state=41)\n",
        "\n",
        "# Обучение модели на обучающем наборе данных\n",
        "model_catboost.fit(X_train, y_train)\n",
        "\n",
        "# Предсказание на тестовом наборе данных\n",
        "y_pred_catboost = model_catboost.predict(X_test)\n",
        "\n",
        "# Вывод результата\n",
        "print(y_pred_catboost.tolist())"
      ],
      "metadata": {
        "colab": {
          "base_uri": "https://localhost:8080/"
        },
        "id": "rSEIPo2Ff8yo",
        "outputId": "36298be2-5e77-4ea1-b7a8-50267a398d19"
      },
      "execution_count": null,
      "outputs": [
        {
          "output_type": "stream",
          "name": "stdout",
          "text": [
            "Learning rate set to 0.018468\n",
            "0:\tlearn: 0.6569428\ttotal: 50.3ms\tremaining: 50.2s\n",
            "1:\tlearn: 0.6234269\ttotal: 53.3ms\tremaining: 26.6s\n",
            "2:\tlearn: 0.5900199\ttotal: 56.1ms\tremaining: 18.6s\n",
            "3:\tlearn: 0.5515717\ttotal: 58.9ms\tremaining: 14.7s\n",
            "4:\tlearn: 0.5225853\ttotal: 61.6ms\tremaining: 12.3s\n",
            "5:\tlearn: 0.4972635\ttotal: 64.5ms\tremaining: 10.7s\n",
            "6:\tlearn: 0.4657839\ttotal: 67.5ms\tremaining: 9.57s\n",
            "7:\tlearn: 0.4382647\ttotal: 71.5ms\tremaining: 8.87s\n",
            "8:\tlearn: 0.4048231\ttotal: 75.7ms\tremaining: 8.34s\n",
            "9:\tlearn: 0.3843170\ttotal: 78.7ms\tremaining: 7.8s\n",
            "10:\tlearn: 0.3588855\ttotal: 81.3ms\tremaining: 7.31s\n",
            "11:\tlearn: 0.3345294\ttotal: 84.3ms\tremaining: 6.94s\n",
            "12:\tlearn: 0.3159358\ttotal: 87.2ms\tremaining: 6.62s\n",
            "13:\tlearn: 0.3031027\ttotal: 90.1ms\tremaining: 6.35s\n",
            "14:\tlearn: 0.2902166\ttotal: 93ms\tremaining: 6.11s\n",
            "15:\tlearn: 0.2784578\ttotal: 95.9ms\tremaining: 5.9s\n",
            "16:\tlearn: 0.2679745\ttotal: 98.6ms\tremaining: 5.7s\n",
            "17:\tlearn: 0.2540382\ttotal: 101ms\tremaining: 5.53s\n",
            "18:\tlearn: 0.2384186\ttotal: 104ms\tremaining: 5.38s\n",
            "19:\tlearn: 0.2273818\ttotal: 107ms\tremaining: 5.24s\n",
            "20:\tlearn: 0.2151961\ttotal: 110ms\tremaining: 5.11s\n",
            "21:\tlearn: 0.2048983\ttotal: 112ms\tremaining: 5s\n",
            "22:\tlearn: 0.1982664\ttotal: 115ms\tremaining: 4.89s\n",
            "23:\tlearn: 0.1904466\ttotal: 118ms\tremaining: 4.79s\n",
            "24:\tlearn: 0.1829971\ttotal: 121ms\tremaining: 4.7s\n",
            "25:\tlearn: 0.1772474\ttotal: 123ms\tremaining: 4.6s\n",
            "26:\tlearn: 0.1685413\ttotal: 126ms\tremaining: 4.53s\n",
            "27:\tlearn: 0.1618989\ttotal: 129ms\tremaining: 4.48s\n",
            "28:\tlearn: 0.1550841\ttotal: 132ms\tremaining: 4.42s\n",
            "29:\tlearn: 0.1474266\ttotal: 135ms\tremaining: 4.37s\n",
            "30:\tlearn: 0.1398159\ttotal: 138ms\tremaining: 4.31s\n",
            "31:\tlearn: 0.1338253\ttotal: 141ms\tremaining: 4.26s\n",
            "32:\tlearn: 0.1295709\ttotal: 144ms\tremaining: 4.21s\n",
            "33:\tlearn: 0.1248226\ttotal: 147ms\tremaining: 4.16s\n",
            "34:\tlearn: 0.1197883\ttotal: 149ms\tremaining: 4.12s\n",
            "35:\tlearn: 0.1169598\ttotal: 152ms\tremaining: 4.07s\n",
            "36:\tlearn: 0.1139499\ttotal: 155ms\tremaining: 4.03s\n",
            "37:\tlearn: 0.1086906\ttotal: 158ms\tremaining: 3.99s\n",
            "38:\tlearn: 0.1038511\ttotal: 160ms\tremaining: 3.95s\n",
            "39:\tlearn: 0.0992572\ttotal: 163ms\tremaining: 3.92s\n",
            "40:\tlearn: 0.0958504\ttotal: 166ms\tremaining: 3.89s\n",
            "41:\tlearn: 0.0924000\ttotal: 169ms\tremaining: 3.86s\n",
            "42:\tlearn: 0.0898831\ttotal: 172ms\tremaining: 3.83s\n",
            "43:\tlearn: 0.0868453\ttotal: 175ms\tremaining: 3.8s\n",
            "44:\tlearn: 0.0837085\ttotal: 178ms\tremaining: 3.78s\n",
            "45:\tlearn: 0.0815703\ttotal: 181ms\tremaining: 3.75s\n",
            "46:\tlearn: 0.0796516\ttotal: 184ms\tremaining: 3.73s\n",
            "47:\tlearn: 0.0776842\ttotal: 187ms\tremaining: 3.7s\n",
            "48:\tlearn: 0.0758950\ttotal: 193ms\tremaining: 3.74s\n",
            "49:\tlearn: 0.0734525\ttotal: 195ms\tremaining: 3.71s\n",
            "50:\tlearn: 0.0714844\ttotal: 198ms\tremaining: 3.69s\n",
            "51:\tlearn: 0.0697455\ttotal: 201ms\tremaining: 3.66s\n",
            "52:\tlearn: 0.0680906\ttotal: 205ms\tremaining: 3.67s\n",
            "53:\tlearn: 0.0661663\ttotal: 208ms\tremaining: 3.64s\n",
            "54:\tlearn: 0.0653318\ttotal: 211ms\tremaining: 3.62s\n",
            "55:\tlearn: 0.0640823\ttotal: 214ms\tremaining: 3.6s\n",
            "56:\tlearn: 0.0627077\ttotal: 217ms\tremaining: 3.59s\n",
            "57:\tlearn: 0.0617021\ttotal: 220ms\tremaining: 3.57s\n",
            "58:\tlearn: 0.0605364\ttotal: 224ms\tremaining: 3.58s\n",
            "59:\tlearn: 0.0596134\ttotal: 228ms\tremaining: 3.57s\n",
            "60:\tlearn: 0.0582720\ttotal: 232ms\tremaining: 3.57s\n",
            "61:\tlearn: 0.0569267\ttotal: 235ms\tremaining: 3.56s\n",
            "62:\tlearn: 0.0559334\ttotal: 238ms\tremaining: 3.54s\n",
            "63:\tlearn: 0.0549847\ttotal: 241ms\tremaining: 3.52s\n",
            "64:\tlearn: 0.0543309\ttotal: 244ms\tremaining: 3.5s\n",
            "65:\tlearn: 0.0536835\ttotal: 247ms\tremaining: 3.49s\n",
            "66:\tlearn: 0.0529326\ttotal: 250ms\tremaining: 3.47s\n",
            "67:\tlearn: 0.0520264\ttotal: 252ms\tremaining: 3.46s\n",
            "68:\tlearn: 0.0513834\ttotal: 255ms\tremaining: 3.45s\n",
            "69:\tlearn: 0.0505704\ttotal: 259ms\tremaining: 3.44s\n",
            "70:\tlearn: 0.0499424\ttotal: 262ms\tremaining: 3.43s\n",
            "71:\tlearn: 0.0490951\ttotal: 265ms\tremaining: 3.41s\n",
            "72:\tlearn: 0.0487580\ttotal: 267ms\tremaining: 3.39s\n",
            "73:\tlearn: 0.0481061\ttotal: 270ms\tremaining: 3.38s\n",
            "74:\tlearn: 0.0476376\ttotal: 273ms\tremaining: 3.37s\n",
            "75:\tlearn: 0.0472535\ttotal: 276ms\tremaining: 3.35s\n",
            "76:\tlearn: 0.0466396\ttotal: 279ms\tremaining: 3.34s\n",
            "77:\tlearn: 0.0461203\ttotal: 281ms\tremaining: 3.33s\n",
            "78:\tlearn: 0.0456428\ttotal: 285ms\tremaining: 3.32s\n",
            "79:\tlearn: 0.0450934\ttotal: 288ms\tremaining: 3.31s\n",
            "80:\tlearn: 0.0447015\ttotal: 291ms\tremaining: 3.3s\n",
            "81:\tlearn: 0.0443855\ttotal: 294ms\tremaining: 3.29s\n",
            "82:\tlearn: 0.0439553\ttotal: 299ms\tremaining: 3.31s\n",
            "83:\tlearn: 0.0437952\ttotal: 302ms\tremaining: 3.29s\n",
            "84:\tlearn: 0.0434862\ttotal: 305ms\tremaining: 3.28s\n",
            "85:\tlearn: 0.0429387\ttotal: 308ms\tremaining: 3.27s\n",
            "86:\tlearn: 0.0426332\ttotal: 311ms\tremaining: 3.26s\n",
            "87:\tlearn: 0.0422654\ttotal: 314ms\tremaining: 3.25s\n",
            "88:\tlearn: 0.0417408\ttotal: 316ms\tremaining: 3.24s\n",
            "89:\tlearn: 0.0413595\ttotal: 319ms\tremaining: 3.23s\n",
            "90:\tlearn: 0.0409499\ttotal: 322ms\tremaining: 3.22s\n",
            "91:\tlearn: 0.0405035\ttotal: 325ms\tremaining: 3.21s\n",
            "92:\tlearn: 0.0403073\ttotal: 328ms\tremaining: 3.2s\n",
            "93:\tlearn: 0.0400428\ttotal: 331ms\tremaining: 3.19s\n",
            "94:\tlearn: 0.0397453\ttotal: 334ms\tremaining: 3.18s\n",
            "95:\tlearn: 0.0394484\ttotal: 337ms\tremaining: 3.17s\n",
            "96:\tlearn: 0.0391567\ttotal: 340ms\tremaining: 3.16s\n",
            "97:\tlearn: 0.0389171\ttotal: 343ms\tremaining: 3.15s\n",
            "98:\tlearn: 0.0386580\ttotal: 346ms\tremaining: 3.15s\n",
            "99:\tlearn: 0.0383758\ttotal: 351ms\tremaining: 3.15s\n",
            "100:\tlearn: 0.0381311\ttotal: 356ms\tremaining: 3.17s\n",
            "101:\tlearn: 0.0378885\ttotal: 360ms\tremaining: 3.17s\n",
            "102:\tlearn: 0.0374780\ttotal: 368ms\tremaining: 3.21s\n",
            "103:\tlearn: 0.0372475\ttotal: 371ms\tremaining: 3.2s\n",
            "104:\tlearn: 0.0369991\ttotal: 374ms\tremaining: 3.19s\n",
            "105:\tlearn: 0.0367227\ttotal: 383ms\tremaining: 3.23s\n",
            "106:\tlearn: 0.0365221\ttotal: 386ms\tremaining: 3.22s\n",
            "107:\tlearn: 0.0362935\ttotal: 389ms\tremaining: 3.21s\n",
            "108:\tlearn: 0.0360397\ttotal: 393ms\tremaining: 3.21s\n",
            "109:\tlearn: 0.0357415\ttotal: 395ms\tremaining: 3.2s\n",
            "110:\tlearn: 0.0354457\ttotal: 398ms\tremaining: 3.19s\n",
            "111:\tlearn: 0.0352805\ttotal: 402ms\tremaining: 3.19s\n",
            "112:\tlearn: 0.0350688\ttotal: 405ms\tremaining: 3.18s\n",
            "113:\tlearn: 0.0349422\ttotal: 408ms\tremaining: 3.17s\n",
            "114:\tlearn: 0.0347513\ttotal: 411ms\tremaining: 3.17s\n",
            "115:\tlearn: 0.0345584\ttotal: 414ms\tremaining: 3.16s\n",
            "116:\tlearn: 0.0343784\ttotal: 417ms\tremaining: 3.15s\n",
            "117:\tlearn: 0.0341054\ttotal: 421ms\tremaining: 3.15s\n",
            "118:\tlearn: 0.0339293\ttotal: 424ms\tremaining: 3.14s\n",
            "119:\tlearn: 0.0337146\ttotal: 428ms\tremaining: 3.14s\n",
            "120:\tlearn: 0.0335629\ttotal: 431ms\tremaining: 3.13s\n",
            "121:\tlearn: 0.0334903\ttotal: 434ms\tremaining: 3.12s\n",
            "122:\tlearn: 0.0334382\ttotal: 437ms\tremaining: 3.11s\n",
            "123:\tlearn: 0.0332491\ttotal: 442ms\tremaining: 3.12s\n",
            "124:\tlearn: 0.0331261\ttotal: 445ms\tremaining: 3.12s\n",
            "125:\tlearn: 0.0329206\ttotal: 448ms\tremaining: 3.11s\n",
            "126:\tlearn: 0.0327465\ttotal: 451ms\tremaining: 3.1s\n",
            "127:\tlearn: 0.0325979\ttotal: 454ms\tremaining: 3.1s\n",
            "128:\tlearn: 0.0324752\ttotal: 457ms\tremaining: 3.09s\n",
            "129:\tlearn: 0.0323329\ttotal: 460ms\tremaining: 3.08s\n",
            "130:\tlearn: 0.0322397\ttotal: 464ms\tremaining: 3.08s\n",
            "131:\tlearn: 0.0319889\ttotal: 467ms\tremaining: 3.07s\n",
            "132:\tlearn: 0.0319136\ttotal: 469ms\tremaining: 3.06s\n",
            "133:\tlearn: 0.0317364\ttotal: 473ms\tremaining: 3.06s\n",
            "134:\tlearn: 0.0316002\ttotal: 476ms\tremaining: 3.05s\n",
            "135:\tlearn: 0.0315172\ttotal: 479ms\tremaining: 3.04s\n",
            "136:\tlearn: 0.0313275\ttotal: 483ms\tremaining: 3.04s\n",
            "137:\tlearn: 0.0312282\ttotal: 489ms\tremaining: 3.06s\n",
            "138:\tlearn: 0.0311466\ttotal: 497ms\tremaining: 3.08s\n",
            "139:\tlearn: 0.0309878\ttotal: 505ms\tremaining: 3.1s\n",
            "140:\tlearn: 0.0307966\ttotal: 513ms\tremaining: 3.13s\n",
            "141:\tlearn: 0.0307064\ttotal: 523ms\tremaining: 3.16s\n",
            "142:\tlearn: 0.0305778\ttotal: 528ms\tremaining: 3.16s\n",
            "143:\tlearn: 0.0304093\ttotal: 537ms\tremaining: 3.19s\n",
            "144:\tlearn: 0.0302653\ttotal: 545ms\tremaining: 3.21s\n",
            "145:\tlearn: 0.0301471\ttotal: 553ms\tremaining: 3.23s\n",
            "146:\tlearn: 0.0299948\ttotal: 570ms\tremaining: 3.31s\n",
            "147:\tlearn: 0.0298997\ttotal: 578ms\tremaining: 3.33s\n",
            "148:\tlearn: 0.0297623\ttotal: 586ms\tremaining: 3.35s\n",
            "149:\tlearn: 0.0295800\ttotal: 594ms\tremaining: 3.36s\n",
            "150:\tlearn: 0.0293706\ttotal: 602ms\tremaining: 3.38s\n",
            "151:\tlearn: 0.0291605\ttotal: 610ms\tremaining: 3.4s\n",
            "152:\tlearn: 0.0290187\ttotal: 618ms\tremaining: 3.42s\n",
            "153:\tlearn: 0.0288852\ttotal: 626ms\tremaining: 3.44s\n",
            "154:\tlearn: 0.0287116\ttotal: 634ms\tremaining: 3.46s\n",
            "155:\tlearn: 0.0285892\ttotal: 643ms\tremaining: 3.48s\n",
            "156:\tlearn: 0.0285116\ttotal: 651ms\tremaining: 3.49s\n",
            "157:\tlearn: 0.0283855\ttotal: 659ms\tremaining: 3.51s\n",
            "158:\tlearn: 0.0283196\ttotal: 662ms\tremaining: 3.5s\n",
            "159:\tlearn: 0.0281941\ttotal: 666ms\tremaining: 3.5s\n",
            "160:\tlearn: 0.0280908\ttotal: 669ms\tremaining: 3.48s\n",
            "161:\tlearn: 0.0279731\ttotal: 674ms\tremaining: 3.48s\n",
            "162:\tlearn: 0.0278486\ttotal: 679ms\tremaining: 3.48s\n",
            "163:\tlearn: 0.0277372\ttotal: 682ms\tremaining: 3.47s\n",
            "164:\tlearn: 0.0275968\ttotal: 686ms\tremaining: 3.47s\n",
            "165:\tlearn: 0.0274680\ttotal: 688ms\tremaining: 3.46s\n",
            "166:\tlearn: 0.0273379\ttotal: 691ms\tremaining: 3.45s\n",
            "167:\tlearn: 0.0272787\ttotal: 695ms\tremaining: 3.44s\n",
            "168:\tlearn: 0.0271822\ttotal: 698ms\tremaining: 3.43s\n",
            "169:\tlearn: 0.0270972\ttotal: 700ms\tremaining: 3.42s\n",
            "170:\tlearn: 0.0270307\ttotal: 704ms\tremaining: 3.41s\n",
            "171:\tlearn: 0.0270289\ttotal: 706ms\tremaining: 3.4s\n",
            "172:\tlearn: 0.0269031\ttotal: 709ms\tremaining: 3.39s\n",
            "173:\tlearn: 0.0267768\ttotal: 720ms\tremaining: 3.42s\n",
            "174:\tlearn: 0.0266637\ttotal: 730ms\tremaining: 3.44s\n",
            "175:\tlearn: 0.0265612\ttotal: 744ms\tremaining: 3.48s\n",
            "176:\tlearn: 0.0264940\ttotal: 746ms\tremaining: 3.47s\n",
            "177:\tlearn: 0.0263466\ttotal: 755ms\tremaining: 3.49s\n",
            "178:\tlearn: 0.0263084\ttotal: 758ms\tremaining: 3.48s\n",
            "179:\tlearn: 0.0262421\ttotal: 761ms\tremaining: 3.47s\n",
            "180:\tlearn: 0.0261638\ttotal: 765ms\tremaining: 3.46s\n",
            "181:\tlearn: 0.0260492\ttotal: 767ms\tremaining: 3.45s\n",
            "182:\tlearn: 0.0259877\ttotal: 770ms\tremaining: 3.44s\n",
            "183:\tlearn: 0.0259540\ttotal: 774ms\tremaining: 3.43s\n",
            "184:\tlearn: 0.0258012\ttotal: 777ms\tremaining: 3.42s\n",
            "185:\tlearn: 0.0256655\ttotal: 780ms\tremaining: 3.41s\n",
            "186:\tlearn: 0.0255935\ttotal: 784ms\tremaining: 3.41s\n",
            "187:\tlearn: 0.0254909\ttotal: 786ms\tremaining: 3.4s\n",
            "188:\tlearn: 0.0253826\ttotal: 789ms\tremaining: 3.38s\n",
            "189:\tlearn: 0.0253055\ttotal: 793ms\tremaining: 3.38s\n",
            "190:\tlearn: 0.0252321\ttotal: 797ms\tremaining: 3.38s\n",
            "191:\tlearn: 0.0251823\ttotal: 800ms\tremaining: 3.37s\n",
            "192:\tlearn: 0.0250564\ttotal: 809ms\tremaining: 3.38s\n",
            "193:\tlearn: 0.0249965\ttotal: 813ms\tremaining: 3.38s\n",
            "194:\tlearn: 0.0248648\ttotal: 816ms\tremaining: 3.37s\n",
            "195:\tlearn: 0.0247978\ttotal: 819ms\tremaining: 3.36s\n",
            "196:\tlearn: 0.0247161\ttotal: 822ms\tremaining: 3.35s\n",
            "197:\tlearn: 0.0246645\ttotal: 825ms\tremaining: 3.34s\n",
            "198:\tlearn: 0.0245640\ttotal: 828ms\tremaining: 3.33s\n",
            "199:\tlearn: 0.0245005\ttotal: 831ms\tremaining: 3.32s\n",
            "200:\tlearn: 0.0244371\ttotal: 835ms\tremaining: 3.32s\n",
            "201:\tlearn: 0.0243843\ttotal: 839ms\tremaining: 3.31s\n",
            "202:\tlearn: 0.0243302\ttotal: 842ms\tremaining: 3.31s\n",
            "203:\tlearn: 0.0242830\ttotal: 847ms\tremaining: 3.3s\n",
            "204:\tlearn: 0.0242401\ttotal: 855ms\tremaining: 3.32s\n",
            "205:\tlearn: 0.0241998\ttotal: 863ms\tremaining: 3.32s\n",
            "206:\tlearn: 0.0240984\ttotal: 870ms\tremaining: 3.33s\n",
            "207:\tlearn: 0.0240046\ttotal: 878ms\tremaining: 3.34s\n",
            "208:\tlearn: 0.0239212\ttotal: 886ms\tremaining: 3.35s\n",
            "209:\tlearn: 0.0238745\ttotal: 893ms\tremaining: 3.36s\n",
            "210:\tlearn: 0.0238425\ttotal: 901ms\tremaining: 3.37s\n",
            "211:\tlearn: 0.0237334\ttotal: 909ms\tremaining: 3.38s\n",
            "212:\tlearn: 0.0236420\ttotal: 917ms\tremaining: 3.39s\n",
            "213:\tlearn: 0.0235902\ttotal: 924ms\tremaining: 3.39s\n",
            "214:\tlearn: 0.0235274\ttotal: 938ms\tremaining: 3.42s\n",
            "215:\tlearn: 0.0234603\ttotal: 942ms\tremaining: 3.42s\n",
            "216:\tlearn: 0.0234047\ttotal: 945ms\tremaining: 3.41s\n",
            "217:\tlearn: 0.0233363\ttotal: 948ms\tremaining: 3.4s\n",
            "218:\tlearn: 0.0232123\ttotal: 951ms\tremaining: 3.39s\n",
            "219:\tlearn: 0.0230766\ttotal: 954ms\tremaining: 3.38s\n",
            "220:\tlearn: 0.0230327\ttotal: 958ms\tremaining: 3.38s\n",
            "221:\tlearn: 0.0229864\ttotal: 960ms\tremaining: 3.36s\n",
            "222:\tlearn: 0.0229085\ttotal: 964ms\tremaining: 3.36s\n",
            "223:\tlearn: 0.0228665\ttotal: 967ms\tremaining: 3.35s\n",
            "224:\tlearn: 0.0228538\ttotal: 969ms\tremaining: 3.34s\n",
            "225:\tlearn: 0.0227652\ttotal: 973ms\tremaining: 3.33s\n",
            "226:\tlearn: 0.0227055\ttotal: 975ms\tremaining: 3.32s\n",
            "227:\tlearn: 0.0226133\ttotal: 979ms\tremaining: 3.31s\n",
            "228:\tlearn: 0.0225082\ttotal: 983ms\tremaining: 3.31s\n",
            "229:\tlearn: 0.0223917\ttotal: 986ms\tremaining: 3.3s\n",
            "230:\tlearn: 0.0223812\ttotal: 991ms\tremaining: 3.3s\n",
            "231:\tlearn: 0.0222713\ttotal: 995ms\tremaining: 3.29s\n",
            "232:\tlearn: 0.0221733\ttotal: 999ms\tremaining: 3.29s\n",
            "233:\tlearn: 0.0220688\ttotal: 1s\tremaining: 3.28s\n",
            "234:\tlearn: 0.0219980\ttotal: 1.03s\tremaining: 3.36s\n",
            "235:\tlearn: 0.0219516\ttotal: 1.04s\tremaining: 3.37s\n",
            "236:\tlearn: 0.0218580\ttotal: 1.05s\tremaining: 3.37s\n",
            "237:\tlearn: 0.0217965\ttotal: 1.05s\tremaining: 3.38s\n",
            "238:\tlearn: 0.0216916\ttotal: 1.06s\tremaining: 3.37s\n",
            "239:\tlearn: 0.0216335\ttotal: 1.06s\tremaining: 3.36s\n",
            "240:\tlearn: 0.0215551\ttotal: 1.07s\tremaining: 3.38s\n",
            "241:\tlearn: 0.0215207\ttotal: 1.1s\tremaining: 3.43s\n",
            "242:\tlearn: 0.0214991\ttotal: 1.11s\tremaining: 3.45s\n",
            "243:\tlearn: 0.0213710\ttotal: 1.11s\tremaining: 3.44s\n",
            "244:\tlearn: 0.0213392\ttotal: 1.12s\tremaining: 3.45s\n",
            "245:\tlearn: 0.0212744\ttotal: 1.12s\tremaining: 3.44s\n",
            "246:\tlearn: 0.0212080\ttotal: 1.13s\tremaining: 3.44s\n",
            "247:\tlearn: 0.0210990\ttotal: 1.14s\tremaining: 3.46s\n",
            "248:\tlearn: 0.0210036\ttotal: 1.14s\tremaining: 3.45s\n",
            "249:\tlearn: 0.0209556\ttotal: 1.15s\tremaining: 3.44s\n",
            "250:\tlearn: 0.0208744\ttotal: 1.15s\tremaining: 3.43s\n",
            "251:\tlearn: 0.0208227\ttotal: 1.15s\tremaining: 3.42s\n",
            "252:\tlearn: 0.0207639\ttotal: 1.16s\tremaining: 3.42s\n",
            "253:\tlearn: 0.0207095\ttotal: 1.16s\tremaining: 3.4s\n",
            "254:\tlearn: 0.0206470\ttotal: 1.16s\tremaining: 3.4s\n",
            "255:\tlearn: 0.0205908\ttotal: 1.17s\tremaining: 3.39s\n",
            "256:\tlearn: 0.0205709\ttotal: 1.17s\tremaining: 3.38s\n",
            "257:\tlearn: 0.0205267\ttotal: 1.17s\tremaining: 3.37s\n",
            "258:\tlearn: 0.0204972\ttotal: 1.18s\tremaining: 3.36s\n",
            "259:\tlearn: 0.0203642\ttotal: 1.18s\tremaining: 3.35s\n",
            "260:\tlearn: 0.0203199\ttotal: 1.18s\tremaining: 3.34s\n",
            "261:\tlearn: 0.0202416\ttotal: 1.18s\tremaining: 3.34s\n",
            "262:\tlearn: 0.0201447\ttotal: 1.19s\tremaining: 3.33s\n",
            "263:\tlearn: 0.0200937\ttotal: 1.19s\tremaining: 3.32s\n",
            "264:\tlearn: 0.0200778\ttotal: 1.2s\tremaining: 3.32s\n",
            "265:\tlearn: 0.0199830\ttotal: 1.2s\tremaining: 3.31s\n",
            "266:\tlearn: 0.0199457\ttotal: 1.2s\tremaining: 3.3s\n",
            "267:\tlearn: 0.0198714\ttotal: 1.21s\tremaining: 3.29s\n",
            "268:\tlearn: 0.0198554\ttotal: 1.21s\tremaining: 3.29s\n",
            "269:\tlearn: 0.0198452\ttotal: 1.21s\tremaining: 3.27s\n",
            "270:\tlearn: 0.0197930\ttotal: 1.23s\tremaining: 3.3s\n",
            "271:\tlearn: 0.0197329\ttotal: 1.23s\tremaining: 3.29s\n",
            "272:\tlearn: 0.0196715\ttotal: 1.23s\tremaining: 3.28s\n",
            "273:\tlearn: 0.0195966\ttotal: 1.24s\tremaining: 3.28s\n",
            "274:\tlearn: 0.0195534\ttotal: 1.24s\tremaining: 3.27s\n",
            "275:\tlearn: 0.0195096\ttotal: 1.24s\tremaining: 3.26s\n",
            "276:\tlearn: 0.0194435\ttotal: 1.25s\tremaining: 3.25s\n",
            "277:\tlearn: 0.0194122\ttotal: 1.25s\tremaining: 3.24s\n",
            "278:\tlearn: 0.0193583\ttotal: 1.25s\tremaining: 3.23s\n",
            "279:\tlearn: 0.0192838\ttotal: 1.26s\tremaining: 3.23s\n",
            "280:\tlearn: 0.0192394\ttotal: 1.26s\tremaining: 3.22s\n",
            "281:\tlearn: 0.0191852\ttotal: 1.27s\tremaining: 3.23s\n",
            "282:\tlearn: 0.0191267\ttotal: 1.27s\tremaining: 3.23s\n",
            "283:\tlearn: 0.0190868\ttotal: 1.28s\tremaining: 3.22s\n",
            "284:\tlearn: 0.0190350\ttotal: 1.28s\tremaining: 3.21s\n",
            "285:\tlearn: 0.0189915\ttotal: 1.28s\tremaining: 3.2s\n",
            "286:\tlearn: 0.0189387\ttotal: 1.29s\tremaining: 3.2s\n",
            "287:\tlearn: 0.0189079\ttotal: 1.29s\tremaining: 3.19s\n",
            "288:\tlearn: 0.0188864\ttotal: 1.29s\tremaining: 3.18s\n",
            "289:\tlearn: 0.0188232\ttotal: 1.3s\tremaining: 3.19s\n",
            "290:\tlearn: 0.0187743\ttotal: 1.3s\tremaining: 3.18s\n",
            "291:\tlearn: 0.0187464\ttotal: 1.31s\tremaining: 3.17s\n",
            "292:\tlearn: 0.0186984\ttotal: 1.31s\tremaining: 3.17s\n",
            "293:\tlearn: 0.0186386\ttotal: 1.31s\tremaining: 3.16s\n",
            "294:\tlearn: 0.0185646\ttotal: 1.32s\tremaining: 3.15s\n",
            "295:\tlearn: 0.0185062\ttotal: 1.32s\tremaining: 3.15s\n",
            "296:\tlearn: 0.0184337\ttotal: 1.32s\tremaining: 3.14s\n",
            "297:\tlearn: 0.0183770\ttotal: 1.33s\tremaining: 3.13s\n",
            "298:\tlearn: 0.0182967\ttotal: 1.33s\tremaining: 3.12s\n",
            "299:\tlearn: 0.0182549\ttotal: 1.33s\tremaining: 3.12s\n",
            "300:\tlearn: 0.0181929\ttotal: 1.34s\tremaining: 3.11s\n",
            "301:\tlearn: 0.0181723\ttotal: 1.34s\tremaining: 3.1s\n",
            "302:\tlearn: 0.0181247\ttotal: 1.34s\tremaining: 3.09s\n",
            "303:\tlearn: 0.0181033\ttotal: 1.35s\tremaining: 3.08s\n",
            "304:\tlearn: 0.0180450\ttotal: 1.35s\tremaining: 3.08s\n",
            "305:\tlearn: 0.0179784\ttotal: 1.35s\tremaining: 3.07s\n",
            "306:\tlearn: 0.0179208\ttotal: 1.36s\tremaining: 3.06s\n",
            "307:\tlearn: 0.0178738\ttotal: 1.36s\tremaining: 3.06s\n",
            "308:\tlearn: 0.0178292\ttotal: 1.36s\tremaining: 3.05s\n",
            "309:\tlearn: 0.0177542\ttotal: 1.38s\tremaining: 3.06s\n",
            "310:\tlearn: 0.0176881\ttotal: 1.38s\tremaining: 3.06s\n",
            "311:\tlearn: 0.0176456\ttotal: 1.38s\tremaining: 3.05s\n",
            "312:\tlearn: 0.0175990\ttotal: 1.39s\tremaining: 3.04s\n",
            "313:\tlearn: 0.0175569\ttotal: 1.39s\tremaining: 3.04s\n",
            "314:\tlearn: 0.0175235\ttotal: 1.39s\tremaining: 3.03s\n",
            "315:\tlearn: 0.0175000\ttotal: 1.4s\tremaining: 3.02s\n",
            "316:\tlearn: 0.0174793\ttotal: 1.4s\tremaining: 3.02s\n",
            "317:\tlearn: 0.0174549\ttotal: 1.42s\tremaining: 3.04s\n",
            "318:\tlearn: 0.0174171\ttotal: 1.42s\tremaining: 3.03s\n",
            "319:\tlearn: 0.0173631\ttotal: 1.42s\tremaining: 3.02s\n",
            "320:\tlearn: 0.0173309\ttotal: 1.43s\tremaining: 3.02s\n",
            "321:\tlearn: 0.0173011\ttotal: 1.43s\tremaining: 3.01s\n",
            "322:\tlearn: 0.0172529\ttotal: 1.43s\tremaining: 3s\n",
            "323:\tlearn: 0.0172352\ttotal: 1.43s\tremaining: 2.99s\n",
            "324:\tlearn: 0.0172139\ttotal: 1.44s\tremaining: 2.99s\n",
            "325:\tlearn: 0.0171837\ttotal: 1.44s\tremaining: 2.98s\n",
            "326:\tlearn: 0.0171630\ttotal: 1.44s\tremaining: 2.97s\n",
            "327:\tlearn: 0.0171059\ttotal: 1.46s\tremaining: 2.99s\n",
            "328:\tlearn: 0.0170439\ttotal: 1.48s\tremaining: 3.02s\n",
            "329:\tlearn: 0.0169878\ttotal: 1.48s\tremaining: 3.01s\n",
            "330:\tlearn: 0.0169492\ttotal: 1.49s\tremaining: 3s\n",
            "331:\tlearn: 0.0169357\ttotal: 1.49s\tremaining: 3s\n",
            "332:\tlearn: 0.0169141\ttotal: 1.49s\tremaining: 2.99s\n",
            "333:\tlearn: 0.0168875\ttotal: 1.5s\tremaining: 2.98s\n",
            "334:\tlearn: 0.0168557\ttotal: 1.5s\tremaining: 2.98s\n",
            "335:\tlearn: 0.0168008\ttotal: 1.5s\tremaining: 2.97s\n",
            "336:\tlearn: 0.0167548\ttotal: 1.51s\tremaining: 2.96s\n",
            "337:\tlearn: 0.0166889\ttotal: 1.51s\tremaining: 2.96s\n",
            "338:\tlearn: 0.0166027\ttotal: 1.51s\tremaining: 2.95s\n",
            "339:\tlearn: 0.0165554\ttotal: 1.51s\tremaining: 2.94s\n",
            "340:\tlearn: 0.0165184\ttotal: 1.52s\tremaining: 2.93s\n",
            "341:\tlearn: 0.0164525\ttotal: 1.52s\tremaining: 2.93s\n",
            "342:\tlearn: 0.0164342\ttotal: 1.52s\tremaining: 2.92s\n",
            "343:\tlearn: 0.0163649\ttotal: 1.53s\tremaining: 2.91s\n",
            "344:\tlearn: 0.0162819\ttotal: 1.53s\tremaining: 2.91s\n",
            "345:\tlearn: 0.0162713\ttotal: 1.54s\tremaining: 2.91s\n",
            "346:\tlearn: 0.0162296\ttotal: 1.54s\tremaining: 2.91s\n",
            "347:\tlearn: 0.0162036\ttotal: 1.55s\tremaining: 2.9s\n",
            "348:\tlearn: 0.0161642\ttotal: 1.55s\tremaining: 2.89s\n",
            "349:\tlearn: 0.0161054\ttotal: 1.55s\tremaining: 2.88s\n",
            "350:\tlearn: 0.0160825\ttotal: 1.56s\tremaining: 2.88s\n",
            "351:\tlearn: 0.0160159\ttotal: 1.56s\tremaining: 2.87s\n",
            "352:\tlearn: 0.0160030\ttotal: 1.57s\tremaining: 2.88s\n",
            "353:\tlearn: 0.0159671\ttotal: 1.58s\tremaining: 2.88s\n",
            "354:\tlearn: 0.0159391\ttotal: 1.58s\tremaining: 2.88s\n",
            "355:\tlearn: 0.0159112\ttotal: 1.59s\tremaining: 2.87s\n",
            "356:\tlearn: 0.0158535\ttotal: 1.59s\tremaining: 2.86s\n",
            "357:\tlearn: 0.0157918\ttotal: 1.59s\tremaining: 2.86s\n",
            "358:\tlearn: 0.0157505\ttotal: 1.6s\tremaining: 2.85s\n",
            "359:\tlearn: 0.0157119\ttotal: 1.6s\tremaining: 2.84s\n",
            "360:\tlearn: 0.0156794\ttotal: 1.6s\tremaining: 2.84s\n",
            "361:\tlearn: 0.0156581\ttotal: 1.61s\tremaining: 2.85s\n",
            "362:\tlearn: 0.0156009\ttotal: 1.62s\tremaining: 2.84s\n",
            "363:\tlearn: 0.0155735\ttotal: 1.62s\tremaining: 2.83s\n",
            "364:\tlearn: 0.0155653\ttotal: 1.63s\tremaining: 2.83s\n",
            "365:\tlearn: 0.0155315\ttotal: 1.64s\tremaining: 2.84s\n",
            "366:\tlearn: 0.0154881\ttotal: 1.65s\tremaining: 2.85s\n",
            "367:\tlearn: 0.0154563\ttotal: 1.66s\tremaining: 2.85s\n",
            "368:\tlearn: 0.0153790\ttotal: 1.66s\tremaining: 2.85s\n",
            "369:\tlearn: 0.0153554\ttotal: 1.67s\tremaining: 2.84s\n",
            "370:\tlearn: 0.0153212\ttotal: 1.67s\tremaining: 2.83s\n",
            "371:\tlearn: 0.0152789\ttotal: 1.67s\tremaining: 2.83s\n",
            "372:\tlearn: 0.0151800\ttotal: 1.68s\tremaining: 2.82s\n",
            "373:\tlearn: 0.0151508\ttotal: 1.68s\tremaining: 2.81s\n",
            "374:\tlearn: 0.0151347\ttotal: 1.68s\tremaining: 2.81s\n",
            "375:\tlearn: 0.0150937\ttotal: 1.69s\tremaining: 2.8s\n",
            "376:\tlearn: 0.0150677\ttotal: 1.69s\tremaining: 2.79s\n",
            "377:\tlearn: 0.0150420\ttotal: 1.69s\tremaining: 2.79s\n",
            "378:\tlearn: 0.0150218\ttotal: 1.7s\tremaining: 2.78s\n",
            "379:\tlearn: 0.0149946\ttotal: 1.7s\tremaining: 2.77s\n",
            "380:\tlearn: 0.0149680\ttotal: 1.7s\tremaining: 2.77s\n",
            "381:\tlearn: 0.0149376\ttotal: 1.71s\tremaining: 2.76s\n",
            "382:\tlearn: 0.0148862\ttotal: 1.71s\tremaining: 2.75s\n",
            "383:\tlearn: 0.0148571\ttotal: 1.71s\tremaining: 2.75s\n",
            "384:\tlearn: 0.0148068\ttotal: 1.72s\tremaining: 2.74s\n",
            "385:\tlearn: 0.0147780\ttotal: 1.72s\tremaining: 2.73s\n",
            "386:\tlearn: 0.0147464\ttotal: 1.72s\tremaining: 2.73s\n",
            "387:\tlearn: 0.0147306\ttotal: 1.73s\tremaining: 2.72s\n",
            "388:\tlearn: 0.0146893\ttotal: 1.73s\tremaining: 2.72s\n",
            "389:\tlearn: 0.0146494\ttotal: 1.74s\tremaining: 2.72s\n",
            "390:\tlearn: 0.0146055\ttotal: 1.74s\tremaining: 2.71s\n",
            "391:\tlearn: 0.0145589\ttotal: 1.75s\tremaining: 2.71s\n",
            "392:\tlearn: 0.0145259\ttotal: 1.75s\tremaining: 2.7s\n",
            "393:\tlearn: 0.0144889\ttotal: 1.75s\tremaining: 2.69s\n",
            "394:\tlearn: 0.0144273\ttotal: 1.75s\tremaining: 2.69s\n",
            "395:\tlearn: 0.0143946\ttotal: 1.76s\tremaining: 2.68s\n",
            "396:\tlearn: 0.0143686\ttotal: 1.76s\tremaining: 2.67s\n",
            "397:\tlearn: 0.0143312\ttotal: 1.76s\tremaining: 2.67s\n",
            "398:\tlearn: 0.0142894\ttotal: 1.77s\tremaining: 2.66s\n",
            "399:\tlearn: 0.0142544\ttotal: 1.77s\tremaining: 2.65s\n",
            "400:\tlearn: 0.0142256\ttotal: 1.77s\tremaining: 2.65s\n",
            "401:\tlearn: 0.0141993\ttotal: 1.78s\tremaining: 2.64s\n",
            "402:\tlearn: 0.0141861\ttotal: 1.78s\tremaining: 2.64s\n",
            "403:\tlearn: 0.0141352\ttotal: 1.78s\tremaining: 2.63s\n",
            "404:\tlearn: 0.0140834\ttotal: 1.79s\tremaining: 2.63s\n",
            "405:\tlearn: 0.0140712\ttotal: 1.8s\tremaining: 2.63s\n",
            "406:\tlearn: 0.0140464\ttotal: 1.81s\tremaining: 2.64s\n",
            "407:\tlearn: 0.0139874\ttotal: 1.82s\tremaining: 2.64s\n",
            "408:\tlearn: 0.0139413\ttotal: 1.84s\tremaining: 2.65s\n",
            "409:\tlearn: 0.0138977\ttotal: 1.84s\tremaining: 2.65s\n",
            "410:\tlearn: 0.0138513\ttotal: 1.86s\tremaining: 2.66s\n",
            "411:\tlearn: 0.0138250\ttotal: 1.86s\tremaining: 2.66s\n",
            "412:\tlearn: 0.0138122\ttotal: 1.88s\tremaining: 2.66s\n",
            "413:\tlearn: 0.0137631\ttotal: 1.88s\tremaining: 2.66s\n",
            "414:\tlearn: 0.0137259\ttotal: 1.9s\tremaining: 2.68s\n",
            "415:\tlearn: 0.0137125\ttotal: 1.91s\tremaining: 2.68s\n",
            "416:\tlearn: 0.0136878\ttotal: 1.92s\tremaining: 2.68s\n",
            "417:\tlearn: 0.0136696\ttotal: 1.92s\tremaining: 2.67s\n",
            "418:\tlearn: 0.0136453\ttotal: 1.93s\tremaining: 2.67s\n",
            "419:\tlearn: 0.0136106\ttotal: 1.96s\tremaining: 2.71s\n",
            "420:\tlearn: 0.0135915\ttotal: 1.97s\tremaining: 2.7s\n",
            "421:\tlearn: 0.0135512\ttotal: 1.97s\tremaining: 2.69s\n",
            "422:\tlearn: 0.0135239\ttotal: 1.97s\tremaining: 2.69s\n",
            "423:\tlearn: 0.0134958\ttotal: 1.97s\tremaining: 2.68s\n",
            "424:\tlearn: 0.0134788\ttotal: 1.98s\tremaining: 2.67s\n",
            "425:\tlearn: 0.0134550\ttotal: 1.98s\tremaining: 2.67s\n",
            "426:\tlearn: 0.0133925\ttotal: 1.98s\tremaining: 2.66s\n",
            "427:\tlearn: 0.0133580\ttotal: 1.99s\tremaining: 2.65s\n",
            "428:\tlearn: 0.0133292\ttotal: 1.99s\tremaining: 2.65s\n",
            "429:\tlearn: 0.0133172\ttotal: 2s\tremaining: 2.65s\n",
            "430:\tlearn: 0.0132832\ttotal: 2s\tremaining: 2.65s\n",
            "431:\tlearn: 0.0132384\ttotal: 2.01s\tremaining: 2.64s\n",
            "432:\tlearn: 0.0132131\ttotal: 2.01s\tremaining: 2.63s\n",
            "433:\tlearn: 0.0131794\ttotal: 2.01s\tremaining: 2.63s\n",
            "434:\tlearn: 0.0131585\ttotal: 2.02s\tremaining: 2.62s\n",
            "435:\tlearn: 0.0130990\ttotal: 2.03s\tremaining: 2.62s\n",
            "436:\tlearn: 0.0130890\ttotal: 2.03s\tremaining: 2.62s\n",
            "437:\tlearn: 0.0130626\ttotal: 2.03s\tremaining: 2.61s\n",
            "438:\tlearn: 0.0130035\ttotal: 2.04s\tremaining: 2.6s\n",
            "439:\tlearn: 0.0129840\ttotal: 2.04s\tremaining: 2.6s\n",
            "440:\tlearn: 0.0129360\ttotal: 2.04s\tremaining: 2.59s\n",
            "441:\tlearn: 0.0128846\ttotal: 2.04s\tremaining: 2.58s\n",
            "442:\tlearn: 0.0128594\ttotal: 2.06s\tremaining: 2.58s\n",
            "443:\tlearn: 0.0128473\ttotal: 2.08s\tremaining: 2.61s\n",
            "444:\tlearn: 0.0128023\ttotal: 2.11s\tremaining: 2.63s\n",
            "445:\tlearn: 0.0127435\ttotal: 2.11s\tremaining: 2.62s\n",
            "446:\tlearn: 0.0127195\ttotal: 2.12s\tremaining: 2.62s\n",
            "447:\tlearn: 0.0126758\ttotal: 2.13s\tremaining: 2.62s\n",
            "448:\tlearn: 0.0126565\ttotal: 2.14s\tremaining: 2.62s\n",
            "449:\tlearn: 0.0126204\ttotal: 2.14s\tremaining: 2.62s\n",
            "450:\tlearn: 0.0125679\ttotal: 2.18s\tremaining: 2.65s\n",
            "451:\tlearn: 0.0125423\ttotal: 2.18s\tremaining: 2.65s\n",
            "452:\tlearn: 0.0125334\ttotal: 2.2s\tremaining: 2.66s\n",
            "453:\tlearn: 0.0124940\ttotal: 2.21s\tremaining: 2.65s\n",
            "454:\tlearn: 0.0124671\ttotal: 2.21s\tremaining: 2.65s\n",
            "455:\tlearn: 0.0124606\ttotal: 2.21s\tremaining: 2.64s\n",
            "456:\tlearn: 0.0124111\ttotal: 2.22s\tremaining: 2.63s\n",
            "457:\tlearn: 0.0123879\ttotal: 2.22s\tremaining: 2.63s\n",
            "458:\tlearn: 0.0123783\ttotal: 2.22s\tremaining: 2.62s\n",
            "459:\tlearn: 0.0123510\ttotal: 2.23s\tremaining: 2.61s\n",
            "460:\tlearn: 0.0123274\ttotal: 2.24s\tremaining: 2.61s\n",
            "461:\tlearn: 0.0122793\ttotal: 2.24s\tremaining: 2.61s\n",
            "462:\tlearn: 0.0122485\ttotal: 2.24s\tremaining: 2.6s\n",
            "463:\tlearn: 0.0122284\ttotal: 2.25s\tremaining: 2.6s\n",
            "464:\tlearn: 0.0121701\ttotal: 2.25s\tremaining: 2.6s\n",
            "465:\tlearn: 0.0121651\ttotal: 2.26s\tremaining: 2.59s\n",
            "466:\tlearn: 0.0121196\ttotal: 2.26s\tremaining: 2.58s\n",
            "467:\tlearn: 0.0121050\ttotal: 2.27s\tremaining: 2.58s\n",
            "468:\tlearn: 0.0120845\ttotal: 2.27s\tremaining: 2.57s\n",
            "469:\tlearn: 0.0120519\ttotal: 2.27s\tremaining: 2.56s\n",
            "470:\tlearn: 0.0120457\ttotal: 2.28s\tremaining: 2.56s\n",
            "471:\tlearn: 0.0119986\ttotal: 2.28s\tremaining: 2.55s\n",
            "472:\tlearn: 0.0119718\ttotal: 2.28s\tremaining: 2.54s\n",
            "473:\tlearn: 0.0119482\ttotal: 2.29s\tremaining: 2.54s\n",
            "474:\tlearn: 0.0119170\ttotal: 2.29s\tremaining: 2.53s\n",
            "475:\tlearn: 0.0119094\ttotal: 2.29s\tremaining: 2.53s\n",
            "476:\tlearn: 0.0118751\ttotal: 2.3s\tremaining: 2.52s\n",
            "477:\tlearn: 0.0118526\ttotal: 2.3s\tremaining: 2.51s\n",
            "478:\tlearn: 0.0118296\ttotal: 2.3s\tremaining: 2.51s\n",
            "479:\tlearn: 0.0118013\ttotal: 2.31s\tremaining: 2.5s\n",
            "480:\tlearn: 0.0117805\ttotal: 2.33s\tremaining: 2.51s\n",
            "481:\tlearn: 0.0117626\ttotal: 2.33s\tremaining: 2.51s\n",
            "482:\tlearn: 0.0117312\ttotal: 2.34s\tremaining: 2.5s\n",
            "483:\tlearn: 0.0117088\ttotal: 2.36s\tremaining: 2.52s\n",
            "484:\tlearn: 0.0116833\ttotal: 2.38s\tremaining: 2.53s\n",
            "485:\tlearn: 0.0116724\ttotal: 2.4s\tremaining: 2.54s\n",
            "486:\tlearn: 0.0116419\ttotal: 2.4s\tremaining: 2.53s\n",
            "487:\tlearn: 0.0116133\ttotal: 2.42s\tremaining: 2.54s\n",
            "488:\tlearn: 0.0115743\ttotal: 2.42s\tremaining: 2.53s\n",
            "489:\tlearn: 0.0115565\ttotal: 2.43s\tremaining: 2.53s\n",
            "490:\tlearn: 0.0115283\ttotal: 2.44s\tremaining: 2.53s\n",
            "491:\tlearn: 0.0114972\ttotal: 2.45s\tremaining: 2.53s\n",
            "492:\tlearn: 0.0114808\ttotal: 2.46s\tremaining: 2.52s\n",
            "493:\tlearn: 0.0114590\ttotal: 2.46s\tremaining: 2.52s\n",
            "494:\tlearn: 0.0114313\ttotal: 2.47s\tremaining: 2.52s\n",
            "495:\tlearn: 0.0114084\ttotal: 2.48s\tremaining: 2.52s\n",
            "496:\tlearn: 0.0113948\ttotal: 2.49s\tremaining: 2.52s\n",
            "497:\tlearn: 0.0113807\ttotal: 2.51s\tremaining: 2.53s\n",
            "498:\tlearn: 0.0113720\ttotal: 2.51s\tremaining: 2.52s\n",
            "499:\tlearn: 0.0113127\ttotal: 2.52s\tremaining: 2.52s\n",
            "500:\tlearn: 0.0113099\ttotal: 2.52s\tremaining: 2.51s\n",
            "501:\tlearn: 0.0113009\ttotal: 2.52s\tremaining: 2.5s\n",
            "502:\tlearn: 0.0112712\ttotal: 2.52s\tremaining: 2.5s\n",
            "503:\tlearn: 0.0112524\ttotal: 2.53s\tremaining: 2.49s\n",
            "504:\tlearn: 0.0112363\ttotal: 2.53s\tremaining: 2.48s\n",
            "505:\tlearn: 0.0112059\ttotal: 2.54s\tremaining: 2.48s\n",
            "506:\tlearn: 0.0111925\ttotal: 2.54s\tremaining: 2.47s\n",
            "507:\tlearn: 0.0111778\ttotal: 2.54s\tremaining: 2.46s\n",
            "508:\tlearn: 0.0111585\ttotal: 2.54s\tremaining: 2.45s\n",
            "509:\tlearn: 0.0111032\ttotal: 2.55s\tremaining: 2.45s\n",
            "510:\tlearn: 0.0110994\ttotal: 2.55s\tremaining: 2.44s\n",
            "511:\tlearn: 0.0110796\ttotal: 2.56s\tremaining: 2.44s\n",
            "512:\tlearn: 0.0110681\ttotal: 2.57s\tremaining: 2.44s\n",
            "513:\tlearn: 0.0110539\ttotal: 2.57s\tremaining: 2.43s\n",
            "514:\tlearn: 0.0110213\ttotal: 2.57s\tremaining: 2.42s\n",
            "515:\tlearn: 0.0110011\ttotal: 2.58s\tremaining: 2.42s\n",
            "516:\tlearn: 0.0109834\ttotal: 2.58s\tremaining: 2.41s\n",
            "517:\tlearn: 0.0109596\ttotal: 2.58s\tremaining: 2.4s\n",
            "518:\tlearn: 0.0109433\ttotal: 2.6s\tremaining: 2.41s\n",
            "519:\tlearn: 0.0109221\ttotal: 2.62s\tremaining: 2.41s\n",
            "520:\tlearn: 0.0109187\ttotal: 2.62s\tremaining: 2.41s\n",
            "521:\tlearn: 0.0108771\ttotal: 2.62s\tremaining: 2.4s\n",
            "522:\tlearn: 0.0108499\ttotal: 2.62s\tremaining: 2.39s\n",
            "523:\tlearn: 0.0108371\ttotal: 2.63s\tremaining: 2.39s\n",
            "524:\tlearn: 0.0108199\ttotal: 2.63s\tremaining: 2.38s\n",
            "525:\tlearn: 0.0108049\ttotal: 2.63s\tremaining: 2.37s\n",
            "526:\tlearn: 0.0108005\ttotal: 2.64s\tremaining: 2.37s\n",
            "527:\tlearn: 0.0107708\ttotal: 2.64s\tremaining: 2.36s\n",
            "528:\tlearn: 0.0107599\ttotal: 2.64s\tremaining: 2.35s\n",
            "529:\tlearn: 0.0107520\ttotal: 2.65s\tremaining: 2.35s\n",
            "530:\tlearn: 0.0107285\ttotal: 2.65s\tremaining: 2.34s\n",
            "531:\tlearn: 0.0107184\ttotal: 2.65s\tremaining: 2.33s\n",
            "532:\tlearn: 0.0106991\ttotal: 2.66s\tremaining: 2.33s\n",
            "533:\tlearn: 0.0106758\ttotal: 2.66s\tremaining: 2.32s\n",
            "534:\tlearn: 0.0106561\ttotal: 2.67s\tremaining: 2.32s\n",
            "535:\tlearn: 0.0106292\ttotal: 2.67s\tremaining: 2.31s\n",
            "536:\tlearn: 0.0106141\ttotal: 2.67s\tremaining: 2.3s\n",
            "537:\tlearn: 0.0105875\ttotal: 2.68s\tremaining: 2.3s\n",
            "538:\tlearn: 0.0105622\ttotal: 2.68s\tremaining: 2.29s\n",
            "539:\tlearn: 0.0105463\ttotal: 2.68s\tremaining: 2.29s\n",
            "540:\tlearn: 0.0105201\ttotal: 2.69s\tremaining: 2.28s\n",
            "541:\tlearn: 0.0105074\ttotal: 2.69s\tremaining: 2.27s\n",
            "542:\tlearn: 0.0104924\ttotal: 2.69s\tremaining: 2.27s\n",
            "543:\tlearn: 0.0104796\ttotal: 2.69s\tremaining: 2.26s\n",
            "544:\tlearn: 0.0104636\ttotal: 2.7s\tremaining: 2.25s\n",
            "545:\tlearn: 0.0104428\ttotal: 2.7s\tremaining: 2.25s\n",
            "546:\tlearn: 0.0104186\ttotal: 2.7s\tremaining: 2.24s\n",
            "547:\tlearn: 0.0104044\ttotal: 2.71s\tremaining: 2.23s\n",
            "548:\tlearn: 0.0103895\ttotal: 2.71s\tremaining: 2.23s\n",
            "549:\tlearn: 0.0103731\ttotal: 2.71s\tremaining: 2.22s\n",
            "550:\tlearn: 0.0103505\ttotal: 2.72s\tremaining: 2.21s\n",
            "551:\tlearn: 0.0103453\ttotal: 2.72s\tremaining: 2.21s\n",
            "552:\tlearn: 0.0103219\ttotal: 2.72s\tremaining: 2.2s\n",
            "553:\tlearn: 0.0103126\ttotal: 2.73s\tremaining: 2.2s\n",
            "554:\tlearn: 0.0102878\ttotal: 2.73s\tremaining: 2.19s\n",
            "555:\tlearn: 0.0102754\ttotal: 2.73s\tremaining: 2.18s\n",
            "556:\tlearn: 0.0102660\ttotal: 2.74s\tremaining: 2.18s\n",
            "557:\tlearn: 0.0102415\ttotal: 2.74s\tremaining: 2.17s\n",
            "558:\tlearn: 0.0102189\ttotal: 2.75s\tremaining: 2.17s\n",
            "559:\tlearn: 0.0101989\ttotal: 2.75s\tremaining: 2.16s\n",
            "560:\tlearn: 0.0101767\ttotal: 2.76s\tremaining: 2.16s\n",
            "561:\tlearn: 0.0101524\ttotal: 2.76s\tremaining: 2.15s\n",
            "562:\tlearn: 0.0101315\ttotal: 2.76s\tremaining: 2.14s\n",
            "563:\tlearn: 0.0100956\ttotal: 2.77s\tremaining: 2.14s\n",
            "564:\tlearn: 0.0100912\ttotal: 2.77s\tremaining: 2.13s\n",
            "565:\tlearn: 0.0100752\ttotal: 2.77s\tremaining: 2.13s\n",
            "566:\tlearn: 0.0100590\ttotal: 2.77s\tremaining: 2.12s\n",
            "567:\tlearn: 0.0100428\ttotal: 2.78s\tremaining: 2.11s\n",
            "568:\tlearn: 0.0100226\ttotal: 2.78s\tremaining: 2.11s\n",
            "569:\tlearn: 0.0100031\ttotal: 2.78s\tremaining: 2.1s\n",
            "570:\tlearn: 0.0099939\ttotal: 2.79s\tremaining: 2.09s\n",
            "571:\tlearn: 0.0099784\ttotal: 2.79s\tremaining: 2.09s\n",
            "572:\tlearn: 0.0099454\ttotal: 2.8s\tremaining: 2.08s\n",
            "573:\tlearn: 0.0099398\ttotal: 2.8s\tremaining: 2.08s\n",
            "574:\tlearn: 0.0099211\ttotal: 2.8s\tremaining: 2.07s\n",
            "575:\tlearn: 0.0099080\ttotal: 2.81s\tremaining: 2.07s\n",
            "576:\tlearn: 0.0098855\ttotal: 2.81s\tremaining: 2.06s\n",
            "577:\tlearn: 0.0098413\ttotal: 2.81s\tremaining: 2.06s\n",
            "578:\tlearn: 0.0098196\ttotal: 2.82s\tremaining: 2.05s\n",
            "579:\tlearn: 0.0098038\ttotal: 2.82s\tremaining: 2.04s\n",
            "580:\tlearn: 0.0097818\ttotal: 2.83s\tremaining: 2.04s\n",
            "581:\tlearn: 0.0097589\ttotal: 2.83s\tremaining: 2.03s\n",
            "582:\tlearn: 0.0097319\ttotal: 2.83s\tremaining: 2.02s\n",
            "583:\tlearn: 0.0097206\ttotal: 2.83s\tremaining: 2.02s\n",
            "584:\tlearn: 0.0097081\ttotal: 2.84s\tremaining: 2.01s\n",
            "585:\tlearn: 0.0096777\ttotal: 2.84s\tremaining: 2.01s\n",
            "586:\tlearn: 0.0096710\ttotal: 2.85s\tremaining: 2s\n",
            "587:\tlearn: 0.0096572\ttotal: 2.85s\tremaining: 2s\n",
            "588:\tlearn: 0.0096436\ttotal: 2.85s\tremaining: 1.99s\n",
            "589:\tlearn: 0.0096414\ttotal: 2.86s\tremaining: 1.99s\n",
            "590:\tlearn: 0.0096263\ttotal: 2.86s\tremaining: 1.98s\n",
            "591:\tlearn: 0.0096253\ttotal: 2.86s\tremaining: 1.97s\n",
            "592:\tlearn: 0.0096103\ttotal: 2.87s\tremaining: 1.97s\n",
            "593:\tlearn: 0.0096001\ttotal: 2.87s\tremaining: 1.96s\n",
            "594:\tlearn: 0.0095913\ttotal: 2.87s\tremaining: 1.96s\n",
            "595:\tlearn: 0.0095731\ttotal: 2.88s\tremaining: 1.95s\n",
            "596:\tlearn: 0.0095594\ttotal: 2.88s\tremaining: 1.94s\n",
            "597:\tlearn: 0.0095461\ttotal: 2.88s\tremaining: 1.94s\n",
            "598:\tlearn: 0.0095295\ttotal: 2.89s\tremaining: 1.93s\n",
            "599:\tlearn: 0.0095131\ttotal: 2.89s\tremaining: 1.93s\n",
            "600:\tlearn: 0.0094937\ttotal: 2.89s\tremaining: 1.92s\n",
            "601:\tlearn: 0.0094823\ttotal: 2.9s\tremaining: 1.92s\n",
            "602:\tlearn: 0.0094607\ttotal: 2.9s\tremaining: 1.91s\n",
            "603:\tlearn: 0.0094412\ttotal: 2.9s\tremaining: 1.9s\n",
            "604:\tlearn: 0.0093970\ttotal: 2.91s\tremaining: 1.9s\n",
            "605:\tlearn: 0.0093855\ttotal: 2.91s\tremaining: 1.89s\n",
            "606:\tlearn: 0.0093741\ttotal: 2.91s\tremaining: 1.89s\n",
            "607:\tlearn: 0.0093584\ttotal: 2.92s\tremaining: 1.88s\n",
            "608:\tlearn: 0.0093384\ttotal: 2.93s\tremaining: 1.88s\n",
            "609:\tlearn: 0.0093243\ttotal: 2.93s\tremaining: 1.88s\n",
            "610:\tlearn: 0.0093033\ttotal: 2.95s\tremaining: 1.88s\n",
            "611:\tlearn: 0.0092915\ttotal: 2.96s\tremaining: 1.88s\n",
            "612:\tlearn: 0.0092597\ttotal: 2.96s\tremaining: 1.87s\n",
            "613:\tlearn: 0.0092461\ttotal: 2.97s\tremaining: 1.86s\n",
            "614:\tlearn: 0.0092329\ttotal: 2.98s\tremaining: 1.86s\n",
            "615:\tlearn: 0.0092193\ttotal: 2.98s\tremaining: 1.86s\n",
            "616:\tlearn: 0.0092045\ttotal: 2.99s\tremaining: 1.85s\n",
            "617:\tlearn: 0.0091862\ttotal: 2.99s\tremaining: 1.85s\n",
            "618:\tlearn: 0.0091720\ttotal: 3.03s\tremaining: 1.86s\n",
            "619:\tlearn: 0.0091622\ttotal: 3.05s\tremaining: 1.87s\n",
            "620:\tlearn: 0.0091552\ttotal: 3.05s\tremaining: 1.86s\n",
            "621:\tlearn: 0.0091417\ttotal: 3.06s\tremaining: 1.86s\n",
            "622:\tlearn: 0.0091000\ttotal: 3.07s\tremaining: 1.86s\n",
            "623:\tlearn: 0.0090870\ttotal: 3.08s\tremaining: 1.85s\n",
            "624:\tlearn: 0.0090743\ttotal: 3.09s\tremaining: 1.86s\n",
            "625:\tlearn: 0.0090441\ttotal: 3.11s\tremaining: 1.86s\n",
            "626:\tlearn: 0.0090316\ttotal: 3.13s\tremaining: 1.86s\n",
            "627:\tlearn: 0.0090216\ttotal: 3.14s\tremaining: 1.86s\n",
            "628:\tlearn: 0.0089818\ttotal: 3.14s\tremaining: 1.85s\n",
            "629:\tlearn: 0.0089750\ttotal: 3.15s\tremaining: 1.85s\n",
            "630:\tlearn: 0.0089565\ttotal: 3.16s\tremaining: 1.85s\n",
            "631:\tlearn: 0.0089518\ttotal: 3.16s\tremaining: 1.84s\n",
            "632:\tlearn: 0.0089338\ttotal: 3.17s\tremaining: 1.83s\n",
            "633:\tlearn: 0.0089163\ttotal: 3.17s\tremaining: 1.83s\n",
            "634:\tlearn: 0.0088887\ttotal: 3.17s\tremaining: 1.82s\n",
            "635:\tlearn: 0.0088550\ttotal: 3.19s\tremaining: 1.82s\n",
            "636:\tlearn: 0.0088425\ttotal: 3.19s\tremaining: 1.82s\n",
            "637:\tlearn: 0.0088327\ttotal: 3.19s\tremaining: 1.81s\n",
            "638:\tlearn: 0.0087953\ttotal: 3.19s\tremaining: 1.8s\n",
            "639:\tlearn: 0.0087835\ttotal: 3.2s\tremaining: 1.8s\n",
            "640:\tlearn: 0.0087714\ttotal: 3.2s\tremaining: 1.79s\n",
            "641:\tlearn: 0.0087543\ttotal: 3.2s\tremaining: 1.79s\n",
            "642:\tlearn: 0.0087417\ttotal: 3.21s\tremaining: 1.78s\n",
            "643:\tlearn: 0.0087237\ttotal: 3.21s\tremaining: 1.77s\n",
            "644:\tlearn: 0.0086919\ttotal: 3.21s\tremaining: 1.77s\n",
            "645:\tlearn: 0.0086801\ttotal: 3.22s\tremaining: 1.76s\n",
            "646:\tlearn: 0.0086685\ttotal: 3.22s\tremaining: 1.76s\n",
            "647:\tlearn: 0.0086571\ttotal: 3.22s\tremaining: 1.75s\n",
            "648:\tlearn: 0.0086478\ttotal: 3.23s\tremaining: 1.75s\n",
            "649:\tlearn: 0.0086201\ttotal: 3.23s\tremaining: 1.74s\n",
            "650:\tlearn: 0.0086185\ttotal: 3.23s\tremaining: 1.73s\n",
            "651:\tlearn: 0.0086000\ttotal: 3.23s\tremaining: 1.73s\n",
            "652:\tlearn: 0.0085926\ttotal: 3.24s\tremaining: 1.72s\n",
            "653:\tlearn: 0.0085637\ttotal: 3.24s\tremaining: 1.71s\n",
            "654:\tlearn: 0.0085484\ttotal: 3.25s\tremaining: 1.71s\n",
            "655:\tlearn: 0.0085204\ttotal: 3.25s\tremaining: 1.7s\n",
            "656:\tlearn: 0.0085156\ttotal: 3.26s\tremaining: 1.7s\n",
            "657:\tlearn: 0.0084942\ttotal: 3.26s\tremaining: 1.7s\n",
            "658:\tlearn: 0.0084792\ttotal: 3.27s\tremaining: 1.69s\n",
            "659:\tlearn: 0.0084681\ttotal: 3.29s\tremaining: 1.7s\n",
            "660:\tlearn: 0.0084532\ttotal: 3.29s\tremaining: 1.69s\n",
            "661:\tlearn: 0.0084439\ttotal: 3.3s\tremaining: 1.68s\n",
            "662:\tlearn: 0.0084330\ttotal: 3.3s\tremaining: 1.68s\n",
            "663:\tlearn: 0.0084215\ttotal: 3.3s\tremaining: 1.67s\n",
            "664:\tlearn: 0.0084069\ttotal: 3.31s\tremaining: 1.67s\n",
            "665:\tlearn: 0.0084030\ttotal: 3.31s\tremaining: 1.66s\n",
            "666:\tlearn: 0.0083917\ttotal: 3.31s\tremaining: 1.65s\n",
            "667:\tlearn: 0.0083776\ttotal: 3.31s\tremaining: 1.65s\n",
            "668:\tlearn: 0.0083668\ttotal: 3.32s\tremaining: 1.64s\n",
            "669:\tlearn: 0.0083547\ttotal: 3.32s\tremaining: 1.64s\n",
            "670:\tlearn: 0.0083434\ttotal: 3.32s\tremaining: 1.63s\n",
            "671:\tlearn: 0.0083295\ttotal: 3.33s\tremaining: 1.62s\n",
            "672:\tlearn: 0.0083183\ttotal: 3.33s\tremaining: 1.62s\n",
            "673:\tlearn: 0.0083072\ttotal: 3.33s\tremaining: 1.61s\n",
            "674:\tlearn: 0.0082813\ttotal: 3.34s\tremaining: 1.61s\n",
            "675:\tlearn: 0.0082479\ttotal: 3.34s\tremaining: 1.6s\n",
            "676:\tlearn: 0.0082362\ttotal: 3.34s\tremaining: 1.59s\n",
            "677:\tlearn: 0.0082096\ttotal: 3.35s\tremaining: 1.59s\n",
            "678:\tlearn: 0.0082034\ttotal: 3.35s\tremaining: 1.58s\n",
            "679:\tlearn: 0.0081946\ttotal: 3.35s\tremaining: 1.58s\n",
            "680:\tlearn: 0.0081814\ttotal: 3.35s\tremaining: 1.57s\n",
            "681:\tlearn: 0.0081711\ttotal: 3.36s\tremaining: 1.57s\n",
            "682:\tlearn: 0.0081604\ttotal: 3.37s\tremaining: 1.56s\n",
            "683:\tlearn: 0.0081347\ttotal: 3.38s\tremaining: 1.56s\n",
            "684:\tlearn: 0.0081247\ttotal: 3.39s\tremaining: 1.56s\n",
            "685:\tlearn: 0.0081002\ttotal: 3.39s\tremaining: 1.55s\n",
            "686:\tlearn: 0.0080935\ttotal: 3.39s\tremaining: 1.55s\n",
            "687:\tlearn: 0.0080812\ttotal: 3.4s\tremaining: 1.54s\n",
            "688:\tlearn: 0.0080624\ttotal: 3.4s\tremaining: 1.53s\n",
            "689:\tlearn: 0.0080519\ttotal: 3.4s\tremaining: 1.53s\n",
            "690:\tlearn: 0.0080459\ttotal: 3.41s\tremaining: 1.52s\n",
            "691:\tlearn: 0.0080237\ttotal: 3.41s\tremaining: 1.52s\n",
            "692:\tlearn: 0.0080197\ttotal: 3.41s\tremaining: 1.51s\n",
            "693:\tlearn: 0.0080100\ttotal: 3.42s\tremaining: 1.5s\n",
            "694:\tlearn: 0.0079974\ttotal: 3.42s\tremaining: 1.5s\n",
            "695:\tlearn: 0.0079790\ttotal: 3.42s\tremaining: 1.49s\n",
            "696:\tlearn: 0.0079667\ttotal: 3.42s\tremaining: 1.49s\n",
            "697:\tlearn: 0.0079416\ttotal: 3.43s\tremaining: 1.48s\n",
            "698:\tlearn: 0.0079315\ttotal: 3.43s\tremaining: 1.48s\n",
            "699:\tlearn: 0.0079258\ttotal: 3.43s\tremaining: 1.47s\n",
            "700:\tlearn: 0.0079138\ttotal: 3.44s\tremaining: 1.47s\n",
            "701:\tlearn: 0.0078894\ttotal: 3.44s\tremaining: 1.46s\n",
            "702:\tlearn: 0.0078790\ttotal: 3.44s\tremaining: 1.45s\n",
            "703:\tlearn: 0.0078773\ttotal: 3.44s\tremaining: 1.45s\n",
            "704:\tlearn: 0.0078735\ttotal: 3.45s\tremaining: 1.44s\n",
            "705:\tlearn: 0.0078666\ttotal: 3.45s\tremaining: 1.44s\n",
            "706:\tlearn: 0.0078543\ttotal: 3.45s\tremaining: 1.43s\n",
            "707:\tlearn: 0.0078314\ttotal: 3.46s\tremaining: 1.43s\n",
            "708:\tlearn: 0.0078080\ttotal: 3.47s\tremaining: 1.42s\n",
            "709:\tlearn: 0.0077989\ttotal: 3.48s\tremaining: 1.42s\n",
            "710:\tlearn: 0.0077755\ttotal: 3.48s\tremaining: 1.42s\n",
            "711:\tlearn: 0.0077659\ttotal: 3.49s\tremaining: 1.41s\n",
            "712:\tlearn: 0.0077548\ttotal: 3.49s\tremaining: 1.41s\n",
            "713:\tlearn: 0.0077340\ttotal: 3.51s\tremaining: 1.4s\n",
            "714:\tlearn: 0.0077225\ttotal: 3.51s\tremaining: 1.4s\n",
            "715:\tlearn: 0.0077083\ttotal: 3.51s\tremaining: 1.39s\n",
            "716:\tlearn: 0.0077027\ttotal: 3.52s\tremaining: 1.39s\n",
            "717:\tlearn: 0.0076925\ttotal: 3.52s\tremaining: 1.38s\n",
            "718:\tlearn: 0.0076661\ttotal: 3.52s\tremaining: 1.38s\n",
            "719:\tlearn: 0.0076561\ttotal: 3.52s\tremaining: 1.37s\n",
            "720:\tlearn: 0.0076506\ttotal: 3.53s\tremaining: 1.36s\n",
            "721:\tlearn: 0.0076410\ttotal: 3.53s\tremaining: 1.36s\n",
            "722:\tlearn: 0.0076314\ttotal: 3.53s\tremaining: 1.35s\n",
            "723:\tlearn: 0.0076089\ttotal: 3.54s\tremaining: 1.35s\n",
            "724:\tlearn: 0.0076035\ttotal: 3.54s\tremaining: 1.34s\n",
            "725:\tlearn: 0.0075946\ttotal: 3.54s\tremaining: 1.34s\n",
            "726:\tlearn: 0.0075838\ttotal: 3.55s\tremaining: 1.33s\n",
            "727:\tlearn: 0.0075726\ttotal: 3.55s\tremaining: 1.33s\n",
            "728:\tlearn: 0.0075562\ttotal: 3.55s\tremaining: 1.32s\n",
            "729:\tlearn: 0.0075459\ttotal: 3.56s\tremaining: 1.31s\n",
            "730:\tlearn: 0.0075400\ttotal: 3.56s\tremaining: 1.31s\n",
            "731:\tlearn: 0.0075364\ttotal: 3.56s\tremaining: 1.3s\n",
            "732:\tlearn: 0.0075256\ttotal: 3.56s\tremaining: 1.3s\n",
            "733:\tlearn: 0.0075074\ttotal: 3.57s\tremaining: 1.29s\n",
            "734:\tlearn: 0.0074916\ttotal: 3.57s\tremaining: 1.29s\n",
            "735:\tlearn: 0.0074822\ttotal: 3.58s\tremaining: 1.28s\n",
            "736:\tlearn: 0.0074730\ttotal: 3.58s\tremaining: 1.28s\n",
            "737:\tlearn: 0.0074591\ttotal: 3.58s\tremaining: 1.27s\n",
            "738:\tlearn: 0.0074499\ttotal: 3.58s\tremaining: 1.27s\n",
            "739:\tlearn: 0.0074385\ttotal: 3.59s\tremaining: 1.26s\n",
            "740:\tlearn: 0.0074350\ttotal: 3.59s\tremaining: 1.25s\n",
            "741:\tlearn: 0.0074254\ttotal: 3.59s\tremaining: 1.25s\n",
            "742:\tlearn: 0.0074128\ttotal: 3.6s\tremaining: 1.24s\n",
            "743:\tlearn: 0.0073833\ttotal: 3.6s\tremaining: 1.24s\n",
            "744:\tlearn: 0.0073740\ttotal: 3.6s\tremaining: 1.23s\n",
            "745:\tlearn: 0.0073710\ttotal: 3.6s\tremaining: 1.23s\n",
            "746:\tlearn: 0.0073662\ttotal: 3.61s\tremaining: 1.22s\n",
            "747:\tlearn: 0.0073569\ttotal: 3.61s\tremaining: 1.22s\n",
            "748:\tlearn: 0.0073379\ttotal: 3.62s\tremaining: 1.21s\n",
            "749:\tlearn: 0.0073109\ttotal: 3.62s\tremaining: 1.21s\n",
            "750:\tlearn: 0.0073086\ttotal: 3.62s\tremaining: 1.2s\n",
            "751:\tlearn: 0.0072937\ttotal: 3.63s\tremaining: 1.2s\n",
            "752:\tlearn: 0.0072810\ttotal: 3.63s\tremaining: 1.19s\n",
            "753:\tlearn: 0.0072704\ttotal: 3.63s\tremaining: 1.18s\n",
            "754:\tlearn: 0.0072561\ttotal: 3.64s\tremaining: 1.18s\n",
            "755:\tlearn: 0.0072466\ttotal: 3.64s\tremaining: 1.18s\n",
            "756:\tlearn: 0.0072286\ttotal: 3.65s\tremaining: 1.17s\n",
            "757:\tlearn: 0.0072191\ttotal: 3.66s\tremaining: 1.17s\n",
            "758:\tlearn: 0.0071891\ttotal: 3.66s\tremaining: 1.16s\n",
            "759:\tlearn: 0.0071790\ttotal: 3.66s\tremaining: 1.16s\n",
            "760:\tlearn: 0.0071695\ttotal: 3.67s\tremaining: 1.15s\n",
            "761:\tlearn: 0.0071492\ttotal: 3.67s\tremaining: 1.15s\n",
            "762:\tlearn: 0.0071290\ttotal: 3.67s\tremaining: 1.14s\n",
            "763:\tlearn: 0.0071156\ttotal: 3.68s\tremaining: 1.14s\n",
            "764:\tlearn: 0.0070959\ttotal: 3.68s\tremaining: 1.13s\n",
            "765:\tlearn: 0.0070673\ttotal: 3.68s\tremaining: 1.13s\n",
            "766:\tlearn: 0.0070628\ttotal: 3.69s\tremaining: 1.12s\n",
            "767:\tlearn: 0.0070465\ttotal: 3.69s\tremaining: 1.11s\n",
            "768:\tlearn: 0.0070377\ttotal: 3.69s\tremaining: 1.11s\n",
            "769:\tlearn: 0.0070102\ttotal: 3.7s\tremaining: 1.1s\n",
            "770:\tlearn: 0.0070059\ttotal: 3.7s\tremaining: 1.1s\n",
            "771:\tlearn: 0.0069956\ttotal: 3.71s\tremaining: 1.09s\n",
            "772:\tlearn: 0.0069911\ttotal: 3.71s\tremaining: 1.09s\n",
            "773:\tlearn: 0.0069845\ttotal: 3.71s\tremaining: 1.08s\n",
            "774:\tlearn: 0.0069750\ttotal: 3.71s\tremaining: 1.08s\n",
            "775:\tlearn: 0.0069665\ttotal: 3.73s\tremaining: 1.08s\n",
            "776:\tlearn: 0.0069570\ttotal: 3.74s\tremaining: 1.07s\n",
            "777:\tlearn: 0.0069488\ttotal: 3.76s\tremaining: 1.07s\n",
            "778:\tlearn: 0.0069406\ttotal: 3.77s\tremaining: 1.07s\n",
            "779:\tlearn: 0.0069246\ttotal: 3.78s\tremaining: 1.06s\n",
            "780:\tlearn: 0.0069163\ttotal: 3.79s\tremaining: 1.06s\n",
            "781:\tlearn: 0.0069082\ttotal: 3.8s\tremaining: 1.06s\n",
            "782:\tlearn: 0.0068895\ttotal: 3.81s\tremaining: 1.05s\n",
            "783:\tlearn: 0.0068770\ttotal: 3.82s\tremaining: 1.05s\n",
            "784:\tlearn: 0.0068708\ttotal: 3.85s\tremaining: 1.05s\n",
            "785:\tlearn: 0.0068666\ttotal: 3.85s\tremaining: 1.05s\n",
            "786:\tlearn: 0.0068588\ttotal: 3.86s\tremaining: 1.04s\n",
            "787:\tlearn: 0.0068478\ttotal: 3.86s\tremaining: 1.04s\n",
            "788:\tlearn: 0.0068396\ttotal: 3.87s\tremaining: 1.03s\n",
            "789:\tlearn: 0.0068308\ttotal: 3.88s\tremaining: 1.03s\n",
            "790:\tlearn: 0.0068243\ttotal: 3.89s\tremaining: 1.03s\n",
            "791:\tlearn: 0.0068164\ttotal: 3.9s\tremaining: 1.02s\n",
            "792:\tlearn: 0.0068083\ttotal: 3.91s\tremaining: 1.02s\n",
            "793:\tlearn: 0.0067926\ttotal: 3.91s\tremaining: 1.01s\n",
            "794:\tlearn: 0.0067735\ttotal: 3.92s\tremaining: 1.01s\n",
            "795:\tlearn: 0.0067570\ttotal: 3.92s\tremaining: 1s\n",
            "796:\tlearn: 0.0067415\ttotal: 3.92s\tremaining: 1000ms\n",
            "797:\tlearn: 0.0067322\ttotal: 3.93s\tremaining: 995ms\n",
            "798:\tlearn: 0.0067251\ttotal: 3.94s\tremaining: 991ms\n",
            "799:\tlearn: 0.0067174\ttotal: 3.94s\tremaining: 986ms\n",
            "800:\tlearn: 0.0067094\ttotal: 3.95s\tremaining: 981ms\n",
            "801:\tlearn: 0.0067035\ttotal: 3.97s\tremaining: 979ms\n",
            "802:\tlearn: 0.0066876\ttotal: 3.98s\tremaining: 975ms\n",
            "803:\tlearn: 0.0066734\ttotal: 3.99s\tremaining: 973ms\n",
            "804:\tlearn: 0.0066661\ttotal: 4s\tremaining: 970ms\n",
            "805:\tlearn: 0.0066485\ttotal: 4.01s\tremaining: 966ms\n",
            "806:\tlearn: 0.0066407\ttotal: 4.02s\tremaining: 961ms\n",
            "807:\tlearn: 0.0066368\ttotal: 4.03s\tremaining: 957ms\n",
            "808:\tlearn: 0.0066241\ttotal: 4.03s\tremaining: 952ms\n",
            "809:\tlearn: 0.0066159\ttotal: 4.04s\tremaining: 948ms\n",
            "810:\tlearn: 0.0066077\ttotal: 4.05s\tremaining: 943ms\n",
            "811:\tlearn: 0.0065940\ttotal: 4.06s\tremaining: 939ms\n",
            "812:\tlearn: 0.0065871\ttotal: 4.06s\tremaining: 934ms\n",
            "813:\tlearn: 0.0065714\ttotal: 4.08s\tremaining: 932ms\n",
            "814:\tlearn: 0.0065587\ttotal: 4.09s\tremaining: 928ms\n",
            "815:\tlearn: 0.0065570\ttotal: 4.1s\tremaining: 925ms\n",
            "816:\tlearn: 0.0065480\ttotal: 4.11s\tremaining: 920ms\n",
            "817:\tlearn: 0.0065346\ttotal: 4.12s\tremaining: 916ms\n",
            "818:\tlearn: 0.0065317\ttotal: 4.12s\tremaining: 911ms\n",
            "819:\tlearn: 0.0065195\ttotal: 4.13s\tremaining: 908ms\n",
            "820:\tlearn: 0.0065131\ttotal: 4.14s\tremaining: 902ms\n",
            "821:\tlearn: 0.0065075\ttotal: 4.15s\tremaining: 898ms\n",
            "822:\tlearn: 0.0064919\ttotal: 4.16s\tremaining: 895ms\n",
            "823:\tlearn: 0.0064776\ttotal: 4.17s\tremaining: 892ms\n",
            "824:\tlearn: 0.0064683\ttotal: 4.19s\tremaining: 889ms\n",
            "825:\tlearn: 0.0064621\ttotal: 4.21s\tremaining: 886ms\n",
            "826:\tlearn: 0.0064555\ttotal: 4.22s\tremaining: 882ms\n",
            "827:\tlearn: 0.0064380\ttotal: 4.22s\tremaining: 877ms\n",
            "828:\tlearn: 0.0064302\ttotal: 4.23s\tremaining: 873ms\n",
            "829:\tlearn: 0.0064282\ttotal: 4.24s\tremaining: 869ms\n",
            "830:\tlearn: 0.0064219\ttotal: 4.25s\tremaining: 864ms\n",
            "831:\tlearn: 0.0064049\ttotal: 4.25s\tremaining: 859ms\n",
            "832:\tlearn: 0.0063960\ttotal: 4.27s\tremaining: 856ms\n",
            "833:\tlearn: 0.0063812\ttotal: 4.32s\tremaining: 859ms\n",
            "834:\tlearn: 0.0063700\ttotal: 4.32s\tremaining: 854ms\n",
            "835:\tlearn: 0.0063582\ttotal: 4.33s\tremaining: 850ms\n",
            "836:\tlearn: 0.0063514\ttotal: 4.34s\tremaining: 845ms\n",
            "837:\tlearn: 0.0063439\ttotal: 4.34s\tremaining: 840ms\n",
            "838:\tlearn: 0.0063360\ttotal: 4.36s\tremaining: 838ms\n",
            "839:\tlearn: 0.0063195\ttotal: 4.38s\tremaining: 834ms\n",
            "840:\tlearn: 0.0063182\ttotal: 4.39s\tremaining: 829ms\n",
            "841:\tlearn: 0.0063149\ttotal: 4.4s\tremaining: 826ms\n",
            "842:\tlearn: 0.0063035\ttotal: 4.41s\tremaining: 821ms\n",
            "843:\tlearn: 0.0062945\ttotal: 4.41s\tremaining: 816ms\n",
            "844:\tlearn: 0.0062797\ttotal: 4.42s\tremaining: 811ms\n",
            "845:\tlearn: 0.0062661\ttotal: 4.43s\tremaining: 807ms\n",
            "846:\tlearn: 0.0062602\ttotal: 4.44s\tremaining: 803ms\n",
            "847:\tlearn: 0.0062570\ttotal: 4.46s\tremaining: 800ms\n",
            "848:\tlearn: 0.0062538\ttotal: 4.47s\tremaining: 796ms\n",
            "849:\tlearn: 0.0062328\ttotal: 4.48s\tremaining: 791ms\n",
            "850:\tlearn: 0.0062263\ttotal: 4.5s\tremaining: 788ms\n",
            "851:\tlearn: 0.0062126\ttotal: 4.51s\tremaining: 784ms\n",
            "852:\tlearn: 0.0061992\ttotal: 4.52s\tremaining: 780ms\n",
            "853:\tlearn: 0.0061975\ttotal: 4.54s\tremaining: 777ms\n",
            "854:\tlearn: 0.0061817\ttotal: 4.56s\tremaining: 774ms\n",
            "855:\tlearn: 0.0061746\ttotal: 4.59s\tremaining: 772ms\n",
            "856:\tlearn: 0.0061603\ttotal: 4.6s\tremaining: 768ms\n",
            "857:\tlearn: 0.0061466\ttotal: 4.61s\tremaining: 764ms\n",
            "858:\tlearn: 0.0061426\ttotal: 4.62s\tremaining: 759ms\n",
            "859:\tlearn: 0.0061376\ttotal: 4.63s\tremaining: 754ms\n",
            "860:\tlearn: 0.0061364\ttotal: 4.65s\tremaining: 751ms\n",
            "861:\tlearn: 0.0061147\ttotal: 4.66s\tremaining: 746ms\n",
            "862:\tlearn: 0.0061086\ttotal: 4.67s\tremaining: 742ms\n",
            "863:\tlearn: 0.0060999\ttotal: 4.69s\tremaining: 738ms\n",
            "864:\tlearn: 0.0060917\ttotal: 4.71s\tremaining: 735ms\n",
            "865:\tlearn: 0.0060853\ttotal: 4.72s\tremaining: 731ms\n",
            "866:\tlearn: 0.0060766\ttotal: 4.74s\tremaining: 727ms\n",
            "867:\tlearn: 0.0060684\ttotal: 4.75s\tremaining: 722ms\n",
            "868:\tlearn: 0.0060623\ttotal: 4.76s\tremaining: 718ms\n",
            "869:\tlearn: 0.0060568\ttotal: 4.78s\tremaining: 714ms\n",
            "870:\tlearn: 0.0060499\ttotal: 4.78s\tremaining: 709ms\n",
            "871:\tlearn: 0.0060427\ttotal: 4.79s\tremaining: 703ms\n",
            "872:\tlearn: 0.0060291\ttotal: 4.8s\tremaining: 698ms\n",
            "873:\tlearn: 0.0060243\ttotal: 4.8s\tremaining: 693ms\n",
            "874:\tlearn: 0.0060173\ttotal: 4.81s\tremaining: 688ms\n",
            "875:\tlearn: 0.0059965\ttotal: 4.82s\tremaining: 682ms\n",
            "876:\tlearn: 0.0059906\ttotal: 4.83s\tremaining: 677ms\n",
            "877:\tlearn: 0.0059776\ttotal: 4.84s\tremaining: 672ms\n",
            "878:\tlearn: 0.0059705\ttotal: 4.86s\tremaining: 668ms\n",
            "879:\tlearn: 0.0059574\ttotal: 4.87s\tremaining: 664ms\n",
            "880:\tlearn: 0.0059542\ttotal: 4.88s\tremaining: 659ms\n",
            "881:\tlearn: 0.0059351\ttotal: 4.88s\tremaining: 654ms\n",
            "882:\tlearn: 0.0059290\ttotal: 4.92s\tremaining: 652ms\n",
            "883:\tlearn: 0.0059222\ttotal: 4.92s\tremaining: 646ms\n",
            "884:\tlearn: 0.0059120\ttotal: 4.93s\tremaining: 641ms\n",
            "885:\tlearn: 0.0059063\ttotal: 4.94s\tremaining: 636ms\n",
            "886:\tlearn: 0.0059003\ttotal: 4.97s\tremaining: 633ms\n",
            "887:\tlearn: 0.0058806\ttotal: 4.98s\tremaining: 628ms\n",
            "888:\tlearn: 0.0058748\ttotal: 5s\tremaining: 625ms\n",
            "889:\tlearn: 0.0058653\ttotal: 5.01s\tremaining: 619ms\n",
            "890:\tlearn: 0.0058597\ttotal: 5.03s\tremaining: 615ms\n",
            "891:\tlearn: 0.0058543\ttotal: 5.04s\tremaining: 611ms\n",
            "892:\tlearn: 0.0058351\ttotal: 5.05s\tremaining: 605ms\n",
            "893:\tlearn: 0.0058241\ttotal: 5.06s\tremaining: 600ms\n",
            "894:\tlearn: 0.0058162\ttotal: 5.08s\tremaining: 596ms\n",
            "895:\tlearn: 0.0058096\ttotal: 5.1s\tremaining: 592ms\n",
            "896:\tlearn: 0.0057981\ttotal: 5.11s\tremaining: 587ms\n",
            "897:\tlearn: 0.0057922\ttotal: 5.13s\tremaining: 582ms\n",
            "898:\tlearn: 0.0057907\ttotal: 5.14s\tremaining: 577ms\n",
            "899:\tlearn: 0.0057806\ttotal: 5.15s\tremaining: 573ms\n",
            "900:\tlearn: 0.0057670\ttotal: 5.17s\tremaining: 568ms\n",
            "901:\tlearn: 0.0057523\ttotal: 5.18s\tremaining: 563ms\n",
            "902:\tlearn: 0.0057422\ttotal: 5.19s\tremaining: 558ms\n",
            "903:\tlearn: 0.0057371\ttotal: 5.21s\tremaining: 554ms\n",
            "904:\tlearn: 0.0057298\ttotal: 5.22s\tremaining: 548ms\n",
            "905:\tlearn: 0.0057173\ttotal: 5.23s\tremaining: 543ms\n",
            "906:\tlearn: 0.0057055\ttotal: 5.25s\tremaining: 538ms\n",
            "907:\tlearn: 0.0056896\ttotal: 5.26s\tremaining: 534ms\n",
            "908:\tlearn: 0.0056817\ttotal: 5.27s\tremaining: 528ms\n",
            "909:\tlearn: 0.0056752\ttotal: 5.3s\tremaining: 524ms\n",
            "910:\tlearn: 0.0056657\ttotal: 5.3s\tremaining: 518ms\n",
            "911:\tlearn: 0.0056582\ttotal: 5.34s\tremaining: 515ms\n",
            "912:\tlearn: 0.0056470\ttotal: 5.35s\tremaining: 510ms\n",
            "913:\tlearn: 0.0056362\ttotal: 5.36s\tremaining: 505ms\n",
            "914:\tlearn: 0.0056302\ttotal: 5.38s\tremaining: 499ms\n",
            "915:\tlearn: 0.0056162\ttotal: 5.39s\tremaining: 494ms\n",
            "916:\tlearn: 0.0056008\ttotal: 5.39s\tremaining: 488ms\n",
            "917:\tlearn: 0.0055944\ttotal: 5.41s\tremaining: 483ms\n",
            "918:\tlearn: 0.0055895\ttotal: 5.42s\tremaining: 478ms\n",
            "919:\tlearn: 0.0055782\ttotal: 5.45s\tremaining: 474ms\n",
            "920:\tlearn: 0.0055663\ttotal: 5.49s\tremaining: 471ms\n",
            "921:\tlearn: 0.0055547\ttotal: 5.51s\tremaining: 466ms\n",
            "922:\tlearn: 0.0055475\ttotal: 5.53s\tremaining: 461ms\n",
            "923:\tlearn: 0.0055403\ttotal: 5.54s\tremaining: 455ms\n",
            "924:\tlearn: 0.0055343\ttotal: 5.54s\tremaining: 449ms\n",
            "925:\tlearn: 0.0055291\ttotal: 5.55s\tremaining: 443ms\n",
            "926:\tlearn: 0.0055179\ttotal: 5.56s\tremaining: 438ms\n",
            "927:\tlearn: 0.0055069\ttotal: 5.56s\tremaining: 431ms\n",
            "928:\tlearn: 0.0054999\ttotal: 5.57s\tremaining: 426ms\n",
            "929:\tlearn: 0.0054941\ttotal: 5.57s\tremaining: 420ms\n",
            "930:\tlearn: 0.0054890\ttotal: 5.58s\tremaining: 414ms\n",
            "931:\tlearn: 0.0054783\ttotal: 5.59s\tremaining: 408ms\n",
            "932:\tlearn: 0.0054733\ttotal: 5.6s\tremaining: 402ms\n",
            "933:\tlearn: 0.0054665\ttotal: 5.63s\tremaining: 398ms\n",
            "934:\tlearn: 0.0054615\ttotal: 5.65s\tremaining: 393ms\n",
            "935:\tlearn: 0.0054547\ttotal: 5.66s\tremaining: 387ms\n",
            "936:\tlearn: 0.0054445\ttotal: 5.67s\tremaining: 381ms\n",
            "937:\tlearn: 0.0054372\ttotal: 5.69s\tremaining: 376ms\n",
            "938:\tlearn: 0.0054245\ttotal: 5.72s\tremaining: 372ms\n",
            "939:\tlearn: 0.0054229\ttotal: 5.74s\tremaining: 366ms\n",
            "940:\tlearn: 0.0054122\ttotal: 5.75s\tremaining: 360ms\n",
            "941:\tlearn: 0.0054073\ttotal: 5.76s\tremaining: 355ms\n",
            "942:\tlearn: 0.0054010\ttotal: 5.77s\tremaining: 349ms\n",
            "943:\tlearn: 0.0053896\ttotal: 5.78s\tremaining: 343ms\n",
            "944:\tlearn: 0.0053826\ttotal: 5.8s\tremaining: 337ms\n",
            "945:\tlearn: 0.0053767\ttotal: 5.8s\tremaining: 331ms\n",
            "946:\tlearn: 0.0053656\ttotal: 5.81s\tremaining: 325ms\n",
            "947:\tlearn: 0.0053600\ttotal: 5.82s\tremaining: 319ms\n",
            "948:\tlearn: 0.0053542\ttotal: 5.83s\tremaining: 313ms\n",
            "949:\tlearn: 0.0053487\ttotal: 5.84s\tremaining: 308ms\n",
            "950:\tlearn: 0.0053465\ttotal: 5.85s\tremaining: 301ms\n",
            "951:\tlearn: 0.0053362\ttotal: 5.86s\tremaining: 295ms\n",
            "952:\tlearn: 0.0053240\ttotal: 5.88s\tremaining: 290ms\n",
            "953:\tlearn: 0.0053140\ttotal: 5.88s\tremaining: 284ms\n",
            "954:\tlearn: 0.0053042\ttotal: 5.9s\tremaining: 278ms\n",
            "955:\tlearn: 0.0052941\ttotal: 5.9s\tremaining: 272ms\n",
            "956:\tlearn: 0.0052875\ttotal: 5.93s\tremaining: 266ms\n",
            "957:\tlearn: 0.0052774\ttotal: 5.95s\tremaining: 261ms\n",
            "958:\tlearn: 0.0052720\ttotal: 5.96s\tremaining: 255ms\n",
            "959:\tlearn: 0.0052621\ttotal: 5.98s\tremaining: 249ms\n",
            "960:\tlearn: 0.0052480\ttotal: 5.99s\tremaining: 243ms\n",
            "961:\tlearn: 0.0052344\ttotal: 6s\tremaining: 237ms\n",
            "962:\tlearn: 0.0052272\ttotal: 6.01s\tremaining: 231ms\n",
            "963:\tlearn: 0.0052204\ttotal: 6.03s\tremaining: 225ms\n",
            "964:\tlearn: 0.0052153\ttotal: 6.04s\tremaining: 219ms\n",
            "965:\tlearn: 0.0052083\ttotal: 6.06s\tremaining: 213ms\n",
            "966:\tlearn: 0.0051990\ttotal: 6.06s\tremaining: 207ms\n",
            "967:\tlearn: 0.0051954\ttotal: 6.07s\tremaining: 201ms\n",
            "968:\tlearn: 0.0051860\ttotal: 6.07s\tremaining: 194ms\n",
            "969:\tlearn: 0.0051816\ttotal: 6.09s\tremaining: 188ms\n",
            "970:\tlearn: 0.0051698\ttotal: 6.11s\tremaining: 182ms\n",
            "971:\tlearn: 0.0051609\ttotal: 6.12s\tremaining: 176ms\n",
            "972:\tlearn: 0.0051469\ttotal: 6.13s\tremaining: 170ms\n",
            "973:\tlearn: 0.0051353\ttotal: 6.13s\tremaining: 164ms\n",
            "974:\tlearn: 0.0051338\ttotal: 6.15s\tremaining: 158ms\n",
            "975:\tlearn: 0.0051289\ttotal: 6.17s\tremaining: 152ms\n",
            "976:\tlearn: 0.0051224\ttotal: 6.18s\tremaining: 146ms\n",
            "977:\tlearn: 0.0051156\ttotal: 6.19s\tremaining: 139ms\n",
            "978:\tlearn: 0.0051084\ttotal: 6.2s\tremaining: 133ms\n",
            "979:\tlearn: 0.0051012\ttotal: 6.23s\tremaining: 127ms\n",
            "980:\tlearn: 0.0050963\ttotal: 6.23s\tremaining: 121ms\n",
            "981:\tlearn: 0.0050936\ttotal: 6.24s\tremaining: 114ms\n",
            "982:\tlearn: 0.0050852\ttotal: 6.25s\tremaining: 108ms\n",
            "983:\tlearn: 0.0050791\ttotal: 6.27s\tremaining: 102ms\n",
            "984:\tlearn: 0.0050747\ttotal: 6.27s\tremaining: 95.5ms\n",
            "985:\tlearn: 0.0050680\ttotal: 6.28s\tremaining: 89.2ms\n",
            "986:\tlearn: 0.0050508\ttotal: 6.29s\tremaining: 82.9ms\n",
            "987:\tlearn: 0.0050462\ttotal: 6.3s\tremaining: 76.5ms\n",
            "988:\tlearn: 0.0050405\ttotal: 6.32s\tremaining: 70.3ms\n",
            "989:\tlearn: 0.0050385\ttotal: 6.33s\tremaining: 63.9ms\n",
            "990:\tlearn: 0.0050297\ttotal: 6.34s\tremaining: 57.6ms\n",
            "991:\tlearn: 0.0050254\ttotal: 6.35s\tremaining: 51.2ms\n",
            "992:\tlearn: 0.0050191\ttotal: 6.36s\tremaining: 44.8ms\n",
            "993:\tlearn: 0.0050137\ttotal: 6.37s\tremaining: 38.4ms\n",
            "994:\tlearn: 0.0049970\ttotal: 6.37s\tremaining: 32ms\n",
            "995:\tlearn: 0.0049880\ttotal: 6.38s\tremaining: 25.6ms\n",
            "996:\tlearn: 0.0049869\ttotal: 6.39s\tremaining: 19.2ms\n",
            "997:\tlearn: 0.0049775\ttotal: 6.41s\tremaining: 12.8ms\n",
            "998:\tlearn: 0.0049715\ttotal: 6.42s\tremaining: 6.43ms\n",
            "999:\tlearn: 0.0049624\ttotal: 6.44s\tremaining: 0us\n",
            "[0, 1, 0, 0, 0, 0, 0, 0, 0, 0, 0, 0, 0, 0, 0, 0, 0, 0, 0, 0, 0, 0, 0, 0, 0, 0, 0, 0, 1, 0, 1, 0, 0, 0, 0, 0, 0, 0, 0, 0, 0, 0, 0, 0, 0, 0, 0, 0, 0, 0, 0, 0, 0, 0, 0, 0, 0, 0, 0, 0, 0, 1, 0, 1, 0, 0, 0, 0, 0, 0, 0, 0, 0, 0, 0, 0, 0, 0, 0, 0, 0, 0, 0, 0, 0, 1, 0, 0, 0, 0, 0, 0, 0, 0, 0, 1, 0, 0, 0, 0, 0, 0, 0, 0, 0, 0, 0, 0, 0, 1, 0, 0, 0, 0, 0, 0, 0, 0, 0, 0, 0, 0, 0, 0, 0, 0, 0, 0, 0, 0, 0, 0, 0, 0, 0, 0, 1, 1, 0, 0, 0, 0, 0, 0, 0, 1, 0, 0, 1, 0, 0, 0, 0, 0, 1, 1, 0, 0, 0, 0, 0, 0, 0, 0, 0, 0, 0, 0, 0, 0, 0, 0, 0, 0, 1, 0, 0, 0, 1, 0, 0, 1, 0, 0, 0, 0, 0, 1, 0, 0, 0, 0, 0, 0, 0, 0, 0, 0, 0, 0, 0, 0, 0, 0, 0, 0, 0, 0, 0, 0, 0, 0, 1, 0, 0, 1, 0, 0, 0, 0, 0, 0, 0, 0, 0, 0, 0, 1, 0, 0, 0, 0, 1, 0, 0, 0, 1, 0, 1, 0, 0, 0, 0, 0, 0, 0, 0, 0, 1, 0, 0, 0, 0, 0, 1, 0, 0, 0, 1, 0, 0, 0, 1, 0, 0, 0, 1, 0, 0, 0, 0, 0, 0, 0, 0, 1, 0, 0, 0, 0, 1, 0, 0, 0, 0, 1, 0, 0, 0, 0, 0, 0, 0, 1, 0, 0, 0, 0, 0, 0, 0, 0, 0, 0, 0, 0, 0, 0, 0, 0, 1, 0, 1, 0, 0, 1, 0, 0, 0, 0, 0, 0, 0, 0, 0, 0, 0, 0, 0, 0, 0, 0, 0, 0, 0, 1, 0, 0, 0, 0, 1, 0, 0, 0, 1, 0, 0, 0, 0, 0, 0, 0, 0, 0, 0, 0, 1, 0, 1, 0, 0, 0, 0, 0, 0, 0, 0, 0, 0, 0, 0, 0, 1, 0, 0, 1, 0, 0, 0, 0, 0, 0, 0, 0, 0, 0, 0, 1, 0, 1, 0, 0, 0, 0, 0, 0, 0, 0, 0, 0, 0, 0, 0, 0, 0, 0, 0, 0, 0, 0, 0, 1, 0, 0, 0, 0, 0, 0, 0, 0, 0, 0, 0, 0, 0, 0, 0, 0, 0, 0, 0, 0, 0, 0, 1, 0, 0, 0, 0, 1, 0, 0, 0, 0, 0, 0, 0, 0, 0, 0, 0, 1, 0, 0, 0, 0, 0, 0, 0, 0, 0, 0, 0, 0, 0, 0, 0, 0, 0, 0, 0, 0, 0, 0, 0, 0, 1, 0, 0, 0, 0, 0, 1, 0, 0, 0, 0, 0, 1, 0, 1, 0, 0, 0, 0, 0, 0, 0, 0, 0, 0, 0, 0, 0, 0, 0, 0, 0, 0, 0, 0, 0, 0, 0, 0, 0, 0, 0, 0, 0, 0, 0, 0, 0, 0, 0, 0, 0, 0, 0, 0, 0, 0, 0, 0, 0, 0, 0, 0, 0, 0, 0, 0, 0, 0, 0, 0, 1, 0, 0, 0, 0, 0, 0, 0, 0, 0, 1, 0, 0, 0, 0, 1, 0, 0, 0, 0, 0, 0, 0, 0, 0, 0, 0, 0, 0, 0, 0, 0, 0, 0, 0, 0, 0, 0, 0, 0, 0, 0, 0, 1, 0, 0, 0, 0, 0, 0, 0, 0, 0, 0, 0, 0, 0, 0, 0, 0, 0, 0, 0, 0, 0, 0, 0, 1, 0, 0, 0, 1, 0, 0, 0, 0, 0, 0, 0, 0, 0, 0, 0, 0, 0, 1, 0, 0, 0, 0, 0, 0, 0, 1, 0, 0, 0, 0, 0, 1, 0, 0, 0, 0, 0, 0, 0, 0, 0, 1, 0, 0, 0, 0, 0, 0, 1, 0, 0, 0, 0, 0, 0, 0, 0, 0, 0, 0, 0, 0, 0, 0, 0, 0, 0, 0, 1, 0, 1, 0, 1, 0, 1, 0, 0, 0, 0, 0, 0, 0, 0, 0, 0, 0, 0, 0, 0, 0, 0, 0, 1, 0, 0, 0, 0, 0, 0, 0, 0, 0, 0, 0, 0, 0, 0, 0, 0, 0, 0, 0, 0, 0, 0, 0, 0, 1, 0, 0, 0, 0, 0, 0, 0, 0, 0, 0, 0, 0, 0, 0, 1, 0, 0, 0, 0, 0, 0, 1, 0, 0, 0, 0, 0, 0, 0, 0, 0, 0, 1, 0, 0, 0, 0, 1, 1, 0, 0, 0, 0, 0, 0, 0, 0, 0, 0, 0, 0, 0, 0, 0, 0, 1, 0, 0, 0, 0, 1, 0, 0, 0, 0, 0, 0, 0, 0, 1, 0, 0, 0, 0, 1, 0, 0, 0, 1, 0, 0, 1, 1, 0, 0, 0, 0, 0, 0, 0, 0, 0, 0, 1, 0, 0, 0, 0, 0, 0, 0, 0, 0, 0, 0, 0, 0, 0, 0, 0, 0, 0, 0, 0, 0, 1, 0, 0, 0, 0, 0, 0, 0, 0, 0, 0, 0, 0, 0, 0, 0, 0, 0, 0, 0, 0, 0, 0, 0, 0, 0, 0, 0, 0, 0, 0, 0, 0, 0, 0, 1, 1, 0, 0, 0, 1, 1, 0, 0, 0, 0, 0, 0, 0, 0, 0, 0, 0, 0, 0, 0, 0, 0, 0, 0, 0, 0, 0, 0, 0, 0, 0, 0, 0, 0, 0, 0, 0, 0, 1, 1, 0, 0, 0, 0, 0, 0, 0, 0, 0, 1, 0, 0, 0, 1, 0, 0, 0, 0, 0, 0, 0, 0, 0, 0, 0, 0, 0, 0, 0, 1, 0, 0, 0, 0, 0, 0, 0, 0, 0, 0, 0, 0, 1, 0, 0, 0, 0, 0, 0, 0, 0, 0, 0, 1, 0, 0, 0, 0, 0, 0, 0, 0, 0, 0, 0, 0, 0, 1, 0, 0, 1, 0, 0, 0, 0, 0]\n"
          ]
        }
      ]
    }
  ]
}