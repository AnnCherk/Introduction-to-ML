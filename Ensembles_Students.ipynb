{
  "cells": [
    {
      "cell_type": "markdown",
      "metadata": {
        "id": "view-in-github",
        "colab_type": "text"
      },
      "source": [
        "<a href=\"https://colab.research.google.com/github/AnnCherk/Introduction-to-ML/blob/main/Ensembles_Students.ipynb\" target=\"_parent\"><img src=\"https://colab.research.google.com/assets/colab-badge.svg\" alt=\"Open In Colab\"/></a>"
      ]
    },
    {
      "cell_type": "markdown",
      "source": [
        "---\n",
        "\n",
        "# Ансамбли моделей"
      ],
      "metadata": {
        "collapsed": false,
        "id": "FkbP5g9IOwKf"
      }
    },
    {
      "cell_type": "markdown",
      "source": [
        "В этой работе мы рассмотрим применение некоторых классических и хорошо себя показавших алгоритмов-ансамблей. Демонстрировать работу этих алгоритмов будем на данных о потреблении электричества."
      ],
      "metadata": {
        "collapsed": false,
        "id": "7cfqqTD-OwKg"
      }
    },
    {
      "cell_type": "markdown",
      "source": [
        "# Описание набора данных"
      ],
      "metadata": {
        "id": "SnV_mUTS1yY9"
      }
    },
    {
      "cell_type": "markdown",
      "source": [
        "**Author**: M. Harries, J. Gama, A. Bifet  \n",
        "**Source**: [Joao Gama](http://www.inescporto.pt/~jgama/ales/ales_5.html) - 2009  \n",
        "**Please cite**: None  \n",
        "\n",
        "**Electricity** is a widely used dataset described by M. Harries and analyzed by J. Gama (see papers below). This data was collected from the Australian New South Wales Electricity Market. In this market, prices are not fixed and are affected by demand and supply of the market. They are set every five minutes. Electricity transfers to/from the neighboring state of Victoria were done to alleviate fluctuations.\n",
        "\n",
        "The dataset (originally named ELEC2) contains 45,312 instances dated from 7 May 1996 to 5 December 1998. Each example of the dataset refers to a period of 30 minutes, i.e. there are 48 instances for each time period of one day. Each example on the dataset has 5 fields, the day of week, the time stamp, the New South Wales electricity demand, the Victoria electricity demand, the scheduled electricity transfer between states and the class label. The class label identifies the change of the price (UP or DOWN) in New South Wales relative to a moving average of the last 24 hours (and removes the impact of longer term price trends).\n",
        "\n",
        "The data was normalized by A. Bifet.\n",
        "\n",
        "### Attribute information  \n",
        "* Date: date between 7 May 1996 to 5 December 1998. Here normalized between 0 and 1\n",
        "* Day: day of the week (1-7)\n",
        "* Period: time of the measurement (1-48) in half hour intervals over 24 hours. Here normalized between 0 and 1\n",
        "* NSWprice: New South Wales electricity price, normalized between 0 and 1\n",
        "* NSWdemand: New South Wales electricity demand, normalized between 0 and 1\n",
        "* VICprice: Victoria electricity price, normalized between 0 and 1\n",
        "* VICdemand: Victoria electricity demand, normalized between 0 and 1\n",
        "* transfer: scheduled electricity transfer between both states, normalized between 0 and 1\n",
        "\n",
        "### Relevant papers  \n",
        "M. Harries. Splice-2 comparative evaluation: Electricity pricing. Technical report, The University of South Wales, 1999.  \n",
        "J. Gama, P. Medas, G. Castillo, and P. Rodrigues. Learning with drift detection. In SBIA Brazilian Symposium on Artificial Intelligence, pages 286–295, 2004."
      ],
      "metadata": {
        "id": "EnfByH4SuGGM"
      }
    },
    {
      "cell_type": "markdown",
      "source": [
        "# Разведочный анализ данных"
      ],
      "metadata": {
        "collapsed": false,
        "id": "iF1Dq_b5OwKh"
      }
    },
    {
      "cell_type": "markdown",
      "source": [
        "Считайте набор данных в датафрейм"
      ],
      "metadata": {
        "id": "JiuUwJN52OFV"
      }
    },
    {
      "cell_type": "code",
      "source": [
        "import pandas as pd\n",
        "\n",
        "df = pd.read_csv('electricity_train.csv')"
      ],
      "metadata": {
        "id": "ZDPVa8Dut_qJ"
      },
      "execution_count": null,
      "outputs": []
    },
    {
      "cell_type": "markdown",
      "source": [
        "При помощи метода <code>.describe()</code> изучите набор данных «с высоты птичьего полета»."
      ],
      "metadata": {
        "id": "7gPhTkzt2vey"
      }
    },
    {
      "cell_type": "code",
      "source": [
        "df.describe()"
      ],
      "metadata": {
        "id": "MUO2PzGE2vC3",
        "colab": {
          "base_uri": "https://localhost:8080/",
          "height": 320
        },
        "outputId": "4346979f-83bf-428e-d534-50d430ad74c2"
      },
      "execution_count": null,
      "outputs": [
        {
          "output_type": "execute_result",
          "data": {
            "text/plain": [
              "               date           day        period      nswprice     nswdemand  \\\n",
              "count  36249.000000  36249.000000  36249.000000  36249.000000  36249.000000   \n",
              "mean       0.498293      4.006566      0.500560      0.057828      0.425939   \n",
              "std        0.339907      1.993551      0.294998      0.039052      0.163390   \n",
              "min        0.000000      1.000000      0.000000      0.000000      0.000000   \n",
              "25%        0.031945      2.000000      0.255319      0.035187      0.309729   \n",
              "50%        0.456263      4.000000      0.510638      0.048787      0.444213   \n",
              "75%        0.880492      6.000000      0.765957      0.074457      0.536745   \n",
              "max        1.000000      7.000000      1.000000      1.000000      0.980809   \n",
              "\n",
              "           vicprice     vicdemand      transfer         class  \n",
              "count  36249.000000  36249.000000  36249.000000  36249.000000  \n",
              "mean       0.003455      0.423024      0.500243      0.424536  \n",
              "std        0.010175      0.120600      0.153098      0.494279  \n",
              "min        0.000000      0.000000      0.000000      0.000000  \n",
              "25%        0.002283      0.373382      0.414912      0.000000  \n",
              "50%        0.003467      0.422915      0.414912      0.000000  \n",
              "75%        0.003467      0.468669      0.605263      1.000000  \n",
              "max        1.000000      1.000000      0.959211      1.000000  "
            ],
            "text/html": [
              "\n",
              "  <div id=\"df-3abcf48f-71d8-4770-982e-74f2adf6beff\" class=\"colab-df-container\">\n",
              "    <div>\n",
              "<style scoped>\n",
              "    .dataframe tbody tr th:only-of-type {\n",
              "        vertical-align: middle;\n",
              "    }\n",
              "\n",
              "    .dataframe tbody tr th {\n",
              "        vertical-align: top;\n",
              "    }\n",
              "\n",
              "    .dataframe thead th {\n",
              "        text-align: right;\n",
              "    }\n",
              "</style>\n",
              "<table border=\"1\" class=\"dataframe\">\n",
              "  <thead>\n",
              "    <tr style=\"text-align: right;\">\n",
              "      <th></th>\n",
              "      <th>date</th>\n",
              "      <th>day</th>\n",
              "      <th>period</th>\n",
              "      <th>nswprice</th>\n",
              "      <th>nswdemand</th>\n",
              "      <th>vicprice</th>\n",
              "      <th>vicdemand</th>\n",
              "      <th>transfer</th>\n",
              "      <th>class</th>\n",
              "    </tr>\n",
              "  </thead>\n",
              "  <tbody>\n",
              "    <tr>\n",
              "      <th>count</th>\n",
              "      <td>36249.000000</td>\n",
              "      <td>36249.000000</td>\n",
              "      <td>36249.000000</td>\n",
              "      <td>36249.000000</td>\n",
              "      <td>36249.000000</td>\n",
              "      <td>36249.000000</td>\n",
              "      <td>36249.000000</td>\n",
              "      <td>36249.000000</td>\n",
              "      <td>36249.000000</td>\n",
              "    </tr>\n",
              "    <tr>\n",
              "      <th>mean</th>\n",
              "      <td>0.498293</td>\n",
              "      <td>4.006566</td>\n",
              "      <td>0.500560</td>\n",
              "      <td>0.057828</td>\n",
              "      <td>0.425939</td>\n",
              "      <td>0.003455</td>\n",
              "      <td>0.423024</td>\n",
              "      <td>0.500243</td>\n",
              "      <td>0.424536</td>\n",
              "    </tr>\n",
              "    <tr>\n",
              "      <th>std</th>\n",
              "      <td>0.339907</td>\n",
              "      <td>1.993551</td>\n",
              "      <td>0.294998</td>\n",
              "      <td>0.039052</td>\n",
              "      <td>0.163390</td>\n",
              "      <td>0.010175</td>\n",
              "      <td>0.120600</td>\n",
              "      <td>0.153098</td>\n",
              "      <td>0.494279</td>\n",
              "    </tr>\n",
              "    <tr>\n",
              "      <th>min</th>\n",
              "      <td>0.000000</td>\n",
              "      <td>1.000000</td>\n",
              "      <td>0.000000</td>\n",
              "      <td>0.000000</td>\n",
              "      <td>0.000000</td>\n",
              "      <td>0.000000</td>\n",
              "      <td>0.000000</td>\n",
              "      <td>0.000000</td>\n",
              "      <td>0.000000</td>\n",
              "    </tr>\n",
              "    <tr>\n",
              "      <th>25%</th>\n",
              "      <td>0.031945</td>\n",
              "      <td>2.000000</td>\n",
              "      <td>0.255319</td>\n",
              "      <td>0.035187</td>\n",
              "      <td>0.309729</td>\n",
              "      <td>0.002283</td>\n",
              "      <td>0.373382</td>\n",
              "      <td>0.414912</td>\n",
              "      <td>0.000000</td>\n",
              "    </tr>\n",
              "    <tr>\n",
              "      <th>50%</th>\n",
              "      <td>0.456263</td>\n",
              "      <td>4.000000</td>\n",
              "      <td>0.510638</td>\n",
              "      <td>0.048787</td>\n",
              "      <td>0.444213</td>\n",
              "      <td>0.003467</td>\n",
              "      <td>0.422915</td>\n",
              "      <td>0.414912</td>\n",
              "      <td>0.000000</td>\n",
              "    </tr>\n",
              "    <tr>\n",
              "      <th>75%</th>\n",
              "      <td>0.880492</td>\n",
              "      <td>6.000000</td>\n",
              "      <td>0.765957</td>\n",
              "      <td>0.074457</td>\n",
              "      <td>0.536745</td>\n",
              "      <td>0.003467</td>\n",
              "      <td>0.468669</td>\n",
              "      <td>0.605263</td>\n",
              "      <td>1.000000</td>\n",
              "    </tr>\n",
              "    <tr>\n",
              "      <th>max</th>\n",
              "      <td>1.000000</td>\n",
              "      <td>7.000000</td>\n",
              "      <td>1.000000</td>\n",
              "      <td>1.000000</td>\n",
              "      <td>0.980809</td>\n",
              "      <td>1.000000</td>\n",
              "      <td>1.000000</td>\n",
              "      <td>0.959211</td>\n",
              "      <td>1.000000</td>\n",
              "    </tr>\n",
              "  </tbody>\n",
              "</table>\n",
              "</div>\n",
              "    <div class=\"colab-df-buttons\">\n",
              "\n",
              "  <div class=\"colab-df-container\">\n",
              "    <button class=\"colab-df-convert\" onclick=\"convertToInteractive('df-3abcf48f-71d8-4770-982e-74f2adf6beff')\"\n",
              "            title=\"Convert this dataframe to an interactive table.\"\n",
              "            style=\"display:none;\">\n",
              "\n",
              "  <svg xmlns=\"http://www.w3.org/2000/svg\" height=\"24px\" viewBox=\"0 -960 960 960\">\n",
              "    <path d=\"M120-120v-720h720v720H120Zm60-500h600v-160H180v160Zm220 220h160v-160H400v160Zm0 220h160v-160H400v160ZM180-400h160v-160H180v160Zm440 0h160v-160H620v160ZM180-180h160v-160H180v160Zm440 0h160v-160H620v160Z\"/>\n",
              "  </svg>\n",
              "    </button>\n",
              "\n",
              "  <style>\n",
              "    .colab-df-container {\n",
              "      display:flex;\n",
              "      gap: 12px;\n",
              "    }\n",
              "\n",
              "    .colab-df-convert {\n",
              "      background-color: #E8F0FE;\n",
              "      border: none;\n",
              "      border-radius: 50%;\n",
              "      cursor: pointer;\n",
              "      display: none;\n",
              "      fill: #1967D2;\n",
              "      height: 32px;\n",
              "      padding: 0 0 0 0;\n",
              "      width: 32px;\n",
              "    }\n",
              "\n",
              "    .colab-df-convert:hover {\n",
              "      background-color: #E2EBFA;\n",
              "      box-shadow: 0px 1px 2px rgba(60, 64, 67, 0.3), 0px 1px 3px 1px rgba(60, 64, 67, 0.15);\n",
              "      fill: #174EA6;\n",
              "    }\n",
              "\n",
              "    .colab-df-buttons div {\n",
              "      margin-bottom: 4px;\n",
              "    }\n",
              "\n",
              "    [theme=dark] .colab-df-convert {\n",
              "      background-color: #3B4455;\n",
              "      fill: #D2E3FC;\n",
              "    }\n",
              "\n",
              "    [theme=dark] .colab-df-convert:hover {\n",
              "      background-color: #434B5C;\n",
              "      box-shadow: 0px 1px 3px 1px rgba(0, 0, 0, 0.15);\n",
              "      filter: drop-shadow(0px 1px 2px rgba(0, 0, 0, 0.3));\n",
              "      fill: #FFFFFF;\n",
              "    }\n",
              "  </style>\n",
              "\n",
              "    <script>\n",
              "      const buttonEl =\n",
              "        document.querySelector('#df-3abcf48f-71d8-4770-982e-74f2adf6beff button.colab-df-convert');\n",
              "      buttonEl.style.display =\n",
              "        google.colab.kernel.accessAllowed ? 'block' : 'none';\n",
              "\n",
              "      async function convertToInteractive(key) {\n",
              "        const element = document.querySelector('#df-3abcf48f-71d8-4770-982e-74f2adf6beff');\n",
              "        const dataTable =\n",
              "          await google.colab.kernel.invokeFunction('convertToInteractive',\n",
              "                                                    [key], {});\n",
              "        if (!dataTable) return;\n",
              "\n",
              "        const docLinkHtml = 'Like what you see? Visit the ' +\n",
              "          '<a target=\"_blank\" href=https://colab.research.google.com/notebooks/data_table.ipynb>data table notebook</a>'\n",
              "          + ' to learn more about interactive tables.';\n",
              "        element.innerHTML = '';\n",
              "        dataTable['output_type'] = 'display_data';\n",
              "        await google.colab.output.renderOutput(dataTable, element);\n",
              "        const docLink = document.createElement('div');\n",
              "        docLink.innerHTML = docLinkHtml;\n",
              "        element.appendChild(docLink);\n",
              "      }\n",
              "    </script>\n",
              "  </div>\n",
              "\n",
              "\n",
              "<div id=\"df-cc2b5fbe-6746-42e4-8adc-1e4f6df78bae\">\n",
              "  <button class=\"colab-df-quickchart\" onclick=\"quickchart('df-cc2b5fbe-6746-42e4-8adc-1e4f6df78bae')\"\n",
              "            title=\"Suggest charts\"\n",
              "            style=\"display:none;\">\n",
              "\n",
              "<svg xmlns=\"http://www.w3.org/2000/svg\" height=\"24px\"viewBox=\"0 0 24 24\"\n",
              "     width=\"24px\">\n",
              "    <g>\n",
              "        <path d=\"M19 3H5c-1.1 0-2 .9-2 2v14c0 1.1.9 2 2 2h14c1.1 0 2-.9 2-2V5c0-1.1-.9-2-2-2zM9 17H7v-7h2v7zm4 0h-2V7h2v10zm4 0h-2v-4h2v4z\"/>\n",
              "    </g>\n",
              "</svg>\n",
              "  </button>\n",
              "\n",
              "<style>\n",
              "  .colab-df-quickchart {\n",
              "      --bg-color: #E8F0FE;\n",
              "      --fill-color: #1967D2;\n",
              "      --hover-bg-color: #E2EBFA;\n",
              "      --hover-fill-color: #174EA6;\n",
              "      --disabled-fill-color: #AAA;\n",
              "      --disabled-bg-color: #DDD;\n",
              "  }\n",
              "\n",
              "  [theme=dark] .colab-df-quickchart {\n",
              "      --bg-color: #3B4455;\n",
              "      --fill-color: #D2E3FC;\n",
              "      --hover-bg-color: #434B5C;\n",
              "      --hover-fill-color: #FFFFFF;\n",
              "      --disabled-bg-color: #3B4455;\n",
              "      --disabled-fill-color: #666;\n",
              "  }\n",
              "\n",
              "  .colab-df-quickchart {\n",
              "    background-color: var(--bg-color);\n",
              "    border: none;\n",
              "    border-radius: 50%;\n",
              "    cursor: pointer;\n",
              "    display: none;\n",
              "    fill: var(--fill-color);\n",
              "    height: 32px;\n",
              "    padding: 0;\n",
              "    width: 32px;\n",
              "  }\n",
              "\n",
              "  .colab-df-quickchart:hover {\n",
              "    background-color: var(--hover-bg-color);\n",
              "    box-shadow: 0 1px 2px rgba(60, 64, 67, 0.3), 0 1px 3px 1px rgba(60, 64, 67, 0.15);\n",
              "    fill: var(--button-hover-fill-color);\n",
              "  }\n",
              "\n",
              "  .colab-df-quickchart-complete:disabled,\n",
              "  .colab-df-quickchart-complete:disabled:hover {\n",
              "    background-color: var(--disabled-bg-color);\n",
              "    fill: var(--disabled-fill-color);\n",
              "    box-shadow: none;\n",
              "  }\n",
              "\n",
              "  .colab-df-spinner {\n",
              "    border: 2px solid var(--fill-color);\n",
              "    border-color: transparent;\n",
              "    border-bottom-color: var(--fill-color);\n",
              "    animation:\n",
              "      spin 1s steps(1) infinite;\n",
              "  }\n",
              "\n",
              "  @keyframes spin {\n",
              "    0% {\n",
              "      border-color: transparent;\n",
              "      border-bottom-color: var(--fill-color);\n",
              "      border-left-color: var(--fill-color);\n",
              "    }\n",
              "    20% {\n",
              "      border-color: transparent;\n",
              "      border-left-color: var(--fill-color);\n",
              "      border-top-color: var(--fill-color);\n",
              "    }\n",
              "    30% {\n",
              "      border-color: transparent;\n",
              "      border-left-color: var(--fill-color);\n",
              "      border-top-color: var(--fill-color);\n",
              "      border-right-color: var(--fill-color);\n",
              "    }\n",
              "    40% {\n",
              "      border-color: transparent;\n",
              "      border-right-color: var(--fill-color);\n",
              "      border-top-color: var(--fill-color);\n",
              "    }\n",
              "    60% {\n",
              "      border-color: transparent;\n",
              "      border-right-color: var(--fill-color);\n",
              "    }\n",
              "    80% {\n",
              "      border-color: transparent;\n",
              "      border-right-color: var(--fill-color);\n",
              "      border-bottom-color: var(--fill-color);\n",
              "    }\n",
              "    90% {\n",
              "      border-color: transparent;\n",
              "      border-bottom-color: var(--fill-color);\n",
              "    }\n",
              "  }\n",
              "</style>\n",
              "\n",
              "  <script>\n",
              "    async function quickchart(key) {\n",
              "      const quickchartButtonEl =\n",
              "        document.querySelector('#' + key + ' button');\n",
              "      quickchartButtonEl.disabled = true;  // To prevent multiple clicks.\n",
              "      quickchartButtonEl.classList.add('colab-df-spinner');\n",
              "      try {\n",
              "        const charts = await google.colab.kernel.invokeFunction(\n",
              "            'suggestCharts', [key], {});\n",
              "      } catch (error) {\n",
              "        console.error('Error during call to suggestCharts:', error);\n",
              "      }\n",
              "      quickchartButtonEl.classList.remove('colab-df-spinner');\n",
              "      quickchartButtonEl.classList.add('colab-df-quickchart-complete');\n",
              "    }\n",
              "    (() => {\n",
              "      let quickchartButtonEl =\n",
              "        document.querySelector('#df-cc2b5fbe-6746-42e4-8adc-1e4f6df78bae button');\n",
              "      quickchartButtonEl.style.display =\n",
              "        google.colab.kernel.accessAllowed ? 'block' : 'none';\n",
              "    })();\n",
              "  </script>\n",
              "</div>\n",
              "    </div>\n",
              "  </div>\n"
            ],
            "application/vnd.google.colaboratory.intrinsic+json": {
              "type": "dataframe",
              "summary": "{\n  \"name\": \"df\",\n  \"rows\": 8,\n  \"fields\": [\n    {\n      \"column\": \"date\",\n      \"properties\": {\n        \"dtype\": \"number\",\n        \"std\": 12815.794887561506,\n        \"min\": 0.0,\n        \"max\": 36249.0,\n        \"num_unique_values\": 8,\n        \"samples\": [\n          0.4982934558470579,\n          0.456263,\n          36249.0\n        ],\n        \"semantic_type\": \"\",\n        \"description\": \"\"\n      }\n    },\n    {\n      \"column\": \"day\",\n      \"properties\": {\n        \"dtype\": \"number\",\n        \"std\": 12814.643815598274,\n        \"min\": 1.0,\n        \"max\": 36249.0,\n        \"num_unique_values\": 8,\n        \"samples\": [\n          4.006565698364093,\n          4.0,\n          36249.0\n        ],\n        \"semantic_type\": \"\",\n        \"description\": \"\"\n      }\n    },\n    {\n      \"column\": \"period\",\n      \"properties\": {\n        \"dtype\": \"number\",\n        \"std\": 12815.788796606475,\n        \"min\": 0.0,\n        \"max\": 36249.0,\n        \"num_unique_values\": 8,\n        \"samples\": [\n          0.5005602500758641,\n          0.510638,\n          36249.0\n        ],\n        \"semantic_type\": \"\",\n        \"description\": \"\"\n      }\n    },\n    {\n      \"column\": \"nswprice\",\n      \"properties\": {\n        \"dtype\": \"number\",\n        \"std\": 12815.893457247254,\n        \"min\": 0.0,\n        \"max\": 36249.0,\n        \"num_unique_values\": 8,\n        \"samples\": [\n          0.05782763196226103,\n          0.048787,\n          36249.0\n        ],\n        \"semantic_type\": \"\",\n        \"description\": \"\"\n      }\n    },\n    {\n      \"column\": \"nswdemand\",\n      \"properties\": {\n        \"dtype\": \"number\",\n        \"std\": 12815.812365404016,\n        \"min\": 0.0,\n        \"max\": 36249.0,\n        \"num_unique_values\": 8,\n        \"samples\": [\n          0.4259388552787663,\n          0.444213,\n          36249.0\n        ],\n        \"semantic_type\": \"\",\n        \"description\": \"\"\n      }\n    },\n    {\n      \"column\": \"vicprice\",\n      \"properties\": {\n        \"dtype\": \"number\",\n        \"std\": 12815.905198774419,\n        \"min\": 0.0,\n        \"max\": 36249.0,\n        \"num_unique_values\": 7,\n        \"samples\": [\n          36249.0,\n          0.0034550981820188147,\n          0.003467\n        ],\n        \"semantic_type\": \"\",\n        \"description\": \"\"\n      }\n    },\n    {\n      \"column\": \"vicdemand\",\n      \"properties\": {\n        \"dtype\": \"number\",\n        \"std\": 12815.815003760616,\n        \"min\": 0.0,\n        \"max\": 36249.0,\n        \"num_unique_values\": 8,\n        \"samples\": [\n          0.42302439314187973,\n          0.422915,\n          36249.0\n        ],\n        \"semantic_type\": \"\",\n        \"description\": \"\"\n      }\n    },\n    {\n      \"column\": \"transfer\",\n      \"properties\": {\n        \"dtype\": \"number\",\n        \"std\": 12815.802929816959,\n        \"min\": 0.0,\n        \"max\": 36249.0,\n        \"num_unique_values\": 7,\n        \"samples\": [\n          36249.0,\n          0.5002427746144721,\n          0.605263\n        ],\n        \"semantic_type\": \"\",\n        \"description\": \"\"\n      }\n    },\n    {\n      \"column\": \"class\",\n      \"properties\": {\n        \"dtype\": \"number\",\n        \"std\": 12815.809439924265,\n        \"min\": 0.0,\n        \"max\": 36249.0,\n        \"num_unique_values\": 5,\n        \"samples\": [\n          0.4245358492648073,\n          1.0,\n          0.4942791739274598\n        ],\n        \"semantic_type\": \"\",\n        \"description\": \"\"\n      }\n    }\n  ]\n}"
            }
          },
          "metadata": {},
          "execution_count": 2
        }
      ]
    },
    {
      "cell_type": "markdown",
      "source": [
        "Убедитесь в отсутствии пропусков. Имеет смысл проверить сбалансированность классов. Введите долю элементов класса $1$."
      ],
      "metadata": {
        "id": "e8Dbk1K-3iho"
      }
    },
    {
      "cell_type": "code",
      "source": [
        "missing_values = df.isnull().sum().sum()\n",
        "if missing_values == 0:\n",
        "    print(\"Пропусков в данных нет.\")\n",
        "else:\n",
        "    print(\"Обнаружены пропуски в данных.\")"
      ],
      "metadata": {
        "id": "dyCm4K_F3xP0",
        "colab": {
          "base_uri": "https://localhost:8080/"
        },
        "outputId": "1220688f-8451-44b8-eae2-7764eb215425"
      },
      "execution_count": null,
      "outputs": [
        {
          "output_type": "stream",
          "name": "stdout",
          "text": [
            "Пропусков в данных нет.\n"
          ]
        }
      ]
    },
    {
      "cell_type": "code",
      "source": [
        "class_counts = df['class'].value_counts()\n",
        "if len(class_counts) == 2:\n",
        "    class_1_proportion = class_counts[1] / len(df)\n",
        "    print(f\"Доля элементов класса 1: {class_1_proportion:.3f}\")\n",
        "else:\n",
        "    print(\"Классы не сбалансированы или присутствуют не все классы.\")"
      ],
      "metadata": {
        "colab": {
          "base_uri": "https://localhost:8080/"
        },
        "id": "Z8Gf7tFSaEqd",
        "outputId": "43d8b2db-5677-4caf-b7eb-cddbdc446380"
      },
      "execution_count": null,
      "outputs": [
        {
          "output_type": "stream",
          "name": "stdout",
          "text": [
            "Доля элементов класса 1: 0.425\n"
          ]
        }
      ]
    },
    {
      "cell_type": "markdown",
      "source": [
        "Постройте матрицу корреляций. Определите пару наиболее коррелированных признаков."
      ],
      "metadata": {
        "id": "9yAaZWOE4Ufo"
      }
    },
    {
      "cell_type": "code",
      "source": [
        "import seaborn as sns\n",
        "import matplotlib.pyplot as plt\n",
        "\n",
        "# Строим матрицу корреляций\n",
        "correlation_matrix = df.corr()\n",
        "\n",
        "# Визуализируем матрицу корреляций\n",
        "plt.figure(figsize=(10, 8))\n",
        "sns.heatmap(correlation_matrix, annot=True, cmap='coolwarm', fmt=\".2f\", linewidths=0.5)\n",
        "plt.title('Матрица корреляций')\n",
        "plt.show()\n",
        "\n",
        "# Находим наиболее коррелированные признаки\n",
        "max_corr = 0\n",
        "feature_pair = None\n",
        "\n",
        "for i in range(len(correlation_matrix.columns)):\n",
        "    for j in range(i+1, len(correlation_matrix.columns)):\n",
        "        if abs(correlation_matrix.iloc[i, j]) > max_corr:\n",
        "            max_corr = abs(correlation_matrix.iloc[i, j])\n",
        "            feature_pair = (correlation_matrix.columns[i], correlation_matrix.columns[j])\n",
        "\n",
        "print(\"Наиболее коррелированная пара признаков:\", feature_pair, \"с корреляцией\", max_corr)"
      ],
      "metadata": {
        "id": "TflVyF8U4a4d",
        "colab": {
          "base_uri": "https://localhost:8080/",
          "height": 750
        },
        "outputId": "ac7b3cfd-2b31-4496-f70b-455ec11995a7"
      },
      "execution_count": null,
      "outputs": [
        {
          "output_type": "display_data",
          "data": {
            "text/plain": [
              "<Figure size 1000x800 with 2 Axes>"
            ],
            "image/png": "[encoded data removed]"
          },
          "metadata": {}
        },
        {
          "output_type": "stream",
          "name": "stdout",
          "text": [
            "Наиболее коррелированная пара признаков: ('nswdemand', 'vicdemand') с корреляцией 0.6671743250710647\n"
          ]
        }
      ]
    },
    {
      "cell_type": "markdown",
      "source": [
        "Постройте гистограммы распределений признаков."
      ],
      "metadata": {
        "id": "p86olWnORJrC"
      }
    },
    {
      "cell_type": "code",
      "source": [
        "df.hist(figsize=(12, 10), bins=20)\n",
        "plt.tight_layout()\n",
        "plt.show()"
      ],
      "metadata": {
        "id": "LIZiSMpV6Dmf",
        "colab": {
          "base_uri": "https://localhost:8080/",
          "height": 667
        },
        "outputId": "17ce16ef-87af-464b-e595-eafce5472fc5"
      },
      "execution_count": null,
      "outputs": [
        {
          "output_type": "display_data",
          "data": {
            "text/plain": [
              "<Figure size 1200x1000 with 9 Axes>"
            ],
            "image/png": "[encoded data removed]"
          },
          "metadata": {}
        }
      ]
    },
    {
      "cell_type": "markdown",
      "source": [
        "Из полученных иллюстраций видно, что в данных, скорее всего, как и ожидалось, есть некоторая периодичность. Более того, похоже, за нас уже поработали над заполнением пропусков или обработкой выбросов"
      ],
      "metadata": {
        "id": "48Oaj77P6C3a"
      }
    },
    {
      "cell_type": "markdown",
      "source": [
        "При помощи <code>train_test_split</code> разобейте полученный набор данных на тренеровочную и тестовую выборки с параметрами, указанными в вашем варианте."
      ],
      "metadata": {
        "id": "r9lr36io3K2H"
      }
    },
    {
      "cell_type": "code",
      "execution_count": null,
      "outputs": [],
      "source": [
        "from sklearn.model_selection import train_test_split\n",
        "\n",
        "# Разбиваем данные на тренировочную и тестовую выборки\n",
        "X_train, X_test, y_train, y_test = train_test_split(df.drop(columns=['class']), df['class'], test_size=0.2, random_state=29)"
      ],
      "metadata": {
        "id": "G50KT0CVOwKk"
      }
    },
    {
      "cell_type": "markdown",
      "source": [
        "# Random Forests Classifier"
      ],
      "metadata": {
        "collapsed": false,
        "id": "tEh9OYuWOwKp"
      }
    },
    {
      "cell_type": "markdown",
      "source": [
        "Обучите модель <code>sklearn.ensemble.RandomForestClassifier</code> на тренировочных данных с параметрами, указанными в вашем индивидуальном задании."
      ],
      "metadata": {
        "id": "L_QEkgd9AFO4"
      }
    },
    {
      "cell_type": "markdown",
      "source": [
        "Постройте <code>classification_report</code> полученной модели на **тренировочных данных**. Введите значение точности модели на **тренировочных данных**."
      ],
      "metadata": {
        "id": "1Ci-_Ba4AlE9"
      }
    },
    {
      "cell_type": "code",
      "execution_count": null,
      "outputs": [
        {
          "output_type": "stream",
          "name": "stdout",
          "text": [
            "Classification Report на тренировочных данных:\n",
            "               precision    recall  f1-score   support\n",
            "\n",
            "           0      1.000     1.000     1.000     16668\n",
            "           1      1.000     1.000     1.000     12331\n",
            "\n",
            "    accuracy                          1.000     28999\n",
            "   macro avg      1.000     1.000     1.000     28999\n",
            "weighted avg      1.000     1.000     1.000     28999\n",
            "\n",
            "Точность модели на тренировочных данных: 1.0\n"
          ]
        }
      ],
      "source": [
        "from sklearn.ensemble import RandomForestClassifier\n",
        "from sklearn.metrics import classification_report\n",
        "\n",
        "# Создаем и обучаем модель RandomForestClassifier\n",
        "model = RandomForestClassifier(random_state=29)\n",
        "model.fit(X_train, y_train)\n",
        "\n",
        "# Делаем предсказания на тренировочных данных\n",
        "train_predictions = model.predict(X_train)\n",
        "\n",
        "# Выводим classification report\n",
        "report = classification_report(y_train, train_predictions, digits=3)\n",
        "print(\"Classification Report на тренировочных данных:\\n\", report)\n",
        "\n",
        "# Определяем точность модели на тренировочных данных\n",
        "accuracy_train = model.score(X_train, y_train)\n",
        "print(\"Точность модели на тренировочных данных:\", round(accuracy_train, 3))"
      ],
      "metadata": {
        "id": "Y4WCECt8OwKq",
        "colab": {
          "base_uri": "https://localhost:8080/"
        },
        "outputId": "c657ca15-4147-4688-c2ee-1106cae499b4"
      }
    },
    {
      "cell_type": "markdown",
      "source": [
        "Получили переобучение. Что же, еще раз можно ответить, что деревья принятия решений весьма склонны к переобучению."
      ],
      "metadata": {
        "collapsed": false,
        "id": "0OlkNY98OwKs"
      }
    },
    {
      "cell_type": "markdown",
      "source": [
        "## Добавление к лесу деревьев GridSearchCV"
      ],
      "metadata": {
        "collapsed": false,
        "id": "cPfEnIs8OwKs"
      }
    },
    {
      "cell_type": "markdown",
      "source": [
        "При помощи <code>sklearn.model_selection.GridSearchCV</code> обучите <code>RandomForestClassifier</code> на тренировочных данных c параметрами, указанными в вашем индивидуальном задании.\n",
        "\n",
        "Подбираемые параметры:\n",
        "\n",
        "<code>{'n_estimators': [100,300,500], 'max_leaf_nodes': list(range(6,10)), 'min_samples_leaf': [1,2,3]}</code>"
      ],
      "metadata": {
        "id": "RyjHh8_vD2A-"
      }
    },
    {
      "cell_type": "code",
      "execution_count": null,
      "outputs": [
        {
          "output_type": "stream",
          "name": "stdout",
          "text": [
            "Fitting 3 folds for each of 36 candidates, totalling 108 fits\n",
            "[CV 1/3] END max_leaf_nodes=6, min_samples_leaf=1, n_estimators=100;, score=0.772 total time=   1.7s\n",
            "[CV 2/3] END max_leaf_nodes=6, min_samples_leaf=1, n_estimators=100;, score=0.768 total time=   2.3s\n",
            "[CV 3/3] END max_leaf_nodes=6, min_samples_leaf=1, n_estimators=100;, score=0.774 total time=   4.5s\n",
            "[CV 1/3] END max_leaf_nodes=6, min_samples_leaf=1, n_estimators=300;, score=0.768 total time=   8.4s\n",
            "[CV 2/3] END max_leaf_nodes=6, min_samples_leaf=1, n_estimators=300;, score=0.767 total time=  11.7s\n",
            "[CV 3/3] END max_leaf_nodes=6, min_samples_leaf=1, n_estimators=300;, score=0.772 total time=   8.0s\n",
            "[CV 1/3] END max_leaf_nodes=6, min_samples_leaf=1, n_estimators=500;, score=0.772 total time=  12.4s\n",
            "[CV 2/3] END max_leaf_nodes=6, min_samples_leaf=1, n_estimators=500;, score=0.770 total time=   7.3s\n",
            "[CV 3/3] END max_leaf_nodes=6, min_samples_leaf=1, n_estimators=500;, score=0.772 total time=   5.7s\n",
            "[CV 1/3] END max_leaf_nodes=6, min_samples_leaf=2, n_estimators=100;, score=0.772 total time=   1.2s\n",
            "[CV 2/3] END max_leaf_nodes=6, min_samples_leaf=2, n_estimators=100;, score=0.768 total time=   1.2s\n",
            "[CV 3/3] END max_leaf_nodes=6, min_samples_leaf=2, n_estimators=100;, score=0.774 total time=   1.3s\n",
            "[CV 1/3] END max_leaf_nodes=6, min_samples_leaf=2, n_estimators=300;, score=0.768 total time=   5.1s\n",
            "[CV 2/3] END max_leaf_nodes=6, min_samples_leaf=2, n_estimators=300;, score=0.767 total time=   3.5s\n",
            "[CV 3/3] END max_leaf_nodes=6, min_samples_leaf=2, n_estimators=300;, score=0.772 total time=   3.5s\n",
            "[CV 1/3] END max_leaf_nodes=6, min_samples_leaf=2, n_estimators=500;, score=0.772 total time=   7.5s\n",
            "[CV 2/3] END max_leaf_nodes=6, min_samples_leaf=2, n_estimators=500;, score=0.770 total time=   5.7s\n",
            "[CV 3/3] END max_leaf_nodes=6, min_samples_leaf=2, n_estimators=500;, score=0.772 total time=   7.3s\n",
            "[CV 1/3] END max_leaf_nodes=6, min_samples_leaf=3, n_estimators=100;, score=0.772 total time=   1.2s\n",
            "[CV 2/3] END max_leaf_nodes=6, min_samples_leaf=3, n_estimators=100;, score=0.768 total time=   1.2s\n",
            "[CV 3/3] END max_leaf_nodes=6, min_samples_leaf=3, n_estimators=100;, score=0.774 total time=   1.2s\n",
            "[CV 1/3] END max_leaf_nodes=6, min_samples_leaf=3, n_estimators=300;, score=0.768 total time=   3.6s\n",
            "[CV 2/3] END max_leaf_nodes=6, min_samples_leaf=3, n_estimators=300;, score=0.767 total time=   5.3s\n",
            "[CV 3/3] END max_leaf_nodes=6, min_samples_leaf=3, n_estimators=300;, score=0.772 total time=   3.5s\n",
            "[CV 1/3] END max_leaf_nodes=6, min_samples_leaf=3, n_estimators=500;, score=0.772 total time=   5.8s\n",
            "[CV 2/3] END max_leaf_nodes=6, min_samples_leaf=3, n_estimators=500;, score=0.770 total time=   7.7s\n",
            "[CV 3/3] END max_leaf_nodes=6, min_samples_leaf=3, n_estimators=500;, score=0.772 total time=   5.7s\n",
            "[CV 1/3] END max_leaf_nodes=7, min_samples_leaf=1, n_estimators=100;, score=0.774 total time=   1.9s\n",
            "[CV 2/3] END max_leaf_nodes=7, min_samples_leaf=1, n_estimators=100;, score=0.771 total time=   2.3s\n",
            "[CV 3/3] END max_leaf_nodes=7, min_samples_leaf=1, n_estimators=100;, score=0.777 total time=   1.3s\n",
            "[CV 1/3] END max_leaf_nodes=7, min_samples_leaf=1, n_estimators=300;, score=0.774 total time=   3.7s\n",
            "[CV 2/3] END max_leaf_nodes=7, min_samples_leaf=1, n_estimators=300;, score=0.771 total time=   3.7s\n",
            "[CV 3/3] END max_leaf_nodes=7, min_samples_leaf=1, n_estimators=300;, score=0.775 total time=   5.4s\n",
            "[CV 1/3] END max_leaf_nodes=7, min_samples_leaf=1, n_estimators=500;, score=0.777 total time=   6.1s\n",
            "[CV 2/3] END max_leaf_nodes=7, min_samples_leaf=1, n_estimators=500;, score=0.775 total time=   7.6s\n",
            "[CV 3/3] END max_leaf_nodes=7, min_samples_leaf=1, n_estimators=500;, score=0.776 total time=   6.1s\n",
            "[CV 1/3] END max_leaf_nodes=7, min_samples_leaf=2, n_estimators=100;, score=0.774 total time=   1.3s\n",
            "[CV 2/3] END max_leaf_nodes=7, min_samples_leaf=2, n_estimators=100;, score=0.771 total time=   1.3s\n",
            "[CV 3/3] END max_leaf_nodes=7, min_samples_leaf=2, n_estimators=100;, score=0.777 total time=   1.3s\n",
            "[CV 1/3] END max_leaf_nodes=7, min_samples_leaf=2, n_estimators=300;, score=0.774 total time=   5.5s\n",
            "[CV 2/3] END max_leaf_nodes=7, min_samples_leaf=2, n_estimators=300;, score=0.771 total time=   3.6s\n",
            "[CV 3/3] END max_leaf_nodes=7, min_samples_leaf=2, n_estimators=300;, score=0.775 total time=   3.7s\n",
            "[CV 1/3] END max_leaf_nodes=7, min_samples_leaf=2, n_estimators=500;, score=0.777 total time=   7.9s\n",
            "[CV 2/3] END max_leaf_nodes=7, min_samples_leaf=2, n_estimators=500;, score=0.775 total time=   6.1s\n",
            "[CV 3/3] END max_leaf_nodes=7, min_samples_leaf=2, n_estimators=500;, score=0.776 total time=   7.7s\n",
            "[CV 1/3] END max_leaf_nodes=7, min_samples_leaf=3, n_estimators=100;, score=0.774 total time=   1.3s\n",
            "[CV 2/3] END max_leaf_nodes=7, min_samples_leaf=3, n_estimators=100;, score=0.771 total time=   1.3s\n",
            "[CV 3/3] END max_leaf_nodes=7, min_samples_leaf=3, n_estimators=100;, score=0.777 total time=   1.8s\n",
            "[CV 1/3] END max_leaf_nodes=7, min_samples_leaf=3, n_estimators=300;, score=0.774 total time=   6.2s\n",
            "[CV 2/3] END max_leaf_nodes=7, min_samples_leaf=3, n_estimators=300;, score=0.771 total time=   4.1s\n",
            "[CV 3/3] END max_leaf_nodes=7, min_samples_leaf=3, n_estimators=300;, score=0.775 total time=   4.2s\n",
            "[CV 1/3] END max_leaf_nodes=7, min_samples_leaf=3, n_estimators=500;, score=0.777 total time=   7.8s\n",
            "[CV 2/3] END max_leaf_nodes=7, min_samples_leaf=3, n_estimators=500;, score=0.775 total time=   6.0s\n",
            "[CV 3/3] END max_leaf_nodes=7, min_samples_leaf=3, n_estimators=500;, score=0.776 total time=   7.7s\n",
            "[CV 1/3] END max_leaf_nodes=8, min_samples_leaf=1, n_estimators=100;, score=0.779 total time=   1.3s\n",
            "[CV 2/3] END max_leaf_nodes=8, min_samples_leaf=1, n_estimators=100;, score=0.779 total time=   1.3s\n",
            "[CV 3/3] END max_leaf_nodes=8, min_samples_leaf=1, n_estimators=100;, score=0.782 total time=   1.3s\n",
            "[CV 1/3] END max_leaf_nodes=8, min_samples_leaf=1, n_estimators=300;, score=0.779 total time=   3.8s\n",
            "[CV 2/3] END max_leaf_nodes=8, min_samples_leaf=1, n_estimators=300;, score=0.778 total time=   5.7s\n",
            "[CV 3/3] END max_leaf_nodes=8, min_samples_leaf=1, n_estimators=300;, score=0.780 total time=   3.8s\n",
            "[CV 1/3] END max_leaf_nodes=8, min_samples_leaf=1, n_estimators=500;, score=0.781 total time=   7.5s\n",
            "[CV 2/3] END max_leaf_nodes=8, min_samples_leaf=1, n_estimators=500;, score=0.778 total time=   6.7s\n",
            "[CV 3/3] END max_leaf_nodes=8, min_samples_leaf=1, n_estimators=500;, score=0.783 total time=   7.8s\n",
            "[CV 1/3] END max_leaf_nodes=8, min_samples_leaf=2, n_estimators=100;, score=0.779 total time=   1.3s\n",
            "[CV 2/3] END max_leaf_nodes=8, min_samples_leaf=2, n_estimators=100;, score=0.779 total time=   1.3s\n",
            "[CV 3/3] END max_leaf_nodes=8, min_samples_leaf=2, n_estimators=100;, score=0.782 total time=   1.3s\n",
            "[CV 1/3] END max_leaf_nodes=8, min_samples_leaf=2, n_estimators=300;, score=0.779 total time=   3.9s\n",
            "[CV 2/3] END max_leaf_nodes=8, min_samples_leaf=2, n_estimators=300;, score=0.778 total time=   5.1s\n",
            "[CV 3/3] END max_leaf_nodes=8, min_samples_leaf=2, n_estimators=300;, score=0.780 total time=   4.1s\n",
            "[CV 1/3] END max_leaf_nodes=8, min_samples_leaf=2, n_estimators=500;, score=0.781 total time=   6.4s\n",
            "[CV 2/3] END max_leaf_nodes=8, min_samples_leaf=2, n_estimators=500;, score=0.778 total time=   8.1s\n",
            "[CV 3/3] END max_leaf_nodes=8, min_samples_leaf=2, n_estimators=500;, score=0.783 total time=   7.5s\n",
            "[CV 1/3] END max_leaf_nodes=8, min_samples_leaf=3, n_estimators=100;, score=0.779 total time=   2.3s\n",
            "[CV 2/3] END max_leaf_nodes=8, min_samples_leaf=3, n_estimators=100;, score=0.779 total time=   1.3s\n",
            "[CV 3/3] END max_leaf_nodes=8, min_samples_leaf=3, n_estimators=100;, score=0.782 total time=   1.3s\n",
            "[CV 1/3] END max_leaf_nodes=8, min_samples_leaf=3, n_estimators=300;, score=0.779 total time=   3.9s\n",
            "[CV 2/3] END max_leaf_nodes=8, min_samples_leaf=3, n_estimators=300;, score=0.778 total time=   4.3s\n",
            "[CV 3/3] END max_leaf_nodes=8, min_samples_leaf=3, n_estimators=300;, score=0.780 total time=   5.3s\n",
            "[CV 1/3] END max_leaf_nodes=8, min_samples_leaf=3, n_estimators=500;, score=0.781 total time=   6.5s\n",
            "[CV 2/3] END max_leaf_nodes=8, min_samples_leaf=3, n_estimators=500;, score=0.778 total time=   8.0s\n",
            "[CV 3/3] END max_leaf_nodes=8, min_samples_leaf=3, n_estimators=500;, score=0.783 total time=   6.3s\n",
            "[CV 1/3] END max_leaf_nodes=9, min_samples_leaf=1, n_estimators=100;, score=0.785 total time=   1.9s\n",
            "[CV 2/3] END max_leaf_nodes=9, min_samples_leaf=1, n_estimators=100;, score=0.782 total time=   2.4s\n",
            "[CV 3/3] END max_leaf_nodes=9, min_samples_leaf=1, n_estimators=100;, score=0.785 total time=   1.5s\n",
            "[CV 1/3] END max_leaf_nodes=9, min_samples_leaf=1, n_estimators=300;, score=0.783 total time=   4.0s\n",
            "[CV 2/3] END max_leaf_nodes=9, min_samples_leaf=1, n_estimators=300;, score=0.780 total time=   4.1s\n",
            "[CV 3/3] END max_leaf_nodes=9, min_samples_leaf=1, n_estimators=300;, score=0.785 total time=   5.8s\n",
            "[CV 1/3] END max_leaf_nodes=9, min_samples_leaf=1, n_estimators=500;, score=0.785 total time=   6.6s\n",
            "[CV 2/3] END max_leaf_nodes=9, min_samples_leaf=1, n_estimators=500;, score=0.781 total time=   8.4s\n",
            "[CV 3/3] END max_leaf_nodes=9, min_samples_leaf=1, n_estimators=500;, score=0.785 total time=   6.6s\n",
            "[CV 1/3] END max_leaf_nodes=9, min_samples_leaf=2, n_estimators=100;, score=0.785 total time=   2.5s\n",
            "[CV 2/3] END max_leaf_nodes=9, min_samples_leaf=2, n_estimators=100;, score=0.782 total time=   2.8s\n",
            "[CV 3/3] END max_leaf_nodes=9, min_samples_leaf=2, n_estimators=100;, score=0.785 total time=   2.4s\n",
            "[CV 1/3] END max_leaf_nodes=9, min_samples_leaf=2, n_estimators=300;, score=0.783 total time=   4.0s\n",
            "[CV 2/3] END max_leaf_nodes=9, min_samples_leaf=2, n_estimators=300;, score=0.780 total time=   4.0s\n",
            "[CV 3/3] END max_leaf_nodes=9, min_samples_leaf=2, n_estimators=300;, score=0.785 total time=   5.7s\n",
            "[CV 1/3] END max_leaf_nodes=9, min_samples_leaf=2, n_estimators=500;, score=0.785 total time=   6.6s\n",
            "[CV 2/3] END max_leaf_nodes=9, min_samples_leaf=2, n_estimators=500;, score=0.781 total time=   8.3s\n",
            "[CV 3/3] END max_leaf_nodes=9, min_samples_leaf=2, n_estimators=500;, score=0.785 total time=   6.5s\n",
            "[CV 1/3] END max_leaf_nodes=9, min_samples_leaf=3, n_estimators=100;, score=0.785 total time=   1.4s\n",
            "[CV 2/3] END max_leaf_nodes=9, min_samples_leaf=3, n_estimators=100;, score=0.782 total time=   1.6s\n",
            "[CV 3/3] END max_leaf_nodes=9, min_samples_leaf=3, n_estimators=100;, score=0.785 total time=   2.5s\n",
            "[CV 1/3] END max_leaf_nodes=9, min_samples_leaf=3, n_estimators=300;, score=0.783 total time=   4.3s\n",
            "[CV 2/3] END max_leaf_nodes=9, min_samples_leaf=3, n_estimators=300;, score=0.780 total time=   4.0s\n",
            "[CV 3/3] END max_leaf_nodes=9, min_samples_leaf=3, n_estimators=300;, score=0.785 total time=   5.1s\n",
            "[CV 1/3] END max_leaf_nodes=9, min_samples_leaf=3, n_estimators=500;, score=0.785 total time=   7.0s\n",
            "[CV 2/3] END max_leaf_nodes=9, min_samples_leaf=3, n_estimators=500;, score=0.781 total time=   8.3s\n",
            "[CV 3/3] END max_leaf_nodes=9, min_samples_leaf=3, n_estimators=500;, score=0.785 total time=   6.5s\n"
          ]
        },
        {
          "output_type": "execute_result",
          "data": {
            "text/plain": [
              "GridSearchCV(cv=3,\n",
              "             estimator=RandomForestClassifier(bootstrap=False,\n",
              "                                              class_weight='balanced',\n",
              "                                              n_jobs=-1, random_state=29),\n",
              "             param_grid={'max_leaf_nodes': [6, 7, 8, 9],\n",
              "                         'min_samples_leaf': [1, 2, 3],\n",
              "                         'n_estimators': [100, 300, 500]},\n",
              "             verbose=4)"
            ],
            "text/html": [
              "<style>#sk-container-id-1 {color: black;background-color: white;}#sk-container-id-1 pre{padding: 0;}#sk-container-id-1 div.sk-toggleable {background-color: white;}#sk-container-id-1 label.sk-toggleable__label {cursor: pointer;display: block;width: 100%;margin-bottom: 0;padding: 0.3em;box-sizing: border-box;text-align: center;}#sk-container-id-1 label.sk-toggleable__label-arrow:before {content: \"▸\";float: left;margin-right: 0.25em;color: #696969;}#sk-container-id-1 label.sk-toggleable__label-arrow:hover:before {color: black;}#sk-container-id-1 div.sk-estimator:hover label.sk-toggleable__label-arrow:before {color: black;}#sk-container-id-1 div.sk-toggleable__content {max-height: 0;max-width: 0;overflow: hidden;text-align: left;background-color: #f0f8ff;}#sk-container-id-1 div.sk-toggleable__content pre {margin: 0.2em;color: black;border-radius: 0.25em;background-color: #f0f8ff;}#sk-container-id-1 input.sk-toggleable__control:checked~div.sk-toggleable__content {max-height: 200px;max-width: 100%;overflow: auto;}#sk-container-id-1 input.sk-toggleable__control:checked~label.sk-toggleable__label-arrow:before {content: \"▾\";}#sk-container-id-1 div.sk-estimator input.sk-toggleable__control:checked~label.sk-toggleable__label {background-color: #d4ebff;}#sk-container-id-1 div.sk-label input.sk-toggleable__control:checked~label.sk-toggleable__label {background-color: #d4ebff;}#sk-container-id-1 input.sk-hidden--visually {border: 0;clip: rect(1px 1px 1px 1px);clip: rect(1px, 1px, 1px, 1px);height: 1px;margin: -1px;overflow: hidden;padding: 0;position: absolute;width: 1px;}#sk-container-id-1 div.sk-estimator {font-family: monospace;background-color: #f0f8ff;border: 1px dotted black;border-radius: 0.25em;box-sizing: border-box;margin-bottom: 0.5em;}#sk-container-id-1 div.sk-estimator:hover {background-color: #d4ebff;}#sk-container-id-1 div.sk-parallel-item::after {content: \"\";width: 100%;border-bottom: 1px solid gray;flex-grow: 1;}#sk-container-id-1 div.sk-label:hover label.sk-toggleable__label {background-color: #d4ebff;}#sk-container-id-1 div.sk-serial::before {content: \"\";position: absolute;border-left: 1px solid gray;box-sizing: border-box;top: 0;bottom: 0;left: 50%;z-index: 0;}#sk-container-id-1 div.sk-serial {display: flex;flex-direction: column;align-items: center;background-color: white;padding-right: 0.2em;padding-left: 0.2em;position: relative;}#sk-container-id-1 div.sk-item {position: relative;z-index: 1;}#sk-container-id-1 div.sk-parallel {display: flex;align-items: stretch;justify-content: center;background-color: white;position: relative;}#sk-container-id-1 div.sk-item::before, #sk-container-id-1 div.sk-parallel-item::before {content: \"\";position: absolute;border-left: 1px solid gray;box-sizing: border-box;top: 0;bottom: 0;left: 50%;z-index: -1;}#sk-container-id-1 div.sk-parallel-item {display: flex;flex-direction: column;z-index: 1;position: relative;background-color: white;}#sk-container-id-1 div.sk-parallel-item:first-child::after {align-self: flex-end;width: 50%;}#sk-container-id-1 div.sk-parallel-item:last-child::after {align-self: flex-start;width: 50%;}#sk-container-id-1 div.sk-parallel-item:only-child::after {width: 0;}#sk-container-id-1 div.sk-dashed-wrapped {border: 1px dashed gray;margin: 0 0.4em 0.5em 0.4em;box-sizing: border-box;padding-bottom: 0.4em;background-color: white;}#sk-container-id-1 div.sk-label label {font-family: monospace;font-weight: bold;display: inline-block;line-height: 1.2em;}#sk-container-id-1 div.sk-label-container {text-align: center;}#sk-container-id-1 div.sk-container {/* jupyter's `normalize.less` sets `[hidden] { display: none; }` but bootstrap.min.css set `[hidden] { display: none !important; }` so we also need the `!important` here to be able to override the default hidden behavior on the sphinx rendered scikit-learn.org. See: https://github.com/scikit-learn/scikit-learn/issues/21755 */display: inline-block !important;position: relative;}#sk-container-id-1 div.sk-text-repr-fallback {display: none;}</style><div id=\"sk-container-id-1\" class=\"sk-top-container\"><div class=\"sk-text-repr-fallback\"><pre>GridSearchCV(cv=3,\n",
              "             estimator=RandomForestClassifier(bootstrap=False,\n",
              "                                              class_weight=&#x27;balanced&#x27;,\n",
              "                                              n_jobs=-1, random_state=29),\n",
              "             param_grid={&#x27;max_leaf_nodes&#x27;: [6, 7, 8, 9],\n",
              "                         &#x27;min_samples_leaf&#x27;: [1, 2, 3],\n",
              "                         &#x27;n_estimators&#x27;: [100, 300, 500]},\n",
              "             verbose=4)</pre><b>In a Jupyter environment, please rerun this cell to show the HTML representation or trust the notebook. <br />On GitHub, the HTML representation is unable to render, please try loading this page with nbviewer.org.</b></div><div class=\"sk-container\" hidden><div class=\"sk-item sk-dashed-wrapped\"><div class=\"sk-label-container\"><div class=\"sk-label sk-toggleable\"><input class=\"sk-toggleable__control sk-hidden--visually\" id=\"sk-estimator-id-1\" type=\"checkbox\" ><label for=\"sk-estimator-id-1\" class=\"sk-toggleable__label sk-toggleable__label-arrow\">GridSearchCV</label><div class=\"sk-toggleable__content\"><pre>GridSearchCV(cv=3,\n",
              "             estimator=RandomForestClassifier(bootstrap=False,\n",
              "                                              class_weight=&#x27;balanced&#x27;,\n",
              "                                              n_jobs=-1, random_state=29),\n",
              "             param_grid={&#x27;max_leaf_nodes&#x27;: [6, 7, 8, 9],\n",
              "                         &#x27;min_samples_leaf&#x27;: [1, 2, 3],\n",
              "                         &#x27;n_estimators&#x27;: [100, 300, 500]},\n",
              "             verbose=4)</pre></div></div></div><div class=\"sk-parallel\"><div class=\"sk-parallel-item\"><div class=\"sk-item\"><div class=\"sk-label-container\"><div class=\"sk-label sk-toggleable\"><input class=\"sk-toggleable__control sk-hidden--visually\" id=\"sk-estimator-id-2\" type=\"checkbox\" ><label for=\"sk-estimator-id-2\" class=\"sk-toggleable__label sk-toggleable__label-arrow\">estimator: RandomForestClassifier</label><div class=\"sk-toggleable__content\"><pre>RandomForestClassifier(bootstrap=False, class_weight=&#x27;balanced&#x27;, n_jobs=-1,\n",
              "                       random_state=29)</pre></div></div></div><div class=\"sk-serial\"><div class=\"sk-item\"><div class=\"sk-estimator sk-toggleable\"><input class=\"sk-toggleable__control sk-hidden--visually\" id=\"sk-estimator-id-3\" type=\"checkbox\" ><label for=\"sk-estimator-id-3\" class=\"sk-toggleable__label sk-toggleable__label-arrow\">RandomForestClassifier</label><div class=\"sk-toggleable__content\"><pre>RandomForestClassifier(bootstrap=False, class_weight=&#x27;balanced&#x27;, n_jobs=-1,\n",
              "                       random_state=29)</pre></div></div></div></div></div></div></div></div></div></div>"
            ]
          },
          "metadata": {},
          "execution_count": 13
        }
      ],
      "source": [
        "from sklearn.model_selection import GridSearchCV\n",
        "\n",
        "# Определяем параметры для подбора\n",
        "params_grid = {\n",
        "    'n_estimators': [100, 300, 500],\n",
        "    'max_leaf_nodes': list(range(6, 10)),\n",
        "    'min_samples_leaf': [1, 2, 3]\n",
        "}\n",
        "\n",
        "# Создаем экземпляр модели RandomForestClassifier с начальными параметрами\n",
        "base_model = RandomForestClassifier(\n",
        "    bootstrap=False,\n",
        "    class_weight='balanced',\n",
        "    n_jobs=-1,\n",
        "    max_features='sqrt',\n",
        "    random_state=29\n",
        ")\n",
        "\n",
        "# Создаем объект GridSearchCV\n",
        "grid_search = GridSearchCV(\n",
        "    estimator=base_model,\n",
        "    param_grid=params_grid,\n",
        "    verbose=4,\n",
        "    cv=3\n",
        ")\n",
        "\n",
        "# Обучаем модель\n",
        "grid_search.fit(X_train, y_train)"
      ],
      "metadata": {
        "id": "5UZ-3wuyOwKs",
        "colab": {
          "base_uri": "https://localhost:8080/",
          "height": 1000
        },
        "outputId": "e2a21f62-8ca0-45fe-c6ca-d4a1af16410d"
      }
    },
    {
      "cell_type": "markdown",
      "source": [
        "Выберите лучшую модель. Рекомендуем использовать поле <code>best_estimator_</code> объекта класса <code>grid_search</code>. В поле <code>best_params_</code> этого же объекта можно найти параметры лучшей модели."
      ],
      "metadata": {
        "id": "zZwCpNp3KS5y"
      }
    },
    {
      "cell_type": "code",
      "execution_count": null,
      "outputs": [
        {
          "output_type": "execute_result",
          "data": {
            "text/plain": [
              "RandomForestClassifier(bootstrap=False, class_weight='balanced',\n",
              "                       max_leaf_nodes=9, n_estimators=500, n_jobs=-1,\n",
              "                       random_state=29)"
            ],
            "text/html": [
              "<style>#sk-container-id-2 {color: black;background-color: white;}#sk-container-id-2 pre{padding: 0;}#sk-container-id-2 div.sk-toggleable {background-color: white;}#sk-container-id-2 label.sk-toggleable__label {cursor: pointer;display: block;width: 100%;margin-bottom: 0;padding: 0.3em;box-sizing: border-box;text-align: center;}#sk-container-id-2 label.sk-toggleable__label-arrow:before {content: \"▸\";float: left;margin-right: 0.25em;color: #696969;}#sk-container-id-2 label.sk-toggleable__label-arrow:hover:before {color: black;}#sk-container-id-2 div.sk-estimator:hover label.sk-toggleable__label-arrow:before {color: black;}#sk-container-id-2 div.sk-toggleable__content {max-height: 0;max-width: 0;overflow: hidden;text-align: left;background-color: #f0f8ff;}#sk-container-id-2 div.sk-toggleable__content pre {margin: 0.2em;color: black;border-radius: 0.25em;background-color: #f0f8ff;}#sk-container-id-2 input.sk-toggleable__control:checked~div.sk-toggleable__content {max-height: 200px;max-width: 100%;overflow: auto;}#sk-container-id-2 input.sk-toggleable__control:checked~label.sk-toggleable__label-arrow:before {content: \"▾\";}#sk-container-id-2 div.sk-estimator input.sk-toggleable__control:checked~label.sk-toggleable__label {background-color: #d4ebff;}#sk-container-id-2 div.sk-label input.sk-toggleable__control:checked~label.sk-toggleable__label {background-color: #d4ebff;}#sk-container-id-2 input.sk-hidden--visually {border: 0;clip: rect(1px 1px 1px 1px);clip: rect(1px, 1px, 1px, 1px);height: 1px;margin: -1px;overflow: hidden;padding: 0;position: absolute;width: 1px;}#sk-container-id-2 div.sk-estimator {font-family: monospace;background-color: #f0f8ff;border: 1px dotted black;border-radius: 0.25em;box-sizing: border-box;margin-bottom: 0.5em;}#sk-container-id-2 div.sk-estimator:hover {background-color: #d4ebff;}#sk-container-id-2 div.sk-parallel-item::after {content: \"\";width: 100%;border-bottom: 1px solid gray;flex-grow: 1;}#sk-container-id-2 div.sk-label:hover label.sk-toggleable__label {background-color: #d4ebff;}#sk-container-id-2 div.sk-serial::before {content: \"\";position: absolute;border-left: 1px solid gray;box-sizing: border-box;top: 0;bottom: 0;left: 50%;z-index: 0;}#sk-container-id-2 div.sk-serial {display: flex;flex-direction: column;align-items: center;background-color: white;padding-right: 0.2em;padding-left: 0.2em;position: relative;}#sk-container-id-2 div.sk-item {position: relative;z-index: 1;}#sk-container-id-2 div.sk-parallel {display: flex;align-items: stretch;justify-content: center;background-color: white;position: relative;}#sk-container-id-2 div.sk-item::before, #sk-container-id-2 div.sk-parallel-item::before {content: \"\";position: absolute;border-left: 1px solid gray;box-sizing: border-box;top: 0;bottom: 0;left: 50%;z-index: -1;}#sk-container-id-2 div.sk-parallel-item {display: flex;flex-direction: column;z-index: 1;position: relative;background-color: white;}#sk-container-id-2 div.sk-parallel-item:first-child::after {align-self: flex-end;width: 50%;}#sk-container-id-2 div.sk-parallel-item:last-child::after {align-self: flex-start;width: 50%;}#sk-container-id-2 div.sk-parallel-item:only-child::after {width: 0;}#sk-container-id-2 div.sk-dashed-wrapped {border: 1px dashed gray;margin: 0 0.4em 0.5em 0.4em;box-sizing: border-box;padding-bottom: 0.4em;background-color: white;}#sk-container-id-2 div.sk-label label {font-family: monospace;font-weight: bold;display: inline-block;line-height: 1.2em;}#sk-container-id-2 div.sk-label-container {text-align: center;}#sk-container-id-2 div.sk-container {/* jupyter's `normalize.less` sets `[hidden] { display: none; }` but bootstrap.min.css set `[hidden] { display: none !important; }` so we also need the `!important` here to be able to override the default hidden behavior on the sphinx rendered scikit-learn.org. See: https://github.com/scikit-learn/scikit-learn/issues/21755 */display: inline-block !important;position: relative;}#sk-container-id-2 div.sk-text-repr-fallback {display: none;}</style><div id=\"sk-container-id-2\" class=\"sk-top-container\"><div class=\"sk-text-repr-fallback\"><pre>RandomForestClassifier(bootstrap=False, class_weight=&#x27;balanced&#x27;,\n",
              "                       max_leaf_nodes=9, n_estimators=500, n_jobs=-1,\n",
              "                       random_state=29)</pre><b>In a Jupyter environment, please rerun this cell to show the HTML representation or trust the notebook. <br />On GitHub, the HTML representation is unable to render, please try loading this page with nbviewer.org.</b></div><div class=\"sk-container\" hidden><div class=\"sk-item\"><div class=\"sk-estimator sk-toggleable\"><input class=\"sk-toggleable__control sk-hidden--visually\" id=\"sk-estimator-id-4\" type=\"checkbox\" checked><label for=\"sk-estimator-id-4\" class=\"sk-toggleable__label sk-toggleable__label-arrow\">RandomForestClassifier</label><div class=\"sk-toggleable__content\"><pre>RandomForestClassifier(bootstrap=False, class_weight=&#x27;balanced&#x27;,\n",
              "                       max_leaf_nodes=9, n_estimators=500, n_jobs=-1,\n",
              "                       random_state=29)</pre></div></div></div></div></div>"
            ]
          },
          "metadata": {},
          "execution_count": 15
        }
      ],
      "source": [
        "grid_search.best_estimator_"
      ],
      "metadata": {
        "id": "k55iDQNWOwKt",
        "colab": {
          "base_uri": "https://localhost:8080/",
          "height": 109
        },
        "outputId": "2ee80459-0321-4a45-d8bf-1423ceb6fa69"
      }
    },
    {
      "cell_type": "code",
      "source": [
        "grid_search.best_params_"
      ],
      "metadata": {
        "colab": {
          "base_uri": "https://localhost:8080/"
        },
        "id": "G9unIOaVepRt",
        "outputId": "e798f6f5-34f6-4f5f-9d27-c82eaccba32c"
      },
      "execution_count": null,
      "outputs": [
        {
          "output_type": "execute_result",
          "data": {
            "text/plain": [
              "{'max_leaf_nodes': 9, 'min_samples_leaf': 1, 'n_estimators': 500}"
            ]
          },
          "metadata": {},
          "execution_count": 16
        }
      ]
    },
    {
      "cell_type": "markdown",
      "source": [
        "Постройте <code>classification_report</code> полученной модели на **тренировочных данных**. Введите значение точности модели на **тренировочных данных**."
      ],
      "metadata": {
        "collapsed": false,
        "id": "d3GLyploOwKt"
      }
    },
    {
      "cell_type": "code",
      "execution_count": null,
      "outputs": [
        {
          "output_type": "stream",
          "name": "stdout",
          "text": [
            "Classification Report на тренировочных данных:\n",
            "               precision    recall  f1-score   support\n",
            "\n",
            "           0      0.779     0.876     0.825     16668\n",
            "           1      0.798     0.665     0.726     12331\n",
            "\n",
            "    accuracy                          0.786     28999\n",
            "   macro avg      0.789     0.770     0.775     28999\n",
            "weighted avg      0.788     0.786     0.783     28999\n",
            "\n",
            "Точность модели на тренировочных данных: 0.786\n"
          ]
        }
      ],
      "source": [
        "from sklearn.metrics import classification_report\n",
        "\n",
        "# Делаем предсказания на тренировочных данных с помощью лучшей модели\n",
        "train_predictions = grid_search.best_estimator_.predict(X_train)\n",
        "\n",
        "# Выводим classification report\n",
        "report = classification_report(y_train, train_predictions, digits=3)\n",
        "print(\"Classification Report на тренировочных данных:\\n\", report)\n",
        "\n",
        "# Определяем точность модели на тренировочных данных\n",
        "accuracy_train = grid_search.best_estimator_.score(X_train, y_train)\n",
        "print(\"Точность модели на тренировочных данных:\", round(accuracy_train, 3))"
      ],
      "metadata": {
        "id": "R_LdKm8COwKt",
        "colab": {
          "base_uri": "https://localhost:8080/"
        },
        "outputId": "68b9a433-2c0c-4f8a-dd0a-80e0c9554a28"
      }
    },
    {
      "cell_type": "markdown",
      "source": [
        "Постройте <code>classification_report</code> полученной модели на **тестовых данных**. Введите значение точности модели на **тестовых данных**."
      ],
      "metadata": {
        "collapsed": false,
        "id": "0uhEO7qrOwKu"
      }
    },
    {
      "cell_type": "code",
      "execution_count": null,
      "outputs": [
        {
          "output_type": "stream",
          "name": "stdout",
          "text": [
            "Classification Report на тестовых данных:\n",
            "               precision    recall  f1-score   support\n",
            "\n",
            "           0      0.782     0.875     0.826      4192\n",
            "           1      0.796     0.665     0.725      3058\n",
            "\n",
            "    accuracy                          0.787      7250\n",
            "   macro avg      0.789     0.770     0.775      7250\n",
            "weighted avg      0.788     0.787     0.783      7250\n",
            "\n",
            "Точность модели на тестовых данных: 0.787\n"
          ]
        }
      ],
      "source": [
        "# Делаем предсказания на тестовых данных с помощью лучшей модели\n",
        "test_predictions = grid_search.best_estimator_.predict(X_test)\n",
        "\n",
        "# Выводим classification report\n",
        "report_test = classification_report(y_test, test_predictions, digits=3)\n",
        "print(\"Classification Report на тестовых данных:\\n\", report_test)\n",
        "\n",
        "# Определяем точность модели на тестовых данных\n",
        "accuracy_test = grid_search.best_estimator_.score(X_test, y_test)\n",
        "print(\"Точность модели на тестовых данных:\", round(accuracy_test, 3))"
      ],
      "metadata": {
        "id": "xpfw580-OwKu",
        "colab": {
          "base_uri": "https://localhost:8080/"
        },
        "outputId": "15f71dcb-32b9-46f5-9b79-0e74547a65a8"
      }
    },
    {
      "cell_type": "markdown",
      "source": [
        "От переобучения избавились, но точность кажется низкой.\n",
        "\n",
        "Один из плюсов случайного леса — можно посмотреть на важность признаков при классификации (обратная задача). Значения важности можно найти в поле <code>feature_importances_</code> модели. Определите название самого важного признака модели."
      ],
      "metadata": {
        "collapsed": false,
        "id": "3XQw9dQ_OwKv"
      }
    },
    {
      "cell_type": "code",
      "execution_count": null,
      "outputs": [
        {
          "output_type": "stream",
          "name": "stdout",
          "text": [
            "Самый важный признак модели: nswprice\n"
          ]
        }
      ],
      "source": [
        "feature_importance = grid_search.best_estimator_.feature_importances_\n",
        "\n",
        "# Находим индекс признака с максимальной важностью\n",
        "most_important_index = feature_importance.argmax()\n",
        "\n",
        "# Находим название самого важного признака\n",
        "most_important_feature_name = df.drop(columns=['class']).columns[most_important_index]\n",
        "\n",
        "print(\"Самый важный признак модели:\", most_important_feature_name)"
      ],
      "metadata": {
        "id": "-5Auo3oaOwKv",
        "colab": {
          "base_uri": "https://localhost:8080/"
        },
        "outputId": "a95072d1-c9b3-4ad3-d5da-048f0632d660"
      }
    },
    {
      "cell_type": "markdown",
      "source": [
        "Попробуем улучшить результаты, используя другие виды ансамблей."
      ],
      "metadata": {
        "collapsed": false,
        "id": "QcUnr6t-OwKw"
      }
    },
    {
      "cell_type": "markdown",
      "source": [
        "# Voting Classifier"
      ],
      "metadata": {
        "collapsed": false,
        "id": "HVu9rFLOOwKw"
      }
    },
    {
      "cell_type": "markdown",
      "source": [
        "Обучает все модели, поданные на вход, и предсказывает финальный результат либо по большему числу одинаковых ответов, которые дали модели (hard), либо вычисляет вероятность отнесения объектов к классам по всем моделям и берет argmax."
      ],
      "metadata": {
        "collapsed": false,
        "id": "kbojfuNbOwKx"
      }
    },
    {
      "cell_type": "markdown",
      "source": [
        "Используйте объект <code>sklearn.ensemble.VotingClassifier</code> с параметром <code>voting='hard'</code>. В качестве базовых алгоритмов используйте классификаторы с соответствующими параметрами, указанными в вашем индивидуальном задании. Обучите модель на тренировочных данных"
      ],
      "metadata": {
        "id": "o3d4ywmw1LyT"
      }
    },
    {
      "cell_type": "code",
      "execution_count": null,
      "outputs": [
        {
          "output_type": "stream",
          "name": "stdout",
          "text": [
            "Classification Report на тестовых данных для VotingClassifier:\n",
            "               precision    recall  f1-score   support\n",
            "\n",
            "           0      0.720     0.916     0.806      4192\n",
            "           1      0.816     0.513     0.630      3058\n",
            "\n",
            "    accuracy                          0.746      7250\n",
            "   macro avg      0.768     0.714     0.718      7250\n",
            "weighted avg      0.761     0.746     0.732      7250\n",
            "\n",
            "Точность модели на тестовых данных для VotingClassifier: 0.746\n"
          ]
        }
      ],
      "source": [
        "from sklearn.ensemble import VotingClassifier\n",
        "from sklearn.linear_model import LogisticRegression\n",
        "from sklearn.svm import SVC\n",
        "from sklearn.linear_model import SGDClassifier\n",
        "from sklearn.metrics import classification_report\n",
        "\n",
        "# Определяем базовые алгоритмы\n",
        "log_reg = LogisticRegression(solver='liblinear', random_state=29)\n",
        "svc = SVC(random_state=29)\n",
        "sgd = SGDClassifier(random_state=29)\n",
        "\n",
        "# Создаем VotingClassifier\n",
        "voting_clf = VotingClassifier(\n",
        "    estimators=[('lr', log_reg), ('svc', svc), ('sgd', sgd)],\n",
        "    voting='hard'\n",
        ")\n",
        "\n",
        "# Обучаем модель\n",
        "voting_clf.fit(X_train, y_train)\n",
        "\n",
        "# Делаем предсказания на тестовых данных\n",
        "test_predictions_voting = voting_clf.predict(X_test)\n",
        "\n",
        "# Выводим classification report\n",
        "report_voting = classification_report(y_test, test_predictions_voting, digits=3)\n",
        "print(\"Classification Report на тестовых данных для VotingClassifier:\\n\", report_voting)\n",
        "\n",
        "# Определяем точность модели на тестовых данных\n",
        "accuracy_test_voting = voting_clf.score(X_test, y_test)\n",
        "print(\"Точность модели на тестовых данных для VotingClassifier:\", round(accuracy_test_voting, 3))\n"
      ],
      "metadata": {
        "id": "1DAjKsI9OwKy",
        "colab": {
          "base_uri": "https://localhost:8080/"
        },
        "outputId": "5a43efa5-687b-4864-830b-eca4017662ec"
      }
    },
    {
      "cell_type": "markdown",
      "source": [
        "Вычислите точность модели на **тренировочных данных**"
      ],
      "metadata": {
        "id": "J_39w5oz2fKJ"
      }
    },
    {
      "cell_type": "code",
      "execution_count": null,
      "outputs": [],
      "source": [
        "# < ENTER YOUR CODE HERE >"
      ],
      "metadata": {
        "id": "C30hbtqHOwK0"
      }
    },
    {
      "cell_type": "markdown",
      "source": [
        "Вычислите точность модели на **тестовых данных**"
      ],
      "metadata": {
        "id": "A_N2EDoZ2oOZ"
      }
    },
    {
      "cell_type": "code",
      "execution_count": null,
      "outputs": [],
      "source": [
        "# < ENTER YOUR CODE HERE >"
      ],
      "metadata": {
        "id": "AR1KVgWyOwK0"
      }
    },
    {
      "cell_type": "markdown",
      "source": [
        "# Bagging Classifier"
      ],
      "metadata": {
        "collapsed": false,
        "id": "Ws7He2W9OwK1"
      }
    },
    {
      "cell_type": "markdown",
      "source": [
        "Создает несколько объектов одного класса (несколько моделей) и обучает их на непересекающихся подмножествах тренировочных данных, а дальше усредняет ответы."
      ],
      "metadata": {
        "collapsed": false,
        "id": "-YsVZtnuOwK1"
      }
    },
    {
      "cell_type": "markdown",
      "source": [
        "На основе <code>sklearn.ensemble.BaggingClassifier</code>, используя <code>DecisionTreeClassifier</code> обучите модель с параметрами, указанными в вашем индивидуальном задании на тренировочных данных."
      ],
      "metadata": {
        "id": "doGMIkccPlk0"
      }
    },
    {
      "cell_type": "code",
      "execution_count": null,
      "outputs": [
        {
          "output_type": "stream",
          "name": "stdout",
          "text": [
            "Classification Report на тестовых данных для BaggingClassifier:\n",
            "               precision    recall  f1-score   support\n",
            "\n",
            "           0      0.822     0.903     0.861      4192\n",
            "           1      0.847     0.731     0.785      3058\n",
            "\n",
            "    accuracy                          0.831      7250\n",
            "   macro avg      0.834     0.817     0.823      7250\n",
            "weighted avg      0.832     0.831     0.829      7250\n",
            "\n",
            "Точность модели на тестовых данных для BaggingClassifier: 0.831\n"
          ]
        }
      ],
      "source": [
        "from sklearn.ensemble import BaggingClassifier\n",
        "from sklearn.tree import DecisionTreeClassifier\n",
        "from sklearn.metrics import classification_report\n",
        "\n",
        "# Создаем и обучаем модель BaggingClassifier\n",
        "bagging_clf = BaggingClassifier(\n",
        "    DecisionTreeClassifier(class_weight='balanced'),\n",
        "    max_samples=0.5,\n",
        "    max_features=0.5,\n",
        "    bootstrap=False,\n",
        "    random_state=29\n",
        ")\n",
        "bagging_clf.fit(X_train, y_train)\n",
        "\n",
        "# Делаем предсказания на тестовых данных\n",
        "test_predictions_bagging = bagging_clf.predict(X_test)\n",
        "\n",
        "# Выводим classification report\n",
        "report_bagging = classification_report(y_test, test_predictions_bagging, digits=3)\n",
        "print(\"Classification Report на тестовых данных для BaggingClassifier:\\n\", report_bagging)\n",
        "\n",
        "# Определяем точность модели на тестовых данных\n",
        "accuracy_test_bagging = bagging_clf.score(X_test, y_test)\n",
        "print(\"Точность модели на тестовых данных для BaggingClassifier:\", round(accuracy_test_bagging, 3))"
      ],
      "metadata": {
        "id": "dxzRPukwOwK1",
        "colab": {
          "base_uri": "https://localhost:8080/"
        },
        "outputId": "7356e647-662c-4fee-bade-50a10547e1aa"
      }
    },
    {
      "cell_type": "markdown",
      "source": [
        "Вычислите точность модели на **тренировочных данных**"
      ],
      "metadata": {
        "id": "JLZKP6o2QXX7"
      }
    },
    {
      "cell_type": "code",
      "execution_count": null,
      "outputs": [],
      "source": [
        "# < ENTER YOUR CODE HERE >"
      ],
      "metadata": {
        "id": "jLdkYxo4OwK2"
      }
    },
    {
      "cell_type": "markdown",
      "source": [
        "Вычислите точность модели на **тестовых данных**"
      ],
      "metadata": {
        "id": "n_ffcNRAQdYN"
      }
    },
    {
      "cell_type": "code",
      "execution_count": null,
      "outputs": [],
      "source": [
        "# < ENTER YOUR CODE HERE >"
      ],
      "metadata": {
        "id": "hIhBFyh2OwK2"
      }
    },
    {
      "cell_type": "markdown",
      "source": [
        "# Gradient Boosting Classifier"
      ],
      "metadata": {
        "collapsed": false,
        "id": "Ls9MVZA_OwK3"
      }
    },
    {
      "cell_type": "markdown",
      "source": [
        "Градиентный бустинг работает примерно так: создается несколько объектов класса (несколько моделей), они выстраиваются в цепочку так, чтобы каждый следующий пытался исправить ошибки предыдущего. Склонен к переобучению.\n",
        "\n",
        "Обучите модель на основе <code>sklearn.ensemble.GradientBoostingClassifier</code> с параметрами, указанными в вашем индивидуальном задании на тренировочных данных."
      ],
      "metadata": {
        "collapsed": false,
        "id": "pgfdAw9DOwK3"
      }
    },
    {
      "cell_type": "code",
      "execution_count": null,
      "outputs": [
        {
          "output_type": "stream",
          "name": "stdout",
          "text": [
            "Classification Report на тестовых данных для GradientBoostingClassifier:\n",
            "               precision    recall  f1-score   support\n",
            "\n",
            "           0      0.908     0.917     0.913      4192\n",
            "           1      0.885     0.872     0.879      3058\n",
            "\n",
            "    accuracy                          0.898      7250\n",
            "   macro avg      0.897     0.895     0.896      7250\n",
            "weighted avg      0.898     0.898     0.898      7250\n",
            "\n",
            "Точность модели на тестовых данных для GradientBoostingClassifier: 0.898\n"
          ]
        }
      ],
      "source": [
        "from sklearn.ensemble import GradientBoostingClassifier\n",
        "from sklearn.metrics import classification_report\n",
        "\n",
        "# Создаем и обучаем модель GradientBoostingClassifier\n",
        "gb_clf = GradientBoostingClassifier(\n",
        "    n_estimators=500,\n",
        "    learning_rate=0.8,\n",
        "    random_state=29,\n",
        "    max_depth=2\n",
        ")\n",
        "gb_clf.fit(X_train, y_train)\n",
        "\n",
        "# Делаем предсказания на тестовых данных\n",
        "test_predictions_gb = gb_clf.predict(X_test)\n",
        "\n",
        "# Выводим classification report\n",
        "report_gb = classification_report(y_test, test_predictions_gb, digits=3)\n",
        "print(\"Classification Report на тестовых данных для GradientBoostingClassifier:\\n\", report_gb)\n",
        "\n",
        "# Определяем точность модели на тестовых данных\n",
        "accuracy_test_gb = gb_clf.score(X_test, y_test)\n",
        "print(\"Точность модели на тестовых данных для GradientBoostingClassifier:\", round(accuracy_test_gb, 3))\n"
      ],
      "metadata": {
        "id": "V0vooqAZOwK4",
        "colab": {
          "base_uri": "https://localhost:8080/"
        },
        "outputId": "50c6fdce-9f2a-496f-8df0-b051a8ff055a"
      }
    },
    {
      "cell_type": "markdown",
      "source": [
        "Вычислите точность модели на **тренировочных данных**"
      ],
      "metadata": {
        "id": "GG6FsM-MQ4zD"
      }
    },
    {
      "cell_type": "code",
      "execution_count": null,
      "outputs": [],
      "source": [
        "# < ENTER YOUR CODE HERE >"
      ],
      "metadata": {
        "id": "lFeF1QwPOwK4"
      }
    },
    {
      "cell_type": "markdown",
      "source": [
        "Вычислите точность модели на **тестовых данных**"
      ],
      "metadata": {
        "id": "bOelcde2Q7ci"
      }
    },
    {
      "cell_type": "code",
      "execution_count": null,
      "outputs": [],
      "source": [
        "# < ENTER YOUR CODE HERE >"
      ],
      "metadata": {
        "id": "JwE39g4NOwK5"
      }
    },
    {
      "cell_type": "markdown",
      "source": [
        "# AdaBoost Classifier"
      ],
      "metadata": {
        "collapsed": false,
        "id": "3R2nbMJpOwK5"
      }
    },
    {
      "cell_type": "markdown",
      "source": [
        "Работает похожим на градиентный бустинг образом, только последующие модели не пытаются исправить ошибку предыдущих: сначала первый объект обучается на всем датасете, а следующий на основе опыта предыдущего обновляет свои веса так, чтобы исправлять ошибочные предсказания.\n",
        "\n",
        "На основе <code>sklearn.ensemble.AdaBoostClassifier</code>, используя <code>DecisionTreeClassifier</code> обучите модель с параметрами, указанными в вашем индивидуальном задании на тренировочных данных."
      ],
      "metadata": {
        "collapsed": false,
        "id": "pJHU89IuOwK5"
      }
    },
    {
      "cell_type": "code",
      "execution_count": null,
      "outputs": [
        {
          "output_type": "stream",
          "name": "stderr",
          "text": [
            "/usr/local/lib/python3.10/dist-packages/sklearn/ensemble/_base.py:166: FutureWarning: `base_estimator` was renamed to `estimator` in version 1.2 and will be removed in 1.4.\n",
            "  warnings.warn(\n"
          ]
        },
        {
          "output_type": "stream",
          "name": "stdout",
          "text": [
            "Classification Report на тестовых данных для AdaBoostClassifier:\n",
            "               precision    recall  f1-score   support\n",
            "\n",
            "           0      0.926     0.902     0.914      4192\n",
            "           1      0.870     0.901     0.885      3058\n",
            "\n",
            "    accuracy                          0.902      7250\n",
            "   macro avg      0.898     0.902     0.900      7250\n",
            "weighted avg      0.902     0.902     0.902      7250\n",
            "\n",
            "Точность модели на тестовых данных для AdaBoostClassifier: 0.902\n"
          ]
        }
      ],
      "source": [
        "from sklearn.ensemble import AdaBoostClassifier\n",
        "from sklearn.tree import DecisionTreeClassifier\n",
        "from sklearn.metrics import classification_report\n",
        "\n",
        "# Создаем базовый классификатор DecisionTreeClassifier\n",
        "base_classifier = DecisionTreeClassifier(max_depth=3, class_weight='balanced')\n",
        "\n",
        "# Создаем и обучаем модель AdaBoostClassifier\n",
        "adaboost_clf = AdaBoostClassifier(\n",
        "    base_estimator=base_classifier,\n",
        "    n_estimators=300,\n",
        "    learning_rate=0.5,\n",
        "    random_state=29\n",
        ")\n",
        "adaboost_clf.fit(X_train, y_train)\n",
        "\n",
        "# Делаем предсказания на тестовых данных\n",
        "test_predictions_adaboost = adaboost_clf.predict(X_test)\n",
        "\n",
        "# Выводим classification report\n",
        "report_adaboost = classification_report(y_test, test_predictions_adaboost, digits=3)\n",
        "print(\"Classification Report на тестовых данных для AdaBoostClassifier:\\n\", report_adaboost)\n",
        "\n",
        "# Определяем точность модели на тестовых данных\n",
        "accuracy_test_adaboost = adaboost_clf.score(X_test, y_test)\n",
        "print(\"Точность модели на тестовых данных для AdaBoostClassifier:\", round(accuracy_test_adaboost, 3))\n"
      ],
      "metadata": {
        "id": "ohHflb2gOwK6",
        "colab": {
          "base_uri": "https://localhost:8080/"
        },
        "outputId": "554dc4d4-ce37-4f3a-86fb-031c9e56b5c6"
      }
    },
    {
      "cell_type": "markdown",
      "source": [
        "Вычислите точность модели на **тренировочных данных**"
      ],
      "metadata": {
        "id": "AuTJlmRYRsUY"
      }
    },
    {
      "cell_type": "code",
      "execution_count": null,
      "outputs": [],
      "source": [
        "# < ENTER YOUR CODE HERE >"
      ],
      "metadata": {
        "id": "IAG_PMTYOwK6"
      }
    },
    {
      "cell_type": "markdown",
      "source": [
        "Вычислите точность модели на **тестовых данных**"
      ],
      "metadata": {
        "id": "6GpNu-JGRuch"
      }
    },
    {
      "cell_type": "code",
      "execution_count": null,
      "outputs": [],
      "source": [
        "# < ENTER YOUR CODE HERE >"
      ],
      "metadata": {
        "id": "SVKSXjJ_OwK6"
      }
    },
    {
      "cell_type": "markdown",
      "source": [
        "# Stacking Classifier"
      ],
      "metadata": {
        "collapsed": false,
        "id": "HO-fMJpWOwK7"
      }
    },
    {
      "cell_type": "markdown",
      "source": [
        "Обучает несколько объектов класса (несколько моделей) на всем наборе данных, а после — обучает отдельный классификатор на метданных — ответах, полученных обученными ранее моделями.\n",
        "\n",
        "Используйте объект <code>sklearn.ensemble.StackingClassifier</code>. Базовые алгоритмы и решающий, а также соответствующие параметры указанны в вашем индивидуальном задании. Обучите модель на тренировочных данных."
      ],
      "metadata": {
        "collapsed": false,
        "id": "jwt8PrAhOwK7"
      }
    },
    {
      "cell_type": "code",
      "execution_count": null,
      "outputs": [
        {
          "output_type": "stream",
          "name": "stdout",
          "text": [
            "Classification Report на тестовых данных для StackingClassifier:\n",
            "               precision    recall  f1-score   support\n",
            "\n",
            "           0      0.912     0.922     0.917      4192\n",
            "           1      0.891     0.878     0.885      3058\n",
            "\n",
            "    accuracy                          0.903      7250\n",
            "   macro avg      0.902     0.900     0.901      7250\n",
            "weighted avg      0.903     0.903     0.903      7250\n",
            "\n",
            "Точность модели на тестовых данных для StackingClassifier: 0.903\n"
          ]
        }
      ],
      "source": [
        "from sklearn.ensemble import StackingClassifier\n",
        "from sklearn.ensemble import RandomForestClassifier\n",
        "from sklearn.svm import SVC\n",
        "from sklearn.linear_model import LogisticRegression\n",
        "from sklearn.metrics import classification_report\n",
        "\n",
        "# Определяем базовые алгоритмы\n",
        "base_estimators = [\n",
        "    ('rf', RandomForestClassifier(random_state=29)),\n",
        "    ('svc', SVC(random_state=29))\n",
        "]\n",
        "\n",
        "# Определяем решающий алгоритм\n",
        "final_estimator = LogisticRegression(random_state=29)\n",
        "\n",
        "# Создаем и обучаем модель StackingClassifier\n",
        "stacking_clf = StackingClassifier(\n",
        "    estimators=base_estimators,\n",
        "    final_estimator=final_estimator\n",
        ")\n",
        "stacking_clf.fit(X_train, y_train)\n",
        "\n",
        "# Делаем предсказания на тестовых данных\n",
        "test_predictions_stacking = stacking_clf.predict(X_test)\n",
        "\n",
        "# Выводим classification report\n",
        "report_stacking = classification_report(y_test, test_predictions_stacking, digits=3)\n",
        "print(\"Classification Report на тестовых данных для StackingClassifier:\\n\", report_stacking)\n",
        "\n",
        "# Определяем точность модели на тестовых данных\n",
        "accuracy_test_stacking = stacking_clf.score(X_test, y_test)\n",
        "print(\"Точность модели на тестовых данных для StackingClassifier:\", round(accuracy_test_stacking, 3))"
      ],
      "metadata": {
        "id": "rBblioH9OwK7",
        "colab": {
          "base_uri": "https://localhost:8080/"
        },
        "outputId": "5cb848ae-5a6e-4c58-ab13-43ab332ed4e5"
      }
    },
    {
      "cell_type": "markdown",
      "source": [
        "Вычислите точность модели на **тренировочных данных**"
      ],
      "metadata": {
        "id": "DfqpeCWeTP24"
      }
    },
    {
      "cell_type": "code",
      "execution_count": null,
      "outputs": [],
      "source": [
        "# < ENTER YOUR CODE HERE >"
      ],
      "metadata": {
        "id": "6pJ3EYn2OwK8"
      }
    },
    {
      "cell_type": "markdown",
      "source": [
        "Вычислите точность модели на **тестовых данных**"
      ],
      "metadata": {
        "id": "xRNxf9ZGTUMk"
      }
    },
    {
      "cell_type": "code",
      "execution_count": null,
      "outputs": [],
      "source": [
        "# < ENTER YOUR CODE HERE >"
      ],
      "metadata": {
        "id": "jUQ8y62VOwK8"
      }
    },
    {
      "cell_type": "code",
      "source": [
        "import pandas as pd\n",
        "from sklearn.tree import DecisionTreeClassifier\n",
        "from sklearn.ensemble import AdaBoostClassifier\n",
        "from sklearn.metrics import classification_report\n",
        "\n",
        "# Загрузка тренировочных данных\n",
        "train_data = pd.read_csv(\"electricity_train.csv\")\n",
        "\n",
        "# Разделение на признаки и целевую переменную\n",
        "X_train = train_data.drop(columns=[\"class\"])\n",
        "y_train = train_data[\"class\"]\n",
        "\n",
        "# Обучение модели AdaBoostClassifier\n",
        "base_estimator = DecisionTreeClassifier(max_depth=3, class_weight='balanced')\n",
        "adaboost_clf = AdaBoostClassifier(\n",
        "    base_estimator=base_estimator,\n",
        "    n_estimators=8000,\n",
        "    learning_rate=0.5,\n",
        "    random_state=29\n",
        ")\n",
        "adaboost_clf.fit(X_train, y_train)"
      ],
      "metadata": {
        "colab": {
          "base_uri": "https://localhost:8080/",
          "height": 174
        },
        "id": "Y2bCkw4VmAEC",
        "outputId": "9eb5de4f-6c1f-48ac-a127-ee7ff659ffbe"
      },
      "execution_count": null,
      "outputs": [
        {
          "output_type": "stream",
          "name": "stderr",
          "text": [
            "/usr/local/lib/python3.10/dist-packages/sklearn/ensemble/_base.py:166: FutureWarning: `base_estimator` was renamed to `estimator` in version 1.2 and will be removed in 1.4.\n",
            "  warnings.warn(\n"
          ]
        },
        {
          "output_type": "execute_result",
          "data": {
            "text/plain": [
              "AdaBoostClassifier(base_estimator=DecisionTreeClassifier(class_weight='balanced',\n",
              "                                                         max_depth=3),\n",
              "                   learning_rate=0.5, n_estimators=8000, random_state=29)"
            ],
            "text/html": [
              "<style>#sk-container-id-1 {color: black;background-color: white;}#sk-container-id-1 pre{padding: 0;}#sk-container-id-1 div.sk-toggleable {background-color: white;}#sk-container-id-1 label.sk-toggleable__label {cursor: pointer;display: block;width: 100%;margin-bottom: 0;padding: 0.3em;box-sizing: border-box;text-align: center;}#sk-container-id-1 label.sk-toggleable__label-arrow:before {content: \"▸\";float: left;margin-right: 0.25em;color: #696969;}#sk-container-id-1 label.sk-toggleable__label-arrow:hover:before {color: black;}#sk-container-id-1 div.sk-estimator:hover label.sk-toggleable__label-arrow:before {color: black;}#sk-container-id-1 div.sk-toggleable__content {max-height: 0;max-width: 0;overflow: hidden;text-align: left;background-color: #f0f8ff;}#sk-container-id-1 div.sk-toggleable__content pre {margin: 0.2em;color: black;border-radius: 0.25em;background-color: #f0f8ff;}#sk-container-id-1 input.sk-toggleable__control:checked~div.sk-toggleable__content {max-height: 200px;max-width: 100%;overflow: auto;}#sk-container-id-1 input.sk-toggleable__control:checked~label.sk-toggleable__label-arrow:before {content: \"▾\";}#sk-container-id-1 div.sk-estimator input.sk-toggleable__control:checked~label.sk-toggleable__label {background-color: #d4ebff;}#sk-container-id-1 div.sk-label input.sk-toggleable__control:checked~label.sk-toggleable__label {background-color: #d4ebff;}#sk-container-id-1 input.sk-hidden--visually {border: 0;clip: rect(1px 1px 1px 1px);clip: rect(1px, 1px, 1px, 1px);height: 1px;margin: -1px;overflow: hidden;padding: 0;position: absolute;width: 1px;}#sk-container-id-1 div.sk-estimator {font-family: monospace;background-color: #f0f8ff;border: 1px dotted black;border-radius: 0.25em;box-sizing: border-box;margin-bottom: 0.5em;}#sk-container-id-1 div.sk-estimator:hover {background-color: #d4ebff;}#sk-container-id-1 div.sk-parallel-item::after {content: \"\";width: 100%;border-bottom: 1px solid gray;flex-grow: 1;}#sk-container-id-1 div.sk-label:hover label.sk-toggleable__label {background-color: #d4ebff;}#sk-container-id-1 div.sk-serial::before {content: \"\";position: absolute;border-left: 1px solid gray;box-sizing: border-box;top: 0;bottom: 0;left: 50%;z-index: 0;}#sk-container-id-1 div.sk-serial {display: flex;flex-direction: column;align-items: center;background-color: white;padding-right: 0.2em;padding-left: 0.2em;position: relative;}#sk-container-id-1 div.sk-item {position: relative;z-index: 1;}#sk-container-id-1 div.sk-parallel {display: flex;align-items: stretch;justify-content: center;background-color: white;position: relative;}#sk-container-id-1 div.sk-item::before, #sk-container-id-1 div.sk-parallel-item::before {content: \"\";position: absolute;border-left: 1px solid gray;box-sizing: border-box;top: 0;bottom: 0;left: 50%;z-index: -1;}#sk-container-id-1 div.sk-parallel-item {display: flex;flex-direction: column;z-index: 1;position: relative;background-color: white;}#sk-container-id-1 div.sk-parallel-item:first-child::after {align-self: flex-end;width: 50%;}#sk-container-id-1 div.sk-parallel-item:last-child::after {align-self: flex-start;width: 50%;}#sk-container-id-1 div.sk-parallel-item:only-child::after {width: 0;}#sk-container-id-1 div.sk-dashed-wrapped {border: 1px dashed gray;margin: 0 0.4em 0.5em 0.4em;box-sizing: border-box;padding-bottom: 0.4em;background-color: white;}#sk-container-id-1 div.sk-label label {font-family: monospace;font-weight: bold;display: inline-block;line-height: 1.2em;}#sk-container-id-1 div.sk-label-container {text-align: center;}#sk-container-id-1 div.sk-container {/* jupyter's `normalize.less` sets `[hidden] { display: none; }` but bootstrap.min.css set `[hidden] { display: none !important; }` so we also need the `!important` here to be able to override the default hidden behavior on the sphinx rendered scikit-learn.org. See: https://github.com/scikit-learn/scikit-learn/issues/21755 */display: inline-block !important;position: relative;}#sk-container-id-1 div.sk-text-repr-fallback {display: none;}</style><div id=\"sk-container-id-1\" class=\"sk-top-container\"><div class=\"sk-text-repr-fallback\"><pre>AdaBoostClassifier(base_estimator=DecisionTreeClassifier(class_weight=&#x27;balanced&#x27;,\n",
              "                                                         max_depth=3),\n",
              "                   learning_rate=0.5, n_estimators=8000, random_state=29)</pre><b>In a Jupyter environment, please rerun this cell to show the HTML representation or trust the notebook. <br />On GitHub, the HTML representation is unable to render, please try loading this page with nbviewer.org.</b></div><div class=\"sk-container\" hidden><div class=\"sk-item sk-dashed-wrapped\"><div class=\"sk-label-container\"><div class=\"sk-label sk-toggleable\"><input class=\"sk-toggleable__control sk-hidden--visually\" id=\"sk-estimator-id-1\" type=\"checkbox\" ><label for=\"sk-estimator-id-1\" class=\"sk-toggleable__label sk-toggleable__label-arrow\">AdaBoostClassifier</label><div class=\"sk-toggleable__content\"><pre>AdaBoostClassifier(base_estimator=DecisionTreeClassifier(class_weight=&#x27;balanced&#x27;,\n",
              "                                                         max_depth=3),\n",
              "                   learning_rate=0.5, n_estimators=8000, random_state=29)</pre></div></div></div><div class=\"sk-parallel\"><div class=\"sk-parallel-item\"><div class=\"sk-item\"><div class=\"sk-label-container\"><div class=\"sk-label sk-toggleable\"><input class=\"sk-toggleable__control sk-hidden--visually\" id=\"sk-estimator-id-2\" type=\"checkbox\" ><label for=\"sk-estimator-id-2\" class=\"sk-toggleable__label sk-toggleable__label-arrow\">base_estimator: DecisionTreeClassifier</label><div class=\"sk-toggleable__content\"><pre>DecisionTreeClassifier(class_weight=&#x27;balanced&#x27;, max_depth=3)</pre></div></div></div><div class=\"sk-serial\"><div class=\"sk-item\"><div class=\"sk-estimator sk-toggleable\"><input class=\"sk-toggleable__control sk-hidden--visually\" id=\"sk-estimator-id-3\" type=\"checkbox\" ><label for=\"sk-estimator-id-3\" class=\"sk-toggleable__label sk-toggleable__label-arrow\">DecisionTreeClassifier</label><div class=\"sk-toggleable__content\"><pre>DecisionTreeClassifier(class_weight=&#x27;balanced&#x27;, max_depth=3)</pre></div></div></div></div></div></div></div></div></div></div>"
            ]
          },
          "metadata": {},
          "execution_count": 2
        }
      ]
    },
    {
      "cell_type": "code",
      "source": [
        "test_data = pd.read_csv(\"electricity_reserved.csv\")\n",
        "\n",
        "# Предсказания на тестовых данных\n",
        "X_test = test_data  # В тестовом файле нет целевой переменной\n",
        "test_predictions = adaboost_clf.predict(X_test)"
      ],
      "metadata": {
        "id": "Q0oD3iXRmdP-"
      },
      "execution_count": null,
      "outputs": []
    },
    {
      "cell_type": "code",
      "source": [
        "import pandas as pd\n",
        "\n",
        "# Преобразование массива в датафрейм\n",
        "df_test_predictions = pd.DataFrame(test_predictions, columns=['Prediction'])"
      ],
      "metadata": {
        "id": "NdDEeRQ5mjha"
      },
      "execution_count": null,
      "outputs": []
    },
    {
      "cell_type": "code",
      "source": [
        "print('[', end='')\n",
        "for i in range(len(test_predictions)):\n",
        "    print(test_predictions[i], end='')\n",
        "    if i != len(test_predictions) - 1:\n",
        "        print(',', end=' ')\n",
        "print(']')"
      ],
      "metadata": {
        "colab": {
          "base_uri": "https://localhost:8080/"
        },
        "id": "xpkiJ2YDf_vO",
        "outputId": "9be4b0a2-fd09-4af7-b450-b4092f8c1e24"
      },
      "execution_count": null,
      "outputs": [
        {
          "output_type": "stream",
          "name": "stdout",
          "text": [
            "[0, 1, 0, 1, 0, 0, 0, 1, 1, 1, 0, 1, 1, 1, 1, 1, 0, 0, 0, 0, 1, 0, 1, 1, 0, 1, 0, 1, 1, 0, 0, 1, 1, 0, 1, 0, 0, 0, 0, 0, 1, 0, 0, 1, 1, 0, 1, 0, 0, 0, 0, 0, 0, 0, 1, 1, 0, 1, 0, 1, 0, 0, 1, 0, 0, 0, 1, 1, 0, 1, 1, 1, 0, 0, 1, 1, 0, 1, 0, 0, 0, 1, 0, 0, 0, 1, 0, 1, 0, 0, 0, 0, 0, 0, 0, 1, 1, 1, 0, 0, 1, 1, 1, 0, 0, 1, 0, 0, 1, 1, 0, 0, 1, 0, 0, 1, 0, 0, 0, 1, 0, 1, 1, 0, 1, 1, 1, 0, 1, 0, 0, 1, 0, 0, 1, 0, 0, 0, 1, 0, 1, 1, 1, 1, 1, 0, 1, 0, 1, 0, 0, 0, 1, 0, 1, 1, 0, 0, 0, 0, 0, 1, 1, 0, 1, 0, 0, 0, 1, 0, 1, 1, 1, 1, 0, 0, 1, 1, 1, 1, 1, 0, 1, 0, 1, 0, 1, 0, 0, 1, 1, 0, 0, 1, 0, 1, 0, 0, 1, 0, 1, 0, 0, 1, 1, 1, 0, 1, 0, 0, 0, 1, 0, 1, 0, 0, 0, 1, 0, 1, 0, 0, 0, 1, 0, 1, 1, 0, 0, 1, 0, 0, 0, 0, 1, 1, 0, 1, 0, 1, 0, 1, 1, 0, 1, 1, 1, 0, 1, 0, 0, 1, 1, 1, 0, 0, 1, 1, 0, 0, 0, 1, 1, 0, 1, 0, 1, 0, 0, 0, 0, 0, 1, 0, 0, 0, 1, 0, 0, 1, 1, 0, 0, 0, 0, 1, 1, 0, 1, 1, 0, 0, 0, 0, 1, 1, 0, 1, 0, 1, 1, 0, 0, 0, 0, 0, 1, 0, 0, 1, 0, 1, 1, 0, 0, 1, 0, 0, 0, 0, 1, 0, 0, 1, 1, 0, 0, 0, 1, 0, 0, 1, 0, 1, 0, 1, 0, 0, 0, 1, 0, 0, 0, 1, 0, 0, 1, 0, 1, 0, 1, 1, 0, 1, 0, 0, 0, 0, 1, 0, 0, 0, 1, 0, 0, 0, 1, 0, 0, 1, 1, 1, 1, 0, 0, 0, 0, 0, 0, 0, 1, 1, 1, 0, 0, 1, 0, 0, 1, 0, 0, 1, 1, 0, 1, 0, 0, 0, 1, 1, 1, 0, 1, 1, 1, 1, 1, 1, 0, 1, 0, 1, 0, 0, 0, 1, 1, 0, 1, 1, 0, 1, 1, 0, 1, 0, 0, 1, 0, 1, 0, 0, 0, 1, 0, 0, 1, 1, 1, 1, 0, 1, 0, 1, 1, 1, 0, 0, 1, 0, 0, 0, 0, 0, 0, 0, 1, 0, 1, 1, 1, 1, 1, 1, 0, 1, 0, 1, 0, 0, 0, 0, 0, 0, 1, 0, 0, 1, 1, 1, 0, 1, 1, 0, 0, 0, 0, 0, 0, 1, 1, 0, 0, 1, 0, 0, 1, 0, 0, 1, 1, 1, 0, 1, 0, 0, 1, 1, 0, 1, 0, 1, 1, 1, 0, 1, 0, 1, 1, 0, 1, 1, 1, 1, 0, 0, 0, 0, 0, 0, 0, 0, 0, 0, 1, 0, 0, 0, 1, 1, 0, 0, 0, 0, 1, 1, 1, 0, 0, 0, 0, 0, 1, 1, 1, 0, 0, 0, 1, 1, 0, 0, 0, 0, 1, 0, 0, 1, 0, 0, 1, 1, 0, 0, 0, 0, 1, 1, 0, 0, 0, 0, 1, 0, 0, 0, 1, 0, 1, 1, 0, 1, 1, 0, 1, 1, 1, 0, 1, 0, 0, 1, 0, 0, 0, 0, 1, 0, 0, 1, 0, 1, 1, 1, 0, 1, 1, 1, 1, 0, 0, 0, 1, 1, 1, 0, 1, 1, 0, 1, 1, 0, 0, 0, 1, 1, 0, 0, 1, 0, 0, 0, 0, 0, 0, 1, 1, 0, 0, 0, 1, 0, 1, 0, 0, 0, 1, 0, 1, 1, 1, 1, 0, 1, 0, 0, 1, 1, 0, 0, 1, 0, 1, 0, 1, 0, 1, 1, 0, 0, 0, 0, 1, 0, 1, 0, 1, 0, 0, 1, 0, 1, 1, 1, 0, 0, 0, 0, 1, 0, 0, 1, 0, 0, 0, 0, 1, 0, 1, 0, 1, 0, 0, 0, 0, 0, 1, 0, 1, 1, 0, 1, 0, 1, 0, 0, 1, 0, 0, 0, 1, 0, 0, 1, 0, 0, 1, 0, 0, 0, 0, 0, 1, 1, 1, 1, 1, 1, 0, 0, 1, 1, 0, 0, 0, 1, 0, 0, 0, 1, 1, 1, 0, 0, 1, 0, 1, 1, 0, 1, 1, 1, 1, 0, 1, 0, 0, 1, 0, 1, 0, 0, 0, 1, 1, 0, 0, 0, 1, 0, 0, 0, 1, 0, 1, 1, 0, 0, 1, 0, 1, 0, 1, 1, 0, 1, 1, 0, 0, 0, 0, 0, 0, 1, 1, 0, 0, 0, 1, 0, 0, 0, 0, 0, 1, 0, 0, 0, 1, 1, 0, 1, 1, 0, 1, 0, 1, 1, 1, 1, 1, 0, 1, 0, 0, 0, 1, 1, 0, 0, 0, 1, 0, 0, 0, 0, 1, 1, 0, 1, 0, 1, 0, 0, 1, 0, 0, 0, 1, 1, 0, 0, 1, 0, 1, 0, 1, 1, 0, 1, 1, 0, 1, 1, 0, 0, 0, 0, 1, 1, 0, 1, 0, 1, 1, 1, 1, 0, 1, 0, 1, 1, 0, 1, 1, 1, 1, 0, 0, 0, 1, 0, 1, 1, 0, 0, 0, 1, 0, 0, 0, 1, 0, 1, 0, 1, 0, 1, 1, 1, 1, 1, 1, 0, 1, 0, 0, 0, 0, 1, 1, 0, 1, 0, 0, 0, 0, 1, 1, 0, 0, 1, 0, 0, 0, 0, 1, 1, 1, 1, 0, 0, 1, 1, 1, 1, 0, 0, 1, 1, 0, 0, 0, 0, 1, 0, 0, 0, 1, 1, 1, 0, 1, 1, 1, 1, 1, 0, 1, 0, 0, 1, 0, 1, 0, 0, 1, 0, 1, 0, 0, 0, 1, 1, 1, 1, 0, 0, 1, 0, 1, 1, 1, 0, 1, 0, 1, 0, 1, 1, 0, 0, 1, 1, 0, 0, 1, 0, 1, 1, 1, 0, 0, 1, 1, 1, 0, 0, 0, 0, 1, 0, 0, 0, 0, 0, 0, 1, 0, 0, 0, 1, 0, 1, 1, 1, 0, 0, 0, 0, 1, 0, 0, 1, 1, 0, 0, 0, 0, 1, 1, 1, 1, 1, 1, 1, 0, 1, 1, 0, 0, 1, 0, 1, 0, 0, 0, 0, 0, 1, 0, 1, 0, 1, 0, 1, 1, 1, 1, 1, 0, 0, 1, 0, 1, 0, 1, 0, 0, 0, 1, 1, 0, 0, 1, 1, 0, 0, 1, 0, 0, 0, 1, 0, 0, 0, 0, 1, 1, 0, 1, 0, 0, 1, 1, 0, 1, 1, 0, 0, 0, 1, 1, 0, 0, 1, 0, 0, 0, 1, 0, 0, 0, 0, 1, 1, 1, 1, 0, 0, 0, 1, 1, 0, 1, 1, 1, 1, 0, 0, 0, 0, 1, 0, 0, 1, 0, 0, 1, 0, 1, 0, 0, 1, 0, 1, 1, 0, 1, 0, 0, 0, 1, 1, 0, 1, 0, 1, 0, 0, 1, 0, 0, 0, 1, 1, 1, 0, 0, 0, 0, 1, 1, 0, 1, 0, 0, 0, 0, 0, 1, 0, 0, 1, 0, 0, 1, 0, 0, 1, 1, 0, 1, 0, 0, 1, 1, 0, 0, 0, 1, 0, 1, 0, 1, 1, 0, 1, 0, 0, 0, 0, 1, 1, 0, 0, 0, 0, 0, 0, 1, 0, 0, 0, 0, 1, 0, 0, 0, 1, 1, 1, 1, 1, 0, 0, 0, 0, 1, 1, 0, 0, 0, 1, 1, 0, 0, 1, 1, 0, 0, 0, 1, 1, 0, 0, 1, 0, 0, 0, 1, 0, 0, 0, 0, 1, 0, 1, 0, 0, 1, 0, 0, 1, 0, 0, 0, 0, 0, 0, 1, 1, 0, 0, 0, 0, 0, 1, 0, 1, 0, 0, 0, 1, 0, 0, 1, 0, 0, 0, 1, 1, 1, 0, 1, 0, 0, 0, 1, 1, 0, 1, 1, 0, 1, 1, 0, 1, 1, 0, 0, 0, 1, 0, 1, 1, 1, 0, 1, 1, 0, 1, 0, 0, 0, 1, 1, 0, 1, 0, 0, 0, 0, 1, 0, 0, 1, 0, 0, 1, 1, 0, 1, 1, 1, 1, 0, 0, 1, 1, 1, 1, 1, 0, 0, 0, 0, 0, 0, 0, 1, 0, 0, 1, 0, 0, 0, 0, 1, 0, 0, 1, 0, 1, 0, 0, 1, 1, 0, 0, 1, 0, 0, 0, 1, 0, 0, 0, 0, 0, 1, 0, 0, 1, 0, 1, 1, 0, 0, 1, 1, 0, 0, 0, 0, 0, 0, 0, 1, 0, 0, 1, 0, 0, 0, 0, 0, 1, 1, 1, 1, 1, 1, 1, 0, 0, 0, 1, 1, 0, 0, 1, 0, 1, 1, 0, 0, 1, 0, 1, 0, 0, 0, 0, 0, 0, 1, 1, 1, 0, 0, 0, 1, 1, 0, 1, 0, 1, 1, 0, 1, 1, 1, 1, 0, 0, 0, 0, 1, 1, 1, 0, 1, 0, 1, 0, 0, 0, 0, 1, 1, 0, 0, 1, 1, 1, 1, 1, 1, 1, 0, 1, 0, 1, 1, 0, 0, 1, 1, 0, 1, 0, 1, 0, 0, 0, 0, 0, 1, 0, 0, 1, 0, 0, 0, 0, 0, 1, 0, 1, 0, 0, 0, 0, 0, 0, 1, 0, 0, 0, 0, 0, 0, 1, 1, 1, 0, 1, 1, 1, 0, 0, 0, 1, 0, 0, 0, 1, 1, 0, 1, 1, 0, 1, 0, 1, 0, 1, 1, 0, 0, 1, 0, 1, 0, 1, 1, 0, 0, 0, 0, 1, 1, 0, 1, 1, 0, 0, 1, 1, 1, 0, 0, 1, 0, 0, 0, 0, 0, 1, 1, 0, 1, 0, 1, 1, 0, 0, 1, 1, 1, 1, 1, 1, 1, 1, 1, 0, 0, 0, 0, 0, 1, 0, 1, 0, 1, 0, 1, 0, 0, 1, 0, 0, 1, 1, 1, 0, 0, 1, 1, 1, 0, 0, 0, 1, 0, 0, 0, 0, 0, 0, 1, 0, 0, 1, 0, 1, 1, 1, 0, 0, 1, 0, 1, 0, 1, 0, 0, 1, 1, 1, 0, 0, 1, 0, 1, 0, 0, 0, 0, 1, 1, 1, 1, 0, 1, 0, 1, 0, 0, 0, 0, 1, 1, 1, 1, 1, 1, 0, 1, 0, 0, 0, 1, 0, 1, 0, 1, 1, 0, 0, 0, 0, 0, 0, 0, 0, 0, 1, 0, 1, 0, 1, 0, 0, 1, 0, 0, 1, 0, 0, 0, 0, 0, 0, 1, 0, 1, 0, 1, 1, 1, 1, 1, 0, 1, 1, 0, 1, 0, 1, 0, 1, 1, 0, 0, 1, 1, 0, 0, 0, 1, 0, 0, 1, 1, 0, 1, 0, 0, 0, 1, 1, 1, 0, 0, 0, 1, 0, 1, 1, 0, 1, 1, 0, 1, 1, 1, 0, 0, 0, 1, 0, 0, 1, 0, 0, 0, 0, 0, 0, 0, 1, 0, 0, 0, 1, 1, 0, 0, 0, 1, 0, 0, 1, 0, 1, 1, 0, 1, 1, 1, 0, 1, 1, 0, 1, 0, 0, 1, 1, 0, 1, 0, 1, 1, 0, 0, 1, 1, 0, 0, 0, 0, 1, 1, 1, 1, 1, 0, 0, 0, 0, 1, 0, 0, 1, 1, 1, 0, 1, 0, 1, 1, 1, 1, 0, 1, 1, 1, 0, 1, 1, 1, 0, 0, 1, 1, 1, 1, 0, 0, 0, 0, 0, 0, 1, 0, 0, 1, 0, 1, 0, 0, 0, 1, 1, 0, 1, 0, 1, 1, 0, 0, 1, 1, 1, 0, 0, 0, 1, 0, 1, 0, 0, 1, 0, 0, 1, 0, 1, 0, 0, 0, 1, 1, 1, 0, 0, 0, 0, 0, 0, 1, 1, 0, 1, 0, 1, 0, 0, 0, 0, 1, 1, 1, 1, 0, 0, 1, 1, 1, 1, 1, 0, 0, 0, 1, 1, 1, 0, 0, 0, 1, 1, 0, 0, 0, 0, 1, 0, 1, 0, 0, 1, 0, 0, 1, 0, 1, 1, 0, 1, 0, 1, 0, 0, 0, 0, 0, 0, 1, 0, 0, 0, 0, 0, 1, 1, 0, 1, 0, 1, 1, 0, 0, 1, 0, 0, 1, 0, 0, 0, 0, 0, 1, 0, 1, 0, 0, 1, 0, 1, 1, 0, 1, 0, 0, 0, 0, 0, 0, 0, 0, 1, 0, 1, 0, 1, 0, 0, 0, 0, 0, 1, 0, 1, 0, 0, 1, 1, 0, 1, 1, 0, 0, 0, 1, 0, 0, 0, 1, 0, 1, 0, 0, 1, 0, 0, 0, 0, 0, 0, 1, 0, 0, 0, 0, 0, 0, 1, 0, 0, 0, 1, 0, 1, 0, 1, 1, 1, 0, 0, 0, 0, 0, 1, 1, 1, 0, 1, 1, 1, 1, 1, 0, 1, 1, 0, 1, 1, 0, 0, 1, 0, 0, 0, 0, 1, 0, 1, 1, 1, 1, 1, 1, 0, 0, 0, 0, 1, 1, 0, 1, 0, 0, 0, 1, 0, 0, 0, 1, 0, 1, 0, 1, 0, 0, 1, 0, 1, 1, 0, 0, 1, 0, 1, 1, 1, 1, 0, 1, 0, 1, 1, 0, 0, 0, 0, 0, 1, 0, 0, 0, 0, 0, 0, 1, 0, 0, 0, 1, 1, 0, 0, 1, 1, 1, 1, 0, 1, 0, 1, 0, 0, 1, 0, 0, 0, 1, 0, 1, 0, 0, 1, 1, 1, 1, 1, 0, 0, 0, 0, 1, 0, 1, 1, 0, 0, 0, 0, 1, 0, 1, 0, 1, 1, 0, 0, 1, 1, 0, 0, 1, 0, 1, 1, 0, 0, 0, 0, 0, 1, 0, 1, 1, 0, 0, 1, 0, 1, 1, 1, 1, 1, 1, 1, 1, 0, 0, 1, 0, 1, 1, 0, 0, 1, 0, 0, 1, 0, 0, 0, 1, 1, 0, 1, 0, 0, 1, 1, 0, 0, 0, 1, 0, 1, 1, 1, 1, 1, 1, 1, 0, 1, 0, 0, 0, 0, 0, 1, 0, 1, 0, 1, 0, 0, 0, 1, 1, 0, 0, 1, 0, 1, 1, 1, 1, 0, 0, 0, 0, 0, 1, 1, 0, 0, 0, 1, 1, 1, 0, 0, 0, 0, 1, 0, 0, 1, 0, 1, 1, 1, 1, 0, 1, 1, 1, 0, 0, 1, 1, 0, 0, 0, 1, 0, 1, 0, 1, 1, 0, 1, 0, 0, 1, 0, 0, 1, 1, 1, 0, 0, 1, 1, 1, 1, 0, 1, 1, 0, 0, 0, 1, 1, 1, 1, 1, 1, 0, 1, 0, 1, 1, 0, 1, 1, 0, 0, 0, 1, 1, 0, 0, 0, 1, 1, 0, 1, 1, 0, 0, 0, 0, 1, 1, 0, 1, 0, 1, 0, 0, 0, 0, 0, 0, 0, 1, 1, 1, 0, 1, 1, 0, 1, 0, 0, 1, 0, 0, 1, 0, 0, 0, 0, 0, 1, 1, 0, 0, 1, 0, 0, 1, 1, 1, 0, 0, 0, 1, 0, 0, 0, 0, 1, 1, 0, 1, 1, 0, 1, 1, 1, 0, 1, 0, 0, 0, 0, 0, 1, 1, 0, 1, 1, 1, 0, 1, 1, 0, 0, 1, 0, 0, 0, 0, 1, 0, 0, 0, 1, 0, 0, 1, 0, 0, 0, 1, 0, 1, 0, 0, 0, 1, 0, 0, 1, 1, 0, 0, 0, 0, 1, 1, 1, 0, 1, 0, 0, 1, 0, 0, 1, 0, 0, 0, 0, 0, 1, 1, 1, 0, 0, 0, 0, 0, 0, 0, 1, 0, 0, 0, 0, 1, 1, 1, 1, 0, 0, 0, 1, 1, 0, 0, 1, 1, 1, 0, 1, 0, 0, 1, 1, 1, 1, 1, 1, 1, 0, 0, 0, 1, 1, 0, 1, 1, 0, 0, 1, 0, 0, 1, 0, 0, 1, 1, 0, 0, 1, 0, 1, 1, 0, 0, 1, 1, 0, 0, 1, 1, 1, 0, 1, 1, 0, 0, 0, 0, 1, 0, 1, 0, 0, 0, 0, 0, 0, 1, 1, 1, 0, 0, 0, 0, 0, 0, 1, 0, 1, 0, 1, 1, 1, 1, 1, 1, 0, 0, 0, 1, 1, 0, 0, 1, 0, 1, 0, 1, 1, 1, 0, 1, 1, 0, 1, 1, 0, 0, 1, 1, 0, 0, 0, 0, 0, 0, 0, 1, 1, 0, 1, 0, 0, 0, 1, 0, 0, 0, 0, 1, 0, 0, 0, 0, 0, 1, 0, 0, 1, 1, 1, 0, 0, 0, 1, 1, 0, 0, 0, 1, 0, 0, 1, 0, 1, 1, 1, 1, 1, 1, 0, 0, 0, 1, 0, 1, 0, 0, 0, 1, 1, 0, 1, 0, 1, 0, 0, 1, 1, 0, 0, 0, 1, 1, 0, 1, 0, 0, 0, 0, 0, 0, 1, 1, 1, 1, 0, 0, 1, 0, 1, 1, 0, 0, 1, 1, 0, 0, 1, 0, 0, 0, 1, 1, 1, 0, 0, 1, 1, 1, 1, 0, 1, 0, 0, 1, 0, 0, 0, 0, 0, 0, 1, 0, 1, 0, 0, 0, 1, 1, 1, 0, 0, 0, 0, 0, 0, 0, 0, 1, 0, 0, 0, 1, 1, 0, 1, 0, 0, 1, 1, 0, 1, 0, 0, 1, 0, 0, 1, 1, 1, 0, 0, 1, 0, 1, 0, 0, 0, 0, 0, 0, 0, 0, 1, 1, 0, 1, 1, 0, 0, 1, 0, 1, 0, 1, 0, 0, 0, 0, 0, 1, 0, 1, 1, 1, 1, 1, 1, 1, 1, 0, 1, 0, 1, 1, 0, 1, 0, 0, 0, 1, 1, 0, 0, 1, 1, 0, 1, 0, 1, 1, 0, 0, 0, 0, 1, 0, 0, 0, 1, 1, 1, 0, 0, 0, 0, 0, 0, 1, 1, 1, 1, 1, 0, 0, 0, 1, 0, 1, 0, 0, 1, 1, 1, 0, 1, 1, 1, 1, 0, 1, 1, 1, 1, 1, 1, 1, 1, 0, 0, 1, 0, 1, 1, 1, 0, 0, 0, 0, 0, 1, 0, 0, 1, 0, 1, 1, 0, 1, 0, 0, 1, 0, 0, 1, 1, 0, 0, 0, 0, 1, 0, 1, 0, 1, 1, 1, 0, 1, 0, 1, 0, 1, 0, 1, 1, 1, 0, 0, 0, 1, 0, 1, 1, 0, 1, 0, 0, 0, 1, 0, 0, 0, 0, 0, 0, 1, 1, 1, 0, 1, 0, 0, 0, 1, 0, 1, 1, 0, 1, 1, 1, 0, 1, 1, 1, 0, 0, 0, 0, 0, 1, 0, 1, 0, 1, 0, 1, 0, 0, 1, 1, 0, 0, 0, 1, 0, 0, 0, 1, 0, 1, 0, 0, 1, 1, 0, 0, 1, 0, 1, 1, 0, 0, 0, 0, 1, 0, 0, 1, 0, 0, 0, 0, 0, 0, 1, 1, 0, 0, 0, 1, 0, 0, 0, 0, 0, 0, 1, 1, 0, 1, 0, 1, 0, 0, 1, 1, 0, 1, 0, 1, 0, 0, 1, 1, 1, 0, 1, 1, 0, 1, 0, 1, 0, 1, 1, 0, 0, 1, 1, 0, 0, 1, 1, 0, 0, 0, 0, 1, 0, 0, 1, 0, 0, 1, 1, 1, 1, 0, 1, 1, 0, 0, 1, 1, 1, 1, 1, 0, 0, 1, 0, 1, 1, 0, 0, 1, 0, 0, 0, 0, 0, 1, 0, 1, 1, 0, 0, 0, 1, 1, 0, 1, 0, 1, 0, 1, 1, 0, 1, 0, 0, 0, 0, 0, 1, 1, 0, 1, 1, 0, 1, 0, 1, 0, 0, 0, 0, 0, 0, 1, 0, 0, 0, 1, 0, 1, 1, 0, 0, 0, 1, 0, 1, 0, 1, 0, 0, 0, 0, 1, 1, 1, 1, 1, 0, 0, 0, 0, 0, 1, 0, 1, 0, 0, 1, 0, 1, 0, 0, 0, 1, 1, 1, 1, 0, 0, 1, 0, 0, 1, 0, 0, 0, 0, 1, 1, 1, 1, 0, 0, 1, 1, 0, 0, 1, 0, 1, 0, 1, 1, 0, 1, 0, 0, 0, 0, 0, 0, 1, 1, 0, 0, 0, 1, 0, 1, 1, 0, 1, 0, 0, 0, 1, 0, 0, 1, 1, 0, 1, 0, 1, 1, 1, 0, 0, 0, 0, 0, 1, 0, 0, 0, 0, 1, 1, 0, 0, 0, 0, 0, 0, 0, 0, 0, 0, 0, 1, 1, 1, 0, 1, 1, 1, 0, 0, 1, 0, 0, 0, 1, 0, 1, 1, 1, 1, 0, 1, 1, 0, 0, 1, 0, 0, 1, 1, 1, 1, 0, 0, 0, 1, 0, 1, 0, 1, 0, 1, 0, 0, 1, 0, 0, 1, 1, 0, 0, 1, 0, 1, 1, 1, 1, 1, 0, 0, 1, 0, 1, 1, 0, 0, 0, 0, 0, 0, 0, 0, 1, 1, 1, 1, 0, 0, 0, 0, 0, 0, 0, 0, 1, 0, 0, 1, 0, 0, 0, 0, 0, 1, 1, 0, 0, 1, 0, 0, 1, 0, 1, 1, 1, 1, 0, 1, 0, 0, 0, 1, 1, 0, 1, 0, 0, 0, 0, 1, 1, 1, 0, 0, 1, 0, 0, 0, 0, 1, 0, 0, 1, 1, 0, 0, 0, 0, 0, 1, 0, 0, 0, 1, 0, 1, 1, 1, 0, 0, 0, 1, 1, 0, 0, 1, 1, 1, 0, 0, 0, 0, 1, 0, 1, 0, 0, 1, 1, 0, 0, 1, 1, 0, 0, 0, 1, 0, 0, 0, 1, 0, 1, 1, 1, 1, 1, 0, 0, 0, 0, 0, 1, 0, 1, 0, 0, 1, 1, 1, 0, 0, 0, 1, 0, 0, 0, 1, 0, 1, 1, 1, 0, 1, 0, 0, 1, 0, 0, 1, 0, 1, 0, 1, 0, 1, 1, 0, 0, 0, 1, 0, 0, 0, 0, 0, 1, 1, 0, 1, 0, 0, 0, 0, 1, 1, 0, 0, 0, 0, 1, 0, 0, 1, 0, 1, 0, 0, 0, 1, 0, 1, 0, 0, 0, 0, 0, 0, 0, 0, 0, 0, 0, 0, 1, 1, 0, 1, 0, 0, 1, 1, 0, 1, 0, 0, 1, 1, 0, 0, 1, 1, 1, 1, 1, 1, 0, 1, 0, 1, 1, 1, 0, 1, 1, 0, 0, 0, 0, 0, 0, 1, 0, 0, 1, 0, 1, 1, 1, 1, 1, 0, 0, 0, 0, 0, 0, 1, 0, 0, 1, 0, 1, 0, 1, 0, 1, 1, 1, 0, 0, 1, 0, 1, 1, 1, 0, 0, 1, 0, 1, 1, 1, 0, 1, 0, 0, 0, 0, 0, 1, 0, 1, 0, 0, 0, 0, 1, 1, 1, 1, 1, 0, 0, 0, 1, 1, 1, 1, 0, 0, 0, 0, 1, 1, 1, 1, 0, 1, 0, 0, 1, 1, 1, 1, 0, 0, 1, 0, 1, 1, 1, 0, 0, 1, 0, 1, 0, 1, 0, 0, 1, 1, 1, 0, 0, 0, 1, 0, 0, 1, 1, 0, 0, 0, 1, 1, 0, 0, 1, 0, 0, 0, 0, 1, 1, 1, 1, 1, 0, 0, 0, 0, 0, 0, 1, 1, 0, 1, 1, 1, 1, 0, 1, 0, 1, 0, 0, 1, 1, 0, 0, 1, 0, 0, 0, 1, 0, 0, 1, 1, 1, 1, 1, 0, 0, 0, 0, 0, 1, 0, 1, 1, 1, 1, 1, 0, 0, 0, 0, 1, 0, 0, 1, 0, 0, 0, 0, 0, 1, 0, 1, 0, 0, 1, 0, 1, 0, 0, 1, 0, 0, 0, 1, 1, 1, 1, 0, 0, 1, 0, 0, 1, 0, 1, 0, 0, 0, 1, 1, 0, 0, 1, 0, 1, 0, 1, 1, 0, 0, 0, 0, 1, 1, 0, 1, 1, 1, 1, 1, 0, 0, 1, 0, 0, 0, 0, 0, 0, 0, 0, 1, 1, 1, 0, 0, 0, 1, 0, 0, 1, 0, 1, 1, 0, 1, 1, 0, 1, 1, 1, 0, 1, 1, 0, 1, 1, 0, 0, 0, 0, 0, 1, 0, 1, 0, 1, 1, 0, 0, 1, 0, 1, 1, 1, 0, 0, 1, 1, 1, 0, 0, 0, 0, 0, 1, 0, 0, 0, 1, 1, 0, 0, 1, 1, 0, 0, 1, 1, 0, 1, 0, 1, 1, 1, 0, 1, 1, 1, 1, 1, 1, 0, 1, 0, 1, 1, 0, 0, 1, 0, 1, 0, 0, 0, 1, 1, 0, 0, 0, 0, 1, 1, 1, 1, 0, 0, 0, 0, 0, 0, 1, 0, 0, 0, 0, 1, 1, 0, 1, 0, 0, 0, 1, 1, 0, 0, 0, 1, 1, 0, 0, 0, 1, 0, 0, 0, 0, 0, 1, 1, 0, 0, 0, 0, 1, 0, 0, 0, 0, 1, 1, 0, 0, 1, 1, 0, 0, 1, 1, 0, 0, 0, 1, 0, 1, 0, 0, 1, 0, 0, 0, 0, 0, 0, 0, 1, 0, 0, 0, 0, 0, 0, 0, 1, 0, 0, 0, 1, 0, 1, 1, 0, 0, 1, 0, 0, 0, 0, 0, 0, 1, 0, 1, 1, 1, 0, 0, 1, 0, 1, 0, 0, 0, 1, 0, 1, 0, 0, 0, 1, 1, 0, 0, 1, 0, 0, 1, 1, 1, 0, 1, 0, 0, 1, 0, 0, 0, 0, 0, 1, 1, 0, 0, 1, 0, 0, 0, 1, 0, 0, 1, 0, 0, 1, 0, 0, 0, 0, 0, 0, 1, 1, 0, 1, 0, 1, 0, 0, 0, 1, 1, 0, 0, 1, 0, 0, 1, 0, 0, 1, 1, 1, 0, 0, 0, 1, 0, 0, 0, 0, 0, 1, 0, 0, 1, 0, 0, 0, 1, 1, 0, 1, 0, 0, 0, 1, 1, 1, 1, 0, 1, 1, 0, 1, 1, 1, 0, 0, 0, 0, 1, 0, 1, 0, 0, 0, 1, 0, 1, 1, 0, 0, 1, 0, 0, 0, 1, 0, 0, 1, 0, 0, 1, 0, 0, 0, 0, 1, 0, 0, 0, 0, 0, 0, 1, 1, 1, 1, 0, 0, 1, 0, 0, 1, 0, 1, 1, 0, 1, 0, 1, 1, 0, 0, 1, 0, 0, 1, 1, 0, 0, 1, 0, 1, 1, 1, 1, 1, 0, 1, 0, 0, 0, 0, 1, 1, 1, 1, 0, 0, 0, 0, 1, 0, 1, 1, 0, 1, 0, 0, 0, 0, 0, 1, 0, 1, 1, 0, 1, 0, 0, 0, 0, 0, 0, 1, 0, 1, 0, 0, 0, 0, 0, 0, 0, 1, 1, 1, 0, 1, 0, 0, 1, 1, 1, 0, 0, 0, 0, 1, 0, 0, 0, 1, 0, 1, 0, 0, 1, 0, 0, 0, 1, 1, 0, 0, 0, 1, 0, 0, 1, 0, 0, 1, 1, 1, 1, 0, 0, 0, 1, 0, 1, 1, 1, 1, 0, 1, 0, 0, 0, 1, 0, 0, 1, 0, 0, 0, 1, 0, 0, 0, 0, 1, 0, 0, 0, 0, 0, 0, 0, 1, 0, 1, 1, 0, 0, 1, 1, 0, 0, 1, 0, 1, 0, 1, 0, 1, 1, 0, 1, 0, 1, 0, 1, 0, 0, 1, 0, 1, 0, 0, 0, 0, 0, 0, 0, 1, 0, 1, 0, 0, 0, 1, 0, 1, 1, 0, 1, 0, 0, 0, 0, 1, 0, 0, 0, 0, 0, 0, 0, 0, 1, 1, 1, 1, 0, 1, 1, 1, 0, 0, 0, 1, 1, 0, 0, 1, 0, 0, 0, 1, 0, 0, 0, 0, 0, 0, 0, 0, 1, 0, 0, 1, 0, 1, 0, 0, 0, 0, 0, 0, 1, 1, 1, 0, 0, 0, 1, 1, 0, 1, 1, 1, 0, 0, 1, 0, 0, 0, 1, 0, 0, 0, 1, 1, 0, 0, 0, 1, 0, 1, 0, 1, 1, 0, 1, 0, 1, 1, 0, 1, 0, 1, 1, 0, 0, 0, 0, 1, 0, 1, 0, 1, 1, 1, 0, 1, 0, 0, 0, 0, 1, 1, 0, 1, 1, 1, 0, 1, 1, 0, 1, 1, 0, 1, 1, 1, 1, 1, 1, 0, 0, 1, 1, 0, 0, 1, 1, 0, 0, 1, 1, 1, 1, 0, 0, 0, 0, 0, 1, 0, 0, 0, 0, 0, 0, 1, 0, 0, 1, 1, 0, 0, 0, 1, 0, 0, 1, 0, 0, 1, 0, 0, 1, 0, 1, 1, 1, 1, 0, 0, 0, 1, 0, 1, 0, 1, 0, 1, 0, 0, 1, 1, 1, 0, 0, 0, 0, 0, 0, 1, 1, 1, 0, 0, 1, 1, 0, 1, 0, 0, 0, 0, 0, 0, 0, 0, 0, 1, 0, 1, 1, 0, 0, 1, 0, 0, 0, 0, 0, 1, 1, 1, 0, 0, 1, 1, 0, 1, 1, 1, 0, 1, 1, 0, 1, 0, 1, 0, 0, 0, 0, 1, 1, 1, 1, 1, 0, 0, 0, 1, 1, 0, 0, 0, 0, 1, 1, 0, 1, 1, 0, 0, 0, 0, 0, 0, 1, 0, 0, 0, 0, 0, 0, 0, 1, 1, 0, 0, 0, 0, 0, 1, 0, 0, 1, 0, 0, 0, 1, 0, 0, 1, 1, 0, 1, 1, 0, 0, 1, 0, 1, 0, 0, 1, 0, 0, 1, 0, 0, 0, 0, 0, 0, 0, 1, 0, 1, 0, 0, 0, 1, 0, 0, 0, 0, 1, 1, 1, 1, 0, 1, 0, 0, 0, 0, 1, 1, 1, 0, 1, 1, 0, 0, 0, 1, 1, 1, 0, 0, 0, 0, 0, 1, 0, 1, 1, 0, 1, 0, 1, 0, 1, 0, 0, 0, 1, 0, 0, 1, 0, 0, 0, 1, 1, 1, 0, 1, 1, 0, 0, 0, 1, 0, 1, 0, 1, 0, 0, 0, 1, 1, 0, 0, 0, 0, 0, 0, 0, 1, 0, 0, 1, 0, 1, 1, 0, 0, 1, 0, 0, 0, 0, 0, 0, 0, 0, 1, 0, 1, 1, 0, 0, 0, 0, 0, 1, 1, 0, 0, 1, 0, 0, 1, 0, 0, 1, 1, 1, 1, 0, 1, 0, 0, 0, 0, 0, 1, 1, 0, 0, 0, 0, 0, 1, 0, 1, 1, 0, 1, 1, 1, 0, 0, 0, 0, 0, 0, 0, 0, 0, 1, 1, 0, 0, 1, 0, 1, 0, 0, 0, 0, 0, 0, 1, 0, 1, 0, 0, 0, 1, 1, 0, 0, 1, 0, 0, 0, 1, 0, 1, 0, 0, 0, 1, 1, 0, 1, 1, 1, 0, 0, 0, 0, 0, 1, 1, 0, 0, 0, 0, 1, 1, 1, 0, 1, 1, 1, 1, 1, 1, 0, 1, 1, 0, 0, 0, 0, 0, 0, 1, 1, 0, 0, 0, 0, 1, 1, 1, 1, 1, 1, 0, 1, 1, 0, 0, 1, 0, 0, 0, 1, 0, 0, 0, 1, 0, 0, 1, 1, 0, 0, 0, 0, 0, 0, 0, 0, 0, 1, 0, 1, 0, 1, 1, 1, 0, 0, 1, 1, 0, 1, 1, 1, 1, 0, 0, 1, 1, 1, 1, 0, 0, 0, 1, 0, 0, 0, 0, 0, 0, 1, 1, 0, 1, 0, 1, 1, 1, 0, 0, 0, 0, 1, 0, 1, 1, 1, 1, 0, 0, 1, 0, 1, 0, 0, 0, 0, 0, 0, 0, 0, 1, 0, 0, 1, 1, 0, 1, 0, 0, 1, 0, 1, 1, 0, 1, 1, 0, 1, 1, 0, 0, 1, 1, 1, 0, 0, 0, 0, 0, 1, 0, 1, 1, 1, 1, 1, 0, 0, 0, 0, 1, 0, 0, 1, 1, 0, 1, 0, 1, 0, 1, 1, 0, 1, 1, 0, 1, 0, 0, 0, 0, 0, 0, 0, 0, 1, 1, 0, 0, 0, 0, 0, 0, 0, 0, 0, 1, 0, 0, 1, 0, 0, 1, 1, 0, 0, 1, 0, 0, 0, 0, 1, 0, 0, 0, 0, 1, 1, 0, 0, 1, 0, 0, 1, 1, 0, 0, 1, 1, 0, 1, 1, 1, 0, 1, 0, 1, 0, 0, 0, 0, 0, 1, 0, 1, 0, 1, 0, 1, 0, 0, 0, 1, 0, 1, 1, 1, 0, 0, 0, 1, 0, 0, 0, 1, 1, 0, 0, 0, 0, 0, 0, 0, 0, 1, 0, 1, 0, 1, 0, 0, 0, 0, 0, 0, 0, 1, 1, 0, 1, 0, 0, 1, 1, 0, 0, 0, 0, 0, 0, 0, 1, 0, 0, 1, 1, 1, 0, 0, 0, 0, 1, 0, 0, 0, 1, 1, 0, 1, 0, 0, 1, 1, 0, 1, 0, 1, 0, 0, 0, 0, 1, 1, 0, 0, 0, 1, 0, 1, 0, 0, 0, 1, 0, 0, 0, 0, 0, 1, 1, 1, 1, 0, 0, 1, 0, 0, 1, 1, 0, 1, 1, 0, 0, 0, 0, 1, 0, 0, 1, 0, 0, 0, 1, 0, 1, 0, 1, 0, 0, 0, 1, 0, 0, 0, 0, 0, 0, 0, 1, 1, 0, 0, 0, 1, 1, 0, 0, 1, 0, 0, 0, 1, 1, 0, 1, 0, 1, 0, 1, 1, 1, 0, 1, 0, 0, 0, 0, 1, 0, 1, 0, 0, 0, 0, 1, 0, 0, 1, 0, 1, 0, 0, 0, 0, 1, 1, 0, 0, 0, 0, 1, 0, 1, 0, 0, 1, 1, 0, 0, 1, 0, 1, 0, 0, 0, 0, 0, 0, 1, 0, 0, 1, 0, 1, 0, 1, 0, 0, 0, 0, 0, 1, 0, 1, 1, 1, 1, 0, 0, 1, 0, 0, 0, 1, 1, 0, 1, 1, 1, 1, 0, 0, 0, 0, 1, 0, 1, 0, 0, 0, 0, 1, 0, 1, 0, 1, 1, 0, 0, 1, 0, 0, 1, 0, 0, 1, 1, 0, 1, 0, 1, 1, 0, 1, 1, 0, 1, 0, 0, 0, 1, 1, 0, 1, 1, 0, 1, 0, 1, 0, 1, 1, 1, 0, 1, 0, 0, 0, 0, 1, 0, 1, 0, 1, 1, 1, 1, 0, 0, 0, 0, 1, 0, 1, 1, 1, 1, 1, 0, 0, 1, 0, 0, 0, 0, 0, 1, 1, 0, 0, 0, 1, 0, 0, 1, 1, 1, 1, 0, 1, 1, 0, 0, 0, 0, 1, 1, 1, 1, 0, 0, 1, 1, 0, 0, 1, 0, 0, 0, 0, 0, 1, 0, 0, 0, 0, 0, 0, 1, 1, 0, 1, 0, 0, 0, 0, 0, 1, 0, 0, 0, 0, 1, 1, 1, 0, 1, 1, 1, 0, 1, 0, 1, 0, 0, 1, 1, 1, 0, 0, 0, 1, 1, 1, 0, 1, 0, 0, 0, 1, 0, 0, 1, 0, 0, 0, 0, 0, 1, 1, 0, 0, 0, 1, 0, 0, 0, 0, 1, 0, 0, 0, 1, 1, 1, 0, 0, 1, 0, 1, 1, 1, 1, 0, 0, 0, 0, 0, 1, 1, 0, 0, 1, 1, 1, 0, 0, 1, 0, 0, 1, 1, 1, 1, 1, 0, 0, 0, 0, 1, 1, 0, 1, 0, 0, 0, 0, 0, 0, 0, 0, 1, 0, 0, 0, 1, 0, 0, 0, 0, 0, 1, 1, 0, 1, 1, 0, 0, 0, 1, 0, 0, 0, 1, 0, 1, 0, 1, 0, 1, 1, 0, 0, 0, 1, 0, 1, 0, 0, 1, 0, 1, 1, 0, 0, 1, 1, 1, 0, 1, 0, 1, 1, 0, 1, 1, 0, 1, 0, 0, 1, 0, 0, 0, 0, 0, 1, 0, 1, 0, 0, 0, 0, 1, 0, 1, 0, 0, 1, 1, 0, 1, 1, 0, 1, 1, 1, 1, 1, 0, 1, 0, 0, 0, 0, 1, 1, 0, 1, 1, 0, 0, 1, 0, 1, 0, 0, 1, 1, 0, 1, 0, 1, 0, 1, 0, 0, 0, 0, 1, 0, 0, 0, 1, 0, 1, 1, 1, 0, 0, 1, 0, 0, 1, 1, 0, 1, 0, 1, 1, 0, 1, 0, 0, 0, 1, 0, 1, 0, 1, 0, 0, 0, 1, 0, 0, 0, 1, 0, 0, 0, 1, 0, 1, 0, 1, 0, 0, 0, 1, 0, 0, 0, 0, 1, 1, 0, 1, 1, 0, 1, 0, 1, 0, 0, 1, 0, 0, 0, 1, 0, 0, 0, 0, 0, 1, 0, 1, 0, 0, 0, 0, 1, 1, 0, 1, 0, 0, 1, 1, 1, 1, 0, 0, 0, 0, 1, 0, 0, 0, 0, 1, 1, 0, 0, 1, 1, 1, 0, 1, 0, 0, 0, 0, 1, 0, 0, 1, 0, 1, 0, 0, 0, 1, 1, 0, 0, 0, 1, 1, 0, 1, 1, 0, 1, 1, 1, 0, 0, 0, 1, 0, 0, 0, 1, 0, 0, 1, 1, 1, 1, 1, 1, 0, 0, 1, 0, 1, 0, 0, 0, 1, 0, 0, 0, 0, 0, 1, 0, 0, 1, 1, 1, 1, 1, 0, 1, 1, 0, 1, 0, 0, 0, 0, 0, 0, 1, 0, 1, 0, 0, 1, 1, 0, 1, 0, 0, 1, 0, 0, 1, 1, 0, 0, 0, 0, 0, 0, 1, 1, 1, 1, 0, 0, 0, 0, 1, 1, 0, 0, 0, 1, 0, 1, 0, 1, 1, 0, 1, 1, 0, 1, 0, 0, 0, 0, 0, 0, 1, 0, 0, 1, 1, 0, 1, 0, 1, 0, 1, 1, 0, 0, 0, 1, 0, 1, 0, 0, 0, 0, 0, 1, 1, 1, 0, 0, 1, 1, 1, 0, 1, 1, 0, 0, 1, 1, 0, 1, 0, 0, 0, 0, 0, 0, 0, 0, 0, 1, 1, 1, 1, 0, 0, 0, 0, 0, 0, 0, 1, 0, 0, 1, 0, 1, 0, 1, 0, 0, 1, 0, 1, 1, 0, 1, 1, 0, 1, 0, 0, 0, 0, 1, 1, 0, 0, 1, 0, 0, 0, 0, 0, 1, 0, 0, 1, 0, 1, 0, 0, 0, 0, 0, 0, 1, 0, 1, 0, 1, 0, 1, 1, 0, 1, 1, 1, 0, 0, 1, 1, 1, 1, 1, 0, 0, 0, 0, 0, 0, 0, 1, 1, 0, 1, 1, 1, 1, 0, 0, 0, 0, 0, 1, 0, 1, 0, 0, 0, 1, 0, 0, 1, 0, 1, 0, 1, 1, 0, 0, 0, 0, 1, 1, 0, 0, 0, 1, 1, 0, 0, 0, 1, 1, 0, 1, 0, 0, 1, 1, 0, 1, 0, 1, 0, 1, 0, 1, 0, 0, 0, 0, 1, 1, 0, 0, 0, 0, 0, 0, 0, 1, 1, 1, 1, 1, 0, 0, 1, 1, 1, 0, 0, 1, 0, 0, 0, 0, 0, 0, 0, 0, 1, 0, 0, 0, 1, 1, 0, 0, 0, 0, 0, 1, 0, 0, 0, 1, 0, 1, 1, 1, 0, 1, 1, 0, 0, 1, 0, 0, 0, 0, 1, 0, 1, 1, 1, 0, 0, 1, 1, 1, 0, 0, 1, 0, 1, 0, 1, 1, 0, 1, 0, 1, 1, 0, 0, 1, 0, 0, 0, 1, 0, 1, 0, 0, 0, 0, 1, 0, 0, 1, 0, 0, 0, 1, 0, 0, 1, 0, 0, 1, 1, 0, 0, 0, 0, 0, 0, 1, 0, 1, 0, 1, 0, 1, 0, 0, 1, 1, 0, 1, 1, 0, 0, 0, 1, 1, 0, 0, 0, 0, 1, 0, 0, 1, 1, 0, 1, 1, 0, 0, 0, 0, 1, 1, 1, 0, 0, 0, 1, 0, 0, 1, 0, 1, 0, 1, 0, 0, 0, 0, 1, 0, 0, 1, 0, 0, 0, 1, 1, 1, 0, 1, 1, 0, 0, 1, 1, 1, 0, 1, 0, 1, 0, 0, 0, 0, 1, 1, 0, 0, 0, 1, 1, 0, 0, 1, 1, 1, 0, 1, 1, 1, 0, 0, 1, 1, 1, 0, 0, 1, 0, 0, 1, 0, 1, 1, 1, 0, 1, 0, 0, 1, 1, 0, 0, 1, 1, 0, 1, 1, 0, 0, 0, 1, 0, 0, 0, 1, 0, 1, 0, 1, 0, 0, 0, 1, 0, 0, 0, 0, 1, 0, 0, 1, 1, 0, 1, 1, 1, 0, 1, 0, 1, 1, 0, 1, 1, 1, 0, 0, 0, 1, 1, 0, 0, 0, 0, 0, 1, 0, 1, 1, 1, 1, 0, 0, 1, 0, 1, 0, 0, 1, 0, 1, 0, 0, 0, 0, 0, 0, 0, 0, 1, 0, 0, 0, 0, 1, 0, 1, 1, 1, 1, 1, 0, 0, 1, 1, 1, 0, 0, 0, 1, 0, 1, 0, 0, 0, 1, 1, 1, 0, 0, 1, 1, 0, 0, 0, 0, 1, 1, 1, 0, 0, 0, 0, 1, 0, 0, 1, 1, 0, 1, 1, 1, 0, 0, 0, 0, 1, 0, 1, 1, 0, 1, 0, 1, 1, 0, 1, 0, 0, 1, 0, 0, 0, 0, 0, 0, 0, 1, 0, 0, 1, 0, 0, 1, 0, 0, 0, 1, 0, 1, 0, 0, 0, 0, 0, 1, 0, 0, 0, 0, 0, 0, 0, 0, 0, 0, 1, 1, 0, 1, 0, 0, 0, 1, 1, 0, 0, 0, 0, 1, 1, 1, 1, 1, 0, 0, 1, 0, 0, 1, 0, 1, 1, 0, 0, 0, 0, 1, 1, 0, 0, 0, 1, 1, 0, 0, 0, 1, 0, 0, 0, 0, 0, 0, 0, 1, 1, 1, 1, 0, 1, 0, 1, 1, 0, 0, 1, 0, 0, 1, 1, 1, 0, 0, 1, 0, 0, 1, 0, 0, 0, 0, 0, 1, 0, 0, 0, 1, 0, 0, 0, 1, 1, 0, 1, 0, 1, 0, 0, 0, 0, 1, 0, 1, 1, 0, 0, 1, 1, 0, 0, 0, 1, 0, 0, 0, 1, 1, 0, 0, 0, 0, 0, 1, 0, 1, 1, 1, 0, 0, 1, 0, 0, 1, 0, 1, 0, 0, 0, 1, 1, 0, 0, 1, 0, 1, 1, 0, 0, 0, 1, 1, 1, 0, 1, 0, 0, 0, 1, 0, 0, 0, 1, 0, 1, 0, 0, 0, 1, 0, 0, 0, 1, 0, 0, 1, 0, 1, 0, 1, 0, 0, 0, 0, 1, 0, 1, 0, 1, 0, 1, 0, 0, 0, 0, 1, 0, 1, 1, 0, 1, 0, 1, 0, 0, 0, 0, 0, 0, 0, 0, 0, 1, 0, 0, 0, 1, 1, 1, 1, 0, 0, 1, 0, 1, 0, 1, 0, 0, 0, 1, 0, 0, 1, 1, 1, 0, 1, 1, 0, 0, 0, 1, 0, 1, 1, 1, 0, 1, 1, 1, 0, 0, 1, 0, 1, 1, 0, 0, 0, 0, 0, 1, 1, 0, 1, 0, 0, 0, 0, 1, 0, 1, 0, 0, 0, 1, 0, 0, 1, 0, 0, 1, 0, 1, 1, 0, 1, 1, 0, 1, 0, 0, 1, 0, 0, 0, 0, 0, 0, 1, 0, 0, 0, 0, 1, 1, 1, 0, 0, 0, 0, 0, 0, 0, 0, 1, 1, 1, 1, 0, 0, 1, 0, 0, 1, 0, 0, 0, 0, 0, 1, 0, 0, 0, 1, 0, 0, 0, 1, 1, 0, 1, 1, 1, 0, 1, 0, 0, 1, 0, 1, 0, 1, 0, 1, 0, 0, 1, 1, 1, 0, 0, 1, 0, 1, 0, 0, 1, 1, 1, 0, 1, 0, 1, 0, 1, 0, 1, 0, 1, 1, 1, 0, 0, 0, 1, 0, 1, 1, 1, 0, 0, 0, 1, 0, 1, 0, 0, 0, 0, 1, 1, 0, 0, 0, 0, 1, 0, 0, 0, 1, 0, 0, 0, 0, 0, 0, 1, 0, 0, 1, 0, 1, 0, 0, 1, 0, 1, 0, 0, 1, 0, 1, 0, 1, 0, 0, 0, 1, 0, 1, 0, 0, 1, 0, 0, 0, 0, 0, 0, 1, 1, 0, 1, 1, 1, 1, 0, 1, 0, 0, 1, 1, 0, 0, 0, 0, 1, 0, 0, 0, 0, 1, 0, 1, 0, 1, 1, 0, 0, 0, 0, 0, 0, 0, 1, 1, 0, 1, 1, 0, 0, 1, 0, 0, 1, 1, 1, 0, 0, 1, 0, 0, 0, 0, 1, 1, 1, 0, 0, 0, 0, 0, 0, 0, 0, 1, 0, 0, 1, 0, 1, 1, 1, 1, 1, 0, 1, 0, 1, 0, 0, 0, 0, 1, 0, 0, 0, 0, 1, 0, 1, 0, 0, 0, 1, 0, 0, 0, 1, 0, 0, 1, 0, 0, 0, 0, 0, 1, 0, 0, 1, 1, 1, 1, 1, 1, 1, 1, 0, 1, 0, 1, 1, 0, 0, 1, 1, 1, 1, 0, 0, 1, 0, 1, 1, 0, 0, 1, 0, 1, 0, 1, 1, 1, 1, 1, 0, 0, 1, 0, 0, 1, 1, 0, 0, 0, 0, 1, 1, 0, 0, 1, 1, 0, 0, 1, 1, 1, 0, 1, 0, 1, 1, 0, 1, 1, 1, 1, 1, 1, 0, 1, 1, 0, 0, 1, 0, 0, 0, 0, 0, 1, 0, 0, 0, 1, 0, 0, 1, 0, 1, 0, 0, 0, 1, 1, 0, 0, 0, 0, 0, 0, 0, 0, 0, 0, 0, 0, 1, 1, 1, 1, 0, 1, 1, 0, 0, 1, 1, 1, 0, 0, 0, 0, 0, 0, 1, 1, 0, 0, 0, 1, 0, 0, 0, 1, 0, 0, 1, 0, 0, 1, 1, 0, 0, 1, 1, 0, 0, 0, 0, 0, 1, 1, 0, 1, 1, 0, 1, 0, 0, 0, 1, 0, 1, 0, 0, 1, 1, 1, 1, 1, 0, 1, 1, 1, 0, 1, 1, 1, 0, 1, 0, 0, 1, 0, 1, 1, 1, 1, 1, 0, 1, 0, 0, 0, 0, 0, 0, 1, 0, 0, 1, 0, 0, 1, 0, 0, 1, 0, 0, 0, 1, 0, 1, 1, 0, 1, 0, 1, 0, 0, 0, 0, 0, 0, 0, 1, 0, 0, 1, 1, 1, 1, 0, 0, 0, 1, 0, 0, 0, 0, 1, 1, 1, 1, 0, 0, 0, 0, 1, 1, 1, 1, 1, 1, 0, 0, 1, 1, 1, 0, 1, 1, 1, 0, 1, 1, 1, 1, 0, 1, 0, 1, 1, 1, 0, 0, 0, 0, 0, 0, 0, 1, 0, 0, 1, 0, 1, 0, 0, 0, 0, 0, 1, 0, 0, 0, 0, 0, 1, 1, 0, 1, 0, 1, 0, 0, 0, 0, 0, 0, 1, 0, 0, 1, 0, 1, 0, 0, 0, 0, 0, 0, 0, 0, 0, 0, 1, 1, 0, 0, 0, 0, 0, 1, 0, 1, 0, 1, 0, 1, 0, 1, 1, 0, 0, 1, 1, 1, 1, 0, 0, 0, 0, 0, 0, 1, 0, 1, 0, 0, 0, 0, 1, 0, 0, 0, 0, 1, 0, 1, 1, 0, 0, 1, 1, 0, 0, 1, 0, 1, 1, 0, 0, 0, 1, 1, 1, 1, 0, 0, 1, 0, 1, 0, 0, 1, 0, 0, 0, 1, 0, 0, 0, 1, 0, 0, 0, 1, 0, 1, 0, 0, 0, 1, 0, 0, 0, 0, 1, 0, 0, 1, 0, 1, 0, 1, 0, 1, 0, 0, 0, 0, 0, 0, 0, 0, 0, 0, 0, 0, 1, 0, 1, 1, 0, 0, 0, 0, 0, 0, 1, 0, 0, 1, 1, 1, 0, 1, 0, 0, 1, 0, 0, 1, 0, 1, 1, 1, 0, 1, 0, 1, 1, 1, 1, 0, 1, 0, 0, 0, 0, 1, 0, 0, 0, 1, 1, 1, 1, 1, 0, 0, 1, 1, 0, 1, 0, 0, 1, 1, 0, 0, 1, 0, 0, 1, 0, 0, 1, 0, 0, 1, 0, 0, 1, 0, 1, 0, 0, 0, 1, 1, 0, 0, 0, 1, 0, 0, 1, 1, 0, 1, 0, 1, 0, 0, 0, 1, 0, 0, 0, 1, 0, 0, 0, 0, 0, 0, 1, 1, 0, 0, 0, 1, 1, 0, 1, 1, 0, 1, 1, 0, 1, 1, 0, 1, 0, 1, 0, 0, 0, 0, 0, 1, 0, 0, 1, 0, 1, 1, 0, 1, 1, 1, 1, 0, 0, 0, 0, 1, 1, 1, 0, 0, 0, 0, 1, 1, 1, 0, 0, 1, 1, 0, 1, 1, 1, 0, 0, 1, 0, 0, 1, 1, 0, 1, 1, 1, 0, 0, 1, 0, 0, 0, 0, 1, 0, 1, 1, 1, 1, 0, 1, 1, 1, 1, 1, 1, 0, 0, 1, 1, 0, 1, 1, 0, 1, 1, 1, 0, 1, 1, 0, 0, 1, 0, 0, 0, 1, 1, 0, 0, 0, 0, 0, 1, 1, 0, 0, 0, 1, 1, 1, 0, 1, 0, 1, 0, 1, 0, 1, 1, 0, 1, 0, 1, 1, 1, 1, 0, 0, 0, 1, 0, 0, 0, 0, 0, 0, 0, 0, 1, 1, 1, 1, 1, 1, 0, 1, 1, 0, 1, 0, 1, 1, 1, 0, 0, 1, 1, 1, 1, 0, 0, 0, 0, 0, 1, 1, 0, 0, 0, 0, 1, 1, 0, 0, 0, 0, 0, 0, 1, 0, 0, 1, 1, 0, 0, 0, 0, 0, 0, 0, 1, 1, 0, 1, 1, 0, 0, 0, 1, 0, 1, 0, 1, 1, 0, 1, 1, 0, 0, 0, 0, 1, 1, 0, 1, 1, 0, 1, 1, 1, 1, 1, 0, 1, 0, 1, 1, 0, 1, 0, 0, 1, 1, 0, 0, 0, 0, 1, 0, 0, 0, 0, 1, 0, 0, 0, 0, 0, 0, 1, 0, 1, 1, 0, 0, 0, 1, 0, 1, 0, 0, 0, 0, 1, 0, 0, 0, 1, 1, 0, 0, 0, 1, 0, 0, 0, 0, 1, 1, 0, 1, 0, 0, 0, 0, 1, 1, 0, 1, 0, 1, 0, 1, 1, 0, 0, 1, 1, 0, 0, 0, 1, 0, 0, 1, 0, 1, 0, 0, 1, 0, 1, 1, 1, 0, 1, 1, 1, 0, 0, 1, 0, 0, 0, 0, 0, 1, 0, 1, 0, 1, 1, 0, 0, 1, 0, 0, 1, 0, 0, 1, 0, 0, 0, 0, 0, 0, 1, 1, 0, 0, 0, 0, 1, 1, 0, 1, 1, 0, 0, 0, 0, 1, 0, 0, 0, 0, 1, 0, 0, 0, 0, 0, 0, 0, 1, 0, 1, 0, 1, 0, 0, 0, 1, 0, 0, 1, 0, 1, 1, 0, 0, 0, 0, 1, 1, 1, 0, 0, 1, 1, 0, 1, 1, 1, 0, 0, 0, 0, 0, 0, 1, 0, 1, 0, 0, 0, 1, 1, 1, 0, 1, 0, 1, 0, 0, 1, 0, 0, 0, 0, 0, 0, 1, 1, 1, 1, 1, 0, 1, 1, 1, 1, 1, 0, 0, 0, 0, 0, 1, 1, 0, 0, 0, 0, 0, 0, 0, 0, 1, 1, 0, 0, 1, 1, 1, 0, 1, 1, 1, 0, 0, 1, 1, 0, 0, 1, 0, 0, 1, 0, 0, 0, 1, 0, 0, 1, 0, 0, 0, 0, 0, 1, 0, 0, 0, 1, 1, 1, 0, 1, 0, 1, 0, 1, 1, 0, 1, 1, 0, 0, 1, 1, 1, 1, 0, 0, 1, 1, 0, 1, 1, 0, 0, 0, 0, 1, 1, 0, 0, 1, 0, 1, 0, 1, 1, 0, 0, 0, 0, 0, 1, 1, 0, 1, 0, 0, 0, 1, 1, 0, 0, 1, 1, 0, 0, 0, 1, 0, 1, 0, 1, 0, 0, 1, 0, 1, 0, 1, 1, 0, 1, 0, 1, 1, 0, 1, 1, 0, 0, 0, 0, 1, 1, 0, 1, 0, 0, 0, 1, 0, 1, 0, 1, 1, 0, 1, 0, 1, 0, 0, 0, 1, 0, 0, 0, 1, 0, 1, 0, 0, 0, 0, 0, 0, 1, 1, 0, 1, 0, 0, 0, 0, 0, 1, 1, 1, 1, 0, 1, 0, 1, 0, 0, 0, 1, 0, 0, 1, 0, 0, 0, 0, 0, 1, 1, 0, 0, 0, 0, 1, 1, 0, 1, 1, 0, 0, 0, 0, 0, 1, 1, 1, 0, 1, 0, 0, 0, 0, 1, 0, 1, 1, 0, 1, 0, 0, 0, 0, 0, 0, 0, 1, 0, 0, 1, 0, 1, 0, 0, 1, 0, 0, 1, 1, 0, 0, 1, 1, 0, 0, 1, 0, 1, 1, 0, 0, 1, 1, 0, 1, 1, 1, 1, 0, 0, 0, 1, 0, 0, 0, 0, 0, 0, 1, 1, 0, 1, 0, 1, 1, 1, 1, 0, 0, 1, 1, 1, 1, 1, 1, 1, 0, 1, 0, 1, 0, 0, 1, 0, 0, 1, 0, 1, 0, 1, 1, 0, 1, 0, 1, 0, 0, 0, 1, 0, 0, 0, 1, 1, 1, 1, 0, 0, 1, 1, 0, 0, 1, 1, 0, 0, 1, 1, 0, 1, 0, 0, 1, 0, 0, 0, 0, 0, 0, 1, 1, 1, 1, 1, 0, 0, 1, 1, 0, 0, 0, 0, 0, 1, 0, 1, 1, 0, 0, 1, 0, 1, 1, 0, 0, 1, 1, 1, 0, 0, 1, 1, 0, 1, 0, 1, 0, 1, 0, 0, 0, 1, 1, 1, 1, 0, 0, 0, 1, 0, 0, 0, 0, 0, 0, 0, 0, 0, 1, 1, 1, 1, 0, 0, 0, 0, 0, 0, 0, 0, 1, 0, 1, 1, 1, 0, 0, 1, 1, 0, 1, 0, 0, 0, 0, 1, 0, 0, 1, 0, 1, 0, 0, 1, 1, 1, 1, 1, 1, 1, 0, 0, 1, 0, 1, 1, 1, 0, 1, 0, 1, 1, 1, 1, 1, 1, 0, 1, 0, 0, 1, 1, 0, 0, 0, 0, 1, 0, 1, 1, 1, 0, 0, 0, 0, 0, 1, 1, 0, 1, 1, 0, 0, 0, 1, 1, 0, 1, 1, 1, 1, 1, 0, 1, 1, 0, 1, 1, 1, 0, 0, 1, 0, 0, 0, 0, 0, 1, 0, 1, 0, 0, 0, 0, 0, 1, 1, 1, 0, 0, 1, 0, 0, 0, 1, 1, 0, 1, 0, 1, 0, 0, 0, 1, 1, 1, 0, 1, 1, 0, 1, 1, 0, 1, 0, 0, 1, 0, 0, 0, 1, 1, 1, 0, 0, 0, 1, 0, 0, 0, 0, 0, 1, 0, 1, 0, 1, 0, 0, 0, 0, 0, 0, 1, 0, 0, 0, 0, 0, 1, 1, 1, 1, 1, 0, 1, 0, 0, 0, 1, 0, 1, 1, 0, 0, 0, 1, 1, 0, 1, 0, 0, 1, 1, 1, 0, 0, 0, 1, 0, 1, 0, 0, 0, 0, 0, 0, 0, 1, 0, 1, 0, 0, 1, 1, 1, 1, 0, 0, 0, 0, 1, 1, 1, 1, 1, 0, 1, 1, 0, 0, 0, 1, 1, 0, 0, 0, 0, 0, 1, 1, 0, 0, 0, 0, 1, 1, 0, 1, 1, 1, 1, 1, 0, 1, 0, 0, 0, 0, 0, 0, 0, 1, 1, 0, 1, 1, 0, 0, 1, 1, 1, 1, 1, 0, 1, 0, 0, 0, 0, 0, 0, 0, 0, 0, 1, 1, 1, 0, 0, 0, 0, 1, 0, 0, 0, 0, 1, 1, 0, 0, 1, 0, 0, 1, 0, 1, 0, 0, 1, 0, 1, 0, 0, 0, 0, 0, 1, 0, 0, 0, 1, 0, 0, 1, 0, 0, 1, 0, 1, 1, 0, 0, 1, 0, 1, 1, 0, 0, 0, 1, 1, 0, 0, 0, 0, 0, 1, 0, 0, 0, 1, 1]\n"
          ]
        }
      ]
    }
  ],
  "metadata": {
    "kernelspec": {
      "display_name": "Python 3",
      "language": "python",
      "name": "python3"
    },
    "language_info": {
      "codemirror_mode": {
        "name": "ipython",
        "version": 2
      },
      "file_extension": ".py",
      "mimetype": "text/x-python",
      "name": "python",
      "nbconvert_exporter": "python",
      "pygments_lexer": "ipython2",
      "version": "2.7.6"
    },
    "colab": {
      "provenance": [],
      "include_colab_link": true
    }
  },
  "nbformat": 4,
  "nbformat_minor": 0
}