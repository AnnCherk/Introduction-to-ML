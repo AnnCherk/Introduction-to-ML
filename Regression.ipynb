{
  "nbformat": 4,
  "nbformat_minor": 0,
  "metadata": {
    "colab": {
      "provenance": [],
      "include_colab_link": true
    },
    "kernelspec": {
      "name": "python3",
      "display_name": "Python 3"
    },
    "language_info": {
      "name": "python"
    }
  },
  "cells": [
    {
      "cell_type": "markdown",
      "metadata": {
        "id": "view-in-github",
        "colab_type": "text"
      },
      "source": [
        "<a href=\"https://colab.research.google.com/github/AnnCherk/Introduction-to-ML/blob/main/Regression.ipynb\" target=\"_parent\"><img src=\"https://colab.research.google.com/assets/colab-badge.svg\" alt=\"Open In Colab\"/></a>"
      ]
    },
    {
      "cell_type": "markdown",
      "source": [
        "Импорт библиотек"
      ],
      "metadata": {
        "id": "9eFThHrPlCFg"
      }
    },
    {
      "cell_type": "code",
      "execution_count": null,
      "metadata": {
        "id": "zqaeN2z8v3qR"
      },
      "outputs": [],
      "source": [
        "import pandas as pd\n",
        "import seaborn as sns\n",
        "from sklearn.model_selection import train_test_split\n",
        "from sklearn.decomposition import PCA\n",
        "from sklearn.linear_model import LinearRegression\n",
        "from sklearn.metrics import r2_score\n",
        "import numpy as np"
      ]
    },
    {
      "cell_type": "markdown",
      "source": [
        "Всего датасет содержит 159 записей. Мы предварительно зарезервировали часть датасета для задания по преодолению бейслайна (baseline). В настоящем задании подразумевается работа с датасетом, содержащим 119 записей."
      ],
      "metadata": {
        "id": "QTq1SRHEzF6J"
      }
    },
    {
      "cell_type": "markdown",
      "source": [
        "# 0. Применение полиномиальной регрессии для предсказания непрерывного параметра"
      ],
      "metadata": {
        "id": "bjyhxYK-eoem"
      }
    },
    {
      "cell_type": "markdown",
      "source": [
        "Представленный набор данных — это набор данных о семи различных типах рыб, продаваемых в некоторой рыбной лавке. Наша цель заключается в том, чтобы предсказать массу рыбы по каким-то косвенным признакам, известным о рыбе. Сами признаки, быть может, нужно синтезировать из тех, что известны."
      ],
      "metadata": {
        "id": "VpkXz4mpeygZ"
      }
    },
    {
      "cell_type": "markdown",
      "source": [
        "При помощи <code>train_test_split()</code> разбейте набор данных на обучающую и тестовую выборки с параметрами, указанными в вашем задании. Используйте стратификацию по колонке <code>Species</code>. Стратификация позволит сохранить доли представленных объектов (по представителям типов рыб) в тренировочной и тестовой выборках."
      ],
      "metadata": {
        "id": "K497OQtR0cbN"
      }
    },
    {
      "cell_type": "code",
      "source": [
        "df = pd.read_csv(\"fish_train.csv\", delimiter=\",\", header=0)\n",
        "\n",
        "X = df.drop(['Weight', 'Species'], axis=1)\n",
        "Y=df[['Weight']]\n",
        "\n",
        "\n",
        "X_train, X_test, Y_train, Y_test = train_test_split(X, Y, test_size=0.2, random_state=27, stratify=df[['Species']])"
      ],
      "metadata": {
        "id": "KXoU2OWH0fn5"
      },
      "execution_count": null,
      "outputs": []
    },
    {
      "cell_type": "markdown",
      "source": [
        "Вычислите выборочное среднее колонки <code>Width</code> полученной тренировочной выборки."
      ],
      "metadata": {
        "id": "euRpYppY1xuR"
      }
    },
    {
      "cell_type": "code",
      "source": [
        "round(X_train['Width'].mean(),3)"
      ],
      "metadata": {
        "id": "3q_2UVQ_2Avj",
        "colab": {
          "base_uri": "https://localhost:8080/"
        },
        "outputId": "05786f50-7bc5-47f4-e2be-61a429d31a35"
      },
      "execution_count": null,
      "outputs": [
        {
          "output_type": "execute_result",
          "data": {
            "text/plain": [
              "4.558"
            ]
          },
          "metadata": {},
          "execution_count": 50
        }
      ]
    },
    {
      "cell_type": "markdown",
      "source": [
        "# 1. Построение базовой модели\n",
        "\n",
        "Избавьтесь от категориальных признаков и обучите модель линейной регрессии (<code>LinearRegression()</code>) на тренировочном наборе данных. Выполните предсказания для тестового набора данных. Оцените модель при помощи метрики <code>r2_score()</code>."
      ],
      "metadata": {
        "id": "cAQId_950UCZ"
      }
    },
    {
      "cell_type": "code",
      "source": [
        "model=LinearRegression()\n",
        "model.fit(X_train, Y_train)\n",
        "\n",
        "y_pred = model.predict(X_test)\n",
        "\n",
        "# Вычисляем R^2 статистику\n",
        "r2 = r2_score(Y_test, y_pred)\n",
        "print(round(r2,3))"
      ],
      "metadata": {
        "id": "J9QyfzCx5FrA",
        "colab": {
          "base_uri": "https://localhost:8080/"
        },
        "outputId": "20098ee5-c242-4b32-8615-b3305d5d81ff"
      },
      "execution_count": null,
      "outputs": [
        {
          "output_type": "stream",
          "name": "stdout",
          "text": [
            "0.801\n"
          ]
        }
      ]
    },
    {
      "cell_type": "markdown",
      "source": [
        "# 2. Добавление предварительной обработки признаков."
      ],
      "metadata": {
        "id": "qPEFdTMe56b9"
      }
    },
    {
      "cell_type": "markdown",
      "source": [
        "## Использование PCA\n",
        "\n",
        "При помощи, например, <code>sns.heatmap()</code>, постройте матрицу корреляций признаков тренировочного набора данных и определите тройку наиболее коррелированных между собой признаков."
      ],
      "metadata": {
        "id": "kKrNXjxTCS1D"
      }
    },
    {
      "cell_type": "code",
      "source": [
        "Train=pd.DataFrame(X_train)\n",
        "sns.heatmap(Train.corr(), annot=True, cmap='coolwarm')"
      ],
      "metadata": {
        "id": "HFtdKOdG62hS",
        "colab": {
          "base_uri": "https://localhost:8080/",
          "height": 453
        },
        "outputId": "6d306bd9-3367-4f01-f4e9-ce756736c156"
      },
      "execution_count": null,
      "outputs": [
        {
          "output_type": "execute_result",
          "data": {
            "text/plain": [
              "<Axes: >"
            ]
          },
          "metadata": {},
          "execution_count": 52
        },
        {
          "output_type": "display_data",
          "data": {
            "text/plain": [
              "<Figure size 640x480 with 2 Axes>"
            ],
            "image/png": "[encoded data removed]"
          },
          "metadata": {}
        }
      ]
    },
    {
      "cell_type": "markdown",
      "source": [
        "Линейные модели достаточно плохо реагируют на коррелированные признаки, поэтому от таких признаков имеет смысл избавиться еще до начала обучения."
      ],
      "metadata": {
        "id": "Cx1RHggagRLr"
      }
    },
    {
      "cell_type": "markdown",
      "source": [
        "Для уменьшения количества неинформативных измерений используйте метод главных компонент.\n",
        "\n",
        "1) Примените метод главных компонент (<code>PCA(n_components=3, svd_solver='full')</code>) для трех найденных наиболее коррелированных признаков.\n",
        "\n",
        "2) Вычислите долю объясненной дисперсии при использовании только первой главной компоненты.\n",
        "\n",
        "3) Замените три наиболее коррелированных признака на новый признак <code>Lengths</code>, значения которого совпадают со значениями счетов первой главной компоненты."
      ],
      "metadata": {
        "id": "e6AquRcu7Gvb"
      }
    },
    {
      "cell_type": "code",
      "source": [
        "pca = PCA(n_components=3, svd_solver='full')\n",
        "X_pca = pca.fit_transform(X_train[['Length1', 'Length2', 'Length3']])\n",
        "\n",
        "explained_variance_ratio = pca.explained_variance_ratio_\n",
        "print(\"Explained variance ratio:\", round(explained_variance_ratio[0],3))\n",
        "\n",
        "transformed_features = pca.transform(X_train[['Length1', 'Length2', 'Length3']])\n",
        "Lengths_train = transformed_features[:, 0]\n",
        "X_train1 = X_train.drop(['Length1', 'Length2', 'Length3'], axis=1)\n",
        "X_train1['Lengths'] = Lengths_train"
      ],
      "metadata": {
        "id": "VlPLHO2U8PiA",
        "colab": {
          "base_uri": "https://localhost:8080/"
        },
        "outputId": "11aa0f3b-d828-41b8-9543-6017dd1687b2"
      },
      "execution_count": null,
      "outputs": [
        {
          "output_type": "stream",
          "name": "stdout",
          "text": [
            "Explained variance ratio: 0.996\n"
          ]
        }
      ]
    },
    {
      "cell_type": "markdown",
      "source": [
        "Примените полученное преобразование для тех же признаков в тестовом наборе данных. Обратите внимание, что заново обучать преобразование `PCA` не нужно. Аналогично предыдущему этапу замените три рассмотренных признака на один."
      ],
      "metadata": {
        "id": "kDrK2-Nd_ogF"
      }
    },
    {
      "cell_type": "code",
      "source": [
        "transformed_features = pca.transform(X_test[['Length1', 'Length2', 'Length3']])\n",
        "Lengths_test = transformed_features[:, 0]\n",
        "print(len(X_test))\n",
        "X_test1 = X_test.drop(['Length1', 'Length2', 'Length3'], axis=1)\n",
        "X_test1['Lengths'] = Lengths_test"
      ],
      "metadata": {
        "id": "xEOAkMFf-T5m",
        "colab": {
          "base_uri": "https://localhost:8080/"
        },
        "outputId": "37ece843-510d-4188-a290-1e76263bbcf9"
      },
      "execution_count": null,
      "outputs": [
        {
          "output_type": "stream",
          "name": "stdout",
          "text": [
            "24\n"
          ]
        }
      ]
    },
    {
      "cell_type": "markdown",
      "source": [
        "Обучите базовую модель линейной регресси на полученных тренировочных данных, снова выбросив категориальные признаки. Выполните предсказания для тестовых данных, оцените при помощи <code>r2_score()</code>."
      ],
      "metadata": {
        "id": "NGiPC64DAmRb"
      }
    },
    {
      "cell_type": "code",
      "source": [
        "model=LinearRegression()\n",
        "model.fit(X_train1, Y_train)\n",
        "\n",
        "y_pred = model.predict(X_test1)\n",
        "\n",
        "# Вычисляем R^2 статистику\n",
        "r2 = r2_score(Y_test, y_pred)\n",
        "print(round(r2,3))"
      ],
      "metadata": {
        "id": "EVu8wL6QA1Ci",
        "colab": {
          "base_uri": "https://localhost:8080/"
        },
        "outputId": "dc7a6de4-8eda-4bd9-aaeb-07c35597d816"
      },
      "execution_count": null,
      "outputs": [
        {
          "output_type": "stream",
          "name": "stdout",
          "text": [
            "0.783\n"
          ]
        }
      ]
    },
    {
      "cell_type": "markdown",
      "source": [
        "Видно, что точность значительно не изменилась."
      ],
      "metadata": {
        "id": "BFPWkxOnieem"
      }
    },
    {
      "cell_type": "markdown",
      "source": [
        "## Модификация признаков"
      ],
      "metadata": {
        "id": "hJm3yq--BcT7"
      }
    },
    {
      "cell_type": "markdown",
      "source": [
        "Постройте графики зависимостей признаков от целевой переменной, например, при помощи <code>sns.pairplot()</code>."
      ],
      "metadata": {
        "id": "T11p0ltmEFwR"
      }
    },
    {
      "cell_type": "code",
      "source": [
        "import seaborn as sns\n",
        "import matplotlib.pyplot as plt\n",
        "\n",
        "sns.scatterplot(x='Width', y='Weight', data=df)\n",
        "plt.show()"
      ],
      "metadata": {
        "id": "0rifKCoWEQYj",
        "colab": {
          "base_uri": "https://localhost:8080/",
          "height": 449
        },
        "outputId": "2c514455-fe16-4b9f-ff1e-3f4b9bea95a0"
      },
      "execution_count": null,
      "outputs": [
        {
          "output_type": "display_data",
          "data": {
            "text/plain": [
              "<Figure size 640x480 with 1 Axes>"
            ],
            "image/png": "[encoded data removed]"
          },
          "metadata": {}
        }
      ]
    },
    {
      "cell_type": "markdown",
      "source": [
        "Видно, что масса, вообще говоря, нелинейно зависит от остальных параметров. Значит, чтобы линейная модель хорошо справлялась с предсказанием, признаки имеет смысл преобразовать так, чтобы зависимость стала более похожей на линейную. Но как придумать такую зависимость?"
      ],
      "metadata": {
        "id": "L-v73i1vhi_9"
      }
    },
    {
      "cell_type": "markdown",
      "source": [
        "Логично предположить, что масса рыбы должна каким-то гладким образом зависеть от остальных параметров, отвечающих так или иначе за размеры. Если впомнить, что масса — это произведение плотности на объем, то\n",
        "\n",
        "$$\n",
        "m = \\rho \\cdot V.\n",
        "$$\n",
        "\n",
        "Допустим, что средняя плотность у всех рыб одинаковая, и вспомним, что при гомотетии объем объекта зависит от линейных размеров как куб, тогда получим\n",
        "\n",
        "$$\n",
        "m\\sim V\\sim d^3\n",
        "$$\n",
        "\n",
        "Все признаки тренировочного и тестового наборов данных, отвечающие так или иначе за размеры (<code>Height, Width, Lengths</code>), возведите в третью степень, и проверьте, стала ли зависимость массы от этих признаков похожа на линейную."
      ],
      "metadata": {
        "id": "sSIndS-yCP6P"
      }
    },
    {
      "cell_type": "code",
      "source": [
        "X_train1['Width'] = X_train1['Width'].apply(lambda x: x**3)\n",
        "X_train1['Height'] = X_train1['Height'].apply(lambda x: x**3)\n",
        "X_train1['Lengths'] = X_train1['Lengths'].apply(lambda x: x**3)\n",
        "\n",
        "X_test1['Width'] = X_test1['Width'].apply(lambda x: x**3)\n",
        "X_test1['Height'] = X_test1['Height'].apply(lambda x: x**3)\n",
        "X_test1['Lengths'] = X_test1['Lengths'].apply(lambda x: x**3)"
      ],
      "metadata": {
        "id": "DOK0OyLVEmrh"
      },
      "execution_count": null,
      "outputs": []
    },
    {
      "cell_type": "markdown",
      "source": [
        "Введите выборочное среднее колонки <code>Width</code> тренировочного набора данных после возведения в куб."
      ],
      "metadata": {
        "id": "Jm-1XAOpE_Dc"
      }
    },
    {
      "cell_type": "code",
      "source": [
        "round(X_train1['Width'].mean(),3)"
      ],
      "metadata": {
        "id": "5-2zYkgWGCFN",
        "colab": {
          "base_uri": "https://localhost:8080/"
        },
        "outputId": "971f6c41-ef00-4441-c3da-b535027621f5"
      },
      "execution_count": null,
      "outputs": [
        {
          "output_type": "execute_result",
          "data": {
            "text/plain": [
              "135.621"
            ]
          },
          "metadata": {},
          "execution_count": 58
        }
      ]
    },
    {
      "cell_type": "markdown",
      "source": [
        "Выберите изображения, соответствующие зависимости <code>Weight</code> от <code>Width</code> до преобразования и после."
      ],
      "metadata": {
        "id": "PCKM-CcQjfH5"
      }
    },
    {
      "cell_type": "markdown",
      "source": [
        "Обучите базовую модель линейной регресси на полученных тренировочных данных, снова выбросив категориальные признаки. Выполните предсказания для тестовых данных, оцените при помощи `r2_score()`."
      ],
      "metadata": {
        "id": "NZtrdFamiTl1"
      }
    },
    {
      "cell_type": "code",
      "source": [
        "model=LinearRegression()\n",
        "model.fit(X_train1, Y_train)\n",
        "\n",
        "y_pred = model.predict(X_test1)\n",
        "\n",
        "# Вычисляем R^2 статистику\n",
        "r2 = r2_score(Y_test, y_pred)\n",
        "print(round(r2,3))"
      ],
      "metadata": {
        "id": "ybKUGN-GGUoH",
        "colab": {
          "base_uri": "https://localhost:8080/"
        },
        "outputId": "20477ba1-7cee-465d-92de-9021ee268efc"
      },
      "execution_count": null,
      "outputs": [
        {
          "output_type": "stream",
          "name": "stdout",
          "text": [
            "0.89\n"
          ]
        }
      ]
    },
    {
      "cell_type": "markdown",
      "source": [
        "Обратите внимание на то, как такая нехитрая работа с признаками помогла разительно улучшить точность модели!"
      ],
      "metadata": {
        "id": "WReH7dKZirOt"
      }
    },
    {
      "cell_type": "markdown",
      "source": [
        "## Добавление категориальных признаков"
      ],
      "metadata": {
        "id": "MesFzgX1Sqgz"
      }
    },
    {
      "cell_type": "markdown",
      "source": [
        "Произведите <code>one-hot</code> кодировние категориального признака `Species`, например, с помощью <code>pd.get_dummies()</code>.\n",
        "\n",
        "Обучите модель линейной регресси на полученных тренировочных данных. Выполните предсказания для тестовых данных, оцените модель при помощи <code>r2_score()</code>.\n",
        "\n",
        "<b>Примечание</b>: Мы специально использовали стратифицированное разделение, чтобы все значения категориального признака <code>Species</code> присутствовали во всех наборах данных. Но такое возможно не всегда. Про то, как с этим бороться можно почитать, [например, здесь](https://predictivehacks.com/?all-tips=how-to-deal-with-get_dummies-in-train-and-test-dataset)."
      ],
      "metadata": {
        "id": "VThVRIkvSuV0"
      }
    },
    {
      "cell_type": "code",
      "source": [
        "df = pd.read_csv(\"fish_train.csv\", delimiter=\",\", header=0)\n",
        "\n",
        "X = df.drop(['Weight'], axis=1)\n",
        "Y=df[['Weight']]\n",
        "\n",
        "\n",
        "X_train, X_test, Y_train, Y_test = train_test_split(X, Y, test_size=0.2, random_state=27, stratify=df[['Species']])\n",
        "\n",
        "pca = PCA(n_components=3, svd_solver='full')\n",
        "X_pca = pca.fit_transform(X_train[['Length1', 'Length2', 'Length3']])\n",
        "\n",
        "explained_variance_ratio = pca.explained_variance_ratio_\n",
        "\n",
        "transformed_features = pca.transform(X_train[['Length1', 'Length2', 'Length3']])\n",
        "Lengths_train = transformed_features[:, 0]\n",
        "X_train1 = X_train.drop(['Length1', 'Length2', 'Length3'], axis=1)\n",
        "X_train1['Lengths'] = Lengths_train\n",
        "\n",
        "transformed_features = pca.transform(X_test[['Length1', 'Length2', 'Length3']])\n",
        "Lengths_test = transformed_features[:, 0]\n",
        "\n",
        "X_test1 = X_test.drop(['Length1', 'Length2', 'Length3'], axis=1)\n",
        "X_test1['Lengths'] = Lengths_test\n",
        "\n",
        "X_train1['Width'] = X_train1['Width'].apply(lambda x: x**3)\n",
        "X_train1['Height'] = X_train1['Height'].apply(lambda x: x**3)\n",
        "X_train1['Lengths'] = X_train1['Lengths'].apply(lambda x: x**3)\n",
        "\n",
        "X_test1['Width'] = X_test1['Width'].apply(lambda x: x**3)\n",
        "X_test1['Height'] = X_test1['Height'].apply(lambda x: x**3)\n",
        "X_test1['Lengths'] = X_test1['Lengths'].apply(lambda x: x**3)\n",
        "\n",
        "X_train1_encoded = pd.get_dummies(X_train1, columns=['Species'], prefix='Species')\n",
        "X_test1_encoded = pd.get_dummies(X_test1, columns=['Species'], prefix='Species')\n",
        "\n",
        "\n",
        "model=LinearRegression()\n",
        "model.fit(X_train1_encoded, Y_train)\n",
        "\n",
        "y_pred = model.predict(X_test1_encoded)\n",
        "\n",
        "# Вычисляем R^2 статистику\n",
        "r2 = r2_score(Y_test, y_pred)\n",
        "print(round(r2,3))"
      ],
      "metadata": {
        "id": "AcJDFGFLSpzT",
        "colab": {
          "base_uri": "https://localhost:8080/"
        },
        "outputId": "2c6fa6ad-74f6-4bcd-cf21-d0746ba98992"
      },
      "execution_count": null,
      "outputs": [
        {
          "output_type": "stream",
          "name": "stdout",
          "text": [
            "0.902\n"
          ]
        }
      ]
    },
    {
      "cell_type": "markdown",
      "source": [
        "И снова точность возрасла."
      ],
      "metadata": {
        "id": "bBDsQEGvjMV2"
      }
    },
    {
      "cell_type": "markdown",
      "source": [
        "Как можно увидеть, после `one-hot` кодирования признаки стали коррелированы. От этого можно избавиться, например, при помощи параметра `drop_first=True`. Заново обучите модель после исправления этого недочета. Выполните предсказания для тестовых данных, оцените модель при помощи <code>r2_score()</code>."
      ],
      "metadata": {
        "id": "vciWw1gajo5H"
      }
    },
    {
      "cell_type": "code",
      "source": [
        "df = pd.read_csv(\"fish_train.csv\", delimiter=\",\", header=0)\n",
        "\n",
        "X = df.drop(['Weight'], axis=1)\n",
        "Y=df[['Weight']]\n",
        "\n",
        "\n",
        "X_train, X_test, Y_train, Y_test = train_test_split(X, Y, test_size=0.2, random_state=27, stratify=df[['Species']])\n",
        "\n",
        "pca = PCA(n_components=3, svd_solver='full')\n",
        "X_pca = pca.fit_transform(X_train[['Length1', 'Length2', 'Length3']])\n",
        "\n",
        "explained_variance_ratio = pca.explained_variance_ratio_\n",
        "\n",
        "transformed_features = pca.transform(X_train[['Length1', 'Length2', 'Length3']])\n",
        "Lengths_train = transformed_features[:, 0]\n",
        "X_train1 = X_train.drop(['Length1', 'Length2', 'Length3'], axis=1)\n",
        "X_train1['Lengths'] = Lengths_train\n",
        "\n",
        "transformed_features = pca.transform(X_test[['Length1', 'Length2', 'Length3']])\n",
        "Lengths_test = transformed_features[:, 0]\n",
        "\n",
        "X_test1 = X_test.drop(['Length1', 'Length2', 'Length3'], axis=1)\n",
        "X_test1['Lengths'] = Lengths_test\n",
        "\n",
        "X_train1['Width'] = X_train1['Width'].apply(lambda x: x**3)\n",
        "X_train1['Height'] = X_train1['Height'].apply(lambda x: x**3)\n",
        "X_train1['Lengths'] = X_train1['Lengths'].apply(lambda x: x**3)\n",
        "\n",
        "X_test1['Width'] = X_test1['Width'].apply(lambda x: x**3)\n",
        "X_test1['Height'] = X_test1['Height'].apply(lambda x: x**3)\n",
        "X_test1['Lengths'] = X_test1['Lengths'].apply(lambda x: x**3)\n",
        "\n",
        "X_train1_encoded = pd.get_dummies(X_train1, columns=['Species'], prefix='Species', drop_first=True)\n",
        "X_test1_encoded = pd.get_dummies(X_test1, columns=['Species'], prefix='Species', drop_first=True)\n",
        "\n",
        "\n",
        "model=LinearRegression()\n",
        "model.fit(X_train1_encoded, Y_train)\n",
        "\n",
        "y_pred = model.predict(X_test1_encoded)\n",
        "\n",
        "# Вычисляем R^2 статистику\n",
        "r2 = r2_score(Y_test, y_pred)\n",
        "print(round(r2,3))"
      ],
      "metadata": {
        "id": "zV6u-Ha1kH3p",
        "colab": {
          "base_uri": "https://localhost:8080/"
        },
        "outputId": "8cadb32a-883a-405b-cd19-bd8c6d1d1c87"
      },
      "execution_count": null,
      "outputs": [
        {
          "output_type": "stream",
          "name": "stdout",
          "text": [
            "0.902\n"
          ]
        }
      ]
    },
    {
      "cell_type": "markdown",
      "source": [
        "На таком сравнительно небольшом наборе данных, впрочем, разницы мы не видим."
      ],
      "metadata": {
        "id": "ABS2Tw6tkSW5"
      }
    },
    {
      "cell_type": "code",
      "source": [
        "from sklearn.preprocessing import StandardScaler\n",
        "from sklearn.linear_model import Ridge\n",
        "from sklearn.model_selection import GridSearchCV\n",
        "\n",
        "df = pd.read_csv(\"fish_train.csv\", delimiter=\",\", header=0)\n",
        "\n",
        "X_train = df.drop(['Weight'], axis=1)\n",
        "Y_train=df[['Weight']]\n",
        "\n",
        "df_test = pd.read_csv(\"fish_reserved.csv\", delimiter=\",\", header=0)\n",
        "X_test = df_test\n",
        "\n",
        "pca = PCA(n_components=3, svd_solver='full')\n",
        "X_pca = pca.fit_transform(X_train[['Length1', 'Length2', 'Length3']])\n",
        "\n",
        "explained_variance_ratio = pca.explained_variance_ratio_\n",
        "\n",
        "transformed_features = pca.transform(X_train[['Length1', 'Length2', 'Length3']])\n",
        "Lengths_train = transformed_features[:, 0]\n",
        "X_train1 = X_train.drop(['Length1', 'Length2', 'Length3'], axis=1)\n",
        "X_train1['Lengths'] = Lengths_train\n",
        "\n",
        "transformed_features = pca.transform(X_test[['Length1', 'Length2', 'Length3']])\n",
        "Lengths_test = transformed_features[:, 0]\n",
        "\n",
        "X_test1 = X_test.drop(['Length1', 'Length2', 'Length3'], axis=1)\n",
        "X_test1['Lengths'] = Lengths_test\n",
        "\n",
        "X_train1['Width'] = X_train1['Width'].apply(lambda x: x**3)\n",
        "X_train1['Height'] = X_train1['Height'].apply(lambda x: x**3)\n",
        "X_train1['Lengths'] = X_train1['Lengths'].apply(lambda x: x**3)\n",
        "\n",
        "X_test1['Width'] = X_test1['Width'].apply(lambda x: x**3)\n",
        "X_test1['Height'] = X_test1['Height'].apply(lambda x: x**3)\n",
        "X_test1['Lengths'] = X_test1['Lengths'].apply(lambda x: x**3)\n",
        "\n",
        "X_train1_encoded = pd.get_dummies(X_train1, columns=['Species'], prefix='Species')\n",
        "X_test1_encoded = pd.get_dummies(X_test1, columns=['Species'], prefix='Species')\n",
        "\n",
        "\n",
        "# Нормализация данных\n",
        "scaler = StandardScaler()\n",
        "X_train_normalized = scaler.fit_transform(X_train1_encoded)\n",
        "X_test_normalized = scaler.transform(X_test1_encoded)\n",
        "\n",
        "# Использование Ridge регрессии с подбором параметров\n",
        "ridge = Ridge()\n",
        "param_grid = {'alpha': [0.001, 0.01, 0.1, 1, 10, 100]}\n",
        "grid_search = GridSearchCV(ridge, param_grid, cv=5, scoring='r2')\n",
        "grid_search.fit(X_train_normalized, Y_train)\n",
        "\n",
        "# Вывод оптимальных параметров\n",
        "print(\"Best Parameters:\", grid_search.best_params_)\n",
        "\n",
        "# Предсказания с использованием оптимальных параметров\n",
        "y_pred = grid_search.predict(X_test_normalized)\n",
        "\n",
        "# Преобразование в список целых чисел\n",
        "result_list = y_pred.flatten().tolist()\n",
        "\n",
        "# Вывод списка\n",
        "print(result_list)"
      ],
      "metadata": {
        "colab": {
          "base_uri": "https://localhost:8080/"
        },
        "id": "GsoGwJLuAcsb",
        "outputId": "cf4fb460-2c66-4885-f094-9f656befd40f"
      },
      "execution_count": null,
      "outputs": [
        {
          "output_type": "stream",
          "name": "stdout",
          "text": [
            "Best Parameters: {'alpha': 1}\n",
            "[115.80870679227814, 169.08040408573484, 121.77118196385896, 120.71949142582861, 86.56106511170157, 199.75011065239156, 69.7895194217794, 432.5316970349785, 384.82909322612574, 126.65815904123696, 2096.8517469072103, 190.55239141333215, 603.2392164698022, 1035.0314771082726, 8.071322974208726, 581.5374100056042, 126.82130645855773, 811.440527222586, 1456.5754443116382, 123.02635398394244, 565.0325182220373, 193.5860008263067, 117.93160309640228, 197.9831260538127, 355.42755401329606, 597.5976733890915, 372.169369459252, 25.69631650136887, 84.65660730748738, -17.001374392078503, 935.6777163453298, 513.0444137507538, 534.3013779602096, 172.59156723321902, 37.81915262231621, 79.59560725688527, 167.8337576911656, 938.2707504684146, 750.2648065215517, 175.8893065385183]\n"
          ]
        }
      ]
    }
  ]
}