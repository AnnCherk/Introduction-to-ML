{
  "nbformat": 4,
  "nbformat_minor": 0,
  "metadata": {
    "colab": {
      "provenance": [],
      "authorship_tag": "ABX9TyMkAg4HhEpoxrCWoTw0paGe",
      "include_colab_link": true
    },
    "kernelspec": {
      "name": "python3",
      "display_name": "Python 3"
    },
    "language_info": {
      "name": "python"
    }
  },
  "cells": [
    {
      "cell_type": "markdown",
      "metadata": {
        "id": "view-in-github",
        "colab_type": "text"
      },
      "source": [
        "<a href=\"https://colab.research.google.com/github/AnnCherk/Introduction-to-ML/blob/main/kNN_easy.ipynb\" target=\"_parent\"><img src=\"https://colab.research.google.com/assets/colab-badge.svg\" alt=\"Open In Colab\"/></a>"
      ]
    },
    {
      "cell_type": "code",
      "execution_count": 1,
      "metadata": {
        "id": "wEUR4TnY5g1k"
      },
      "outputs": [],
      "source": [
        "import numpy as np\n",
        "import pandas as pd\n",
        "from sklearn.neighbors import KNeighborsClassifier\n"
      ]
    },
    {
      "cell_type": "markdown",
      "source": [
        "1. Вам доступна таблица некоторых синтетических данных, на основании которых необходимо выполнить классификацию нового объекта, с помощью метода -ближайших соседей."
      ],
      "metadata": {
        "id": "OJL1G3MQ5pun"
      }
    },
    {
      "cell_type": "code",
      "source": [
        "data = pd.read_csv('knn.csv', delimiter=',')"
      ],
      "metadata": {
        "id": "bBLMqNMH52y7"
      },
      "execution_count": 25,
      "outputs": []
    },
    {
      "cell_type": "code",
      "source": [
        "new_object = np.array([[54, 68]])\n",
        "\n",
        "existing_objects = data[['X','Y']]\n",
        "labels = data[['Class']]\n",
        "\n",
        "knn_classifier = KNeighborsClassifier(n_neighbors=1)\n",
        "knn_classifier.fit(existing_objects, labels)\n",
        "\n",
        "# Вычисление расстояний и индексов ближайших соседей\n",
        "distances, indices = knn_classifier.kneighbors(new_object)\n",
        "\n",
        "# Вывод расстояния до ближайшего соседа\n",
        "nearest_neighbor_distance = distances[0][0]\n",
        "print(\"Расстояние до ближайшего соседа:\", round(nearest_neighbor_distance, 3))"
      ],
      "metadata": {
        "colab": {
          "base_uri": "https://localhost:8080/"
        },
        "id": "a8MmDif99Sfu",
        "outputId": "5a6b57fc-67f3-4a89-d860-63453e4a195c"
      },
      "execution_count": 34,
      "outputs": [
        {
          "output_type": "stream",
          "name": "stdout",
          "text": [
            "Расстояние до ближайшего соседа: 14.56\n"
          ]
        },
        {
          "output_type": "stream",
          "name": "stderr",
          "text": [
            "/usr/local/lib/python3.10/dist-packages/sklearn/neighbors/_classification.py:215: DataConversionWarning: A column-vector y was passed when a 1d array was expected. Please change the shape of y to (n_samples,), for example using ravel().\n",
            "  return self._fit(X, y)\n",
            "/usr/local/lib/python3.10/dist-packages/sklearn/base.py:439: UserWarning: X does not have valid feature names, but KNeighborsClassifier was fitted with feature names\n",
            "  warnings.warn(\n"
          ]
        }
      ]
    },
    {
      "cell_type": "code",
      "source": [
        "knn_classifier = KNeighborsClassifier(n_neighbors=3)\n",
        "knn_classifier.fit(existing_objects, labels)\n",
        "\n",
        "distances, indices = knn_classifier.kneighbors(new_object)\n",
        "\n",
        "sorted_neighbors = sorted(zip(indices[0], distances[0]), key=lambda x: x[1])\n",
        "\n",
        "print(\"Идентификаторы и удаленность трех ближайших точек:\")\n",
        "for neighbor_id, distance in sorted_neighbors:\n",
        "    print(f\"Идентификатор: {neighbor_id+1}, Удаленность: {distance}\")"
      ],
      "metadata": {
        "colab": {
          "base_uri": "https://localhost:8080/"
        },
        "id": "aY6zJF70_C8B",
        "outputId": "33c5fd6d-6939-4b4f-fbef-78467135ff28"
      },
      "execution_count": 46,
      "outputs": [
        {
          "output_type": "stream",
          "name": "stdout",
          "text": [
            "Идентификаторы и удаленность трех ближайших точек:\n",
            "Идентификатор: 6, Удаленность: 14.560219778561036\n",
            "Идентификатор: 5, Удаленность: 21.400934559032695\n",
            "Идентификатор: 10, Удаленность: 24.351591323771842\n"
          ]
        },
        {
          "output_type": "stream",
          "name": "stderr",
          "text": [
            "/usr/local/lib/python3.10/dist-packages/sklearn/neighbors/_classification.py:215: DataConversionWarning: A column-vector y was passed when a 1d array was expected. Please change the shape of y to (n_samples,), for example using ravel().\n",
            "  return self._fit(X, y)\n",
            "/usr/local/lib/python3.10/dist-packages/sklearn/base.py:439: UserWarning: X does not have valid feature names, but KNeighborsClassifier was fitted with feature names\n",
            "  warnings.warn(\n"
          ]
        }
      ]
    },
    {
      "cell_type": "code",
      "source": [
        "knn_classifier.predict(new_object)"
      ],
      "metadata": {
        "colab": {
          "base_uri": "https://localhost:8080/"
        },
        "id": "qbR-Xacs_-iy",
        "outputId": "2f1dd999-e56a-42cb-e1bc-17db34ced96e"
      },
      "execution_count": 37,
      "outputs": [
        {
          "output_type": "stream",
          "name": "stderr",
          "text": [
            "/usr/local/lib/python3.10/dist-packages/sklearn/base.py:439: UserWarning: X does not have valid feature names, but KNeighborsClassifier was fitted with feature names\n",
            "  warnings.warn(\n"
          ]
        },
        {
          "output_type": "execute_result",
          "data": {
            "text/plain": [
              "array([1])"
            ]
          },
          "metadata": {},
          "execution_count": 37
        }
      ]
    },
    {
      "cell_type": "markdown",
      "source": [
        "Манхеттенское расстояние"
      ],
      "metadata": {
        "id": "sFq4wwUBAjDv"
      }
    },
    {
      "cell_type": "code",
      "source": [
        "knn_classifier = KNeighborsClassifier(n_neighbors=1, metric='manhattan')\n",
        "knn_classifier.fit(existing_objects, labels)\n",
        "\n",
        "# Вычисление расстояний и индексов ближайших соседей\n",
        "distances, indices = knn_classifier.kneighbors(new_object)\n",
        "\n",
        "# Вывод расстояния до ближайшего соседа\n",
        "nearest_neighbor_distance = distances[0][0]\n",
        "print(\"Расстояние до ближайшего соседа:\", round(nearest_neighbor_distance, 3))"
      ],
      "metadata": {
        "colab": {
          "base_uri": "https://localhost:8080/"
        },
        "id": "AkHgJ7BRAnFW",
        "outputId": "803c72d4-db84-406d-c1f8-445cd47f54d4"
      },
      "execution_count": 38,
      "outputs": [
        {
          "output_type": "stream",
          "name": "stdout",
          "text": [
            "Расстояние до ближайшего соседа: 18.0\n"
          ]
        },
        {
          "output_type": "stream",
          "name": "stderr",
          "text": [
            "/usr/local/lib/python3.10/dist-packages/sklearn/neighbors/_classification.py:215: DataConversionWarning: A column-vector y was passed when a 1d array was expected. Please change the shape of y to (n_samples,), for example using ravel().\n",
            "  return self._fit(X, y)\n",
            "/usr/local/lib/python3.10/dist-packages/sklearn/base.py:439: UserWarning: X does not have valid feature names, but KNeighborsClassifier was fitted with feature names\n",
            "  warnings.warn(\n"
          ]
        }
      ]
    },
    {
      "cell_type": "code",
      "source": [
        "knn_classifier = KNeighborsClassifier(n_neighbors=3, metric='manhattan')\n",
        "knn_classifier.fit(existing_objects, labels)\n",
        "\n",
        "distances, indices = knn_classifier.kneighbors(new_object)\n",
        "\n",
        "sorted_neighbors = sorted(zip(indices[0], distances[0]), key=lambda x: x[1])\n",
        "\n",
        "print(\"Идентификаторы и удаленность трех ближайших точек:\")\n",
        "for neighbor_id, distance in sorted_neighbors:\n",
        "    print(f\"Идентификатор: {neighbor_id+1}, Удаленность: {distance}\")"
      ],
      "metadata": {
        "colab": {
          "base_uri": "https://localhost:8080/"
        },
        "id": "pAjn0NHuAzbJ",
        "outputId": "d2410869-64d0-4ef4-c902-177de91df148"
      },
      "execution_count": 47,
      "outputs": [
        {
          "output_type": "stream",
          "name": "stdout",
          "text": [
            "Идентификаторы и удаленность трех ближайших точек:\n",
            "Идентификатор: 6, Удаленность: 18.0\n",
            "Идентификатор: 5, Удаленность: 30.0\n",
            "Идентификатор: 10, Удаленность: 31.0\n"
          ]
        },
        {
          "output_type": "stream",
          "name": "stderr",
          "text": [
            "/usr/local/lib/python3.10/dist-packages/sklearn/neighbors/_classification.py:215: DataConversionWarning: A column-vector y was passed when a 1d array was expected. Please change the shape of y to (n_samples,), for example using ravel().\n",
            "  return self._fit(X, y)\n",
            "/usr/local/lib/python3.10/dist-packages/sklearn/base.py:439: UserWarning: X does not have valid feature names, but KNeighborsClassifier was fitted with feature names\n",
            "  warnings.warn(\n"
          ]
        }
      ]
    },
    {
      "cell_type": "code",
      "source": [
        "knn_classifier.predict(new_object)"
      ],
      "metadata": {
        "colab": {
          "base_uri": "https://localhost:8080/"
        },
        "id": "izqV1XihA5v1",
        "outputId": "a04b9368-4a29-49c4-efc4-d8db4a828344"
      },
      "execution_count": 40,
      "outputs": [
        {
          "output_type": "stream",
          "name": "stderr",
          "text": [
            "/usr/local/lib/python3.10/dist-packages/sklearn/base.py:439: UserWarning: X does not have valid feature names, but KNeighborsClassifier was fitted with feature names\n",
            "  warnings.warn(\n"
          ]
        },
        {
          "output_type": "execute_result",
          "data": {
            "text/plain": [
              "array([1])"
            ]
          },
          "metadata": {},
          "execution_count": 40
        }
      ]
    }
  ]
}